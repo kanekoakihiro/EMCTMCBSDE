{
 "cells": [
  {
   "cell_type": "code",
   "execution_count": 1,
   "id": "833cb046",
   "metadata": {
    "scrolled": false
   },
   "outputs": [
    {
     "data": {
      "text/plain": [
       "MethodOfLines (generic function with 1 method)"
      ]
     },
     "execution_count": 1,
     "metadata": {},
     "output_type": "execute_result"
    }
   ],
   "source": [
    "using Distributions, CSV, DataFrames, ProgressMeter\n",
    "include(\"../../utils_1d.jl\")"
   ]
  },
  {
   "cell_type": "code",
   "execution_count": 2,
   "id": "72f1b0bc",
   "metadata": {},
   "outputs": [],
   "source": [
    "T=1.0; r=0.01; R = 0.3; μ=0.03; S0 = 100.0; σ = 0.2; K = 100.0;\n",
    "\n",
    "drift(x) = μ*x\n",
    "diffusion(x) = σ*x\n",
    "driver(t, x, y, z) = (\n",
    "        -r*max(y-z/σ, 0.0)\n",
    "        -R*min(y-z/σ, 0.0)\n",
    "        -μ*z/σ\n",
    "        )\n",
    "# terminal(x) = max(K-x[1],0) \n",
    "terminal(x) = max(x-K,0)\n",
    "\n",
    "bsde = BSDE(T, S0, drift, diffusion, driver, terminal);"
   ]
  },
  {
   "cell_type": "code",
   "execution_count": 3,
   "id": "739fc68f",
   "metadata": {},
   "outputs": [
    {
     "data": {
      "text/plain": [
       "6-element Vector{Vector{Any}}:\n",
       " [LawsonEuler{0, true, Val{:forward}, true, nothing}(true, 100, 0), true]\n",
       " [NorsettEuler{0, true, Val{:forward}, true, nothing}(true, 100, 0), true]\n",
       " [ETDRK2{0, true, Val{:forward}, true, nothing}(true, 100, 0), true]\n",
       " [ETDRK3{0, true, Val{:forward}, true, nothing}(true, 100, 0), true]\n",
       " [ETDRK4{0, true, Val{:forward}, true, nothing}(true, 100, 0), true]\n",
       " [HochOst4{0, true, Val{:forward}, true, nothing}(true, 100, 0), true]"
      ]
     },
     "execution_count": 3,
     "metadata": {},
     "output_type": "execute_result"
    }
   ],
   "source": [
    "Nₜs = [10, 20, 50, 100, 200]\n",
    "header = vcat([\"scheme\", \"measurement_type\"], string.(Nₜs))\n",
    "schemes = [\n",
    "    [LawsonEuler(krylov=true, m=100), true],\n",
    "    [NorsettEuler(krylov=true, m=100), true],\n",
    "    [ETDRK2(krylov=true, m=100), true],\n",
    "    [ETDRK3(krylov=true, m=100), true],\n",
    "    [ETDRK4(krylov=true, m=100), true],\n",
    "    [HochOst4(krylov=true, m=100), true]\n",
    "    # [DP5(), false],\n",
    "    # [RadauIIA5(), false]\n",
    "]"
   ]
  },
  {
   "cell_type": "code",
   "execution_count": 4,
   "id": "6c5d798d",
   "metadata": {
    "scrolled": true
   },
   "outputs": [
    {
     "data": {
      "text/plain": [
       "TavellaRandallGrid([0.0, 0.16129920473716197, 0.3223903372606429, 0.48327373329789225, 0.6439497281433404, 0.8044186566592799, 0.964680853276306, 1.1247366519943256, 1.2845863863829976, 1.4442303895825717  …  198.55576961041743, 198.715413613617, 198.87526334800566, 199.03531914672368, 199.19558134334073, 199.35605027185665, 199.5167262667021, 199.67760966273937, 199.83870079526284, 200.0], 2001, 1000, 1000)"
      ]
     },
     "execution_count": 4,
     "metadata": {},
     "output_type": "execute_result"
    }
   ],
   "source": [
    "### designing grids\n",
    "domain = [0.0, 2*bsde.X0];\n",
    "Nₗ = 1000; Δₗ = (bsde.X0-domain[1])/Nₗ;\n",
    "Nᵣ = 1000; Δᵣ = (domain[2]-bsde.X0)/Nᵣ;\n",
    "\n",
    "g₁ = 50.0; g₂ = 50.0\n",
    "spatial_grid = TavellaRandallGrid(g₁, g₂, domain[1], bsde.X0, domain[2], Nₗ, Nᵣ)"
   ]
  },
  {
   "cell_type": "code",
   "execution_count": 5,
   "id": "05c170b5",
   "metadata": {
    "scrolled": true
   },
   "outputs": [
    {
     "name": "stdout",
     "output_type": "stream",
     "text": [
      "Nₜ=10:\n",
      "Y0(100)=25.037743070245266:\n",
      "Runtime[s]=5.256757020950317:\n",
      "Nₜ=20:\n",
      "Y0(100)=26.352226213278275:\n",
      "Runtime[s]=0.6053400039672852:\n"
     ]
    },
    {
     "name": "stderr",
     "output_type": "stream",
     "text": [
      "\r",
      "\u001b[32mProgress:  40%|████████████████▍                        |  ETA: 0:00:09\u001b[39m"
     ]
    },
    {
     "name": "stdout",
     "output_type": "stream",
     "text": [
      "Nₜ=50:\n",
      "Y0(100)=26.354533665706075:\n",
      "Runtime[s]=1.5152418613433838:\n"
     ]
    },
    {
     "name": "stderr",
     "output_type": "stream",
     "text": [
      "\r",
      "\u001b[32mProgress:  60%|████████████████████████▋                |  ETA: 0:00:05\u001b[39m"
     ]
    },
    {
     "name": "stdout",
     "output_type": "stream",
     "text": [
      "Nₜ=100:\n",
      "Y0(100)=26.343740915814383:\n",
      "Runtime[s]=2.811455011367798:\n"
     ]
    },
    {
     "name": "stderr",
     "output_type": "stream",
     "text": [
      "\r",
      "\u001b[32mProgress:  80%|████████████████████████████████▊        |  ETA: 0:00:03\u001b[39m"
     ]
    },
    {
     "name": "stdout",
     "output_type": "stream",
     "text": [
      "Nₜ=200:\n",
      "Y0(100)=26.33720237687917:\n",
      "Runtime[s]=5.39880108833313:\n"
     ]
    },
    {
     "name": "stderr",
     "output_type": "stream",
     "text": [
      "\r",
      "\u001b[32mProgress: 100%|█████████████████████████████████████████| Time: 0:00:15\u001b[39m\n"
     ]
    },
    {
     "name": "stdout",
     "output_type": "stream",
     "text": [
      "Nₜ=10:\n",
      "Y0(100)=26.077693475189964:\n",
      "Runtime[s]=1.2466859817504883:\n",
      "Nₜ=20:\n",
      "Y0(100)=26.45268298234233:\n",
      "Runtime[s]=0.5286240577697754:\n"
     ]
    },
    {
     "name": "stderr",
     "output_type": "stream",
     "text": [
      "\r",
      "\u001b[32mProgress:  40%|████████████████▍                        |  ETA: 0:00:03\u001b[39m"
     ]
    },
    {
     "name": "stdout",
     "output_type": "stream",
     "text": [
      "Nₜ=50:\n",
      "Y0(100)=26.388122725619375:\n",
      "Runtime[s]=1.2956748008728027:\n"
     ]
    },
    {
     "name": "stderr",
     "output_type": "stream",
     "text": [
      "\r",
      "\u001b[32mProgress:  60%|████████████████████████▋                |  ETA: 0:00:02\u001b[39m"
     ]
    },
    {
     "name": "stdout",
     "output_type": "stream",
     "text": [
      "Nₜ=100:\n",
      "Y0(100)=26.35970046229027:\n",
      "Runtime[s]=2.5078248977661133:\n"
     ]
    },
    {
     "name": "stderr",
     "output_type": "stream",
     "text": [
      "\r",
      "\u001b[32mProgress:  80%|████████████████████████████████▊        |  ETA: 0:00:01\u001b[39m"
     ]
    },
    {
     "name": "stdout",
     "output_type": "stream",
     "text": [
      "Nₜ=200:\n",
      "Y0(100)=26.34517054048681:\n",
      "Runtime[s]=5.233642101287842:\n"
     ]
    },
    {
     "name": "stderr",
     "output_type": "stream",
     "text": [
      "\u001b[32mProgress: 100%|█████████████████████████████████████████| Time: 0:00:10\u001b[39m\n",
      "\u001b[32mProgress:  33%|█████████████▋                           |  ETA: 0:00:55\u001b[39m"
     ]
    },
    {
     "name": "stdout",
     "output_type": "stream",
     "text": [
      "Nₜ=10:\n",
      "Y0(100)=25.865774228847023:\n",
      "Runtime[s]=1.5116910934448242:\n",
      "Nₜ=20:\n",
      "Y0(100)=26.318154046608324:\n",
      "Runtime[s]=1.2709240913391113:\n"
     ]
    },
    {
     "name": "stderr",
     "output_type": "stream",
     "text": [
      "\r",
      "\u001b[32mProgress:  40%|████████████████▍                        |  ETA: 0:00:04\u001b[39m"
     ]
    },
    {
     "name": "stdout",
     "output_type": "stream",
     "text": [
      "Nₜ=50:\n",
      "Y0(100)=26.3309624315659:\n",
      "Runtime[s]=2.892163038253784:\n"
     ]
    },
    {
     "name": "stderr",
     "output_type": "stream",
     "text": [
      "\r",
      "\u001b[32mProgress:  60%|████████████████████████▋                |  ETA: 0:00:04\u001b[39m"
     ]
    },
    {
     "name": "stdout",
     "output_type": "stream",
     "text": [
      "Nₜ=100:\n",
      "Y0(100)=26.330703220372968:\n",
      "Runtime[s]=5.848259925842285:\n"
     ]
    },
    {
     "name": "stderr",
     "output_type": "stream",
     "text": [
      "\r",
      "\u001b[32mProgress:  80%|████████████████████████████████▊        |  ETA: 0:00:03\u001b[39m"
     ]
    },
    {
     "name": "stdout",
     "output_type": "stream",
     "text": [
      "Nₜ=200:\n",
      "Y0(100)=26.33057278825557:\n",
      "Runtime[s]=10.784470081329346:\n"
     ]
    },
    {
     "name": "stderr",
     "output_type": "stream",
     "text": [
      "\u001b[32mProgress: 100%|█████████████████████████████████████████| Time: 0:00:22\u001b[39m\n",
      "\u001b[32mProgress:  50%|████████████████████▌                    |  ETA: 0:00:50\u001b[39m"
     ]
    },
    {
     "name": "stdout",
     "output_type": "stream",
     "text": [
      "Nₜ=10:\n",
      "Y0(100)=26.121220200961922:\n",
      "Runtime[s]=1.7800471782684326:\n",
      "Nₜ=20:\n",
      "Y0(100)=26.31367211677031:\n",
      "Runtime[s]=1.7056870460510254:\n"
     ]
    },
    {
     "name": "stderr",
     "output_type": "stream",
     "text": [
      "\r",
      "\u001b[32mProgress:  40%|████████████████▍                        |  ETA: 0:00:05\u001b[39m"
     ]
    },
    {
     "name": "stdout",
     "output_type": "stream",
     "text": [
      "Nₜ=50:\n",
      "Y0(100)=26.330241858429616:\n",
      "Runtime[s]=3.8071320056915283:\n"
     ]
    },
    {
     "name": "stderr",
     "output_type": "stream",
     "text": [
      "\r",
      "\u001b[32mProgress:  60%|████████████████████████▋                |  ETA: 0:00:05\u001b[39m"
     ]
    },
    {
     "name": "stdout",
     "output_type": "stream",
     "text": [
      "Nₜ=100:\n",
      "Y0(100)=26.330525339555553:\n",
      "Runtime[s]=8.016138076782227:\n"
     ]
    },
    {
     "name": "stderr",
     "output_type": "stream",
     "text": [
      "\r",
      "\u001b[32mProgress:  80%|████████████████████████████████▊        |  ETA: 0:00:04\u001b[39m"
     ]
    },
    {
     "name": "stdout",
     "output_type": "stream",
     "text": [
      "Nₜ=200:\n",
      "Y0(100)=26.330528242180577:\n",
      "Runtime[s]=16.679156064987183:\n"
     ]
    },
    {
     "name": "stderr",
     "output_type": "stream",
     "text": [
      "\u001b[32mProgress: 100%|█████████████████████████████████████████| Time: 0:00:31\u001b[39m\n",
      "\u001b[32mProgress:  67%|███████████████████████████▍             |  ETA: 0:00:41\u001b[39m"
     ]
    },
    {
     "name": "stdout",
     "output_type": "stream",
     "text": [
      "Nₜ=10:\n",
      "Y0(100)=26.094707333517178:\n",
      "Runtime[s]=3.0991430282592773:\n",
      "Nₜ=20:\n",
      "Y0(100)=26.313626262838728:\n",
      "Runtime[s]=2.7168939113616943:\n"
     ]
    },
    {
     "name": "stderr",
     "output_type": "stream",
     "text": [
      "\r",
      "\u001b[32mProgress:  40%|████████████████▍                        |  ETA: 0:00:09\u001b[39m"
     ]
    },
    {
     "name": "stdout",
     "output_type": "stream",
     "text": [
      "Nₜ=50:\n",
      "Y0(100)=26.330239203028132:\n",
      "Runtime[s]=6.470295190811157:\n"
     ]
    },
    {
     "name": "stderr",
     "output_type": "stream",
     "text": [
      "\r",
      "\u001b[32mProgress:  60%|████████████████████████▋                |  ETA: 0:00:08\u001b[39m"
     ]
    },
    {
     "name": "stdout",
     "output_type": "stream",
     "text": [
      "Nₜ=100:\n",
      "Y0(100)=26.33052459280161:\n",
      "Runtime[s]=14.354894161224365:\n"
     ]
    },
    {
     "name": "stderr",
     "output_type": "stream",
     "text": [
      "\r",
      "\u001b[32mProgress:  80%|████████████████████████████████▊        |  ETA: 0:00:07\u001b[39m"
     ]
    },
    {
     "name": "stdout",
     "output_type": "stream",
     "text": [
      "Nₜ=200:\n",
      "Y0(100)=26.330528077416812:\n",
      "Runtime[s]=27.32243514060974:\n"
     ]
    },
    {
     "name": "stderr",
     "output_type": "stream",
     "text": [
      "\u001b[32mProgress: 100%|█████████████████████████████████████████| Time: 0:00:53\u001b[39m\n",
      "\u001b[32mProgress:  83%|██████████████████████████████████▏      |  ETA: 0:00:27\u001b[39m"
     ]
    },
    {
     "name": "stdout",
     "output_type": "stream",
     "text": [
      "Nₜ=10:\n",
      "Y0(100)=26.107973987517138:\n",
      "Runtime[s]=2.2788290977478027:\n",
      "Nₜ=20:\n",
      "Y0(100)=26.3136404838108:\n",
      "Runtime[s]=2.7886312007904053:\n"
     ]
    },
    {
     "name": "stderr",
     "output_type": "stream",
     "text": [
      "\r",
      "\u001b[32mProgress:  40%|████████████████▍                        |  ETA: 0:00:08\u001b[39m"
     ]
    },
    {
     "name": "stdout",
     "output_type": "stream",
     "text": [
      "Nₜ=50:\n",
      "Y0(100)=26.330242117547176:\n",
      "Runtime[s]=6.840644836425781:\n"
     ]
    },
    {
     "name": "stderr",
     "output_type": "stream",
     "text": [
      "\r",
      "\u001b[32mProgress:  60%|████████████████████████▋                |  ETA: 0:00:08\u001b[39m"
     ]
    },
    {
     "name": "stdout",
     "output_type": "stream",
     "text": [
      "Nₜ=100:\n",
      "Y0(100)=26.330524752433757:\n",
      "Runtime[s]=14.27010989189148:\n"
     ]
    },
    {
     "name": "stderr",
     "output_type": "stream",
     "text": [
      "\r",
      "\u001b[32mProgress:  80%|████████████████████████████████▊        |  ETA: 0:00:07\u001b[39m"
     ]
    },
    {
     "name": "stdout",
     "output_type": "stream",
     "text": [
      "Nₜ=200:\n",
      "Y0(100)=26.330528094426597:\n",
      "Runtime[s]=29.638652086257935:\n"
     ]
    },
    {
     "name": "stderr",
     "output_type": "stream",
     "text": [
      "\u001b[32mProgress: 100%|█████████████████████████████████████████| Time: 0:00:55\u001b[39m\n",
      "\u001b[32mProgress: 100%|█████████████████████████████████████████| Time: 0:03:11\u001b[39m\n"
     ]
    },
    {
     "data": {
      "text/plain": [
       "\"result_1108.csv\""
      ]
     },
     "execution_count": 5,
     "metadata": {},
     "output_type": "execute_result"
    }
   ],
   "source": [
    "d=2\n",
    "df = DataFrame([[],[],[],[],[],[],[]], header)\n",
    "@showprogress for attr in schemes\n",
    "    abs100 = zeros(Float64, length(Nₜs)); \n",
    "    runtimes = zeros(Float64, length(Nₜs))\n",
    "    scheme = attr[1]\n",
    "    EXPINT = attr[2]\n",
    "    @showprogress for (ind, Nₜ) in enumerate(Nₜs)\n",
    "        print(string(\"Nₜ=\", Nₜ,\":\\n\")); flush(stdout)\n",
    "        exc_start = time()\n",
    "        res = MethodOfLines(bsde, spatial_grid, Nₜ, scheme, EXPINT)\n",
    "        exc_stop = time()\n",
    "        sol = res[1]; s_grid = res[2]; \n",
    "        \n",
    "        index = spatial_grid.Nₗ + 1\n",
    "        abs100[ind] = sol[index,end]\n",
    "        runtimes[ind] = exc_stop - exc_start\n",
    "        print(string(\"Y0(100)=\", abs100[ind],\":\\n\")); flush(stdout)\n",
    "        print(string(\"Runtime[s]=\", runtimes[ind],\":\\n\")); flush(stdout)\n",
    "    end\n",
    "    schemename = split(split(string(scheme), '{')[1], '(')[1]\n",
    "    row_100 = vcat([schemename, \"Y0(100)\"], string.(abs100)); push!(df,row_100);\n",
    "    row_run = vcat([schemename, \"Runtime[s]\"], string.(runtimes)); push!(df,row_run);\n",
    "end\n",
    "df |> CSV.write(string(\"result_1108.csv\"))"
   ]
  },
  {
   "cell_type": "code",
   "execution_count": null,
   "id": "4b7733ef",
   "metadata": {},
   "outputs": [],
   "source": []
  },
  {
   "cell_type": "code",
   "execution_count": null,
   "id": "efbc3e53",
   "metadata": {},
   "outputs": [],
   "source": []
  }
 ],
 "metadata": {
  "@webio": {
   "lastCommId": null,
   "lastKernelId": null
  },
  "kernelspec": {
   "display_name": "Julia 1.9.1",
   "language": "julia",
   "name": "julia-1.9"
  },
  "language_info": {
   "file_extension": ".jl",
   "mimetype": "application/julia",
   "name": "julia",
   "version": "1.9.1"
  }
 },
 "nbformat": 4,
 "nbformat_minor": 5
}
