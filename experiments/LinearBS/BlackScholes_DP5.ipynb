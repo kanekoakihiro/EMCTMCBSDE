{
 "cells": [
  {
   "cell_type": "code",
   "execution_count": 1,
   "id": "833cb046",
   "metadata": {
    "scrolled": true
   },
   "outputs": [
    {
     "data": {
      "text/plain": [
       "MethodOfLines (generic function with 1 method)"
      ]
     },
     "execution_count": 1,
     "metadata": {},
     "output_type": "execute_result"
    }
   ],
   "source": [
    "using Distributions, CSV, DataFrames, ProgressMeter, Plots\n",
    "include(\"../../utils_1d.jl\")"
   ]
  },
  {
   "cell_type": "code",
   "execution_count": 2,
   "id": "72f1b0bc",
   "metadata": {},
   "outputs": [],
   "source": [
    "T=1.0; r=0.03; R = r; μ=0.03; S0 = 100.0; σ = 0.2; K = 100.0; q = 0.0;\n",
    "\n",
    "drift(x) = μ*x\n",
    "diffusion(x) = σ*x\n",
    "driver(t, x, y, z) = (\n",
    "        -r*max(y-z/σ, 0.0)\n",
    "        -R*min(y-z/σ, 0.0)\n",
    "        -μ*z/σ\n",
    "        )\n",
    "# terminal(x) = max(K-x[1],0) \n",
    "terminal(x) = max(x-K,0)\n",
    "\n",
    "bsde = BSDE(T, S0, drift, diffusion, driver, terminal);"
   ]
  },
  {
   "cell_type": "code",
   "execution_count": 3,
   "id": "739fc68f",
   "metadata": {
    "scrolled": true
   },
   "outputs": [],
   "source": [
    "Nₜs = [10, 20, 50, 100, 200]\n",
    "header = vcat([\"g\", \"measurement_type\"], string.(Nₜs))\n",
    "schemes = [\n",
    "    [DP5(), false]\n",
    "]\n",
    "\n",
    "### designing grids\n",
    "domain = [0.0, 2*bsde.X0];\n",
    "Nₗ = 1000; Δₗ = (bsde.X0-domain[1])/Nₗ;\n",
    "Nᵣ = 1000; Δᵣ = (domain[2]-bsde.X0)/Nᵣ;\n",
    "\n",
    "g = 50\n",
    "spatial_grid = TavellaRandallGrid(g, g, domain[1], bsde.X0, domain[2], Nₗ, Nᵣ)"
   ]
  },
  {
   "cell_type": "code",
   "execution_count": 4,
   "id": "d7170c22",
   "metadata": {},
   "outputs": [
    {
     "data": {
      "text/plain": [
       "price (generic function with 1 method)"
      ]
     },
     "execution_count": 4,
     "metadata": {},
     "output_type": "execute_result"
    }
   ],
   "source": [
    "### BENCHMARKs\n",
    "function price(t::Float64, s::Float64)\n",
    "    s = abs(s)\n",
    "    expiry=T-t\n",
    "    if expiry >0\n",
    "        d1 = (log(s / K) + (r-q+(σ^2)/2)*expiry)/(σ*sqrt(expiry))\n",
    "        d2 = d1-σ*sqrt(expiry)\n",
    "        call = s*exp(-q*expiry)*cdf(Normal(), d1)-K*exp(-r*expiry)*cdf(Normal(), d2)\n",
    "    else\n",
    "        call = max(s-K, 0.0)\n",
    "    end\n",
    "    return call\n",
    "end"
   ]
  },
  {
   "cell_type": "code",
   "execution_count": 5,
   "id": "7ad88d5b",
   "metadata": {},
   "outputs": [
    {
     "name": "stdout",
     "output_type": "stream",
     "text": [
      "Nₜ=57990:\n",
      "elapsed_time: 600.5065779685974\n",
      "absolute error at 100.0:1.9890449211790293e12\n",
      "maximum abs error in [80.0, 120.0] :3.303539372733063e31\n",
      "Nₜ=57995:\n",
      "elapsed_time: 629.9378490447998\n",
      "absolute error at 100.0:1.324397305683405\n",
      "maximum abs error in [80.0, 120.0] :1.727101740624271e18\n",
      "Nₜ=58000:\n",
      "elapsed_time: 665.0848369598389\n",
      "absolute error at 100.0:0.00046117822622804283\n",
      "maximum abs error in [80.0, 120.0] :121826.3221037855\n",
      "Nₜ=58005:\n",
      "elapsed_time: 668.8608529567719\n",
      "absolute error at 100.0:0.0004611782219772209\n",
      "maximum abs error in [80.0, 120.0] :0.013255616127729297\n"
     ]
    }
   ],
   "source": [
    "for Nₜ in [57990,57995,58000,58005]\n",
    "    scheme, EXPINT = schemes[1]\n",
    "    print(string(\"Nₜ=\", Nₜ,\":\\n\")); flush(stdout)\n",
    "    exc_start = time()\n",
    "    res = MethodOfLines(bsde, spatial_grid, Nₜ, scheme, EXPINT)\n",
    "    exc_stop = time()\n",
    "    sol = res[1]; s_grid = res[2]; \n",
    "\n",
    "    bs_sol = zeros(spatial_grid.N, Nₜ+1)\n",
    "    for (index, t) in enumerate((bsde.T/Nₜ).*(0:Nₜ))\n",
    "        bs_sol[:, index] = price.(Ref(T-t), s_grid);\n",
    "    end\n",
    "\n",
    "    if size(sol)[2] == Nₜ+2 \n",
    "        abs_err = abs.(bs_sol-sol[:,1:end-1])\n",
    "    elseif size(sol)[2] == Nₜ+1\n",
    "        abs_err = abs.(bs_sol-sol[:,1:end])\n",
    "    else\n",
    "        continue\n",
    "    end\n",
    "    ind_slice = findall(attr->(attr<1.2*bsde.X0)&&(attr>0.8*bsde.X0), spatial_grid.grid)\n",
    "    indmin = minimum(ind_slice); indmax = maximum(ind_slice);\n",
    "\n",
    "    index = spatial_grid.Nₗ+1\n",
    "    abs_target = abs.(abs_err[index,end])\n",
    "\n",
    "    print(string(\"elapsed_time: \",exc_stop-exc_start, \"\\n\")); flush(stdout)\n",
    "    print(string(\"absolute error at \", S0, \":\", abs_target, \"\\n\")); flush(stdout)\n",
    "    print(string(\"maximum abs error in [\", S0*0.8, \", \", S0*1.2, \"] :\", maximum(abs_err[indmin:indmax,:]), \"\\n\")); flush(stdout)\n",
    "\n",
    "    truncated = max.(min.(sol[1:spatial_grid.N÷50:end,end:-Nₜ÷50:1],250.0),0.0)\n",
    "    pl=Plots.wireframe((0:T/Nₜ:T)[1:Nₜ÷50:end],spatial_grid.grid[1:spatial_grid.N÷50:end],truncated,camera=(48,44))\n",
    "    savefig(pl, string(\"plotNt\", Nₜ, \".pdf\"))\n",
    "end"
   ]
  },
  {
   "cell_type": "code",
   "execution_count": null,
   "id": "7e941742",
   "metadata": {},
   "outputs": [],
   "source": []
  },
  {
   "cell_type": "code",
   "execution_count": null,
   "id": "a79f8e7e",
   "metadata": {},
   "outputs": [],
   "source": []
  }
 ],
 "metadata": {
  "@webio": {
   "lastCommId": null,
   "lastKernelId": null
  },
  "kernelspec": {
   "display_name": "Julia 1.9.1",
   "language": "julia",
   "name": "julia-1.9"
  },
  "language_info": {
   "file_extension": ".jl",
   "mimetype": "application/julia",
   "name": "julia",
   "version": "1.9.1"
  }
 },
 "nbformat": 4,
 "nbformat_minor": 5
}
