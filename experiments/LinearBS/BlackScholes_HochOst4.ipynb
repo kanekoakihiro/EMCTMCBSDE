{
 "cells": [
  {
   "cell_type": "code",
   "execution_count": 1,
   "id": "833cb046",
   "metadata": {
    "scrolled": false
   },
   "outputs": [
    {
     "data": {
      "text/plain": [
       "MethodOfLines (generic function with 1 method)"
      ]
     },
     "execution_count": 1,
     "metadata": {},
     "output_type": "execute_result"
    }
   ],
   "source": [
    "using Distributions, CSV, DataFrames, ProgressMeter\n",
    "include(\"../../utils_1d.jl\")"
   ]
  },
  {
   "cell_type": "code",
   "execution_count": 2,
   "id": "72f1b0bc",
   "metadata": {},
   "outputs": [],
   "source": [
    "T=1.0; r=0.03; R = r; μ=0.03; S0 = 100.0; σ = 0.2; K = 100.0; q = 0.0;\n",
    "\n",
    "drift(x) = μ*x\n",
    "diffusion(x) = σ*x\n",
    "driver(t, x, y, z) = (\n",
    "        -r*max(y-z/σ, 0.0)\n",
    "        -R*min(y-z/σ, 0.0)\n",
    "        -μ*z/σ\n",
    "        )\n",
    "# terminal(x) = max(K-x[1],0) \n",
    "terminal(x) = max(x-K,0)\n",
    "\n",
    "bsde = BSDE(T, S0, drift, diffusion, driver, terminal);"
   ]
  },
  {
   "cell_type": "code",
   "execution_count": 3,
   "id": "739fc68f",
   "metadata": {
    "scrolled": true
   },
   "outputs": [
    {
     "data": {
      "text/plain": [
       "TavellaRandallGrid([0.0, 0.16129920473716197, 0.3223903372606429, 0.48327373329789225, 0.6439497281433404, 0.8044186566592799, 0.964680853276306, 1.1247366519943256, 1.2845863863829976, 1.4442303895825717  …  198.55576961041743, 198.715413613617, 198.87526334800566, 199.03531914672368, 199.19558134334073, 199.35605027185665, 199.5167262667021, 199.67760966273937, 199.83870079526284, 200.0], 2001, 1000, 1000)"
      ]
     },
     "execution_count": 3,
     "metadata": {},
     "output_type": "execute_result"
    }
   ],
   "source": [
    "Nₜs = [10, 20, 50, 100, 200, 500, 1000]\n",
    "header = vcat([\"measurement_type\"], string.(Nₜs))\n",
    "schemes = [\n",
    "#     [LawsonEuler(krylov=true, m=100), true],\n",
    "#     [NorsettEuler(krylov=true, m=100), true],\n",
    "#     [ETDRK2(krylov=true, m=100), true],\n",
    "#     [ETDRK3(krylov=true, m=100), true],\n",
    "#     [ETDRK4(krylov=true, m=100), true],\n",
    "    [HochOst4(krylov=true, m=100), true]\n",
    "    # [DP5(), false],\n",
    "    # [RadauIIA5(), false]\n",
    "]\n",
    "\n",
    "### designing grids\n",
    "domain = [0.0, 2*bsde.X0];\n",
    "Nₗ = 1000; Δₗ = (bsde.X0-domain[1])/Nₗ;\n",
    "Nᵣ = 1000; Δᵣ = (domain[2]-bsde.X0)/Nᵣ;\n",
    "\n",
    "g=50.0\n",
    "spatial_grid = TavellaRandallGrid(g, g, domain[1], bsde.X0, domain[2], Nₗ, Nᵣ)"
   ]
  },
  {
   "cell_type": "code",
   "execution_count": 4,
   "id": "d7170c22",
   "metadata": {
    "scrolled": true
   },
   "outputs": [
    {
     "data": {
      "text/plain": [
       "price (generic function with 1 method)"
      ]
     },
     "execution_count": 4,
     "metadata": {},
     "output_type": "execute_result"
    }
   ],
   "source": [
    "### BENCHMARKs\n",
    "function price(t::Float64, s::Float64)\n",
    "    s = abs(s)\n",
    "    expiry=T-t\n",
    "    if expiry >0\n",
    "        d1 = (log(s / K) + (r-q+(σ^2)/2)*expiry)/(σ*sqrt(expiry))\n",
    "        d2 = d1-σ*sqrt(expiry)\n",
    "        call = s*exp(-q*expiry)*cdf(Normal(), d1)-K*exp(-r*expiry)*cdf(Normal(), d2)\n",
    "    else\n",
    "        call = max(s-K, 0.0)\n",
    "    end\n",
    "    return call\n",
    "end"
   ]
  },
  {
   "cell_type": "code",
   "execution_count": 5,
   "id": "05c170b5",
   "metadata": {
    "scrolled": false
   },
   "outputs": [
    {
     "name": "stdout",
     "output_type": "stream",
     "text": [
      "Nₜ=10:\n",
      "Sup Error=0.5102182089232059:\n",
      "Abs Error=0.261087368393051:\n",
      "Runtime[s]=7.163421869277954:\n",
      "Nₜ=20:\n",
      "Sup Error=0.13738525483463704:\n",
      "Abs Error=0.026381907922853998:\n",
      "Runtime[s]=2.263848066329956:\n"
     ]
    },
    {
     "name": "stderr",
     "output_type": "stream",
     "text": [
      "\r",
      "\u001b[32mProgress:  29%|███████████▊                             |  ETA: 0:00:26\u001b[39m"
     ]
    },
    {
     "name": "stdout",
     "output_type": "stream",
     "text": [
      "Nₜ=50:\n",
      "Sup Error=0.013835301817113788:\n",
      "Abs Error=0.0010920765561923673:\n",
      "Runtime[s]=5.638978004455566:\n"
     ]
    },
    {
     "name": "stderr",
     "output_type": "stream",
     "text": [
      "\r",
      "\u001b[32mProgress:  43%|█████████████████▋                       |  ETA: 0:00:22\u001b[39m"
     ]
    },
    {
     "name": "stdout",
     "output_type": "stream",
     "text": [
      "Nₜ=100:\n",
      "Sup Error=0.013263038971601304:\n",
      "Abs Error=0.0004692956087168909:\n",
      "Runtime[s]=16.602717876434326:\n"
     ]
    },
    {
     "name": "stderr",
     "output_type": "stream",
     "text": [
      "\r",
      "\u001b[32mProgress:  57%|███████████████████████▍                 |  ETA: 0:00:25\u001b[39m"
     ]
    },
    {
     "name": "stdout",
     "output_type": "stream",
     "text": [
      "Nₜ=200:\n",
      "Sup Error=0.013255619021755649:\n",
      "Abs Error=0.00046118475286860416:\n",
      "Runtime[s]=26.510393857955933:\n"
     ]
    },
    {
     "name": "stderr",
     "output_type": "stream",
     "text": [
      "\r",
      "\u001b[32mProgress:  71%|█████████████████████████████▎           |  ETA: 0:00:24\u001b[39m"
     ]
    },
    {
     "name": "stdout",
     "output_type": "stream",
     "text": [
      "Nₜ=500:\n",
      "Sup Error=0.01325561304776457:\n",
      "Abs Error=0.0004611782221140004:\n",
      "Runtime[s]=69.78826093673706:\n"
     ]
    },
    {
     "name": "stderr",
     "output_type": "stream",
     "text": [
      "\r",
      "\u001b[32mProgress:  86%|███████████████████████████████████▏     |  ETA: 0:00:22\u001b[39m"
     ]
    },
    {
     "name": "stdout",
     "output_type": "stream",
     "text": [
      "Nₜ=1000:\n",
      "Sup Error=0.013255613048041681:\n",
      "Abs Error=0.0004611782220305116:\n",
      "Runtime[s]=102.15225195884705:\n"
     ]
    },
    {
     "name": "stderr",
     "output_type": "stream",
     "text": [
      "\r",
      "\u001b[32mProgress: 100%|█████████████████████████████████████████| Time: 0:03:53\u001b[39m\n"
     ]
    },
    {
     "data": {
      "text/plain": [
       "\"result20231112.csv\""
      ]
     },
     "execution_count": 5,
     "metadata": {},
     "output_type": "execute_result"
    }
   ],
   "source": [
    "df = DataFrame([[],[],[],[],[],[],[], []], header)\n",
    "attr = schemes[end]\n",
    "scheme = attr[1]\n",
    "EXPINT = attr[2]\n",
    "\n",
    "abs100 = zeros(Float64, length(Nₜs));\n",
    "abssup = zeros(Float64, length(Nₜs)); \n",
    "runtimes = zeros(Float64, length(Nₜs))\n",
    "\n",
    "@showprogress for (ind, Nₜ) in enumerate(Nₜs)\n",
    "    print(string(\"Nₜ=\", Nₜ,\":\\n\")); flush(stdout)\n",
    "    exc_start = time()\n",
    "    res = MethodOfLines(bsde, spatial_grid, Nₜ, scheme, EXPINT)\n",
    "    exc_stop = time()\n",
    "    sol = res[1]; s_grid = res[2]; \n",
    "\n",
    "    bs_sol = zeros(spatial_grid.N, Nₜ+1)\n",
    "    for (index, t) in enumerate((bsde.T/Nₜ).*(0:Nₜ))\n",
    "        bs_sol[:, index] = price.(Ref(T-t), s_grid);\n",
    "    end\n",
    "    abs_err = abs.(bs_sol-sol)\n",
    "    ind_slice = findall(attr->(attr<1.2*bsde.X0)&&(attr>0.8*bsde.X0), spatial_grid.grid)\n",
    "    indmin = minimum(ind_slice); indmax = maximum(ind_slice);\n",
    "    abssup[ind] = maximum(abs_err[indmin:indmax,:])\n",
    "    abs100[ind] = abs_err[spatial_grid.Nₗ + 1,end]\n",
    "    runtimes[ind] = exc_stop - exc_start\n",
    "    print(string(\"Sup Error=\", abssup[ind],\":\\n\")); flush(stdout)\n",
    "    print(string(\"Abs Error=\", abs100[ind],\":\\n\")); flush(stdout)\n",
    "    print(string(\"Runtime[s]=\", runtimes[ind],\":\\n\")); flush(stdout)\n",
    "end\n",
    "row_sup = vcat([\"Sup Error\"], string.(abssup)); push!(df,row_sup);\n",
    "row_100 = vcat([\"Abs Error\"], string.(abs100)); push!(df,row_100);\n",
    "row_run = vcat([\"Runtime[s]\"], string.(runtimes)); push!(df,row_run);\n",
    "\n",
    "df |> CSV.write(string(\"result20231112.csv\"))"
   ]
  },
  {
   "cell_type": "code",
   "execution_count": null,
   "id": "a79f8e7e",
   "metadata": {},
   "outputs": [],
   "source": []
  }
 ],
 "metadata": {
  "@webio": {
   "lastCommId": null,
   "lastKernelId": null
  },
  "kernelspec": {
   "display_name": "Julia 1.9.1",
   "language": "julia",
   "name": "julia-1.9"
  },
  "language_info": {
   "file_extension": ".jl",
   "mimetype": "application/julia",
   "name": "julia",
   "version": "1.9.1"
  }
 },
 "nbformat": 4,
 "nbformat_minor": 5
}
