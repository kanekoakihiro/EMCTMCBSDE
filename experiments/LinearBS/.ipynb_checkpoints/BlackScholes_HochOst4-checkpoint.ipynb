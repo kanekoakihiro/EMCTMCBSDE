{
 "cells": [
  {
   "cell_type": "code",
   "execution_count": 1,
   "id": "833cb046",
   "metadata": {
    "scrolled": false
   },
   "outputs": [
    {
     "data": {
      "text/plain": [
       "MethodOfLines (generic function with 1 method)"
      ]
     },
     "execution_count": 1,
     "metadata": {},
     "output_type": "execute_result"
    }
   ],
   "source": [
    "using Distributions, CSV, DataFrames, ProgressMeter\n",
    "include(\"../../utils_1d.jl\")"
   ]
  },
  {
   "cell_type": "code",
   "execution_count": 2,
   "id": "72f1b0bc",
   "metadata": {},
   "outputs": [],
   "source": [
    "T=1.0; r=0.03; R = r; μ=0.03; S0 = 100.0; σ = 0.2; K = 100.0; q = 0.0;\n",
    "\n",
    "drift(x) = μ*x\n",
    "diffusion(x) = σ*x\n",
    "driver(t, x, y, z) = (\n",
    "        -r*max(y-z/σ, 0.0)\n",
    "        -R*min(y-z/σ, 0.0)\n",
    "        -μ*z/σ\n",
    "        )\n",
    "# terminal(x) = max(K-x[1],0) \n",
    "terminal(x) = max(x-K,0)\n",
    "\n",
    "bsde = BSDE(T, S0, drift, diffusion, driver, terminal);"
   ]
  },
  {
   "cell_type": "code",
   "execution_count": 7,
   "id": "739fc68f",
   "metadata": {
    "scrolled": true
   },
   "outputs": [],
   "source": [
    "Nₜs = [10, 20, 50, 100, 200, 500, 1000]\n",
    "header = vcat([\"g\", \"measurement_type\"], string.(Nₜs))\n",
    "schemes = [\n",
    "#     [LawsonEuler(krylov=true, m=100), true],\n",
    "#     [NorsettEuler(krylov=true, m=100), true],\n",
    "#     [ETDRK2(krylov=true, m=100), true],\n",
    "#     [ETDRK3(krylov=true, m=100), true],\n",
    "#     [ETDRK4(krylov=true, m=100), true],\n",
    "    [HochOst4(krylov=true, m=100), true]\n",
    "    # [DP5(), false],\n",
    "    # [RadauIIA5(), false]\n",
    "]\n",
    "\n",
    "### designing grids\n",
    "domain = [0.0, 2*bsde.X0];\n",
    "Nₗ = 1000; Δₗ = (bsde.X0-domain[1])/Nₗ;\n",
    "Nᵣ = 1000; Δᵣ = (domain[2]-bsde.X0)/Nᵣ;\n",
    "\n",
    "grid_regular = Grid1D(\n",
    "    vcat(domain[1]:Δₗ:bsde.X0,(bsde.X0+Δᵣ):Δᵣ:domain[2]),\n",
    "    Nₗ+Nᵣ+1,\n",
    "    Nₗ,\n",
    "    Nᵣ\n",
    ")\n",
    "\n",
    "gs = [100.0, 50.0, 20.0, 10.0, 5.0]\n",
    "TR_grids = [TavellaRandallGrid(g, g, domain[1], bsde.X0, domain[2], Nₗ, Nᵣ) for g in gs]\n",
    "\n",
    "grids = vcat(grid_regular,TR_grids...)\n",
    "grid_labels = vcat(\"regular\", [string(g) for g in gs]...);"
   ]
  },
  {
   "cell_type": "code",
   "execution_count": 8,
   "id": "d7170c22",
   "metadata": {
    "scrolled": true
   },
   "outputs": [
    {
     "data": {
      "text/plain": [
       "price (generic function with 1 method)"
      ]
     },
     "execution_count": 8,
     "metadata": {},
     "output_type": "execute_result"
    }
   ],
   "source": [
    "### BENCHMARKs\n",
    "function price(t::Float64, s::Float64)\n",
    "    s = abs(s)\n",
    "    expiry=T-t\n",
    "    if expiry >0\n",
    "        d1 = (log(s / K) + (r-q+(σ^2)/2)*expiry)/(σ*sqrt(expiry))\n",
    "        d2 = d1-σ*sqrt(expiry)\n",
    "        call = s*exp(-q*expiry)*cdf(Normal(), d1)-K*exp(-r*expiry)*cdf(Normal(), d2)\n",
    "    else\n",
    "        call = max(s-K, 0.0)\n",
    "    end\n",
    "    return call\n",
    "end"
   ]
  },
  {
   "cell_type": "code",
   "execution_count": 9,
   "id": "05c170b5",
   "metadata": {
    "scrolled": false
   },
   "outputs": [
    {
     "name": "stdout",
     "output_type": "stream",
     "text": [
      "Nₜ=10:\n",
      "Sup Error=2.0525628200545656:\n",
      "Abs Error=2.050611821237575:\n",
      "Runtime[s]=1.4385387897491455:\n",
      "Nₜ=20:\n",
      "Sup Error=0.2608834723439859:\n",
      "Abs Error=0.05910217033903109:\n",
      "Runtime[s]=2.9039900302886963:\n"
     ]
    },
    {
     "name": "stderr",
     "output_type": "stream",
     "text": [
      "\r",
      "\u001b[32mProgress:  33%|█████████████▋                           |  ETA: 0:00:09\u001b[39m"
     ]
    },
    {
     "name": "stdout",
     "output_type": "stream",
     "text": [
      "Nₜ=50:\n",
      "Sup Error=0.031769323379562106:\n",
      "Abs Error=0.003677926518104613:\n",
      "Runtime[s]=7.467727899551392:\n"
     ]
    },
    {
     "name": "stderr",
     "output_type": "stream",
     "text": [
      "\r",
      "\u001b[32mProgress:  50%|████████████████████▌                    |  ETA: 0:00:12\u001b[39m"
     ]
    },
    {
     "name": "stdout",
     "output_type": "stream",
     "text": [
      "Nₜ=100:\n",
      "Sup Error=0.013208042112850649:\n",
      "Abs Error=0.0005896970630718812:\n",
      "Runtime[s]=14.220820903778076:\n"
     ]
    },
    {
     "name": "stderr",
     "output_type": "stream",
     "text": [
      "\r",
      "\u001b[32mProgress:  67%|███████████████████████████▍             |  ETA: 0:00:13\u001b[39m"
     ]
    },
    {
     "name": "stdout",
     "output_type": "stream",
     "text": [
      "Nₜ=200:\n",
      "Sup Error=0.01310176740933855:\n",
      "Abs Error=0.0004726481147763195:\n",
      "Runtime[s]=25.67884397506714:\n"
     ]
    },
    {
     "name": "stderr",
     "output_type": "stream",
     "text": [
      "\r",
      "\u001b[32mProgress:  83%|██████████████████████████████████▏      |  ETA: 0:00:10\u001b[39m"
     ]
    },
    {
     "name": "stdout",
     "output_type": "stream",
     "text": [
      "Nₜ=500:\n",
      "Sup Error=0.013101088798077143:\n",
      "Abs Error=0.00047189975823691555:\n",
      "Runtime[s]=68.31913781166077:\n"
     ]
    },
    {
     "name": "stderr",
     "output_type": "stream",
     "text": [
      "\r",
      "\u001b[32mProgress: 100%|█████████████████████████████████████████| Time: 0:02:00\u001b[39m\n"
     ]
    },
    {
     "name": "stdout",
     "output_type": "stream",
     "text": [
      "Nₜ=10:\n",
      "Sup Error=0.5102182089232059:\n",
      "Abs Error=0.261087368393051:\n",
      "Runtime[s]=1.7434041500091553:\n",
      "Nₜ=20:\n",
      "Sup Error=0.13738525483463704:\n",
      "Abs Error=0.026381907922853998:\n",
      "Runtime[s]=2.4625580310821533:\n"
     ]
    },
    {
     "name": "stderr",
     "output_type": "stream",
     "text": [
      "\r",
      "\u001b[32mProgress:  33%|█████████████▋                           |  ETA: 0:00:08\u001b[39m"
     ]
    },
    {
     "name": "stdout",
     "output_type": "stream",
     "text": [
      "Nₜ=50:\n",
      "Sup Error=0.013835301817113788:\n",
      "Abs Error=0.0010920765561923673:\n",
      "Runtime[s]=4.8583550453186035:\n"
     ]
    },
    {
     "name": "stderr",
     "output_type": "stream",
     "text": [
      "\r",
      "\u001b[32mProgress:  50%|████████████████████▌                    |  ETA: 0:00:09\u001b[39m"
     ]
    },
    {
     "name": "stdout",
     "output_type": "stream",
     "text": [
      "Nₜ=100:\n",
      "Sup Error=0.013263038971601304:\n",
      "Abs Error=0.0004692956087168909:\n",
      "Runtime[s]=10.873451948165894:\n"
     ]
    },
    {
     "name": "stderr",
     "output_type": "stream",
     "text": [
      "\r",
      "\u001b[32mProgress:  67%|███████████████████████████▍             |  ETA: 0:00:10\u001b[39m"
     ]
    },
    {
     "name": "stdout",
     "output_type": "stream",
     "text": [
      "Nₜ=200:\n",
      "Sup Error=0.013255619021755649:\n",
      "Abs Error=0.00046118475286860416:\n",
      "Runtime[s]=22.174701929092407:\n"
     ]
    },
    {
     "name": "stderr",
     "output_type": "stream",
     "text": [
      "\r",
      "\u001b[32mProgress:  83%|██████████████████████████████████▏      |  ETA: 0:00:08\u001b[39m"
     ]
    },
    {
     "name": "stdout",
     "output_type": "stream",
     "text": [
      "Nₜ=500:\n",
      "Sup Error=0.01325561304776457:\n",
      "Abs Error=0.0004611782221140004:\n",
      "Runtime[s]=77.18120002746582:\n"
     ]
    },
    {
     "name": "stderr",
     "output_type": "stream",
     "text": [
      "\u001b[32mProgress: 100%|█████████████████████████████████████████| Time: 0:02:00\u001b[39m\n",
      "\u001b[32mProgress:  29%|███████████▊                             |  ETA: 0:10:02\u001b[39m"
     ]
    },
    {
     "name": "stdout",
     "output_type": "stream",
     "text": [
      "Nₜ=10:\n",
      "Sup Error=3.050505807887327:\n",
      "Abs Error=3.050505807887327:\n",
      "Runtime[s]=1.0749061107635498:\n",
      "Nₜ=20:\n",
      "Sup Error=0.38181910038731015:\n",
      "Abs Error=0.16805202590063928:\n",
      "Runtime[s]=2.214477062225342:\n"
     ]
    },
    {
     "name": "stderr",
     "output_type": "stream",
     "text": [
      "\r",
      "\u001b[32mProgress:  33%|█████████████▋                           |  ETA: 0:00:07\u001b[39m"
     ]
    },
    {
     "name": "stdout",
     "output_type": "stream",
     "text": [
      "Nₜ=50:\n",
      "Sup Error=0.06556856660740173:\n",
      "Abs Error=0.008903862351772318:\n",
      "Runtime[s]=5.001402854919434:\n"
     ]
    },
    {
     "name": "stderr",
     "output_type": "stream",
     "text": [
      "\r",
      "\u001b[32mProgress:  50%|████████████████████▌                    |  ETA: 0:00:08\u001b[39m"
     ]
    },
    {
     "name": "stdout",
     "output_type": "stream",
     "text": [
      "Nₜ=100:\n",
      "Sup Error=0.013687303451661137:\n",
      "Abs Error=0.0009259583468175236:\n",
      "Runtime[s]=9.77549409866333:\n"
     ]
    },
    {
     "name": "stderr",
     "output_type": "stream",
     "text": [
      "\r",
      "\u001b[32mProgress:  67%|███████████████████████████▍             |  ETA: 0:00:09\u001b[39m"
     ]
    },
    {
     "name": "stdout",
     "output_type": "stream",
     "text": [
      "Nₜ=200:\n",
      "Sup Error=0.01326926501673853:\n",
      "Abs Error=0.0004628265448012314:\n",
      "Runtime[s]=19.76394009590149:\n"
     ]
    },
    {
     "name": "stderr",
     "output_type": "stream",
     "text": [
      "\r",
      "\u001b[32mProgress:  83%|██████████████████████████████████▏      |  ETA: 0:00:08\u001b[39m"
     ]
    },
    {
     "name": "stdout",
     "output_type": "stream",
     "text": [
      "Nₜ=500:\n",
      "Sup Error=0.013262438263456744:\n",
      "Abs Error=0.00045524895887361083:\n",
      "Runtime[s]=48.221861124038696:\n"
     ]
    },
    {
     "name": "stderr",
     "output_type": "stream",
     "text": [
      "\u001b[32mProgress: 100%|█████████████████████████████████████████| Time: 0:01:26\u001b[39m\n",
      "\u001b[32mProgress:  43%|█████████████████▋                       |  ETA: 0:07:17\u001b[39m"
     ]
    },
    {
     "name": "stdout",
     "output_type": "stream",
     "text": [
      "Nₜ=10:\n",
      "Sup Error=5.392895269248954:\n",
      "Abs Error=5.392895269248954:\n",
      "Runtime[s]=1.0493700504302979:\n",
      "Nₜ=20:\n",
      "Sup Error=3.4878036049833145:\n",
      "Abs Error=3.4740571116876273:\n",
      "Runtime[s]=2.1828269958496094:\n"
     ]
    },
    {
     "name": "stderr",
     "output_type": "stream",
     "text": [
      "\r",
      "\u001b[32mProgress:  33%|█████████████▋                           |  ETA: 0:00:07\u001b[39m"
     ]
    },
    {
     "name": "stdout",
     "output_type": "stream",
     "text": [
      "Nₜ=50:\n",
      "Sup Error=0.21907997306369564:\n",
      "Abs Error=0.05645332398976599:\n",
      "Runtime[s]=5.0866379737854:\n"
     ]
    },
    {
     "name": "stderr",
     "output_type": "stream",
     "text": [
      "\r",
      "\u001b[32mProgress:  50%|████████████████████▌                    |  ETA: 0:00:08\u001b[39m"
     ]
    },
    {
     "name": "stdout",
     "output_type": "stream",
     "text": [
      "Nₜ=100:\n",
      "Sup Error=0.06013728732184864:\n",
      "Abs Error=0.008181930912256163:\n",
      "Runtime[s]=9.969932079315186:\n"
     ]
    },
    {
     "name": "stderr",
     "output_type": "stream",
     "text": [
      "\r",
      "\u001b[32mProgress:  67%|███████████████████████████▍             |  ETA: 0:00:09\u001b[39m"
     ]
    },
    {
     "name": "stdout",
     "output_type": "stream",
     "text": [
      "Nₜ=200:\n",
      "Sup Error=0.013616271761605958:\n",
      "Abs Error=0.0008961443604675878:\n",
      "Runtime[s]=20.950340032577515:\n"
     ]
    },
    {
     "name": "stderr",
     "output_type": "stream",
     "text": [
      "\r",
      "\u001b[32mProgress:  83%|██████████████████████████████████▏      |  ETA: 0:00:08\u001b[39m"
     ]
    },
    {
     "name": "stdout",
     "output_type": "stream",
     "text": [
      "Nₜ=500:\n",
      "Sup Error=0.013221740115945124:\n",
      "Abs Error=0.00045600919203536705:\n",
      "Runtime[s]=48.849395990371704:\n"
     ]
    },
    {
     "name": "stderr",
     "output_type": "stream",
     "text": [
      "\u001b[32mProgress: 100%|█████████████████████████████████████████| Time: 0:01:28\u001b[39m\n",
      "\u001b[32mProgress:  57%|███████████████████████▍                 |  ETA: 0:05:12\u001b[39m"
     ]
    },
    {
     "name": "stdout",
     "output_type": "stream",
     "text": [
      "Nₜ=10:\n",
      "Sup Error=6.997752583122017:\n",
      "Abs Error=6.997752583122017:\n",
      "Runtime[s]=1.056879997253418:\n",
      "Nₜ=20:\n",
      "Sup Error=5.903689835954184:\n",
      "Abs Error=5.883144841392825:\n",
      "Runtime[s]=2.197072982788086:\n"
     ]
    },
    {
     "name": "stderr",
     "output_type": "stream",
     "text": [
      "\r",
      "\u001b[32mProgress:  33%|█████████████▋                           |  ETA: 0:00:07\u001b[39m"
     ]
    },
    {
     "name": "stdout",
     "output_type": "stream",
     "text": [
      "Nₜ=50:\n",
      "Sup Error=3.618409771097342:\n",
      "Abs Error=3.566668356767062:\n",
      "Runtime[s]=5.122754096984863:\n"
     ]
    },
    {
     "name": "stderr",
     "output_type": "stream",
     "text": [
      "\r",
      "\u001b[32mProgress:  50%|████████████████████▌                    |  ETA: 0:00:08\u001b[39m"
     ]
    },
    {
     "name": "stdout",
     "output_type": "stream",
     "text": [
      "Nₜ=100:\n",
      "Sup Error=0.6614814634046269:\n",
      "Abs Error=0.6484219907543434:\n",
      "Runtime[s]=9.957401037216187:\n"
     ]
    },
    {
     "name": "stderr",
     "output_type": "stream",
     "text": [
      "\r",
      "\u001b[32mProgress:  67%|███████████████████████████▍             |  ETA: 0:00:09\u001b[39m"
     ]
    },
    {
     "name": "stdout",
     "output_type": "stream",
     "text": [
      "Nₜ=200:\n",
      "Sup Error=0.06371084823807105:\n",
      "Abs Error=0.009347948143284768:\n",
      "Runtime[s]=20.271440982818604:\n"
     ]
    },
    {
     "name": "stderr",
     "output_type": "stream",
     "text": [
      "\r",
      "\u001b[32mProgress:  83%|██████████████████████████████████▏      |  ETA: 0:00:08\u001b[39m"
     ]
    },
    {
     "name": "stdout",
     "output_type": "stream",
     "text": [
      "Nₜ=500:\n",
      "Sup Error=0.013373999189894903:\n",
      "Abs Error=0.0006725620055743065:\n",
      "Runtime[s]=49.21701192855835:\n"
     ]
    },
    {
     "name": "stderr",
     "output_type": "stream",
     "text": [
      "\u001b[32mProgress: 100%|█████████████████████████████████████████| Time: 0:01:28\u001b[39m\n",
      "\u001b[32mProgress:  71%|█████████████████████████████▎           |  ETA: 0:03:22\u001b[39m"
     ]
    },
    {
     "name": "stdout",
     "output_type": "stream",
     "text": [
      "Nₜ=10:\n",
      "Sup Error=8.234326021761731:\n",
      "Abs Error=8.234326021761731:\n",
      "Runtime[s]=1.0833749771118164:\n",
      "Nₜ=20:\n",
      "Sup Error=7.722601754217021:\n",
      "Abs Error=7.707359500332462:\n",
      "Runtime[s]=2.23629093170166:\n"
     ]
    },
    {
     "name": "stderr",
     "output_type": "stream",
     "text": [
      "\r",
      "\u001b[32mProgress:  33%|█████████████▋                           |  ETA: 0:00:07\u001b[39m"
     ]
    },
    {
     "name": "stdout",
     "output_type": "stream",
     "text": [
      "Nₜ=50:\n",
      "Sup Error=6.690133438536613:\n",
      "Abs Error=6.637949212372252:\n",
      "Runtime[s]=5.084074974060059:\n"
     ]
    },
    {
     "name": "stderr",
     "output_type": "stream",
     "text": [
      "\r",
      "\u001b[32mProgress:  50%|████████████████████▌                    |  ETA: 0:00:08\u001b[39m"
     ]
    },
    {
     "name": "stdout",
     "output_type": "stream",
     "text": [
      "Nₜ=100:\n",
      "Sup Error=5.440231518261909:\n",
      "Abs Error=5.382713412361165:\n",
      "Runtime[s]=12.573081970214844:\n"
     ]
    },
    {
     "name": "stderr",
     "output_type": "stream",
     "text": [
      "\r",
      "\u001b[32mProgress:  67%|███████████████████████████▍             |  ETA: 0:00:11\u001b[39m"
     ]
    },
    {
     "name": "stdout",
     "output_type": "stream",
     "text": [
      "Nₜ=200:\n",
      "Sup Error=3.5849049799396298:\n",
      "Abs Error=3.5320757821200166:\n",
      "Runtime[s]=19.833351135253906:\n"
     ]
    },
    {
     "name": "stderr",
     "output_type": "stream",
     "text": [
      "\r",
      "\u001b[32mProgress:  83%|██████████████████████████████████▏      |  ETA: 0:00:08\u001b[39m"
     ]
    },
    {
     "name": "stdout",
     "output_type": "stream",
     "text": [
      "Nₜ=500:\n",
      "Sup Error=0.06965733187324419:\n",
      "Abs Error=0.010143480181122655:\n",
      "Runtime[s]=50.201905965805054:\n"
     ]
    },
    {
     "name": "stderr",
     "output_type": "stream",
     "text": [
      "\u001b[32mProgress: 100%|█████████████████████████████████████████| Time: 0:01:31\u001b[39m\n",
      "\u001b[32mProgress:  86%|███████████████████████████████████▏     |  ETA: 0:01:39\u001b[39m"
     ]
    },
    {
     "name": "stdout",
     "output_type": "stream",
     "text": [
      "Nₜ=10:\n",
      "Sup Error=8.741161610570028:\n",
      "Abs Error=8.741161610570028:\n",
      "Runtime[s]=1.0833890438079834:\n",
      "Nₜ=20:\n",
      "Sup Error=8.454040158573903:\n",
      "Abs Error=8.443947692555724:\n",
      "Runtime[s]=2.2592499256134033:\n"
     ]
    },
    {
     "name": "stderr",
     "output_type": "stream",
     "text": [
      "\r",
      "\u001b[32mProgress:  33%|█████████████▋                           |  ETA: 0:00:07\u001b[39m"
     ]
    },
    {
     "name": "stdout",
     "output_type": "stream",
     "text": [
      "Nₜ=50:\n",
      "Sup Error=7.873557442344277:\n",
      "Abs Error=7.836543852439533:\n",
      "Runtime[s]=5.146291017532349:\n"
     ]
    },
    {
     "name": "stderr",
     "output_type": "stream",
     "text": [
      "\r",
      "\u001b[32mProgress:  50%|████████████████████▌                    |  ETA: 0:00:09\u001b[39m"
     ]
    },
    {
     "name": "stdout",
     "output_type": "stream",
     "text": [
      "Nₜ=100:\n",
      "Sup Error=7.187984519030456:\n",
      "Abs Error=7.142042876911691:\n",
      "Runtime[s]=10.256330013275146:\n"
     ]
    },
    {
     "name": "stderr",
     "output_type": "stream",
     "text": [
      "\r",
      "\u001b[32mProgress:  67%|███████████████████████████▍             |  ETA: 0:00:09\u001b[39m"
     ]
    },
    {
     "name": "stdout",
     "output_type": "stream",
     "text": [
      "Nₜ=200:\n",
      "Sup Error=6.1044652315776275:\n",
      "Abs Error=6.047005083330651:\n",
      "Runtime[s]=20.539078950881958:\n"
     ]
    },
    {
     "name": "stderr",
     "output_type": "stream",
     "text": [
      "\r",
      "\u001b[32mProgress:  83%|██████████████████████████████████▏      |  ETA: 0:00:08\u001b[39m"
     ]
    },
    {
     "name": "stdout",
     "output_type": "stream",
     "text": [
      "Nₜ=500:\n",
      "Sup Error=3.760856361882305:\n",
      "Abs Error=3.7056658467147896:\n",
      "Runtime[s]=49.769922971725464:\n"
     ]
    },
    {
     "name": "stderr",
     "output_type": "stream",
     "text": [
      "\u001b[32mProgress: 100%|█████████████████████████████████████████| Time: 0:01:29\u001b[39m\n",
      "\u001b[32mProgress: 100%|█████████████████████████████████████████| Time: 0:11:26\u001b[39m\n"
     ]
    },
    {
     "data": {
      "text/plain": [
       "\"result20231106.csv\""
      ]
     },
     "execution_count": 9,
     "metadata": {},
     "output_type": "execute_result"
    }
   ],
   "source": [
    "df = DataFrame([[],[],[],[],[],[],[],[], []], header)\n",
    "attr = schemes[end]\n",
    "scheme = attr[1]\n",
    "EXPINT = attr[2]\n",
    "\n",
    "@showprogress for (grid, lab) in zip(grids, grid_labels)\n",
    "    abs100 = zeros(Float64, length(Nₜs));\n",
    "    abssup = zeros(Float64, length(Nₜs)); \n",
    "    runtimes = zeros(Float64, length(Nₜs))\n",
    "\n",
    "    @showprogress for (ind, Nₜ) in enumerate(Nₜs)\n",
    "        print(string(\"Nₜ=\", Nₜ,\":\\n\")); flush(stdout)\n",
    "        exc_start = time()\n",
    "        res = MethodOfLines(bsde, grid, Nₜ, scheme, EXPINT)\n",
    "        exc_stop = time()\n",
    "        sol = res[1]; s_grid = res[2]; \n",
    "        \n",
    "        bs_sol = zeros(grid.N, Nₜ+1)\n",
    "        for (index, t) in enumerate((bsde.T/Nₜ).*(0:Nₜ))\n",
    "            bs_sol[:, index] = price.(Ref(T-t), s_grid);\n",
    "        end\n",
    "        abs_err = abs.(bs_sol-sol)\n",
    "        ind_slice = findall(attr->(attr<1.2*bsde.X0)&&(attr>0.8*bsde.X0), grid.grid)\n",
    "        indmin = minimum(ind_slice); indmax = maximum(ind_slice);\n",
    "        abssup[ind] = maximum(abs_err[indmin:indmax,:])\n",
    "        abs100[ind] = abs_err[grid.Nₗ + 1,end]\n",
    "        runtimes[ind] = exc_stop - exc_start\n",
    "        print(string(\"Sup Error=\", abssup[ind],\":\\n\")); flush(stdout)\n",
    "        print(string(\"Abs Error=\", abs100[ind],\":\\n\")); flush(stdout)\n",
    "        print(string(\"Runtime[s]=\", runtimes[ind],\":\\n\")); flush(stdout)\n",
    "    end\n",
    "    row_sup = vcat([lab, \"Sup Error\"], string.(abssup)); push!(df,row_sup);\n",
    "    row_100 = vcat([lab, \"Abs Error\"], string.(abs100)); push!(df,row_100);\n",
    "    row_run = vcat([lab, \"Runtime[s]\"], string.(runtimes)); push!(df,row_run);\n",
    "end\n",
    "df |> CSV.write(string(\"result20231106.csv\"))"
   ]
  },
  {
   "cell_type": "code",
   "execution_count": null,
   "id": "a79f8e7e",
   "metadata": {},
   "outputs": [],
   "source": []
  }
 ],
 "metadata": {
  "@webio": {
   "lastCommId": null,
   "lastKernelId": null
  },
  "kernelspec": {
   "display_name": "Julia 1.9.1",
   "language": "julia",
   "name": "julia-1.9"
  },
  "language_info": {
   "file_extension": ".jl",
   "mimetype": "application/julia",
   "name": "julia",
   "version": "1.9.1"
  }
 },
 "nbformat": 4,
 "nbformat_minor": 5
}
