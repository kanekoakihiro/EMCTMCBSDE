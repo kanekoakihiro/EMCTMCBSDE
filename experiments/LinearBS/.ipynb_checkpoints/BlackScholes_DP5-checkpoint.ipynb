{
 "cells": [
  {
   "cell_type": "code",
   "execution_count": 1,
   "id": "833cb046",
   "metadata": {
    "scrolled": true
   },
   "outputs": [
    {
     "data": {
      "text/plain": [
       "MethodOfLines (generic function with 1 method)"
      ]
     },
     "execution_count": 1,
     "metadata": {},
     "output_type": "execute_result"
    }
   ],
   "source": [
    "using Distributions, CSV, DataFrames, ProgressMeter\n",
    "include(\"../../utils_1d.jl\")"
   ]
  },
  {
   "cell_type": "code",
   "execution_count": 36,
   "id": "72f1b0bc",
   "metadata": {},
   "outputs": [],
   "source": [
    "T=1.0; r=0.03; R = r; μ=0.03; S0 = 100.0; σ = 0.2; K = 100.0; q = 0.0;\n",
    "\n",
    "drift(x) = μ*x\n",
    "diffusion(x) = σ*x\n",
    "driver(t, x, y, z) = (\n",
    "        -r*max(y-z/σ, 0.0)\n",
    "        -R*min(y-z/σ, 0.0)\n",
    "        -μ*z/σ\n",
    "        )\n",
    "# terminal(x) = max(K-x[1],0) \n",
    "terminal(x) = max(x-K,0)\n",
    "\n",
    "bsde = BSDE(T, S0, drift, diffusion, driver, terminal);"
   ]
  },
  {
   "cell_type": "code",
   "execution_count": 38,
   "id": "739fc68f",
   "metadata": {
    "scrolled": true
   },
   "outputs": [],
   "source": [
    "Nₜs = [10, 20, 50, 100, 200]\n",
    "header = vcat([\"g\", \"measurement_type\"], string.(Nₜs))\n",
    "schemes = [\n",
    "    [LawsonEuler(krylov=true, m=100), true],\n",
    "    [NorsettEuler(krylov=true, m=100), true],\n",
    "    [ETDRK2(krylov=true, m=100), true],\n",
    "    [ETDRK3(krylov=true, m=100), true],\n",
    "    [ETDRK4(krylov=true, m=100), true],\n",
    "    [HochOst4(krylov=true, m=100), true]\n",
    "    # [DP5(), false],\n",
    "    # [RadauIIA5(), false]\n",
    "]\n",
    "\n",
    "### designing grids\n",
    "domain = [0.0, 2*bsde.X0];\n",
    "Nₗ = 100; Δₗ = (bsde.X0-domain[1])/Nₗ;\n",
    "Nᵣ = 100; Δᵣ = (domain[2]-bsde.X0)/Nᵣ;\n",
    "\n",
    "grid_regular = Grid1D(\n",
    "    vcat(domain[1]:Δₗ:bsde.X0,(bsde.X0+Δᵣ):Δᵣ:domain[2]),\n",
    "    Nₗ+Nᵣ+1,\n",
    "    Nₗ,\n",
    "    Nᵣ\n",
    ")\n",
    "\n",
    "gs = [100.0, 50.0, 25.0, 10.0, 5.0, 1.0, 0.5]\n",
    "TR_grids = [TavellaRandallGrid(g, g, domain[1], bsde.X0, domain[2], Nₗ, Nᵣ) for g in gs]\n",
    "\n",
    "grids = vcat(grid_regular,TR_grids...)\n",
    "grid_labels = vcat(\"regular\", [string(g) for g in gs]...);"
   ]
  },
  {
   "cell_type": "code",
   "execution_count": 42,
   "id": "d7170c22",
   "metadata": {},
   "outputs": [
    {
     "data": {
      "text/plain": [
       "price (generic function with 1 method)"
      ]
     },
     "execution_count": 42,
     "metadata": {},
     "output_type": "execute_result"
    }
   ],
   "source": [
    "### BENCHMARKs\n",
    "function price(t::Float64, s::Float64)\n",
    "    s = abs(s)\n",
    "    expiry=T-t\n",
    "    if expiry >0\n",
    "        d1 = (log(s / K) + (r-q+(σ^2)/2)*expiry)/(σ*sqrt(expiry))\n",
    "        d2 = d1-σ*sqrt(expiry)\n",
    "        call = s*exp(-q*expiry)*cdf(Normal(), d1)-K*exp(-r*expiry)*cdf(Normal(), d2)\n",
    "    else\n",
    "        call = max(s-K, 0.0)\n",
    "    end\n",
    "    return call\n",
    "end"
   ]
  },
  {
   "cell_type": "code",
   "execution_count": 43,
   "id": "05c170b5",
   "metadata": {
    "scrolled": false
   },
   "outputs": [
    {
     "name": "stdout",
     "output_type": "stream",
     "text": [
      "Nₜ=10:\n",
      "Sup Error=0.012717502744308717:\n",
      "Abs Error=0.002900320740195639:\n",
      "Abs Error nearby the singularity=0.007921924969510385:\n",
      "Runtime[s]=0.1971280574798584:\n",
      "Nₜ=20:\n",
      "Sup Error=0.012717509017225126:\n",
      "Abs Error=0.0029002952335250853:\n",
      "Abs Error nearby the singularity=0.01125347524666065:\n",
      "Runtime[s]=0.2602829933166504:\n"
     ]
    },
    {
     "name": "stderr",
     "output_type": "stream",
     "text": [
      "\r",
      "\u001b[32mProgress:  40%|████████████████▍                        |  ETA: 0:00:01\u001b[39m"
     ]
    },
    {
     "name": "stdout",
     "output_type": "stream",
     "text": [
      "Nₜ=50:\n",
      "Sup Error=0.01807658158943304:\n",
      "Abs Error=0.0029002933378272644:\n",
      "Abs Error nearby the singularity=0.01807658158943304:\n",
      "Runtime[s]=0.5747060775756836:\n"
     ]
    },
    {
     "name": "stderr",
     "output_type": "stream",
     "text": [
      "\r",
      "\u001b[32mProgress:  60%|████████████████████████▋                |  ETA: 0:00:01\u001b[39m"
     ]
    },
    {
     "name": "stdout",
     "output_type": "stream",
     "text": [
      "Nₜ=100:\n",
      "Sup Error=0.026374127769888345:\n",
      "Abs Error=0.0029002932745409993:\n",
      "Abs Error nearby the singularity=0.026374127769888345:\n",
      "Runtime[s]=1.1080658435821533:\n"
     ]
    },
    {
     "name": "stderr",
     "output_type": "stream",
     "text": [
      "\r",
      "\u001b[32mProgress:  80%|████████████████████████████████▊        |  ETA: 0:00:01\u001b[39m"
     ]
    },
    {
     "name": "stdout",
     "output_type": "stream",
     "text": [
      "Nₜ=200:\n",
      "Sup Error=0.040407627475328334:\n",
      "Abs Error=0.002900293268824683:\n",
      "Abs Error nearby the singularity=0.040407627475328334:\n",
      "Runtime[s]=2.1235499382019043:\n"
     ]
    },
    {
     "name": "stderr",
     "output_type": "stream",
     "text": [
      "\r",
      "\u001b[32mProgress: 100%|█████████████████████████████████████████| Time: 0:00:04\u001b[39m\n"
     ]
    },
    {
     "name": "stdout",
     "output_type": "stream",
     "text": [
      "Nₜ=10:\n",
      "Sup Error=0.0133457725745032:\n",
      "Abs Error=0.002390788076658268:\n",
      "Abs Error nearby the singularity=0.006162644485750768:\n",
      "Runtime[s]=0.12965011596679688:\n",
      "Nₜ=20:\n",
      "Sup Error=0.013345779665598911:\n",
      "Abs Error=0.002390762580851913:\n",
      "Abs Error nearby the singularity=0.008732496773858012:\n",
      "Runtime[s]=0.23193717002868652:\n"
     ]
    },
    {
     "name": "stderr",
     "output_type": "stream",
     "text": [
      "\r",
      "\u001b[32mProgress:  40%|████████████████▍                        |  ETA: 0:00:01\u001b[39m"
     ]
    },
    {
     "name": "stdout",
     "output_type": "stream",
     "text": [
      "Nₜ=50:\n",
      "Sup Error=0.01396405923591204:\n",
      "Abs Error=0.0023907606858788455:\n",
      "Abs Error nearby the singularity=0.01396405923591204:\n",
      "Runtime[s]=0.5811920166015625:\n"
     ]
    },
    {
     "name": "stderr",
     "output_type": "stream",
     "text": [
      "\r",
      "\u001b[32mProgress:  60%|████████████████████████▋                |  ETA: 0:00:01\u001b[39m"
     ]
    },
    {
     "name": "stdout",
     "output_type": "stream",
     "text": [
      "Nₜ=100:\n",
      "Sup Error=0.020189270608847232:\n",
      "Abs Error=0.0023907606226281075:\n",
      "Abs Error nearby the singularity=0.020189270608847232:\n",
      "Runtime[s]=1.1314868927001953:\n"
     ]
    },
    {
     "name": "stderr",
     "output_type": "stream",
     "text": [
      "\r",
      "\u001b[32mProgress:  80%|████████████████████████████████▊        |  ETA: 0:00:01\u001b[39m"
     ]
    },
    {
     "name": "stdout",
     "output_type": "stream",
     "text": [
      "Nₜ=200:\n",
      "Sup Error=0.030275121823140627:\n",
      "Abs Error=0.0023907606169082385:\n",
      "Abs Error nearby the singularity=0.030275121823140627:\n",
      "Runtime[s]=2.1248061656951904:\n"
     ]
    },
    {
     "name": "stderr",
     "output_type": "stream",
     "text": [
      "\u001b[32mProgress: 100%|█████████████████████████████████████████| Time: 0:00:04\u001b[39m\n",
      "\u001b[32mProgress:  25%|██████████▎                              |  ETA: 0:00:26\u001b[39m"
     ]
    },
    {
     "name": "stdout",
     "output_type": "stream",
     "text": [
      "Nₜ=10:\n",
      "Sup Error=0.01398435738453685:\n",
      "Abs Error=0.0018273684273264479:\n",
      "Abs Error nearby the singularity=0.004157472322282807:\n",
      "Runtime[s]=0.12186884880065918:\n",
      "Nₜ=20:\n",
      "Sup Error=0.013984365193088877:\n",
      "Abs Error=0.0018273429442672295:\n",
      "Abs Error nearby the singularity=0.005861499621250488:\n",
      "Runtime[s]=0.22928595542907715:\n"
     ]
    },
    {
     "name": "stderr",
     "output_type": "stream",
     "text": [
      "\r",
      "\u001b[32mProgress:  40%|████████████████▍                        |  ETA: 0:00:01\u001b[39m"
     ]
    },
    {
     "name": "stdout",
     "output_type": "stream",
     "text": [
      "Nₜ=50:\n",
      "Sup Error=0.013984365481523042:\n",
      "Abs Error=0.001827341050104181:\n",
      "Abs Error nearby the singularity=0.009315763294689194:\n",
      "Runtime[s]=0.5454528331756592:\n"
     ]
    },
    {
     "name": "stderr",
     "output_type": "stream",
     "text": [
      "\r",
      "\u001b[32mProgress:  60%|████████████████████████▋                |  ETA: 0:00:01\u001b[39m"
     ]
    },
    {
     "name": "stdout",
     "output_type": "stream",
     "text": [
      "Nₜ=100:\n",
      "Sup Error=0.013984365473824312:\n",
      "Abs Error=0.0018273409868800883:\n",
      "Abs Error nearby the singularity=0.013347339083070175:\n",
      "Runtime[s]=1.073592185974121:\n"
     ]
    },
    {
     "name": "stderr",
     "output_type": "stream",
     "text": [
      "\r",
      "\u001b[32mProgress:  80%|████████████████████████████████▊        |  ETA: 0:00:00\u001b[39m"
     ]
    },
    {
     "name": "stdout",
     "output_type": "stream",
     "text": [
      "Nₜ=200:\n",
      "Sup Error=0.019501274094912535:\n",
      "Abs Error=0.0018273409811673247:\n",
      "Abs Error nearby the singularity=0.019501274094912535:\n",
      "Runtime[s]=2.0602099895477295:\n"
     ]
    },
    {
     "name": "stderr",
     "output_type": "stream",
     "text": [
      "\u001b[32mProgress: 100%|█████████████████████████████████████████| Time: 0:00:04\u001b[39m\n",
      "\u001b[32mProgress:  38%|███████████████▍                         |  ETA: 0:00:21\u001b[39m"
     ]
    },
    {
     "name": "stdout",
     "output_type": "stream",
     "text": [
      "Nₜ=10:\n",
      "Sup Error=0.01276566723284489:\n",
      "Abs Error=0.0013350713933242275:\n",
      "Abs Error nearby the singularity=0.002244033282180702:\n",
      "Runtime[s]=0.12366294860839844:\n",
      "Nₜ=20:\n",
      "Sup Error=0.01276567404635287:\n",
      "Abs Error=0.0013350459230814238:\n",
      "Abs Error nearby the singularity=0.0031169140978191123:\n",
      "Runtime[s]=0.23670291900634766:\n"
     ]
    },
    {
     "name": "stderr",
     "output_type": "stream",
     "text": [
      "\r",
      "\u001b[32mProgress:  40%|████████████████▍                        |  ETA: 0:00:01\u001b[39m"
     ]
    },
    {
     "name": "stdout",
     "output_type": "stream",
     "text": [
      "Nₜ=50:\n",
      "Sup Error=0.01276567426804931:\n",
      "Abs Error=0.001335044029783461:\n",
      "Abs Error nearby the singularity=0.004897298276102857:\n",
      "Runtime[s]=0.5589408874511719:\n"
     ]
    },
    {
     "name": "stderr",
     "output_type": "stream",
     "text": [
      "\r",
      "\u001b[32mProgress:  60%|████████████████████████▋                |  ETA: 0:00:01\u001b[39m"
     ]
    },
    {
     "name": "stdout",
     "output_type": "stream",
     "text": [
      "Nₜ=100:\n",
      "Sup Error=0.012765674258496063:\n",
      "Abs Error=0.0013350439665646974:\n",
      "Abs Error nearby the singularity=0.006950932998338932:\n",
      "Runtime[s]=1.0987942218780518:\n"
     ]
    },
    {
     "name": "stderr",
     "output_type": "stream",
     "text": [
      "\r",
      "\u001b[32mProgress:  80%|████████████████████████████████▊        |  ETA: 0:00:01\u001b[39m"
     ]
    },
    {
     "name": "stdout",
     "output_type": "stream",
     "text": [
      "Nₜ=200:\n",
      "Sup Error=0.012765674256272064:\n",
      "Abs Error=0.001335043960837723:\n",
      "Abs Error nearby the singularity=0.009959076784569199:\n",
      "Runtime[s]=2.0679168701171875:\n"
     ]
    },
    {
     "name": "stderr",
     "output_type": "stream",
     "text": [
      "\u001b[32mProgress: 100%|█████████████████████████████████████████| Time: 0:00:04\u001b[39m\n",
      "\u001b[32mProgress:  50%|████████████████████▌                    |  ETA: 0:00:17\u001b[39m"
     ]
    },
    {
     "name": "stdout",
     "output_type": "stream",
     "text": [
      "Nₜ=10:\n",
      "Sup Error=0.013873002617618369:\n",
      "Abs Error=0.0011086746690303073:\n",
      "Abs Error nearby the singularity=0.0008629006936100581:\n",
      "Runtime[s]=0.12958598136901855:\n",
      "Nₜ=20:\n",
      "Sup Error=0.013873010280001097:\n",
      "Abs Error=0.0011086492102450052:\n",
      "Abs Error nearby the singularity=0.0011072929291655598:\n",
      "Runtime[s]=0.24194908142089844:\n"
     ]
    },
    {
     "name": "stderr",
     "output_type": "stream",
     "text": [
      "\r",
      "\u001b[32mProgress:  40%|████████████████▍                        |  ETA: 0:00:01\u001b[39m"
     ]
    },
    {
     "name": "stdout",
     "output_type": "stream",
     "text": [
      "Nₜ=50:\n",
      "Sup Error=0.013873010558651089:\n",
      "Abs Error=0.0011086473177126521:\n",
      "Abs Error nearby the singularity=0.0016523097675389398:\n",
      "Runtime[s]=0.5739970207214355:\n"
     ]
    },
    {
     "name": "stderr",
     "output_type": "stream",
     "text": [
      "\r",
      "\u001b[32mProgress:  60%|████████████████████████▋                |  ETA: 0:00:01\u001b[39m"
     ]
    },
    {
     "name": "stdout",
     "output_type": "stream",
     "text": [
      "Nₜ=100:\n",
      "Sup Error=0.013873010550707221:\n",
      "Abs Error=0.001108647254531192:\n",
      "Abs Error nearby the singularity=0.002295855312118511:\n",
      "Runtime[s]=1.138767957687378:\n"
     ]
    },
    {
     "name": "stderr",
     "output_type": "stream",
     "text": [
      "\r",
      "\u001b[32mProgress:  80%|████████████████████████████████▊        |  ETA: 0:00:01\u001b[39m"
     ]
    },
    {
     "name": "stdout",
     "output_type": "stream",
     "text": [
      "Nₜ=200:\n",
      "Sup Error=0.013873010548621778:\n",
      "Abs Error=0.001108647248800665:\n",
      "Abs Error nearby the singularity=0.00322892464365121:\n",
      "Runtime[s]=2.287832021713257:\n"
     ]
    },
    {
     "name": "stderr",
     "output_type": "stream",
     "text": [
      "\u001b[32mProgress: 100%|█████████████████████████████████████████| Time: 0:00:04\u001b[39m\n",
      "\u001b[32mProgress:  62%|█████████████████████████▋               |  ETA: 0:00:13\u001b[39m"
     ]
    },
    {
     "name": "stdout",
     "output_type": "stream",
     "text": [
      "Nₜ=10:\n",
      "Sup Error=0.01330393129605767:\n",
      "Abs Error=0.0011984190748624002:\n",
      "Abs Error nearby the singularity=0.0004955683055136717:\n",
      "Runtime[s]=0.1307849884033203:\n",
      "Nₜ=20:\n",
      "Sup Error=0.013303924425425606:\n",
      "Abs Error=0.0011983816171543538:\n",
      "Abs Error nearby the singularity=0.0005356520918289309:\n",
      "Runtime[s]=0.24768590927124023:\n"
     ]
    },
    {
     "name": "stderr",
     "output_type": "stream",
     "text": [
      "\r",
      "\u001b[32mProgress:  40%|████████████████▍                        |  ETA: 0:00:01\u001b[39m"
     ]
    },
    {
     "name": "stdout",
     "output_type": "stream",
     "text": [
      "Nₜ=50:\n",
      "Sup Error=0.013303924653829569:\n",
      "Abs Error=0.0011983797248440453:\n",
      "Abs Error nearby the singularity=0.0006974389108289625:\n",
      "Runtime[s]=0.6516618728637695:\n"
     ]
    },
    {
     "name": "stderr",
     "output_type": "stream",
     "text": [
      "\r",
      "\u001b[32mProgress:  60%|████████████████████████▋                |  ETA: 0:00:01\u001b[39m"
     ]
    },
    {
     "name": "stdout",
     "output_type": "stream",
     "text": [
      "Nₜ=100:\n",
      "Sup Error=0.013303924644482379:\n",
      "Abs Error=0.001198379661726534:\n",
      "Abs Error nearby the singularity=0.0009180478941837045:\n",
      "Runtime[s]=1.2145788669586182:\n"
     ]
    },
    {
     "name": "stderr",
     "output_type": "stream",
     "text": [
      "\r",
      "\u001b[32mProgress:  80%|████████████████████████████████▊        |  ETA: 0:00:01\u001b[39m"
     ]
    },
    {
     "name": "stdout",
     "output_type": "stream",
     "text": [
      "Nₜ=200:\n",
      "Sup Error=0.01330392464233654:\n",
      "Abs Error=0.0011983796559853488:\n",
      "Abs Error nearby the singularity=0.0012519357130400532:\n",
      "Runtime[s]=2.259024143218994:\n"
     ]
    },
    {
     "name": "stderr",
     "output_type": "stream",
     "text": [
      "\u001b[32mProgress: 100%|█████████████████████████████████████████| Time: 0:00:04\u001b[39m\n",
      "\u001b[32mProgress:  75%|██████████████████████████████▊          |  ETA: 0:00:09\u001b[39m"
     ]
    },
    {
     "name": "stdout",
     "output_type": "stream",
     "text": [
      "Nₜ=10:\n",
      "Sup Error=0.025211189789501987:\n",
      "Abs Error=0.005683515333569034:\n",
      "Abs Error nearby the singularity=0.00016192831823991227:\n",
      "Runtime[s]=0.14960098266601562:\n",
      "Nₜ=20:\n",
      "Sup Error=0.014287673664135525:\n",
      "Abs Error=0.0019013072413454069:\n",
      "Abs Error nearby the singularity=0.00034414788226011517:\n",
      "Runtime[s]=0.29500794410705566:\n"
     ]
    },
    {
     "name": "stderr",
     "output_type": "stream",
     "text": [
      "\r",
      "\u001b[32mProgress:  40%|████████████████▍                        |  ETA: 0:00:01\u001b[39m"
     ]
    },
    {
     "name": "stdout",
     "output_type": "stream",
     "text": [
      "Nₜ=50:\n",
      "Sup Error=0.014217114175234968:\n",
      "Abs Error=0.0018308441844610002:\n",
      "Abs Error nearby the singularity=0.0002485052112308761:\n",
      "Runtime[s]=0.6795129776000977:\n"
     ]
    },
    {
     "name": "stderr",
     "output_type": "stream",
     "text": [
      "\r",
      "\u001b[32mProgress:  60%|████████████████████████▋                |  ETA: 0:00:01\u001b[39m"
     ]
    },
    {
     "name": "stdout",
     "output_type": "stream",
     "text": [
      "Nₜ=100:\n",
      "Sup Error=0.014217108479467555:\n",
      "Abs Error=0.001830838412127278:\n",
      "Abs Error nearby the singularity=0.00021034270950426315:\n",
      "Runtime[s]=1.3444788455963135:\n"
     ]
    },
    {
     "name": "stderr",
     "output_type": "stream",
     "text": [
      "\r",
      "\u001b[32mProgress:  80%|████████████████████████████████▊        |  ETA: 0:00:01\u001b[39m"
     ]
    },
    {
     "name": "stdout",
     "output_type": "stream",
     "text": [
      "Nₜ=200:\n",
      "Sup Error=0.014217108477136975:\n",
      "Abs Error=0.0018308384061676009:\n",
      "Abs Error nearby the singularity=0.00019811569555572284:\n",
      "Runtime[s]=2.566675901412964:\n"
     ]
    },
    {
     "name": "stderr",
     "output_type": "stream",
     "text": [
      "\u001b[32mProgress: 100%|█████████████████████████████████████████| Time: 0:00:05\u001b[39m\n",
      "\u001b[32mProgress:  88%|███████████████████████████████████▉     |  ETA: 0:00:04\u001b[39m"
     ]
    },
    {
     "name": "stdout",
     "output_type": "stream",
     "text": [
      "Nₜ=10:\n",
      "Sup Error=0.1458600721343739:\n",
      "Abs Error=0.043124338784583216:\n",
      "Abs Error nearby the singularity=2.1148888080801953e-5:\n",
      "Runtime[s]=0.1577739715576172:\n",
      "Nₜ=20:\n",
      "Sup Error=0.017923777922199235:\n",
      "Abs Error=0.004549156450783798:\n",
      "Abs Error nearby the singularity=0.00026531233016835465:\n",
      "Runtime[s]=0.28858113288879395:\n"
     ]
    },
    {
     "name": "stderr",
     "output_type": "stream",
     "text": [
      "\r",
      "\u001b[32mProgress:  40%|████████████████▍                        |  ETA: 0:00:01\u001b[39m"
     ]
    },
    {
     "name": "stdout",
     "output_type": "stream",
     "text": [
      "Nₜ=50:\n",
      "Sup Error=0.015697767452643063:\n",
      "Abs Error=0.0022167408905566788:\n",
      "Abs Error nearby the singularity=0.00026965931305111823:\n",
      "Runtime[s]=0.6944410800933838:\n"
     ]
    },
    {
     "name": "stderr",
     "output_type": "stream",
     "text": [
      "\r",
      "\u001b[32mProgress:  60%|████████████████████████▋                |  ETA: 0:00:01\u001b[39m"
     ]
    },
    {
     "name": "stdout",
     "output_type": "stream",
     "text": [
      "Nₜ=100:\n",
      "Sup Error=0.015691246919789847:\n",
      "Abs Error=0.002209814407885702:\n",
      "Abs Error nearby the singularity=0.00020171078301789436:\n",
      "Runtime[s]=1.4063231945037842:\n"
     ]
    },
    {
     "name": "stderr",
     "output_type": "stream",
     "text": [
      "\r",
      "\u001b[32mProgress:  80%|████████████████████████████████▊        |  ETA: 0:00:01\u001b[39m"
     ]
    },
    {
     "name": "stdout",
     "output_type": "stream",
     "text": [
      "Nₜ=200:\n",
      "Sup Error=0.015691244035284768:\n",
      "Abs Error=0.002209811339358936:\n",
      "Abs Error nearby the singularity=0.0001583268362002066:\n",
      "Runtime[s]=2.6569669246673584:\n"
     ]
    },
    {
     "name": "stderr",
     "output_type": "stream",
     "text": [
      "\u001b[32mProgress: 100%|█████████████████████████████████████████| Time: 0:00:05\u001b[39m\n",
      "\u001b[32mProgress: 100%|█████████████████████████████████████████| Time: 0:00:36\u001b[39m\n"
     ]
    },
    {
     "data": {
      "text/plain": [
       "\"result_1030.csv\""
      ]
     },
     "execution_count": 43,
     "metadata": {},
     "output_type": "execute_result"
    }
   ],
   "source": [
    "df = DataFrame([[],[],[],[],[],[],[]], header)\n",
    "attr = schemes[end]\n",
    "scheme = attr[1]\n",
    "EXPINT = attr[2]\n",
    "\n",
    "@showprogress for (grid, lab) in zip(grids, grid_labels)\n",
    "    abs100 = zeros(Float64, length(Nₜs));\n",
    "    abssing = zeros(Float64, length(Nₜs));\n",
    "    abssup = zeros(Float64, length(Nₜs)); \n",
    "    runtimes = zeros(Float64, length(Nₜs))\n",
    "\n",
    "    @showprogress for (ind, Nₜ) in enumerate(Nₜs)\n",
    "        print(string(\"Nₜ=\", Nₜ,\":\\n\")); flush(stdout)\n",
    "        exc_start = time()\n",
    "        res = MethodOfLines(bsde, grid, Nₜ, scheme, EXPINT)\n",
    "        exc_stop = time()\n",
    "        sol = res[1]; s_grid = res[2]; \n",
    "        \n",
    "        bs_sol = zeros(grid.N, Nₜ+1)\n",
    "        for (index, t) in enumerate((bsde.T/Nₜ).*(0:Nₜ))\n",
    "            bs_sol[:, index] = price.(Ref(T-t), s_grid);\n",
    "        end\n",
    "        abs_err = abs.(bs_sol-sol)\n",
    "        ind_slice = findall(attr->(attr<1.2*bsde.X0)&&(attr>0.8*bsde.X0), grid.grid)\n",
    "        indmin = minimum(ind_slice); indmax = maximum(ind_slice);\n",
    "        abssup[ind] = maximum(abs_err[indmin:indmax,:])\n",
    "        abssing[ind] = abs_err[grid.Nₗ + 1,2]\n",
    "        abs100[ind] = abs_err[grid.Nₗ + 1,end]\n",
    "        runtimes[ind] = exc_stop - exc_start\n",
    "        print(string(\"Sup Error=\", abssup[ind],\":\\n\")); flush(stdout)\n",
    "        print(string(\"Abs Error=\", abs100[ind],\":\\n\")); flush(stdout)\n",
    "        print(string(\"Abs Error nearby the singularity=\", abssing[ind],\":\\n\")); flush(stdout)\n",
    "        print(string(\"Runtime[s]=\", runtimes[ind],\":\\n\")); flush(stdout)\n",
    "    end\n",
    "    row_sup = vcat([lab, \"Sup Error\"], string.(abssup)); push!(df,row_sup);\n",
    "    row_100 = vcat([lab, \"Abs Error\"], string.(abs100)); push!(df,row_100);\n",
    "    row_sing = vcat([lab, \"Abs Error1\"], string.(abssing)); push!(df,row_sing);\n",
    "    row_run = vcat([lab, \"Runtime[s]\"], string.(runtimes)); push!(df,row_run);\n",
    "end\n",
    "df |> CSV.write(string(\"result_1030.csv\"))"
   ]
  },
  {
   "cell_type": "code",
   "execution_count": null,
   "id": "a79f8e7e",
   "metadata": {},
   "outputs": [],
   "source": []
  }
 ],
 "metadata": {
  "@webio": {
   "lastCommId": null,
   "lastKernelId": null
  },
  "kernelspec": {
   "display_name": "Julia 1.9.1",
   "language": "julia",
   "name": "julia-1.9"
  },
  "language_info": {
   "file_extension": ".jl",
   "mimetype": "application/julia",
   "name": "julia",
   "version": "1.9.1"
  }
 },
 "nbformat": 4,
 "nbformat_minor": 5
}
