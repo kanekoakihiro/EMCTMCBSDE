{
 "cells": [
  {
   "cell_type": "code",
   "execution_count": 1,
   "id": "181f498c",
   "metadata": {
    "scrolled": false
   },
   "outputs": [],
   "source": [
    "# using Plots\n",
    "using Distributions, CSV, DataFrames, ProgressMeter\n",
    "include(\"../../utils_sg.jl\")"
   ]
  },
  {
   "cell_type": "markdown",
   "id": "b095e41a",
   "metadata": {},
   "source": [
    "Define correlation matrix:"
   ]
  },
  {
   "cell_type": "code",
   "execution_count": 2,
   "id": "e0eb7cbe",
   "metadata": {},
   "outputs": [],
   "source": [
    "C = [1.0 0.5; 0.5 1.0]; Ψ = [0.65  0.3; -0.1 0.05]; R = [1.0 0.7; 0.7 1.0];\n",
    "Π = [C Ψ; Ψ' R]; cholΠ=cholesky(Π).L\n",
    "CT = [0.5 0.5 0.0 0.0; -0.5 0.5 0.0 0.0; 0.0 0.0 1.0 0.0; 0.0 0.0 0.0 1.0];\n",
    "invCT = inv(CT);"
   ]
  },
  {
   "cell_type": "markdown",
   "id": "68c5be2a",
   "metadata": {},
   "source": [
    "Parameters:"
   ]
  },
  {
   "cell_type": "code",
   "execution_count": 3,
   "id": "673ec401",
   "metadata": {
    "scrolled": true
   },
   "outputs": [],
   "source": [
    "T = 1.0; r=0.01; R=0.07;\n",
    "S0 = [100.0, 100.0]; \n",
    "v0 = [0.4, 0.3]; \n",
    "α = [0.65, 0.3]; \n",
    "β = [0.6, 0.07]; \n",
    "η = [0.9, 0.2]\n",
    "θ₀ = [0.02, 0.3]\n",
    "K = 100.0;\n",
    "λ = [0.5, 0.5, 0.0, 0.0]\n",
    "\n",
    "slvm1 = HestonSABRSLV(S0[1], v0[1], Ψ[1,1], r, β[1], η[1], α[1], θ₀[1]);\n",
    "slvm2 = HestonSABRSLV(S0[2], v0[2], Ψ[2,2], r, β[2], η[2], α[2], θ₀[2]);"
   ]
  },
  {
   "cell_type": "code",
   "execution_count": 4,
   "id": "fe49ffe6",
   "metadata": {},
   "outputs": [],
   "source": [
    "drift(x) = [slvm1.ω(abs(x[1]),abs(x[3])), slvm2.ω(abs(x[2]),abs(x[2])), slvm1.μ(abs(x[3])), slvm2.μ(abs(x[4]))]\n",
    "diffusion(x) = Diagonal(\n",
    "        [slvm1.m(abs(x[3]))*slvm1.Γ(abs(x[1])), slvm2.m(abs(x[4]))*slvm1.Γ(abs(x[2])), slvm1.σ(abs(x[3])), slvm2.σ(abs(x[4]))]\n",
    "        )*cholesky(Π).L\n",
    "driver(t, x, y, z) = (\n",
    "    -r*max(y-z'*inv(diffusion(x))*x, 0.0)\n",
    "    -R*min(y-z'*inv(diffusion(x))*x, 0.0)\n",
    "    -z'*inv(diffusion(x))*drift(x)\n",
    ")\n",
    "terminal(x) = max(dot(λ, x)-K,0.0)\n",
    "bsde = BSDE(\n",
    "        T, [S0, v0], x->CT*drift(invCT*x), x->CT*diffusion(invCT*x), (t,x,y,z)->driver(t,invCT*x, y, z), x->terminal(invCT*x)\n",
    "    );"
   ]
  },
  {
   "cell_type": "markdown",
   "id": "4054bd45",
   "metadata": {},
   "source": [
    "### Experiment"
   ]
  },
  {
   "cell_type": "code",
   "execution_count": 5,
   "id": "def3c074",
   "metadata": {},
   "outputs": [],
   "source": [
    "d = 4\n",
    "### Parameters for Tavella-Randall grids\n",
    "g=1.0\n",
    "g₁=g\n",
    "g₂=g\n",
    "\n",
    "lefts = [0.0, 0.0, 0.0, 0.0];\n",
    "rights = [200.0, 200.0, 0.8, 0.6];\n",
    "centers = [100.0, 100.0, 0.4, 0.3];\n",
    "scaled_centers=(centers.-(rights.+lefts)./2.0)./((rights.-lefts)./2.0);\n",
    "\n",
    "lefts_ct = [51.0, -49.0, 0.01, 0.01]\n",
    "rights_ct = [149.0, 49.0, 0.79, 0.59]\n",
    "centers_ct = CT*centers\n",
    "scaled_centers_ct = (centers_ct.-(rights_ct.+lefts_ct)./2.0)./((rights_ct.-lefts_ct)./2.0);"
   ]
  },
  {
   "cell_type": "code",
   "execution_count": 6,
   "id": "cdf039a8",
   "metadata": {},
   "outputs": [
    {
     "data": {
      "text/plain": [
       "solveProb (generic function with 1 method)"
      ]
     },
     "execution_count": 6,
     "metadata": {},
     "output_type": "execute_result"
    }
   ],
   "source": [
    "function solveProb(mind, bsde, Nₜ, scheme)\n",
    "    d = length(mind)\n",
    "    \n",
    "    _p = [rescale(eq_nodes(mind[dim]), scaled_centers_ct[dim], lefts_ct[dim], rights_ct[dim]) for dim in 1:d]\n",
    "    Δₗ = [pp[2]-pp[1] for pp in _p]\n",
    "    Δᵣ = [pp[end]-pp[end-1] for pp in _p]\n",
    "    Nₗ = [length(pp)÷2 for pp in _p]\n",
    "    Nᵣ = [length(pp)÷2 for pp in _p]\n",
    "\n",
    "    grids = Array{AbstractGrid,1}(undef, d)\n",
    "    for dim in 1:d\n",
    "        if dim == 1\n",
    "            grids[dim] = TavellaRandallGrid(\n",
    "                g₁, \n",
    "                g₂, \n",
    "                _p[dim][1], \n",
    "                _p[dim][length(_p[dim])÷2+1], \n",
    "                _p[dim][end], \n",
    "                length(_p[dim])÷2, \n",
    "                length(_p[dim])÷2\n",
    "            )\n",
    "        else\n",
    "            grids[dim] = Grid1D(_p[dim], length(_p[dim]), length(_p[dim])÷2, length(_p[dim])÷2)\n",
    "        end\n",
    "    end\n",
    "    res = MethodOfLines(bsde, grids, Nₜ, scheme, true)\n",
    "    return [res[1], grids]\n",
    "end"
   ]
  },
  {
   "cell_type": "code",
   "execution_count": 7,
   "id": "3670941d",
   "metadata": {
    "scrolled": false
   },
   "outputs": [
    {
     "data": {
      "text/plain": [
       "1-element Vector{Vector{Any}}:\n",
       " [HochOst4{0, true, Val{:forward}, true, nothing}(true, 100, 0), true]"
      ]
     },
     "execution_count": 7,
     "metadata": {},
     "output_type": "execute_result"
    }
   ],
   "source": [
    "Nₜs = [10, 20, 50, 100, 200]\n",
    "header = vcat([\"q\", \"measurement_type\"], string.(Nₜs))\n",
    "qs = [5,6,7,8]\n",
    "schemes = [\n",
    "#     [LawsonEuler(krylov=true, m=100), true],\n",
    "#     [NorsettEuler(krylov=true, m=100), true],\n",
    "#     [ETDRK2(krylov=true, m=100), true],\n",
    "#     [ETDRK3(krylov=true, m=100), true],\n",
    "#     [ETDRK4(krylov=true, m=100), true],\n",
    "    [HochOst4(krylov=true, m=100), true]\n",
    "    # [DP5(), false],\n",
    "    # [RadauIIA5(), false]\n",
    "]"
   ]
  },
  {
   "cell_type": "code",
   "execution_count": 8,
   "id": "868990bb",
   "metadata": {
    "scrolled": true
   },
   "outputs": [
    {
     "name": "stdout",
     "output_type": "stream",
     "text": [
      "q=11:\n",
      "Nₜ=10:\n",
      "Y0=7.430566992601248:\n",
      "Runtime[s]=5965.276252985001:\n",
      "Nₜ=20:\n",
      "Y0=7.499859505201685:\n",
      "Runtime[s]=10932.847093105316:\n",
      "Nₜ=50:\n",
      "Y0=7.516753556236795:\n",
      "Runtime[s]=24935.392666101456:\n",
      "Nₜ=100:\n",
      "Y0=7.517130579269033:\n",
      "Runtime[s]=48705.961517095566:\n",
      "Nₜ=200:\n",
      "Y0=7.517135635600779:\n",
      "Runtime[s]=97810.96660494804:\n"
     ]
    }
   ],
   "source": [
    "dfs = Array{DataFrame, 1}(undef, length(schemes))\n",
    "for (snum, attr) in enumerate(schemes)\n",
    "    scheme = attr[1]\n",
    "    EXPINT = attr[2]\n",
    "    schemename = split(split(string(scheme), '{')[1], '(')[1]\n",
    "    dfs[snum] = DataFrame([[],[],[],[],[],[],[]], header)\n",
    "    for q in [11]\n",
    "        print(string(\"q=\", q,\":\\n\")); flush(stdout)\n",
    "        sol100 = zeros(Float64, length(Nₜs)); \n",
    "        runtimes = zeros(Float64, length(Nₜs))\n",
    "        spind = sparse_indices(q, d)\n",
    "        for (ind, Nₜ) in enumerate(Nₜs)\n",
    "            print(string(\"Nₜ=\", Nₜ,\":\\n\")); flush(stdout)\n",
    "            exc_start = time()\n",
    "            results = [solveProb(mind, bsde, Nₜ, scheme) for mind in spind]\n",
    "            data = [dat[1] for dat in results]\n",
    "            grids = [dat[2] for dat in results]\n",
    "            sg_interp = SparseGridInterpolation(data, grids, spind, q, d, Nₜ, lefts, rights, centers)\n",
    "            exc_stop = time()\n",
    "            sol100[ind] = sg_interp.Interpolant(Nₜ+1, CT*[100.0,100.0,0.4,0.3])\n",
    "            runtimes[ind] = exc_stop - exc_start\n",
    "            print(string(\"Y0=\", sol100[ind],\":\\n\")); flush(stdout)\n",
    "            print(string(\"Runtime[s]=\", runtimes[ind],\":\\n\")); flush(stdout)\n",
    "        end\n",
    "        row_100 = vcat([string(q), \"Y0(100,0.4)\"], string.(sol100)); push!(dfs[snum],row_100);\n",
    "        row_run = vcat([string(q), \"Runtime[s]\"], string.(runtimes)); push!(dfs[snum],row_run);\n",
    "    end\n",
    "    dfs[snum] |> CSV.write(string(schemename, \".csv\"))\n",
    "end"
   ]
  },
  {
   "cell_type": "code",
   "execution_count": null,
   "id": "4a9a8e38",
   "metadata": {
    "scrolled": true
   },
   "outputs": [
    {
     "name": "stdout",
     "output_type": "stream",
     "text": [
      "q=10:\n",
      "Nₜ=10:\n",
      "Y0=7.515217874558343:\n",
      "Runtime[s]=838.1456301212311:\n",
      "Nₜ=20:\n",
      "Y0=7.516556705839124:\n",
      "Runtime[s]=1487.505112171173:\n",
      "Nₜ=50:\n",
      "Y0=7.516579654831062:\n",
      "Runtime[s]=3376.8531000614166:\n",
      "Nₜ=100:\n",
      "Y0=7.5165794781308914:\n",
      "Runtime[s]=6542.38395690918:\n",
      "Nₜ=200:\n",
      "Y0=7.516579455261652:\n",
      "Runtime[s]=12817.336641073227:\n",
      "q=11:\n",
      "Nₜ=10:\n"
     ]
    }
   ],
   "source": [
    "dfs = Array{DataFrame, 1}(undef, length(schemes))\n",
    "for (snum, attr) in enumerate(schemes)\n",
    "    scheme = attr[1]\n",
    "    EXPINT = attr[2]\n",
    "    schemename = split(split(string(scheme), '{')[1], '(')[1]\n",
    "    dfs[snum] = DataFrame([[],[],[],[],[],[],[]], header)\n",
    "    for q in [10,11]\n",
    "        print(string(\"q=\", q,\":\\n\")); flush(stdout)\n",
    "        sol100 = zeros(Float64, length(Nₜs)); \n",
    "        runtimes = zeros(Float64, length(Nₜs))\n",
    "        spind = sparse_indices(q, d)\n",
    "        for (ind, Nₜ) in enumerate(Nₜs)\n",
    "            print(string(\"Nₜ=\", Nₜ,\":\\n\")); flush(stdout)\n",
    "            exc_start = time()\n",
    "            results = [solveProb(mind, bsde, Nₜ, scheme) for mind in spind]\n",
    "            data = [dat[1] for dat in results]\n",
    "            grids = [dat[2] for dat in results]\n",
    "            sg_interp = SparseGridInterpolation(data, grids, spind, q, d, Nₜ, lefts, rights, centers)\n",
    "            exc_stop = time()\n",
    "            sol100[ind] = sg_interp.Interpolant(Nₜ+1, CT*[100.0,100.0,0.4,0.3])\n",
    "            runtimes[ind] = exc_stop - exc_start\n",
    "            print(string(\"Y0=\", sol100[ind],\":\\n\")); flush(stdout)\n",
    "            print(string(\"Runtime[s]=\", runtimes[ind],\":\\n\")); flush(stdout)\n",
    "        end\n",
    "        row_100 = vcat([string(q), \"Y0(100,0.4)\"], string.(sol100)); push!(dfs[snum],row_100);\n",
    "        row_run = vcat([string(q), \"Runtime[s]\"], string.(runtimes)); push!(dfs[snum],row_run);\n",
    "    end\n",
    "    dfs[snum] |> CSV.write(string(schemename, \".csv\"))\n",
    "end"
   ]
  },
  {
   "cell_type": "code",
   "execution_count": null,
   "id": "bdf70c5b",
   "metadata": {},
   "outputs": [],
   "source": []
  },
  {
   "cell_type": "code",
   "execution_count": null,
   "id": "ce12945c",
   "metadata": {},
   "outputs": [
    {
     "name": "stdout",
     "output_type": "stream",
     "text": [
      "q=8:\n",
      "Nₜ=10:\n",
      "Y0=7.500158040589735:\n",
      "Runtime[s]=50.71484112739563:\n",
      "Nₜ=20:\n",
      "Y0=7.500131900683128:\n",
      "Runtime[s]=57.89162492752075:\n",
      "Nₜ=50:\n",
      "Y0=7.500128496768227:\n",
      "Runtime[s]=141.68213200569153:\n",
      "Nₜ=100:\n",
      "Y0=7.500128300000469:\n",
      "Runtime[s]=276.37019205093384:\n",
      "Nₜ=200:\n",
      "Y0=7.500128275776776:\n",
      "Runtime[s]=552.9504218101501:\n",
      "q=9:\n",
      "Nₜ=10:\n",
      "Y0=7.5145741994326265:\n",
      "Runtime[s]=119.64703392982483:\n",
      "Nₜ=20:\n",
      "Y0=7.5145492515036105:\n",
      "Runtime[s]=195.73518705368042:\n",
      "Nₜ=50:\n",
      "Y0=7.514545416763401:\n",
      "Runtime[s]=484.6726770401001:\n",
      "Nₜ=100:\n",
      "Y0=7.514545181527124:\n",
      "Runtime[s]=931.0067451000214:\n",
      "Nₜ=200:\n",
      "Y0=7.514545152170882:\n",
      "Runtime[s]=1904.4860670566559:\n",
      "q=10:\n",
      "Nₜ=10:\n"
     ]
    }
   ],
   "source": [
    "dfs = Array{DataFrame, 1}(undef, length(schemes))\n",
    "for (snum, attr) in enumerate(schemes)\n",
    "    scheme = attr[1]\n",
    "    EXPINT = attr[2]\n",
    "    schemename = split(split(string(scheme), '{')[1], '(')[1]\n",
    "    dfs[snum] = DataFrame([[],[],[],[],[],[],[]], header)\n",
    "    for q in [8,9,10,11]\n",
    "        print(string(\"q=\", q,\":\\n\")); flush(stdout)\n",
    "        sol100 = zeros(Float64, length(Nₜs)); \n",
    "        runtimes = zeros(Float64, length(Nₜs))\n",
    "        spind = sparse_indices(q, d)\n",
    "        for (ind, Nₜ) in enumerate(Nₜs)\n",
    "            print(string(\"Nₜ=\", Nₜ,\":\\n\")); flush(stdout)\n",
    "            exc_start = time()\n",
    "            results = [solveProb(mind, bsde, Nₜ, scheme) for mind in spind]\n",
    "            data = [dat[1] for dat in results]\n",
    "            grids = [dat[2] for dat in results]\n",
    "            sg_interp = SparseGridInterpolation(data, grids, spind, q, d, Nₜ, lefts, rights, centers)\n",
    "            exc_stop = time()\n",
    "            sol100[ind] = sg_interp.Interpolant(Nₜ+1, CT*[100.0,100.0,0.4,0.3])\n",
    "            runtimes[ind] = exc_stop - exc_start\n",
    "            print(string(\"Y0=\", sol100[ind],\":\\n\")); flush(stdout)\n",
    "            print(string(\"Runtime[s]=\", runtimes[ind],\":\\n\")); flush(stdout)\n",
    "        end\n",
    "        row_100 = vcat([string(q), \"Y0(100,0.4)\"], string.(sol100)); push!(dfs[snum],row_100);\n",
    "        row_run = vcat([string(q), \"Runtime[s]\"], string.(runtimes)); push!(dfs[snum],row_run);\n",
    "    end\n",
    "    dfs[snum] |> CSV.write(string(schemename, \".csv\"))\n",
    "end"
   ]
  },
  {
   "cell_type": "code",
   "execution_count": null,
   "id": "a49778af",
   "metadata": {},
   "outputs": [],
   "source": []
  }
 ],
 "metadata": {
  "@webio": {
   "lastCommId": null,
   "lastKernelId": null
  },
  "kernelspec": {
   "display_name": "Julia 1.9.1",
   "language": "julia",
   "name": "julia-1.9"
  },
  "language_info": {
   "file_extension": ".jl",
   "mimetype": "application/julia",
   "name": "julia",
   "version": "1.9.1"
  }
 },
 "nbformat": 4,
 "nbformat_minor": 5
}
