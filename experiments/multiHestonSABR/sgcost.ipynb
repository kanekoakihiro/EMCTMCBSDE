{
 "cells": [
  {
   "cell_type": "code",
   "execution_count": 3,
   "id": "2e451acd",
   "metadata": {},
   "outputs": [],
   "source": [
    "using Distributions, CSV, DataFrames, ProgressMeter\n",
    "include(\"../../utils_sg.jl\")"
   ]
  },
  {
   "cell_type": "code",
   "execution_count": 5,
   "id": "174e334f",
   "metadata": {},
   "outputs": [
    {
     "name": "stdout",
     "output_type": "stream",
     "text": [
      "q=8:\n",
      "1.185921e6 and 36901.0\n",
      "q=9:\n",
      "1.7850625e7 and 112105.0\n",
      "q=10:\n",
      "2.76922881e8 and 320675.0\n",
      "q=11:\n",
      "4.362470401e9 and 877655.0\n"
     ]
    }
   ],
   "source": [
    "d=4\n",
    "for q in [8,9,10,11]\n",
    "    print(string(\"q=\", q,\":\\n\")); flush(stdout)\n",
    "    spind = sparse_indices(q, d)\n",
    "    print(\n",
    "        string(\n",
    "            maximum([maximum(2.0.^mind .+ 1) for mind in spind])^d, \n",
    "            \" and \", \n",
    "            sum([prod(2.0.^mind .+ 1) for mind in spind])\n",
    "    )\n",
    "    ); flush(stdout)\n",
    "    print(\"\\n\"); flush(stdout)\n",
    "end"
   ]
  },
  {
   "cell_type": "code",
   "execution_count": null,
   "id": "64e030ec",
   "metadata": {},
   "outputs": [],
   "source": []
  }
 ],
 "metadata": {
  "kernelspec": {
   "display_name": "Julia 1.9.1",
   "language": "julia",
   "name": "julia-1.9"
  },
  "language_info": {
   "file_extension": ".jl",
   "mimetype": "application/julia",
   "name": "julia",
   "version": "1.9.1"
  }
 },
 "nbformat": 4,
 "nbformat_minor": 5
}
