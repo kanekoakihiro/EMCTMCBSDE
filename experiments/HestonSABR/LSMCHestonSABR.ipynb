{
 "cells": [
  {
   "cell_type": "code",
   "execution_count": 1,
   "id": "0ac4b94f",
   "metadata": {},
   "outputs": [],
   "source": [
    "using LinearAlgebra, Distributions, CSV, DataFrames, ProgressMeter\n",
    "include(\"../../slv.jl\")\n",
    "using .slv\n",
    "include(\"../../equation.jl\")\n",
    "using .equation\n",
    "include(\"../../lsmc_bsde.jl\")\n",
    "using .lsmc_bsde"
   ]
  },
  {
   "cell_type": "code",
   "execution_count": 2,
   "id": "4266a638",
   "metadata": {},
   "outputs": [],
   "source": [
    "T = 1.0; r=0.01; S0 = 100.0; v0 = 0.4; α = 0.65; β = 0.7; ρ = 0.65; K = 100.0; η=0.9; θ₀=0.02;\n",
    "slvm = HestonSABRSLV(S0::Float64, v0::Float64, ρ::Float64, r::Float64, β::Float64, η::Float64, α::Float64, θ₀::Float64);\n",
    "Π = [1.0 ρ; ρ 1.0]; cholΠ=cholesky(Π).L\n",
    "\n",
    "drift(x) = [slvm.ω(abs(x[1]),abs(x[2])), slvm.μ(abs(x[2]))]\n",
    "diffusion(x) = Diagonal(\n",
    "        [slvm.m(abs(x[2]))*slvm.Γ(abs(x[1])), slvm.σ(abs(x[2]))]\n",
    "        )*cholΠ\n",
    "R = 0.07;\n",
    "driver(t, x, y, z) = (\n",
    "    -r*max(y-z'*inv(diffusion(x))*x, 0.0)\n",
    "    -R*min(y-z'*inv(diffusion(x))*x, 0.0)\n",
    "    -z'*inv(diffusion(x))*drift(x)\n",
    ")\n",
    "terminal(x) = max(K-x[1],0)\n",
    "bsde = BSDE(T, [S0, v0], drift, diffusion, driver, terminal);"
   ]
  },
  {
   "cell_type": "code",
   "execution_count": 3,
   "id": "ae3ed9cd",
   "metadata": {},
   "outputs": [
    {
     "data": {
      "text/plain": [
       "1048576"
      ]
     },
     "execution_count": 3,
     "metadata": {},
     "output_type": "execute_result"
    }
   ],
   "source": [
    "#### LSMC\n",
    "#### Laguerre polynomials\n",
    "function Laguerre1D(x,k)\n",
    "    if k == 0\n",
    "        return 1.0\n",
    "    elseif k == 1\n",
    "        return (1.0-x)\n",
    "    elseif k == 2\n",
    "        return (x^2-4*x+2)/2\n",
    "    elseif k == 3\n",
    "        return (-x^3+9*x^2-18*x+6)/6\n",
    "    elseif k == 4\n",
    "        return (x^4-16*x^3+72*x^2-96*x+24)/24\n",
    "    elseif k == 5\n",
    "        return (-x^5+25*x^4-200*x^3+600*x^2-600*x+120)/120\n",
    "    elseif k == 6\n",
    "        return (x^6-36*x^5+450*x^4-2400*x^3+5400*x^2-4320*x+720)/720\n",
    "    elseif k == 7\n",
    "        return (-x^7+49*x^6-882*x^5+7350*x^4-29400*x^3+52920*x^2-35280*x+5040)/5040\n",
    "    elseif k == 8\n",
    "        return (x^8-64*x^7+1568*x^6-18816*x^5+117600*x^4-376320*x^3+564480*x^2-322560*x+40320)/40320\n",
    "    elseif k == 9\n",
    "        return (-x^9+81*x^8-2592*x^7+42336*x^6-381024*x^5+1905120*x^4-5080320*x^3+6531840*x^2-3265920*x+362880)/362880\n",
    "    else\n",
    "        return 0.0\n",
    "    end\n",
    "end\n",
    "\n",
    "function bases2D(x, poly)\n",
    "    vec = zeros((poly+1)^2)\n",
    "    for k = 0:poly\n",
    "        for l = 0:poly\n",
    "            vec[(poly-1)*k+l+1] = Laguerre1D(x[1], k)*Laguerre1D(x[2], l)\n",
    "        end\n",
    "    end\n",
    "    return vec\n",
    "end\n",
    "\n",
    "M=2^20"
   ]
  },
  {
   "cell_type": "code",
   "execution_count": 5,
   "id": "653cda3d",
   "metadata": {},
   "outputs": [
    {
     "name": "stdout",
     "output_type": "stream",
     "text": [
      "N=6:\n"
     ]
    },
    {
     "name": "stderr",
     "output_type": "stream",
     "text": [
      "\u001b[32mProgress: 100%|█████████████████████████████████████████| Time: 0:54:10\u001b[39m\n"
     ]
    },
    {
     "name": "stdout",
     "output_type": "stream",
     "text": [
      ":LSMCY_0(100.0, 0.4)=5.595603184254965/std=0.015305921265513221. (3250.837821960449 seconds)\n",
      "N=7:\n"
     ]
    },
    {
     "name": "stderr",
     "output_type": "stream",
     "text": [
      "\u001b[32mProgress: 100%|█████████████████████████████████████████| Time: 1:18:57\u001b[39m\n"
     ]
    },
    {
     "name": "stdout",
     "output_type": "stream",
     "text": [
      ":LSMCY_0(100.0, 0.4)=5.613204322339325/std=0.01532673147428293. (4737.513890981674 seconds)\n"
     ]
    },
    {
     "name": "stderr",
     "output_type": "stream",
     "text": [
      "\r",
      "\u001b[32mProgress:  50%|████████████████████▌                    |  ETA: 2:13:08\u001b[39m"
     ]
    },
    {
     "name": "stdout",
     "output_type": "stream",
     "text": [
      "N=8:\n"
     ]
    },
    {
     "name": "stderr",
     "output_type": "stream",
     "text": [
      "\u001b[32mProgress: 100%|█████████████████████████████████████████| Time: 1:53:08\u001b[39m\n"
     ]
    },
    {
     "name": "stdout",
     "output_type": "stream",
     "text": [
      ":LSMCY_0(100.0, 0.4)=5.624668434847342/std=0.017938951278524642. (6788.490918159485 seconds)\n"
     ]
    },
    {
     "name": "stderr",
     "output_type": "stream",
     "text": [
      "\r",
      "\u001b[32mProgress:  75%|██████████████████████████████▊          |  ETA: 1:22:06\u001b[39m"
     ]
    },
    {
     "name": "stdout",
     "output_type": "stream",
     "text": [
      "N=9:\n"
     ]
    },
    {
     "name": "stderr",
     "output_type": "stream",
     "text": [
      "\u001b[32mProgress: 100%|█████████████████████████████████████████| Time: 2:44:23\u001b[39m\n"
     ]
    },
    {
     "name": "stdout",
     "output_type": "stream",
     "text": [
      ":LSMCY_0(100.0, 0.4)=5.62485025869727/std=0.0191995129964935. (9863.743056058884 seconds)\n"
     ]
    },
    {
     "name": "stderr",
     "output_type": "stream",
     "text": [
      "\r",
      "\u001b[32mProgress: 100%|█████████████████████████████████████████| Time: 6:50:40\u001b[39m\n"
     ]
    }
   ],
   "source": [
    "s0 = 100.0\n",
    "bsde = BSDE(T, [s0, v0], drift, diffusion, driver, terminal);\n",
    "samples = 50;\n",
    "@showprogress for N in [6,7,8,9]\n",
    "    poly = N\n",
    "    print(string(\"N=\", N,\":\\n\")); flush(stdout)\n",
    "    ba = (x->bases2D(x, poly))\n",
    "    #### Generate 50 independent samples\n",
    "    Y0 = zeros(samples);\n",
    "    exc_start = time()\n",
    "    @showprogress for k in 1:samples\n",
    "        Y0[k] = LSMC(bsde, ba, M, N);\n",
    "    end\n",
    "    exc_stop = time()\n",
    "    elapsed_time = exc_stop-exc_start\n",
    "    print(string(\":LSMCY_0(\",s0,\", \",v0,\")=\",mean(Y0),\"/std=\",std(Y0),\". (\",elapsed_time,\" seconds)\\n\")); flush(stdout)\n",
    "end"
   ]
  },
  {
   "cell_type": "code",
   "execution_count": null,
   "id": "5c53cf6d",
   "metadata": {},
   "outputs": [],
   "source": []
  }
 ],
 "metadata": {
  "@webio": {
   "lastCommId": null,
   "lastKernelId": null
  },
  "kernelspec": {
   "display_name": "Julia 1.9.1",
   "language": "julia",
   "name": "julia-1.9"
  },
  "language_info": {
   "file_extension": ".jl",
   "mimetype": "application/julia",
   "name": "julia",
   "version": "1.9.1"
  }
 },
 "nbformat": 4,
 "nbformat_minor": 5
}
