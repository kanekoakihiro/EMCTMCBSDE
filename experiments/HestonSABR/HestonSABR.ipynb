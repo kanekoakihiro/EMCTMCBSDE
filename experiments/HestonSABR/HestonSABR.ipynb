{
 "cells": [
  {
   "cell_type": "code",
   "execution_count": 1,
   "id": "181f498c",
   "metadata": {},
   "outputs": [
    {
     "data": {
      "text/plain": [
       "MethodOfLines (generic function with 1 method)"
      ]
     },
     "execution_count": 1,
     "metadata": {},
     "output_type": "execute_result"
    }
   ],
   "source": [
    "using Distributions, CSV, DataFrames, ProgressMeter\n",
    "include(\"../../utils_slv.jl\")"
   ]
  },
  {
   "cell_type": "code",
   "execution_count": 2,
   "id": "673ec401",
   "metadata": {},
   "outputs": [],
   "source": [
    "T = 1.0; r=0.01; S0 = 100.0; v0 = 0.4; α = 0.65; β = 0.7; ρ = 0.65; K = 100.0; η=0.9; θ₀=0.02;\n",
    "slvm = HestonSABRSLV(S0::Float64, v0::Float64, ρ::Float64, r::Float64, β::Float64, η::Float64, α::Float64, θ₀::Float64);\n",
    "Π = [1.0 ρ; ρ 1.0]; cholΠ=cholesky(Π).L\n",
    "\n",
    "drift(x) = [slvm.ω(abs(x[1]),abs(x[2])), slvm.μ(abs(x[2]))]\n",
    "diffusion(x) = Diagonal(\n",
    "        [slvm.m(abs(x[2]))*slvm.Γ(abs(x[1])), slvm.σ(abs(x[2]))]\n",
    "        )*cholΠ\n",
    "R = 0.07;\n",
    "driver(t, x, y, z) = (\n",
    "    -r*max(y-z'*inv(diffusion(x))*x, 0.0)\n",
    "    -R*min(y-z'*inv(diffusion(x))*x, 0.0)\n",
    "    -z'*inv(diffusion(x))*drift(x)\n",
    ")\n",
    "terminal(x) = max(K-x[1],0)\n",
    "bsde = BSDE(T, [S0, v0], drift, diffusion, driver, terminal);"
   ]
  },
  {
   "cell_type": "code",
   "execution_count": 3,
   "id": "1b448a5d",
   "metadata": {},
   "outputs": [
    {
     "data": {
      "text/plain": [
       "6-element Vector{Vector{Any}}:\n",
       " [LawsonEuler{0, true, Val{:forward}, true, nothing}(true, 100, 0), true]\n",
       " [NorsettEuler{0, true, Val{:forward}, true, nothing}(true, 100, 0), true]\n",
       " [ETDRK2{0, true, Val{:forward}, true, nothing}(true, 100, 0), true]\n",
       " [ETDRK3{0, true, Val{:forward}, true, nothing}(true, 100, 0), true]\n",
       " [ETDRK4{0, true, Val{:forward}, true, nothing}(true, 100, 0), true]\n",
       " [HochOst4{0, true, Val{:forward}, true, nothing}(true, 100, 0), true]"
      ]
     },
     "execution_count": 3,
     "metadata": {},
     "output_type": "execute_result"
    }
   ],
   "source": [
    "Nₜs = [10, 20, 50, 100, 200]\n",
    "header = vcat([\"scheme\", \"measurement_type\"], string.(Nₜs))\n",
    "df = DataFrame([[],[],[],[],[],[],[]], header)\n",
    "schemes = [\n",
    "    [LawsonEuler(krylov=true, m=100), true],\n",
    "    [NorsettEuler(krylov=true, m=100), true],\n",
    "    [ETDRK2(krylov=true, m=100), true],\n",
    "    [ETDRK3(krylov=true, m=100), true],\n",
    "    [ETDRK4(krylov=true, m=100), true],\n",
    "    [HochOst4(krylov=true, m=100), true]\n",
    "    # [DP5(), false],\n",
    "    # [RadauIIA5(), false]\n",
    "]"
   ]
  },
  {
   "cell_type": "code",
   "execution_count": 4,
   "id": "2c1a7f96",
   "metadata": {},
   "outputs": [
    {
     "data": {
      "text/plain": [
       "Grid1D([0.02666666666666667, 0.05155555555555556, 0.07644444444444445, 0.10133333333333334, 0.12622222222222224, 0.1511111111111111, 0.17600000000000002, 0.2008888888888889, 0.2257777777777778, 0.2506666666666667  …  0.5493333333333335, 0.5742222222222223, 0.5991111111111111, 0.6240000000000001, 0.648888888888889, 0.6737777777777778, 0.6986666666666668, 0.7235555555555557, 0.7484444444444446, 0.7733333333333334], 31, 15, 15)"
      ]
     },
     "execution_count": 4,
     "metadata": {},
     "output_type": "execute_result"
    }
   ],
   "source": [
    "### designing grids\n",
    "domain = [[1.0, 2*bsde.X0[1]-1.0], [bsde.X0[2]/15, 2*bsde.X0[2]-bsde.X0[2]/15]];\n",
    "# domain = [[0.0, 2*bsde.X0[1]], [0.0, 2*bsde.X0[2]]];\n",
    "Nₗ = [100, 15]; Δₗ = (bsde.X0-[dom[1] for dom in domain])./Nₗ;\n",
    "Nᵣ = [100, 15]; Δᵣ = ([dom[2] for dom in domain]-bsde.X0)./Nᵣ;\n",
    "\n",
    "grids = Array{AbstractGrid,1}(undef, 2)\n",
    "g₁ = 1.0; g₂ = 1.0\n",
    "\n",
    "grids[1] = TavellaRandallGrid(g₁, g₂, domain[1][1], bsde.X0[1], domain[1][2], Nₗ[1], Nᵣ[1])\n",
    "grids[2] = Grid1D(\n",
    "    vcat(domain[2][1]:Δₗ[2]:bsde.X0[2],(bsde.X0[2]+Δᵣ[2]):Δᵣ[2]:domain[2][2]),\n",
    "    31,\n",
    "    15,\n",
    "    15\n",
    ")"
   ]
  },
  {
   "cell_type": "code",
   "execution_count": 5,
   "id": "50dad01d",
   "metadata": {
    "scrolled": false
   },
   "outputs": [
    {
     "name": "stdout",
     "output_type": "stream",
     "text": [
      "Nₜ=10:\n",
      "Y0(100,0.4)=4.798466278661286:\n",
      "Runtime[s]=22.7935528755188:\n",
      "Nₜ=20:\n",
      "Y0(100,0.4)=5.560529933987746:\n",
      "Runtime[s]=29.70417618751526:\n"
     ]
    },
    {
     "name": "stderr",
     "output_type": "stream",
     "text": [
      "\r",
      "\u001b[32mProgress:  40%|████████████████▍                        |  ETA: 0:01:19\u001b[39m"
     ]
    },
    {
     "name": "stdout",
     "output_type": "stream",
     "text": [
      "Nₜ=50:\n",
      "Y0(100,0.4)=5.601496927099452:\n",
      "Runtime[s]=66.14965796470642:\n"
     ]
    },
    {
     "name": "stderr",
     "output_type": "stream",
     "text": [
      "\r",
      "\u001b[32mProgress:  60%|████████████████████████▋                |  ETA: 0:01:19\u001b[39m"
     ]
    },
    {
     "name": "stdout",
     "output_type": "stream",
     "text": [
      "Nₜ=100:\n",
      "Y0(100,0.4)=5.621065483140017:\n",
      "Runtime[s]=129.12831282615662:\n"
     ]
    },
    {
     "name": "stderr",
     "output_type": "stream",
     "text": [
      "\r",
      "\u001b[32mProgress:  80%|████████████████████████████████▊        |  ETA: 0:01:02\u001b[39m"
     ]
    },
    {
     "name": "stdout",
     "output_type": "stream",
     "text": [
      "Nₜ=200:\n",
      "Y0(100,0.4)=5.63022906543223:\n",
      "Runtime[s]=255.58414506912231:\n"
     ]
    },
    {
     "name": "stderr",
     "output_type": "stream",
     "text": [
      "\r",
      "\u001b[32mProgress: 100%|█████████████████████████████████████████| Time: 0:08:23\u001b[39m\n"
     ]
    },
    {
     "name": "stdout",
     "output_type": "stream",
     "text": [
      "Nₜ=10:\n",
      "Y0(100,0.4)=4.90764626622677:\n",
      "Runtime[s]=14.714094161987305:\n",
      "Nₜ=20:\n",
      "Y0(100,0.4)=5.566196228483622:\n",
      "Runtime[s]=26.25898790359497:\n"
     ]
    },
    {
     "name": "stderr",
     "output_type": "stream",
     "text": [
      "\r",
      "\u001b[32mProgress:  40%|████████████████▍                        |  ETA: 0:01:01\u001b[39m"
     ]
    },
    {
     "name": "stdout",
     "output_type": "stream",
     "text": [
      "Nₜ=50:\n",
      "Y0(100,0.4)=5.623447190415948:\n",
      "Runtime[s]=61.45684504508972:\n"
     ]
    },
    {
     "name": "stderr",
     "output_type": "stream",
     "text": [
      "\r",
      "\u001b[32mProgress:  60%|████████████████████████▋                |  ETA: 0:01:08\u001b[39m"
     ]
    },
    {
     "name": "stdout",
     "output_type": "stream",
     "text": [
      "Nₜ=100:\n",
      "Y0(100,0.4)=5.63257641140014:\n",
      "Runtime[s]=116.10907816886902:\n"
     ]
    },
    {
     "name": "stderr",
     "output_type": "stream",
     "text": [
      "\r",
      "\u001b[32mProgress:  80%|████████████████████████████████▊        |  ETA: 0:00:55\u001b[39m"
     ]
    },
    {
     "name": "stdout",
     "output_type": "stream",
     "text": [
      "Nₜ=200:\n",
      "Y0(100,0.4)=5.636035138427895:\n",
      "Runtime[s]=231.01238989830017:\n"
     ]
    },
    {
     "name": "stderr",
     "output_type": "stream",
     "text": [
      "\u001b[32mProgress: 100%|█████████████████████████████████████████| Time: 0:07:29\u001b[39m\n",
      "\u001b[32mProgress:  33%|█████████████▋                           |  ETA: 0:31:48\u001b[39m"
     ]
    },
    {
     "name": "stdout",
     "output_type": "stream",
     "text": [
      "Nₜ=10:\n",
      "Y0(100,0.4)=4.934760611796455:\n",
      "Runtime[s]=26.151757955551147:\n",
      "Nₜ=20:\n",
      "Y0(100,0.4)=5.600636093822609:\n",
      "Runtime[s]=43.69901204109192:\n"
     ]
    },
    {
     "name": "stderr",
     "output_type": "stream",
     "text": [
      "\r",
      "\u001b[32mProgress:  40%|████████████████▍                        |  ETA: 0:01:45\u001b[39m"
     ]
    },
    {
     "name": "stdout",
     "output_type": "stream",
     "text": [
      "Nₜ=50:\n",
      "Y0(100,0.4)=5.636781421554453:\n",
      "Runtime[s]=112.08446097373962:\n"
     ]
    },
    {
     "name": "stderr",
     "output_type": "stream",
     "text": [
      "\r",
      "\u001b[32mProgress:  60%|████████████████████████▋                |  ETA: 0:02:01\u001b[39m"
     ]
    },
    {
     "name": "stdout",
     "output_type": "stream",
     "text": [
      "Nₜ=100:\n",
      "Y0(100,0.4)=5.639253491353949:\n",
      "Runtime[s]=221.11412382125854:\n"
     ]
    },
    {
     "name": "stderr",
     "output_type": "stream",
     "text": [
      "\r",
      "\u001b[32mProgress:  80%|████████████████████████████████▊        |  ETA: 0:01:41\u001b[39m"
     ]
    },
    {
     "name": "stdout",
     "output_type": "stream",
     "text": [
      "Nₜ=200:\n",
      "Y0(100,0.4)=5.639371336106954:\n",
      "Runtime[s]=443.10718297958374:\n"
     ]
    },
    {
     "name": "stderr",
     "output_type": "stream",
     "text": [
      "\u001b[32mProgress: 100%|█████████████████████████████████████████| Time: 0:14:06\u001b[39m\n",
      "\u001b[32mProgress:  50%|████████████████████▌                    |  ETA: 0:30:00\u001b[39m"
     ]
    },
    {
     "name": "stdout",
     "output_type": "stream",
     "text": [
      "Nₜ=10:\n",
      "Y0(100,0.4)=4.932858252017564:\n",
      "Runtime[s]=33.03697609901428:\n",
      "Nₜ=20:\n",
      "Y0(100,0.4)=5.60141669613675:\n",
      "Runtime[s]=66.36800289154053:\n"
     ]
    },
    {
     "name": "stderr",
     "output_type": "stream",
     "text": [
      "\r",
      "\u001b[32mProgress:  40%|████████████████▍                        |  ETA: 0:02:29\u001b[39m"
     ]
    },
    {
     "name": "stdout",
     "output_type": "stream",
     "text": [
      "Nₜ=50:\n",
      "Y0(100,0.4)=5.636868463580804:\n",
      "Runtime[s]=159.76938915252686:\n"
     ]
    },
    {
     "name": "stderr",
     "output_type": "stream",
     "text": [
      "\r",
      "\u001b[32mProgress:  60%|████████████████████████▋                |  ETA: 0:02:53\u001b[39m"
     ]
    },
    {
     "name": "stdout",
     "output_type": "stream",
     "text": [
      "Nₜ=100:\n",
      "Y0(100,0.4)=5.639275689433955:\n",
      "Runtime[s]=341.57104897499084:\n"
     ]
    },
    {
     "name": "stderr",
     "output_type": "stream",
     "text": [
      "\r",
      "\u001b[32mProgress:  80%|████████████████████████████████▊        |  ETA: 0:02:30\u001b[39m"
     ]
    },
    {
     "name": "stdout",
     "output_type": "stream",
     "text": [
      "Nₜ=200:\n",
      "Y0(100,0.4)=5.63937707307152:\n",
      "Runtime[s]=724.5667669773102:\n"
     ]
    },
    {
     "name": "stderr",
     "output_type": "stream",
     "text": [
      "\u001b[32mProgress: 100%|█████████████████████████████████████████| Time: 0:22:05\u001b[39m\n",
      "\u001b[32mProgress:  67%|███████████████████████████▍             |  ETA: 0:26:03\u001b[39m"
     ]
    },
    {
     "name": "stdout",
     "output_type": "stream",
     "text": [
      "Nₜ=10:\n",
      "Y0(100,0.4)=4.952064958579129:\n",
      "Runtime[s]=63.90424990653992:\n",
      "Nₜ=20:\n",
      "Y0(100,0.4)=5.601491700833722:\n",
      "Runtime[s]=121.80752992630005:\n"
     ]
    },
    {
     "name": "stderr",
     "output_type": "stream",
     "text": [
      "\r",
      "\u001b[32mProgress:  40%|████████████████▍                        |  ETA: 0:04:39\u001b[39m"
     ]
    },
    {
     "name": "stdout",
     "output_type": "stream",
     "text": [
      "Nₜ=50:\n",
      "Y0(100,0.4)=5.636872811703197:\n",
      "Runtime[s]=293.5910789966583:\n"
     ]
    },
    {
     "name": "stderr",
     "output_type": "stream",
     "text": [
      "\r",
      "\u001b[32mProgress:  60%|████████████████████████▋                |  ETA: 0:05:20\u001b[39m"
     ]
    },
    {
     "name": "stdout",
     "output_type": "stream",
     "text": [
      "Nₜ=100:\n",
      "Y0(100,0.4)=5.639276354192734:\n",
      "Runtime[s]=566.3171670436859:\n"
     ]
    },
    {
     "name": "stderr",
     "output_type": "stream",
     "text": [
      "\r",
      "\u001b[32mProgress:  80%|████████████████████████████████▊        |  ETA: 0:04:21\u001b[39m"
     ]
    },
    {
     "name": "stdout",
     "output_type": "stream",
     "text": [
      "Nₜ=200:\n",
      "Y0(100,0.4)=5.639377172574346:\n",
      "Runtime[s]=1150.638109922409:\n"
     ]
    },
    {
     "name": "stderr",
     "output_type": "stream",
     "text": [
      "\u001b[32mProgress: 100%|█████████████████████████████████████████| Time: 0:36:36\u001b[39m\n",
      "\u001b[32mProgress:  83%|██████████████████████████████████▏      |  ETA: 0:17:44\u001b[39m"
     ]
    },
    {
     "name": "stdout",
     "output_type": "stream",
     "text": [
      "Nₜ=10:\n",
      "Y0(100,0.4)=4.932805919969068:\n",
      "Runtime[s]=60.23075890541077:\n",
      "Nₜ=20:\n",
      "Y0(100,0.4)=5.601329109069393:\n",
      "Runtime[s]=114.64156413078308:\n"
     ]
    },
    {
     "name": "stderr",
     "output_type": "stream",
     "text": [
      "\r",
      "\u001b[32mProgress:  40%|████████████████▍                        |  ETA: 0:04:22\u001b[39m"
     ]
    },
    {
     "name": "stdout",
     "output_type": "stream",
     "text": [
      "Nₜ=50:\n",
      "Y0(100,0.4)=5.636868652346867:\n",
      "Runtime[s]=285.9899260997772:\n"
     ]
    },
    {
     "name": "stderr",
     "output_type": "stream",
     "text": [
      "\r",
      "\u001b[32mProgress:  60%|████████████████████████▋                |  ETA: 0:05:07\u001b[39m"
     ]
    },
    {
     "name": "stdout",
     "output_type": "stream",
     "text": [
      "Nₜ=100:\n",
      "Y0(100,0.4)=5.639276277750687:\n",
      "Runtime[s]=551.4694700241089:\n"
     ]
    },
    {
     "name": "stderr",
     "output_type": "stream",
     "text": [
      "\r",
      "\u001b[32mProgress:  80%|████████████████████████████████▊        |  ETA: 0:04:13\u001b[39m"
     ]
    },
    {
     "name": "stdout",
     "output_type": "stream",
     "text": [
      "Nₜ=200:\n",
      "Y0(100,0.4)=5.6393771702059405:\n",
      "Runtime[s]=1117.3502159118652:\n"
     ]
    },
    {
     "name": "stderr",
     "output_type": "stream",
     "text": [
      "\u001b[32mProgress: 100%|█████████████████████████████████████████| Time: 0:35:29\u001b[39m\n",
      "\u001b[32mProgress: 100%|█████████████████████████████████████████| Time: 2:04:11\u001b[39m\n"
     ]
    },
    {
     "data": {
      "text/plain": [
       "\"result_1029.csv\""
      ]
     },
     "execution_count": 5,
     "metadata": {},
     "output_type": "execute_result"
    }
   ],
   "source": [
    "d=2\n",
    "@showprogress for attr in schemes\n",
    "    abs100 = zeros(Float64, length(Nₜs)); \n",
    "    runtimes = zeros(Float64, length(Nₜs))\n",
    "    scheme = attr[1]\n",
    "    EXPINT = attr[2]\n",
    "    @showprogress for (ind, Nₜ) in enumerate(Nₜs)\n",
    "        print(string(\"Nₜ=\", Nₜ,\":\\n\")); flush(stdout)\n",
    "        exc_start = time()\n",
    "        res = MethodOfLines(bsde, grids, Nₜ, scheme, EXPINT)\n",
    "        exc_stop = time()\n",
    "        sol = res[1]; s_grid = res[2]; \n",
    "        \n",
    "        index = grids[1].Nₗ*grids[2].N + grids[2].Nₗ + 1\n",
    "        abs100[ind] = sol[index,end]\n",
    "        runtimes[ind] = exc_stop - exc_start\n",
    "        print(string(\"Y0(100,0.4)=\", abs100[ind],\":\\n\")); flush(stdout)\n",
    "        print(string(\"Runtime[s]=\", runtimes[ind],\":\\n\")); flush(stdout)\n",
    "    end\n",
    "    schemename = split(split(string(scheme), '{')[1], '(')[1]\n",
    "    row_100 = vcat([schemename, \"Y0(100,0.4)\"], string.(abs100)); push!(df,row_100);\n",
    "    row_run = vcat([schemename, \"Runtime[s]\"], string.(runtimes)); push!(df,row_run);\n",
    "end\n",
    "df |> CSV.write(string(\"result_1029.csv\"))"
   ]
  },
  {
   "cell_type": "code",
   "execution_count": null,
   "id": "efbd739f",
   "metadata": {},
   "outputs": [],
   "source": []
  }
 ],
 "metadata": {
  "@webio": {
   "lastCommId": null,
   "lastKernelId": null
  },
  "kernelspec": {
   "display_name": "Julia 1.9.1",
   "language": "julia",
   "name": "julia-1.9"
  },
  "language_info": {
   "file_extension": ".jl",
   "mimetype": "application/julia",
   "name": "julia",
   "version": "1.9.1"
  }
 },
 "nbformat": 4,
 "nbformat_minor": 5
}
