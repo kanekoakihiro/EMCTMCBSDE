{
 "cells": [
  {
   "cell_type": "code",
   "execution_count": 1,
   "id": "0ac4b94f",
   "metadata": {},
   "outputs": [],
   "source": [
    "using LinearAlgebra, Distributions, CSV, DataFrames, ProgressMeter\n",
    "include(\"../../slv.jl\")\n",
    "using .slv\n",
    "include(\"../../equation.jl\")\n",
    "using .equation\n",
    "\n",
    "include(\"../../LSMC/lsmc_bsde.jl\")"
   ]
  },
  {
   "cell_type": "code",
   "execution_count": 2,
   "id": "4266a638",
   "metadata": {},
   "outputs": [
    {
     "data": {
      "text/plain": [
       "terminal (generic function with 1 method)"
      ]
     },
     "execution_count": 2,
     "metadata": {},
     "output_type": "execute_result"
    }
   ],
   "source": [
    "S0 = 95.0; v0 = 0.4; ρ = 0.8; T = 1.0; b = 0.04; β = 0.25; σ₀ = 0.25; η = 0.5; α = 0.3;\n",
    "R = 0.07; r = 0.006; K1 = 95.0; K2 = 105.0;\n",
    "slvm = HypHypSLV(S0::Float64, v0::Float64, ρ::Float64, b::Float64, β::Float64, σ₀::Float64, η::Float64, α::Float64);\n",
    "Π = [1.0 ρ; ρ 1.0]; cholΠ=cholesky(Π).L\n",
    "\n",
    "drift(x) = [slvm.ω(abs(x[1]),abs(x[2])), slvm.μ(abs(x[2]))]\n",
    "diffusion(x) = Diagonal(\n",
    "        [slvm.m(abs(x[2]))*slvm.Γ(abs(x[1])), slvm.σ(abs(x[2]))]\n",
    "        )*cholΠ\n",
    "driver(t, x, y, z) = (\n",
    "    -r*max(y-z'*inv(diffusion(x))*x, 0.0)\n",
    "    -R*min(y-z'*inv(diffusion(x))*x, 0.0)\n",
    "    -z'*inv(diffusion(x))*drift(x)\n",
    ")\n",
    "terminal(x) = max(x[1]-K1,0.0)-2.0*max(x[1]-K2,0.0)"
   ]
  },
  {
   "cell_type": "code",
   "execution_count": 3,
   "id": "ae3ed9cd",
   "metadata": {},
   "outputs": [
    {
     "data": {
      "text/plain": [
       "1048576"
      ]
     },
     "execution_count": 3,
     "metadata": {},
     "output_type": "execute_result"
    }
   ],
   "source": [
    "#### LSMC\n",
    "#### Laguerre polynomials\n",
    "function Laguerre1D(x,k)\n",
    "    if k == 0\n",
    "        return 1.0\n",
    "    elseif k == 1\n",
    "        return (1.0-x)\n",
    "    elseif k == 2\n",
    "        return (x^2-4*x+2)/2\n",
    "    elseif k == 3\n",
    "        return (-x^3+9*x^2-18*x+6)/6\n",
    "    elseif k == 4\n",
    "        return (x^4-16*x^3+72*x^2-96*x+24)/24\n",
    "    elseif k == 5\n",
    "        return (-x^5+25*x^4-200*x^3+600*x^2-600*x+120)/120\n",
    "    elseif k == 6\n",
    "        return (x^6-36*x^5+450*x^4-2400*x^3+5400*x^2-4320*x+720)/720\n",
    "    elseif k == 7\n",
    "        return (-x^7+49*x^6-882*x^5+7350*x^4-29400*x^3+52920*x^2-35280*x+5040)/5040\n",
    "    elseif k == 8\n",
    "        return (x^8-64*x^7+1568*x^6-18816*x^5+117600*x^4-376320*x^3+564480*x^2-322560*x+40320)/40320\n",
    "    elseif k == 9\n",
    "        return (-x^9+81*x^8-2592*x^7+42336*x^6-381024*x^5+1905120*x^4-5080320*x^3+6531840*x^2-3265920*x+362880)/362880\n",
    "    else\n",
    "        return 0.0\n",
    "    end\n",
    "end\n",
    "\n",
    "function bases2D(x, poly)\n",
    "    vec = zeros((poly+1)^2)\n",
    "    for k = 0:poly\n",
    "        for l = 0:poly\n",
    "            vec[(poly-1)*k+l+1] = Laguerre1D(x[1], k)*Laguerre1D(x[2], l)\n",
    "        end\n",
    "    end\n",
    "    return vec\n",
    "end\n",
    "\n",
    "M=2^20"
   ]
  },
  {
   "cell_type": "code",
   "execution_count": 3,
   "id": "653cda3d",
   "metadata": {},
   "outputs": [
    {
     "name": "stderr",
     "output_type": "stream",
     "text": [
      "\u001b[32mProgress: 100%|█████████████████████████████████████████| Time: 1:00:41\u001b[39m\n"
     ]
    },
    {
     "name": "stdout",
     "output_type": "stream",
     "text": [
      ":LSMCY_0(95.0, 0.4)=4.466563705718711/std=0.013817023952866922. (3641.4754469394684 seconds)\n",
      "\n"
     ]
    },
    {
     "name": "stderr",
     "output_type": "stream",
     "text": [
      "\u001b[32mProgress: 100%|█████████████████████████████████████████| Time: 0:59:55\u001b[39m\n"
     ]
    },
    {
     "name": "stdout",
     "output_type": "stream",
     "text": [
      ":LSMCY_0(100.0, 0.4)=5.795169096561708/std=0.019986846917120583. (3595.6368680000305 seconds)\n",
      "\n"
     ]
    },
    {
     "name": "stderr",
     "output_type": "stream",
     "text": [
      "\u001b[32mProgress: 100%|█████████████████████████████████████████| Time: 1:00:05\u001b[39m\n"
     ]
    },
    {
     "name": "stdout",
     "output_type": "stream",
     "text": [
      ":LSMCY_0(105.0, 0.4)=5.661857959343783/std=0.02496535687289554. (3605.5047318935394 seconds)\n",
      "\n"
     ]
    },
    {
     "name": "stderr",
     "output_type": "stream",
     "text": [
      "\r",
      "\u001b[32mProgress: 100%|█████████████████████████████████████████| Time: 3:00:43\u001b[39m\n"
     ]
    }
   ],
   "source": [
    "N=6\n",
    "poly = N\n",
    "ba = (x->bases2D(x, poly))\n",
    "samples = 50;\n",
    "@showprogress for s0 in [95.0,100.0,105]    \n",
    "    bsde = BSDE(T, [s0, v0], drift, diffusion, driver, terminal);\n",
    "#### Generate 50 independent samples\n",
    "    Y0 = zeros(samples);\n",
    "    exc_start = time()\n",
    "    @showprogress for k in 1:samples\n",
    "        Y0[k] = LSMC(bsde, ba, M, N);\n",
    "    end\n",
    "    exc_stop = time()\n",
    "    elapsed_time = exc_stop-exc_start\n",
    "    print(string(\":LSMCY_0(\",s0,\", \",v0,\")=\",mean(Y0),\"/std=\",std(Y0),\". (\",elapsed_time,\" seconds)\\n\"))\n",
    "    print(\"\\n\")\n",
    "    flush(stdout)\n",
    "end"
   ]
  },
  {
   "cell_type": "code",
   "execution_count": 7,
   "id": "d1336552",
   "metadata": {},
   "outputs": [
    {
     "name": "stderr",
     "output_type": "stream",
     "text": [
      "\u001b[32mProgress: 100%|█████████████████████████████████████████| Time: 1:25:16\u001b[39m\n"
     ]
    },
    {
     "name": "stdout",
     "output_type": "stream",
     "text": [
      ":LSMCY_0(95.0, 0.4)=4.450400046372636/std=0.014021001756184844. (5116.942748069763 seconds)\n",
      "\n"
     ]
    },
    {
     "name": "stderr",
     "output_type": "stream",
     "text": [
      "\u001b[32mProgress: 100%|█████████████████████████████████████████| Time: 1:25:41\u001b[39m\n"
     ]
    },
    {
     "name": "stdout",
     "output_type": "stream",
     "text": [
      ":LSMCY_0(100.0, 0.4)=5.7897232021462495/std=0.020746976449467963. (5141.017956972122 seconds)\n",
      "\n"
     ]
    },
    {
     "name": "stderr",
     "output_type": "stream",
     "text": [
      "\u001b[32mProgress: 100%|█████████████████████████████████████████| Time: 1:25:11\u001b[39m\n"
     ]
    },
    {
     "name": "stdout",
     "output_type": "stream",
     "text": [
      ":LSMCY_0(105.0, 0.4)=5.63837802054421/std=0.02985267408385575. (5111.5640869140625 seconds)\n",
      "\n"
     ]
    },
    {
     "name": "stderr",
     "output_type": "stream",
     "text": [
      "\r",
      "\u001b[32mProgress: 100%|█████████████████████████████████████████| Time: 4:16:09\u001b[39m\n"
     ]
    }
   ],
   "source": [
    "N=7\n",
    "poly = N\n",
    "ba = (x->bases2D(x, poly))\n",
    "samples = 50;\n",
    "@showprogress for s0 in [95.0,100.0,105]    \n",
    "    bsde = BSDE(T, [s0, v0], drift, diffusion, driver, terminal);\n",
    "#### Generate 50 independent samples\n",
    "    Y0 = zeros(samples);\n",
    "    exc_start = time()\n",
    "    @showprogress for k in 1:samples\n",
    "        Y0[k] = LSMC(bsde, ba, M, N);\n",
    "    end\n",
    "    exc_stop = time()\n",
    "    elapsed_time = exc_stop-exc_start\n",
    "    print(string(\":LSMCY_0(\",s0,\", \",v0,\")=\",mean(Y0),\"/std=\",std(Y0),\". (\",elapsed_time,\" seconds)\\n\"))\n",
    "    print(\"\\n\")\n",
    "    flush(stdout)\n",
    "end"
   ]
  },
  {
   "cell_type": "code",
   "execution_count": 4,
   "id": "feec6f9b",
   "metadata": {},
   "outputs": [
    {
     "name": "stderr",
     "output_type": "stream",
     "text": [
      "\u001b[32mProgress: 100%|█████████████████████████████████████████| Time: 2:03:16\u001b[39m\n"
     ]
    },
    {
     "name": "stdout",
     "output_type": "stream",
     "text": [
      ":LSMCY_0(95.0, 0.4)=4.444755567038165/std=0.014545782052124397. (7396.037760972977 seconds)\n",
      "\n"
     ]
    },
    {
     "name": "stderr",
     "output_type": "stream",
     "text": [
      "\u001b[32mProgress: 100%|█████████████████████████████████████████| Time: 2:02:54\u001b[39m\n"
     ]
    },
    {
     "name": "stdout",
     "output_type": "stream",
     "text": [
      ":LSMCY_0(100.0, 0.4)=5.785148743797801/std=0.01955139550258841. (7374.197238922119 seconds)\n",
      "\n"
     ]
    },
    {
     "name": "stderr",
     "output_type": "stream",
     "text": [
      "\u001b[32mProgress: 100%|█████████████████████████████████████████| Time: 2:01:58\u001b[39m\n"
     ]
    },
    {
     "name": "stdout",
     "output_type": "stream",
     "text": [
      ":LSMCY_0(105.0, 0.4)=5.629258283162759/std=0.03495093357242778. (7318.980121135712 seconds)\n",
      "\n"
     ]
    },
    {
     "name": "stderr",
     "output_type": "stream",
     "text": [
      "\r",
      "\u001b[32mProgress: 100%|█████████████████████████████████████████| Time: 6:08:09\u001b[39m\n"
     ]
    }
   ],
   "source": [
    "N=8\n",
    "poly = N\n",
    "ba = (x->bases2D(x, poly))\n",
    "samples = 50;\n",
    "@showprogress for s0 in [95.0,100.0,105]    \n",
    "    bsde = BSDE(T, [s0, v0], drift, diffusion, driver, terminal);\n",
    "#### Generate 50 independent samples\n",
    "    Y0 = zeros(samples);\n",
    "    exc_start = time()\n",
    "    @showprogress for k in 1:samples\n",
    "        Y0[k] = LSMC(bsde, ba, M, N);\n",
    "    end\n",
    "    exc_stop = time()\n",
    "    elapsed_time = exc_stop-exc_start\n",
    "    print(string(\":LSMCY_0(\",s0,\", \",v0,\")=\",mean(Y0),\"/std=\",std(Y0),\". (\",elapsed_time,\" seconds)\\n\"))\n",
    "    print(\"\\n\")\n",
    "    flush(stdout)\n",
    "end"
   ]
  },
  {
   "cell_type": "code",
   "execution_count": 5,
   "id": "8a4e9b76",
   "metadata": {},
   "outputs": [
    {
     "name": "stderr",
     "output_type": "stream",
     "text": [
      "\u001b[32mProgress: 100%|█████████████████████████████████████████| Time: 2:55:05\u001b[39m\n"
     ]
    },
    {
     "name": "stdout",
     "output_type": "stream",
     "text": [
      ":LSMCY_0(95.0, 0.4)=4.4393352198291165/std=0.018057431997380698. (10505.512458086014 seconds)\n",
      "\n"
     ]
    },
    {
     "name": "stderr",
     "output_type": "stream",
     "text": [
      "\u001b[32mProgress: 100%|█████████████████████████████████████████| Time: 2:54:35\u001b[39m\n"
     ]
    },
    {
     "name": "stdout",
     "output_type": "stream",
     "text": [
      ":LSMCY_0(100.0, 0.4)=5.786427560251386/std=0.023520877777286647. (10475.728768110275 seconds)\n",
      "\n"
     ]
    },
    {
     "name": "stderr",
     "output_type": "stream",
     "text": [
      "\u001b[32mProgress: 100%|█████████████████████████████████████████| Time: 2:53:51\u001b[39m\n"
     ]
    },
    {
     "name": "stdout",
     "output_type": "stream",
     "text": [
      ":LSMCY_0(105.0, 0.4)=5.635450764821429/std=0.030646236083357658. (10431.613009929657 seconds)\n",
      "\n"
     ]
    },
    {
     "name": "stderr",
     "output_type": "stream",
     "text": [
      "\r",
      "\u001b[32mProgress: 100%|█████████████████████████████████████████| Time: 8:43:32\u001b[39m\n"
     ]
    }
   ],
   "source": [
    "N=9\n",
    "poly = N\n",
    "ba = (x->bases2D(x, poly))\n",
    "samples = 50;\n",
    "@showprogress for s0 in [95.0,100.0,105]    \n",
    "    bsde = BSDE(T, [s0, v0], drift, diffusion, driver, terminal);\n",
    "#### Generate 50 independent samples\n",
    "    Y0 = zeros(samples);\n",
    "    exc_start = time()\n",
    "    @showprogress for k in 1:samples\n",
    "        Y0[k] = LSMC(bsde, ba, M, N);\n",
    "    end\n",
    "    exc_stop = time()\n",
    "    elapsed_time = exc_stop-exc_start\n",
    "    print(string(\":LSMCY_0(\",s0,\", \",v0,\")=\",mean(Y0),\"/std=\",std(Y0),\". (\",elapsed_time,\" seconds)\\n\"))\n",
    "    print(\"\\n\")\n",
    "    flush(stdout)\n",
    "end"
   ]
  },
  {
   "cell_type": "code",
   "execution_count": null,
   "id": "657e51c5",
   "metadata": {},
   "outputs": [],
   "source": []
  }
 ],
 "metadata": {
  "@webio": {
   "lastCommId": null,
   "lastKernelId": null
  },
  "kernelspec": {
   "display_name": "Julia 1.9.1",
   "language": "julia",
   "name": "julia-1.9"
  },
  "language_info": {
   "file_extension": ".jl",
   "mimetype": "application/julia",
   "name": "julia",
   "version": "1.9.1"
  }
 },
 "nbformat": 4,
 "nbformat_minor": 5
}
