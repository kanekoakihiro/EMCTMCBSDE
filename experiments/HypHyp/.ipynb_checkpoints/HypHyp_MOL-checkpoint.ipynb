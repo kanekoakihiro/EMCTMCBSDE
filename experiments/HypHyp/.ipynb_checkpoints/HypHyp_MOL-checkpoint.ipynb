{
 "cells": [
  {
   "cell_type": "code",
   "execution_count": 1,
   "id": "535a379d",
   "metadata": {},
   "outputs": [
    {
     "data": {
      "text/plain": [
       "MethodOfLines (generic function with 1 method)"
      ]
     },
     "execution_count": 1,
     "metadata": {},
     "output_type": "execute_result"
    }
   ],
   "source": [
    "using Distributions, CSV, DataFrames, ProgressMeter\n",
    "include(\"../../utils_slv.jl\")"
   ]
  },
  {
   "cell_type": "markdown",
   "id": "e08e124b",
   "metadata": {},
   "source": [
    "### Parameters"
   ]
  },
  {
   "cell_type": "code",
   "execution_count": 2,
   "id": "0eafde0a",
   "metadata": {},
   "outputs": [],
   "source": [
    "S0 = 100.0; v0 = 0.4; ρ = 0.8; T = 1.0; b = 0.04; β = 0.25; σ₀ = 0.25; η = 0.5; α = 0.3;\n",
    "R = 0.07; r = 0.006; K1 = 95.0; K2 = 105.0;\n",
    "slvm = HypHypSLV(S0::Float64, v0::Float64, ρ::Float64, b::Float64, β::Float64, σ₀::Float64, η::Float64, α::Float64);\n",
    "Π = [1.0 ρ; ρ 1.0]; cholΠ=cholesky(Π).L\n",
    "\n",
    "drift(x) = [slvm.ω(abs(x[1]),abs(x[2])), slvm.μ(abs(x[2]))]\n",
    "diffusion(x) = Diagonal(\n",
    "        [slvm.m(abs(x[2]))*slvm.Γ(abs(x[1])), slvm.σ(abs(x[2]))]\n",
    "        )*cholΠ\n",
    "driver(t, x, y, z) = (\n",
    "    -r*max(y-z'*inv(diffusion(x))*x, 0.0)\n",
    "    -R*min(y-z'*inv(diffusion(x))*x, 0.0)\n",
    "    -z'*inv(diffusion(x))*drift(x)\n",
    ")\n",
    "terminal(x) = max(x[1]-K1,0.0)-2.0*max(x[1]-K2,0.0)\n",
    "\n",
    "bsde = BSDE(T, [S0, v0], drift, diffusion, driver, terminal);"
   ]
  },
  {
   "cell_type": "markdown",
   "id": "b79d202b",
   "metadata": {},
   "source": [
    "## Experiment"
   ]
  },
  {
   "cell_type": "code",
   "execution_count": 3,
   "id": "d1186fa9",
   "metadata": {},
   "outputs": [
    {
     "data": {
      "text/plain": [
       "6-element Vector{Vector{Any}}:\n",
       " [LawsonEuler{0, true, Val{:forward}, true, nothing}(true, 100, 0), true]\n",
       " [NorsettEuler{0, true, Val{:forward}, true, nothing}(true, 100, 0), true]\n",
       " [ETDRK2{0, true, Val{:forward}, true, nothing}(true, 100, 0), true]\n",
       " [ETDRK3{0, true, Val{:forward}, true, nothing}(true, 100, 0), true]\n",
       " [ETDRK4{0, true, Val{:forward}, true, nothing}(true, 100, 0), true]\n",
       " [HochOst4{0, true, Val{:forward}, true, nothing}(true, 100, 0), true]"
      ]
     },
     "execution_count": 3,
     "metadata": {},
     "output_type": "execute_result"
    }
   ],
   "source": [
    "Nₜs = [10, 20, 50, 100, 200]\n",
    "header = vcat([\"scheme\", \"measurement_type\"], string.(Nₜs))\n",
    "df = DataFrame([[],[],[],[],[],[],[]], header)\n",
    "schemes = [\n",
    "    [LawsonEuler(krylov=true, m=100), true],\n",
    "    [NorsettEuler(krylov=true, m=100), true],\n",
    "    [ETDRK2(krylov=true, m=100), true],\n",
    "    [ETDRK3(krylov=true, m=100), true],\n",
    "    [ETDRK4(krylov=true, m=100), true],\n",
    "    [HochOst4(krylov=true, m=100), true]\n",
    "    # [DP5(), false],\n",
    "    # [RadauIIA5(), false]\n",
    "]"
   ]
  },
  {
   "cell_type": "code",
   "execution_count": 4,
   "id": "46807dc2",
   "metadata": {},
   "outputs": [],
   "source": [
    "struct SpreadGrid <: AbstractGrid\n",
    "    grid\n",
    "    N\n",
    "    Nₗ\n",
    "    Nᵣ\n",
    "    function SpreadGrid(p1, p2)\n",
    "        grid = vcat(p1.grid[1:end-1],p2.grid)\n",
    "        new(grid, p1.N+p2.N-1, p1.N-1, p2.N-1)\n",
    "    end\n",
    "end"
   ]
  },
  {
   "cell_type": "code",
   "execution_count": 5,
   "id": "8017d9e1",
   "metadata": {},
   "outputs": [
    {
     "data": {
      "text/plain": [
       "Grid1D([0.02666666666666667, 0.05155555555555556, 0.07644444444444445, 0.10133333333333334, 0.12622222222222224, 0.1511111111111111, 0.17600000000000002, 0.2008888888888889, 0.2257777777777778, 0.2506666666666667  …  0.5493333333333335, 0.5742222222222223, 0.5991111111111111, 0.6240000000000001, 0.648888888888889, 0.6737777777777778, 0.6986666666666668, 0.7235555555555557, 0.7484444444444446, 0.7733333333333334], 31, 15, 15)"
      ]
     },
     "execution_count": 5,
     "metadata": {},
     "output_type": "execute_result"
    }
   ],
   "source": [
    "### designing grids\n",
    "domain = [[1.0, 2*bsde.X0[1]-1.0], [bsde.X0[2]/15, 2*bsde.X0[2]-bsde.X0[2]/15]];\n",
    "\n",
    "Nₗ = [100, 15]; Δₗ = (bsde.X0-[dom[1] for dom in domain])./Nₗ;\n",
    "Nᵣ = [100, 15]; Δᵣ = ([dom[2] for dom in domain]-bsde.X0)./Nᵣ;\n",
    "\n",
    "spatial_grid = Array{AbstractGrid,1}(undef, 2)\n",
    "g₁ = 1.0; g₂ = 1.0\n",
    "\n",
    "p1 = TavellaRandallGrid(g₁, g₂, domain[1][1], K1, bsde.X0[1], Nₗ[1]÷2, Nᵣ[1]÷2)\n",
    "p2 = TavellaRandallGrid(g₁, g₂, bsde.X0[1], K2, domain[1][2], Nₗ[1]÷2, Nᵣ[1]÷2)\n",
    "spatial_grid[1] = SpreadGrid(p1,p2)\n",
    "spatial_grid[2] = Grid1D(\n",
    "    vcat(domain[2][1]:Δₗ[2]:bsde.X0[2],(bsde.X0[2]+Δᵣ[2]):Δᵣ[2]:domain[2][2]),\n",
    "    Nₗ[2] + Nᵣ[2] + 1,\n",
    "    Nₗ[2],\n",
    "    Nᵣ[2]\n",
    ")"
   ]
  },
  {
   "cell_type": "code",
   "execution_count": 9,
   "id": "0d4f765c",
   "metadata": {
    "scrolled": true
   },
   "outputs": [
    {
     "name": "stderr",
     "output_type": "stream",
     "text": [
      "\u001b[32mProgress: 100%|█████████████████████████████████████████| Time: 0:08:00\u001b[39m\n",
      "\u001b[32mProgress: 100%|█████████████████████████████████████████| Time: 0:07:20\u001b[39m\n",
      "\u001b[32mProgress: 100%|█████████████████████████████████████████| Time: 0:13:57\u001b[39m\n",
      "\u001b[32mProgress: 100%|█████████████████████████████████████████| Time: 0:22:13\u001b[39m\n",
      "\u001b[32mProgress: 100%|█████████████████████████████████████████| Time: 0:35:42\u001b[39m\n",
      "\u001b[32mProgress: 100%|█████████████████████████████████████████| Time: 0:35:22\u001b[39m\n",
      "\u001b[32mProgress: 100%|█████████████████████████████████████████| Time: 2:02:37\u001b[39m\n"
     ]
    },
    {
     "data": {
      "text/plain": [
       "\"result_1031g1.csv\""
      ]
     },
     "execution_count": 9,
     "metadata": {},
     "output_type": "execute_result"
    }
   ],
   "source": [
    "d=2\n",
    "@showprogress for attr in schemes\n",
    "    abs95 = zeros(Float64, length(Nₜs)); abs100 = zeros(Float64, length(Nₜs)); \n",
    "    abs105 = zeros(Float64, length(Nₜs)); runtimes = zeros(Float64, length(Nₜs))\n",
    "    scheme = attr[1]\n",
    "    EXPINT = attr[2]\n",
    "    @showprogress for (ind, Nₜ) in enumerate(Nₜs)\n",
    "        exc_start = time()\n",
    "        res = MethodOfLines(bsde, spatial_grid, Nₜ, scheme, EXPINT)\n",
    "        exc_stop = time()\n",
    "        sol = res[1]; s_grid = res[2]; \n",
    "        \n",
    "        index = spatial_grid[1].Nₗ*spatial_grid[2].N + spatial_grid[2].Nₗ + 1\n",
    "        index_K1 = (p1.Nₗ)*spatial_grid[2].N + spatial_grid[2].Nₗ + 1\n",
    "        index_K2 = (p1.N + p2.Nₗ-1)*spatial_grid[2].N + spatial_grid[2].Nₗ + 1\n",
    "        \n",
    "        abs95[ind] = sol[index_K1,end]\n",
    "        abs100[ind] = sol[index,end]\n",
    "        abs105[ind] = sol[index_K2,end]\n",
    "        runtimes[ind] = exc_stop - exc_start\n",
    "    end\n",
    "    schemename = split(split(string(scheme), '{')[1], '(')[1]\n",
    "    row_95 = vcat([schemename, \"Y0(95,0.4)\"], string.(abs95)); push!(df,row_95);\n",
    "    row_100 = vcat([schemename, \"Y0(100,0.4)\"], string.(abs100)); push!(df,row_100);\n",
    "    row_105 = vcat([schemename, \"Y0(105,0.4)\"], string.(abs105)); push!(df,row_105);\n",
    "    row_run = vcat([schemename, \"Runtime[s]\"], string.(runtimes)); push!(df,row_run);\n",
    "end\n",
    "df |> CSV.write(string(\"result_1031g1.csv\"))"
   ]
  },
  {
   "cell_type": "code",
   "execution_count": 10,
   "id": "85cd78e6",
   "metadata": {
    "scrolled": false
   },
   "outputs": [
    {
     "data": {
      "text/html": [
       "<div><div style = \"float: left;\"><span>24×7 DataFrame</span></div><div style = \"clear: both;\"></div></div><div class = \"data-frame\" style = \"overflow-x: scroll;\"><table class = \"data-frame\" style = \"margin-bottom: 6px;\"><thead><tr class = \"header\"><th class = \"rowNumber\" style = \"font-weight: bold; text-align: right;\">Row</th><th style = \"text-align: left;\">scheme</th><th style = \"text-align: left;\">measurement_type</th><th style = \"text-align: left;\">10</th><th style = \"text-align: left;\">20</th><th style = \"text-align: left;\">50</th><th style = \"text-align: left;\">100</th><th style = \"text-align: left;\">200</th></tr><tr class = \"subheader headerLastRow\"><th class = \"rowNumber\" style = \"font-weight: bold; text-align: right;\"></th><th title = \"Any\" style = \"text-align: left;\">Any</th><th title = \"Any\" style = \"text-align: left;\">Any</th><th title = \"Any\" style = \"text-align: left;\">Any</th><th title = \"Any\" style = \"text-align: left;\">Any</th><th title = \"Any\" style = \"text-align: left;\">Any</th><th title = \"Any\" style = \"text-align: left;\">Any</th><th title = \"Any\" style = \"text-align: left;\">Any</th></tr></thead><tbody><tr><td class = \"rowNumber\" style = \"font-weight: bold; text-align: right;\">1</td><td style = \"text-align: left;\">LawsonEuler</td><td style = \"text-align: left;\">Y0(95,0.4)</td><td style = \"text-align: left;\">4.568866857352033</td><td style = \"text-align: left;\">4.4823776645810955</td><td style = \"text-align: left;\">4.4358266517467575</td><td style = \"text-align: left;\">4.420437748153691</td><td style = \"text-align: left;\">4.412764346115497</td></tr><tr><td class = \"rowNumber\" style = \"font-weight: bold; text-align: right;\">2</td><td style = \"text-align: left;\">LawsonEuler</td><td style = \"text-align: left;\">Y0(100,0.4)</td><td style = \"text-align: left;\">6.117624123505274</td><td style = \"text-align: left;\">5.960530775848134</td><td style = \"text-align: left;\">5.876435710403158</td><td style = \"text-align: left;\">5.848683979401374</td><td style = \"text-align: left;\">5.8348444489628</td></tr><tr><td class = \"rowNumber\" style = \"font-weight: bold; text-align: right;\">3</td><td style = \"text-align: left;\">LawsonEuler</td><td style = \"text-align: left;\">Y0(105,0.4)</td><td style = \"text-align: left;\">5.934527185319655</td><td style = \"text-align: left;\">5.777553535585985</td><td style = \"text-align: left;\">5.694110443932705</td><td style = \"text-align: left;\">5.666619673182807</td><td style = \"text-align: left;\">5.652913215801796</td></tr><tr><td class = \"rowNumber\" style = \"font-weight: bold; text-align: right;\">4</td><td style = \"text-align: left;\">LawsonEuler</td><td style = \"text-align: left;\">Runtime[s]</td><td style = \"text-align: left;\">16.29758906364441</td><td style = \"text-align: left;\">26.72752594947815</td><td style = \"text-align: left;\">63.941617012023926</td><td style = \"text-align: left;\">121.85946798324585</td><td style = \"text-align: left;\">251.1486759185791</td></tr><tr><td class = \"rowNumber\" style = \"font-weight: bold; text-align: right;\">5</td><td style = \"text-align: left;\">NorsettEuler</td><td style = \"text-align: left;\">Y0(95,0.4)</td><td style = \"text-align: left;\">4.5486249741079865</td><td style = \"text-align: left;\">4.477514833242555</td><td style = \"text-align: left;\">4.433334133872664</td><td style = \"text-align: left;\">4.419024826556065</td><td style = \"text-align: left;\">4.412007145296812</td></tr><tr><td class = \"rowNumber\" style = \"font-weight: bold; text-align: right;\">6</td><td style = \"text-align: left;\">NorsettEuler</td><td style = \"text-align: left;\">Y0(100,0.4)</td><td style = \"text-align: left;\">5.99220330231646</td><td style = \"text-align: left;\">5.903638572792302</td><td style = \"text-align: left;\">5.85274804700738</td><td style = \"text-align: left;\">5.836574294734553</td><td style = \"text-align: left;\">5.828705235026495</td></tr><tr><td class = \"rowNumber\" style = \"font-weight: bold; text-align: right;\">7</td><td style = \"text-align: left;\">NorsettEuler</td><td style = \"text-align: left;\">Y0(105,0.4)</td><td style = \"text-align: left;\">5.784307358088395</td><td style = \"text-align: left;\">5.708106949215157</td><td style = \"text-align: left;\">5.665510662672332</td><td style = \"text-align: left;\">5.652070581012217</td><td style = \"text-align: left;\">5.645558942298549</td></tr><tr><td class = \"rowNumber\" style = \"font-weight: bold; text-align: right;\">8</td><td style = \"text-align: left;\">NorsettEuler</td><td style = \"text-align: left;\">Runtime[s]</td><td style = \"text-align: left;\">14.216061115264893</td><td style = \"text-align: left;\">24.54523992538452</td><td style = \"text-align: left;\">57.91890597343445</td><td style = \"text-align: left;\">111.82943487167358</td><td style = \"text-align: left;\">232.02599811553955</td></tr><tr><td class = \"rowNumber\" style = \"font-weight: bold; text-align: right;\">9</td><td style = \"text-align: left;\">ETDRK2</td><td style = \"text-align: left;\">Y0(95,0.4)</td><td style = \"text-align: left;\">4.414984596665732</td><td style = \"text-align: left;\">4.410347790986888</td><td style = \"text-align: left;\">4.4064590160274175</td><td style = \"text-align: left;\">4.405587319790045</td><td style = \"text-align: left;\">4.405288421959524</td></tr><tr><td class = \"rowNumber\" style = \"font-weight: bold; text-align: right;\">10</td><td style = \"text-align: left;\">ETDRK2</td><td style = \"text-align: left;\">Y0(100,0.4)</td><td style = \"text-align: left;\">5.842339851275588</td><td style = \"text-align: left;\">5.828995715203513</td><td style = \"text-align: left;\">5.822989519103233</td><td style = \"text-align: left;\">5.82171161171003</td><td style = \"text-align: left;\">5.821277876307833</td></tr><tr><td class = \"rowNumber\" style = \"font-weight: bold; text-align: right;\">11</td><td style = \"text-align: left;\">ETDRK2</td><td style = \"text-align: left;\">Y0(105,0.4)</td><td style = \"text-align: left;\">5.664110776299721</td><td style = \"text-align: left;\">5.6476572562305485</td><td style = \"text-align: left;\">5.641268098869834</td><td style = \"text-align: left;\">5.639939397054439</td><td style = \"text-align: left;\">5.639491045205529</td></tr><tr><td class = \"rowNumber\" style = \"font-weight: bold; text-align: right;\">12</td><td style = \"text-align: left;\">ETDRK2</td><td style = \"text-align: left;\">Runtime[s]</td><td style = \"text-align: left;\">25.275984048843384</td><td style = \"text-align: left;\">45.94593000411987</td><td style = \"text-align: left;\">115.02431416511536</td><td style = \"text-align: left;\">223.63514494895935</td><td style = \"text-align: left;\">427.98233294487</td></tr><tr><td class = \"rowNumber\" style = \"font-weight: bold; text-align: right;\">13</td><td style = \"text-align: left;\">ETDRK3</td><td style = \"text-align: left;\">Y0(95,0.4)</td><td style = \"text-align: left;\">4.401711681573227</td><td style = \"text-align: left;\">4.405646967681058</td><td style = \"text-align: left;\">4.405303667817936</td><td style = \"text-align: left;\">4.40519024104283</td><td style = \"text-align: left;\">4.40515283780599</td></tr><tr><td class = \"rowNumber\" style = \"font-weight: bold; text-align: right;\">14</td><td style = \"text-align: left;\">ETDRK3</td><td style = \"text-align: left;\">Y0(100,0.4)</td><td style = \"text-align: left;\">5.822496853219874</td><td style = \"text-align: left;\">5.822029498634128</td><td style = \"text-align: left;\">5.821297229268936</td><td style = \"text-align: left;\">5.821135658074126</td><td style = \"text-align: left;\">5.821083638274541</td></tr><tr><td class = \"rowNumber\" style = \"font-weight: bold; text-align: right;\">15</td><td style = \"text-align: left;\">ETDRK3</td><td style = \"text-align: left;\">Y0(105,0.4)</td><td style = \"text-align: left;\">5.643191534542689</td><td style = \"text-align: left;\">5.640348526998886</td><td style = \"text-align: left;\">5.639508208416763</td><td style = \"text-align: left;\">5.639344055700371</td><td style = \"text-align: left;\">5.639292105660618</td></tr><tr><td class = \"rowNumber\" style = \"font-weight: bold; text-align: right;\">16</td><td style = \"text-align: left;\">ETDRK3</td><td style = \"text-align: left;\">Runtime[s]</td><td style = \"text-align: left;\">39.27185392379761</td><td style = \"text-align: left;\">73.73002099990845</td><td style = \"text-align: left;\">173.25978803634644</td><td style = \"text-align: left;\">342.7664051055908</td><td style = \"text-align: left;\">704.0430819988251</td></tr><tr><td class = \"rowNumber\" style = \"font-weight: bold; text-align: right;\">17</td><td style = \"text-align: left;\">ETDRK4</td><td style = \"text-align: left;\">Y0(95,0.4)</td><td style = \"text-align: left;\">4.401447795322716</td><td style = \"text-align: left;\">4.405582387035224</td><td style = \"text-align: left;\">4.405295130625398</td><td style = \"text-align: left;\">4.405188490128238</td><td style = \"text-align: left;\">4.405152514218182</td></tr><tr><td class = \"rowNumber\" style = \"font-weight: bold; text-align: right;\">18</td><td style = \"text-align: left;\">ETDRK4</td><td style = \"text-align: left;\">Y0(100,0.4)</td><td style = \"text-align: left;\">5.822174060004077</td><td style = \"text-align: left;\">5.8219318521051875</td><td style = \"text-align: left;\">5.821284292986103</td><td style = \"text-align: left;\">5.821133013085366</td><td style = \"text-align: left;\">5.821083173020113</td></tr><tr><td class = \"rowNumber\" style = \"font-weight: bold; text-align: right;\">19</td><td style = \"text-align: left;\">ETDRK4</td><td style = \"text-align: left;\">Y0(105,0.4)</td><td style = \"text-align: left;\">5.642973546249731</td><td style = \"text-align: left;\">5.640258330782888</td><td style = \"text-align: left;\">5.639495579655486</td><td style = \"text-align: left;\">5.639341445618326</td><td style = \"text-align: left;\">5.639291665399351</td></tr><tr><td class = \"rowNumber\" style = \"font-weight: bold; text-align: right;\">20</td><td style = \"text-align: left;\">ETDRK4</td><td style = \"text-align: left;\">Runtime[s]</td><td style = \"text-align: left;\">58.6729199886322</td><td style = \"text-align: left;\">115.16454100608826</td><td style = \"text-align: left;\">292.37147092819214</td><td style = \"text-align: left;\">562.7540669441223</td><td style = \"text-align: left;\">1113.8108780384064</td></tr><tr><td class = \"rowNumber\" style = \"font-weight: bold; text-align: right;\">21</td><td style = \"text-align: left;\">HochOst4</td><td style = \"text-align: left;\">Y0(95,0.4)</td><td style = \"text-align: left;\">4.401469630234858</td><td style = \"text-align: left;\">4.405590237616024</td><td style = \"text-align: left;\">4.405296335176309</td><td style = \"text-align: left;\">4.405188810498648</td><td style = \"text-align: left;\">4.405152589545693</td></tr><tr><td class = \"rowNumber\" style = \"font-weight: bold; text-align: right;\">22</td><td style = \"text-align: left;\">HochOst4</td><td style = \"text-align: left;\">Y0(100,0.4)</td><td style = \"text-align: left;\">5.82209117804418</td><td style = \"text-align: left;\">5.821939092411915</td><td style = \"text-align: left;\">5.821286120684983</td><td style = \"text-align: left;\">5.821133493721526</td><td style = \"text-align: left;\">5.821083308346886</td></tr><tr><td class = \"rowNumber\" style = \"font-weight: bold; text-align: right;\">23</td><td style = \"text-align: left;\">HochOst4</td><td style = \"text-align: left;\">Y0(105,0.4)</td><td style = \"text-align: left;\">5.642838378673538</td><td style = \"text-align: left;\">5.640263346092812</td><td style = \"text-align: left;\">5.639497511127216</td><td style = \"text-align: left;\">5.63934194158539</td><td style = \"text-align: left;\">5.639291826783516</td></tr><tr><td class = \"rowNumber\" style = \"font-weight: bold; text-align: right;\">24</td><td style = \"text-align: left;\">HochOst4</td><td style = \"text-align: left;\">Runtime[s]</td><td style = \"text-align: left;\">56.55783295631409</td><td style = \"text-align: left;\">107.30471801757812</td><td style = \"text-align: left;\">271.268474817276</td><td style = \"text-align: left;\">564.2984058856964</td><td style = \"text-align: left;\">1123.0640890598297</td></tr></tbody></table></div>"
      ],
      "text/latex": [
       "\\begin{tabular}{r|cccccc}\n",
       "\t& scheme & measurement\\_type & 10 & 20 & 50 & \\\\\n",
       "\t\\hline\n",
       "\t& Any & Any & Any & Any & Any & \\\\\n",
       "\t\\hline\n",
       "\t1 & LawsonEuler & Y0(95,0.4) & 4.568866857352033 & 4.4823776645810955 & 4.4358266517467575 & $\\dots$ \\\\\n",
       "\t2 & LawsonEuler & Y0(100,0.4) & 6.117624123505274 & 5.960530775848134 & 5.876435710403158 & $\\dots$ \\\\\n",
       "\t3 & LawsonEuler & Y0(105,0.4) & 5.934527185319655 & 5.777553535585985 & 5.694110443932705 & $\\dots$ \\\\\n",
       "\t4 & LawsonEuler & Runtime[s] & 16.29758906364441 & 26.72752594947815 & 63.941617012023926 & $\\dots$ \\\\\n",
       "\t5 & NorsettEuler & Y0(95,0.4) & 4.5486249741079865 & 4.477514833242555 & 4.433334133872664 & $\\dots$ \\\\\n",
       "\t6 & NorsettEuler & Y0(100,0.4) & 5.99220330231646 & 5.903638572792302 & 5.85274804700738 & $\\dots$ \\\\\n",
       "\t7 & NorsettEuler & Y0(105,0.4) & 5.784307358088395 & 5.708106949215157 & 5.665510662672332 & $\\dots$ \\\\\n",
       "\t8 & NorsettEuler & Runtime[s] & 14.216061115264893 & 24.54523992538452 & 57.91890597343445 & $\\dots$ \\\\\n",
       "\t9 & ETDRK2 & Y0(95,0.4) & 4.414984596665732 & 4.410347790986888 & 4.4064590160274175 & $\\dots$ \\\\\n",
       "\t10 & ETDRK2 & Y0(100,0.4) & 5.842339851275588 & 5.828995715203513 & 5.822989519103233 & $\\dots$ \\\\\n",
       "\t11 & ETDRK2 & Y0(105,0.4) & 5.664110776299721 & 5.6476572562305485 & 5.641268098869834 & $\\dots$ \\\\\n",
       "\t12 & ETDRK2 & Runtime[s] & 25.275984048843384 & 45.94593000411987 & 115.02431416511536 & $\\dots$ \\\\\n",
       "\t13 & ETDRK3 & Y0(95,0.4) & 4.401711681573227 & 4.405646967681058 & 4.405303667817936 & $\\dots$ \\\\\n",
       "\t14 & ETDRK3 & Y0(100,0.4) & 5.822496853219874 & 5.822029498634128 & 5.821297229268936 & $\\dots$ \\\\\n",
       "\t15 & ETDRK3 & Y0(105,0.4) & 5.643191534542689 & 5.640348526998886 & 5.639508208416763 & $\\dots$ \\\\\n",
       "\t16 & ETDRK3 & Runtime[s] & 39.27185392379761 & 73.73002099990845 & 173.25978803634644 & $\\dots$ \\\\\n",
       "\t17 & ETDRK4 & Y0(95,0.4) & 4.401447795322716 & 4.405582387035224 & 4.405295130625398 & $\\dots$ \\\\\n",
       "\t18 & ETDRK4 & Y0(100,0.4) & 5.822174060004077 & 5.8219318521051875 & 5.821284292986103 & $\\dots$ \\\\\n",
       "\t19 & ETDRK4 & Y0(105,0.4) & 5.642973546249731 & 5.640258330782888 & 5.639495579655486 & $\\dots$ \\\\\n",
       "\t20 & ETDRK4 & Runtime[s] & 58.6729199886322 & 115.16454100608826 & 292.37147092819214 & $\\dots$ \\\\\n",
       "\t21 & HochOst4 & Y0(95,0.4) & 4.401469630234858 & 4.405590237616024 & 4.405296335176309 & $\\dots$ \\\\\n",
       "\t22 & HochOst4 & Y0(100,0.4) & 5.82209117804418 & 5.821939092411915 & 5.821286120684983 & $\\dots$ \\\\\n",
       "\t23 & HochOst4 & Y0(105,0.4) & 5.642838378673538 & 5.640263346092812 & 5.639497511127216 & $\\dots$ \\\\\n",
       "\t24 & HochOst4 & Runtime[s] & 56.55783295631409 & 107.30471801757812 & 271.268474817276 & $\\dots$ \\\\\n",
       "\\end{tabular}\n"
      ],
      "text/plain": [
       "\u001b[1m24×7 DataFrame\u001b[0m\n",
       "\u001b[1m Row \u001b[0m│\u001b[1m scheme       \u001b[0m\u001b[1m measurement_type \u001b[0m\u001b[1m 10                 \u001b[0m\u001b[1m 20                 \u001b[0m\u001b[1m\u001b[0m ⋯\n",
       "     │\u001b[90m Any          \u001b[0m\u001b[90m Any              \u001b[0m\u001b[90m Any                \u001b[0m\u001b[90m Any                \u001b[0m\u001b[90m\u001b[0m ⋯\n",
       "─────┼──────────────────────────────────────────────────────────────────────────\n",
       "   1 │ LawsonEuler   Y0(95,0.4)        4.568866857352033   4.4823776645810955  ⋯\n",
       "   2 │ LawsonEuler   Y0(100,0.4)       6.117624123505274   5.960530775848134\n",
       "   3 │ LawsonEuler   Y0(105,0.4)       5.934527185319655   5.777553535585985\n",
       "   4 │ LawsonEuler   Runtime[s]        16.29758906364441   26.72752594947815\n",
       "   5 │ NorsettEuler  Y0(95,0.4)        4.5486249741079865  4.477514833242555   ⋯\n",
       "   6 │ NorsettEuler  Y0(100,0.4)       5.99220330231646    5.903638572792302\n",
       "   7 │ NorsettEuler  Y0(105,0.4)       5.784307358088395   5.708106949215157\n",
       "   8 │ NorsettEuler  Runtime[s]        14.216061115264893  24.54523992538452\n",
       "   9 │ ETDRK2        Y0(95,0.4)        4.414984596665732   4.410347790986888   ⋯\n",
       "  10 │ ETDRK2        Y0(100,0.4)       5.842339851275588   5.828995715203513\n",
       "  11 │ ETDRK2        Y0(105,0.4)       5.664110776299721   5.6476572562305485\n",
       "  ⋮  │      ⋮               ⋮                  ⋮                   ⋮           ⋱\n",
       "  15 │ ETDRK3        Y0(105,0.4)       5.643191534542689   5.640348526998886\n",
       "  16 │ ETDRK3        Runtime[s]        39.27185392379761   73.73002099990845   ⋯\n",
       "  17 │ ETDRK4        Y0(95,0.4)        4.401447795322716   4.405582387035224\n",
       "  18 │ ETDRK4        Y0(100,0.4)       5.822174060004077   5.8219318521051875\n",
       "  19 │ ETDRK4        Y0(105,0.4)       5.642973546249731   5.640258330782888\n",
       "  20 │ ETDRK4        Runtime[s]        58.6729199886322    115.16454100608826  ⋯\n",
       "  21 │ HochOst4      Y0(95,0.4)        4.401469630234858   4.405590237616024\n",
       "  22 │ HochOst4      Y0(100,0.4)       5.82209117804418    5.821939092411915\n",
       "  23 │ HochOst4      Y0(105,0.4)       5.642838378673538   5.640263346092812\n",
       "  24 │ HochOst4      Runtime[s]        56.55783295631409   107.30471801757812  ⋯\n",
       "\u001b[36m                                                    3 columns and 3 rows omitted\u001b[0m"
      ]
     },
     "execution_count": 10,
     "metadata": {},
     "output_type": "execute_result"
    }
   ],
   "source": [
    "df"
   ]
  },
  {
   "cell_type": "code",
   "execution_count": null,
   "id": "1d158b37",
   "metadata": {},
   "outputs": [],
   "source": []
  }
 ],
 "metadata": {
  "@webio": {
   "lastCommId": null,
   "lastKernelId": null
  },
  "kernelspec": {
   "display_name": "Julia 1.9.1",
   "language": "julia",
   "name": "julia-1.9"
  },
  "language_info": {
   "file_extension": ".jl",
   "mimetype": "application/julia",
   "name": "julia",
   "version": "1.9.1"
  }
 },
 "nbformat": 4,
 "nbformat_minor": 5
}
