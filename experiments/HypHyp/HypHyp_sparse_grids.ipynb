{
 "cells": [
  {
   "cell_type": "code",
   "execution_count": 1,
   "id": "535a379d",
   "metadata": {},
   "outputs": [],
   "source": [
    "using Distributions, CSV, DataFrames, ProgressMeter\n",
    "include(\"../../utils_sg.jl\")"
   ]
  },
  {
   "cell_type": "markdown",
   "id": "e08e124b",
   "metadata": {},
   "source": [
    "### Parameters"
   ]
  },
  {
   "cell_type": "code",
   "execution_count": 2,
   "id": "0eafde0a",
   "metadata": {},
   "outputs": [],
   "source": [
    "S0 = 100.0; v0 = 0.4; ρ = 0.8; T = 1.0; b = 0.04; β = 0.25; σ₀ = 0.25; η = 0.5; α = 0.3;\n",
    "R = 0.07; r = 0.006; K1 = 95.0; K2 = 105.0;\n",
    "slvm = HypHypSLV(S0::Float64, v0::Float64, ρ::Float64, b::Float64, β::Float64, σ₀::Float64, η::Float64, α::Float64);\n",
    "Π = [1.0 ρ; ρ 1.0]; cholΠ=cholesky(Π).L\n",
    "\n",
    "drift(x) = [slvm.ω(abs(x[1]),abs(x[2])), slvm.μ(abs(x[2]))]\n",
    "diffusion(x) = Diagonal(\n",
    "        [slvm.m(abs(x[2]))*slvm.Γ(abs(x[1])), slvm.σ(abs(x[2]))]\n",
    "        )*cholΠ\n",
    "driver(t, x, y, z) = (\n",
    "    -r*max(y-z'*inv(diffusion(x))*x, 0.0)\n",
    "    -R*min(y-z'*inv(diffusion(x))*x, 0.0)\n",
    "    -z'*inv(diffusion(x))*drift(x)\n",
    ")\n",
    "terminal(x) = max(x[1]-K1,0.0)-2.0*max(x[1]-K2,0.0)\n",
    "\n",
    "\n",
    "bsde = BSDE(T, [S0, v0], drift, diffusion, driver, terminal);"
   ]
  },
  {
   "cell_type": "markdown",
   "id": "b79d202b",
   "metadata": {},
   "source": [
    "## Experiment"
   ]
  },
  {
   "cell_type": "code",
   "execution_count": 3,
   "id": "d1186fa9",
   "metadata": {},
   "outputs": [
    {
     "data": {
      "text/plain": [
       "7-element Vector{Vector{Any}}:\n",
       " [HochOst4{0, true, Val{:forward}, true, nothing}(true, 100, 0), true]\n",
       " [LawsonEuler{0, true, Val{:forward}, true, nothing}(true, 100, 0), true]\n",
       " [NorsettEuler{0, true, Val{:forward}, true, nothing}(true, 100, 0), true]\n",
       " [ETDRK2{0, true, Val{:forward}, true, nothing}(true, 100, 0), true]\n",
       " [ETDRK3{0, true, Val{:forward}, true, nothing}(true, 100, 0), true]\n",
       " [ETDRK4{0, true, Val{:forward}, true, nothing}(true, 100, 0), true]\n",
       " [HochOst4{0, true, Val{:forward}, true, nothing}(true, 100, 0), true]"
      ]
     },
     "execution_count": 3,
     "metadata": {},
     "output_type": "execute_result"
    }
   ],
   "source": [
    "Nₜs = [10, 20, 50, 100, 200, 500]\n",
    "header = vcat([\"scheme\", \"measurement_type\"], string.(Nₜs))\n",
    "schemes = [\n",
    "    [HochOst4(krylov=true, m=100), true],\n",
    "    [LawsonEuler(krylov=true, m=100), true],\n",
    "    [NorsettEuler(krylov=true, m=100), true],\n",
    "    [ETDRK2(krylov=true, m=100), true],\n",
    "    [ETDRK3(krylov=true, m=100), true],\n",
    "    [ETDRK4(krylov=true, m=100), true],\n",
    "    [HochOst4(krylov=true, m=100), true]\n",
    "    # [DP5(), false],\n",
    "    # [RadauIIA5(), false]\n",
    "]"
   ]
  },
  {
   "cell_type": "code",
   "execution_count": 4,
   "id": "8017d9e1",
   "metadata": {},
   "outputs": [],
   "source": [
    "### designing grids\n",
    "d = 2\n",
    "### Parameters for Tavella-Randall grids\n",
    "g = 5.0\n",
    "g₁=g\n",
    "g₂=g\n",
    "\n",
    "lefts = [bsde.X0[1]/100, bsde.X0[2]/15];\n",
    "rights = [2*bsde.X0[1], 2*bsde.X0[2]].-lefts;\n",
    "centers = [100.0, 0.4];"
   ]
  },
  {
   "cell_type": "code",
   "execution_count": 5,
   "id": "ab6052bb",
   "metadata": {},
   "outputs": [
    {
     "data": {
      "text/plain": [
       "solveProb (generic function with 1 method)"
      ]
     },
     "execution_count": 5,
     "metadata": {},
     "output_type": "execute_result"
    }
   ],
   "source": [
    "function solveProb(mind, bsde, Nₜ, scheme)\n",
    "    d = length(mind)\n",
    "    scaled_centers=(centers.-(rights.+lefts)./2.0)./((rights.-lefts)./2.0);\n",
    "    _p = [rescale(eq_nodes(mind[dim]), scaled_centers[dim], lefts[dim], rights[dim]) for dim in 1:d]\n",
    "    Δₗ = [pp[2]-pp[1] for pp in _p]\n",
    "    Δᵣ = [pp[end]-pp[end-1] for pp in _p]\n",
    "    Nₗ = [length(pp)÷2 for pp in _p]\n",
    "    Nᵣ = [length(pp)÷2 for pp in _p]\n",
    "\n",
    "    ratioₗ = Δₗ.*Nₗ./(Δₗ[1]*Nₗ[1])\n",
    "    ratioᵣ = Δᵣ.*Nᵣ./(Δᵣ[1]*Nᵣ[1])\n",
    "    grids = Array{AbstractGrid,1}(undef, d)\n",
    "    grids[1] = TavellaRandallGrid(g₁, g₂, _p[1][1], _p[1][length(_p[1])÷2+1], _p[1][end], length(_p[1])÷2, length(_p[1])÷2)\n",
    "    grids[2] = Grid1D(_p[2], length(_p[2]), length(_p[2])÷2, length(_p[2])÷2)\n",
    "    res = MethodOfLines(bsde, grids, Nₜ, scheme, true)\n",
    "    return [res[1], grids]\n",
    "end"
   ]
  },
  {
   "cell_type": "code",
   "execution_count": 6,
   "id": "0d4f765c",
   "metadata": {
    "scrolled": true
   },
   "outputs": [
    {
     "name": "stdout",
     "output_type": "stream",
     "text": [
      "q=7:\n",
      "Nₜ=10:\n",
      "Y0(95,0.4)=4.408377665236383:\n",
      "Y0(100,0.4)=5.813014880386875:\n",
      "Y0(105,0.4)=5.622148911457231:\n",
      "Runtime[s]=10.617328882217407:\n",
      "Nₜ=20:\n",
      "Y0(95,0.4)=4.408076159362286:\n",
      "Y0(100,0.4)=5.812748504212447:\n",
      "Y0(105,0.4)=5.621883270362696:\n",
      "Runtime[s]=2.588628053665161:\n"
     ]
    },
    {
     "name": "stderr",
     "output_type": "stream",
     "text": [
      "\r",
      "\u001b[32mProgress:  33%|█████████████▋                           |  ETA: 0:00:27\u001b[39m"
     ]
    },
    {
     "name": "stdout",
     "output_type": "stream",
     "text": [
      "Nₜ=50:\n",
      "Y0(95,0.4)=4.408004921772568:\n",
      "Y0(100,0.4)=5.812673572330828:\n",
      "Y0(105,0.4)=5.6218107501694305:\n",
      "Runtime[s]=5.963331937789917:\n"
     ]
    },
    {
     "name": "stderr",
     "output_type": "stream",
     "text": [
      "\r",
      "\u001b[32mProgress:  50%|████████████████████▌                    |  ETA: 0:00:20\u001b[39m"
     ]
    },
    {
     "name": "stdout",
     "output_type": "stream",
     "text": [
      "Nₜ=100:\n",
      "Y0(95,0.4)=4.408004272222177:\n",
      "Y0(100,0.4)=5.812682570668816:\n",
      "Y0(105,0.4)=5.621816640167103:\n",
      "Runtime[s]=11.494948148727417:\n"
     ]
    },
    {
     "name": "stderr",
     "output_type": "stream",
     "text": [
      "\r",
      "\u001b[32mProgress:  67%|███████████████████████████▍             |  ETA: 0:00:16\u001b[39m"
     ]
    },
    {
     "name": "stdout",
     "output_type": "stream",
     "text": [
      "Nₜ=200:\n",
      "Y0(95,0.4)=4.408005606519561:\n",
      "Y0(100,0.4)=5.812683067225194:\n",
      "Y0(105,0.4)=5.621816985570447:\n",
      "Runtime[s]=22.60066509246826:\n"
     ]
    },
    {
     "name": "stderr",
     "output_type": "stream",
     "text": [
      "\r",
      "\u001b[32mProgress:  83%|██████████████████████████████████▏      |  ETA: 0:00:11\u001b[39m"
     ]
    },
    {
     "name": "stdout",
     "output_type": "stream",
     "text": [
      "Nₜ=500:\n",
      "Y0(95,0.4)=4.4080052123005435:\n",
      "Y0(100,0.4)=5.812682422921387:\n",
      "Y0(105,0.4)=5.621816653411641:\n",
      "Runtime[s]=56.017112016677856:\n"
     ]
    },
    {
     "name": "stderr",
     "output_type": "stream",
     "text": [
      "\r",
      "\u001b[32mProgress: 100%|█████████████████████████████████████████| Time: 0:01:49\u001b[39m\n"
     ]
    },
    {
     "name": "stdout",
     "output_type": "stream",
     "text": [
      "q=8:\n",
      "Nₜ=10:\n",
      "Y0(95,0.4)=4.408200244228611:\n",
      "Y0(100,0.4)=5.819066649204499:\n",
      "Y0(105,0.4)=5.633699199448202:\n",
      "Runtime[s]=3.348814010620117:\n",
      "Nₜ=20:\n",
      "Y0(95,0.4)=4.407296703169065:\n",
      "Y0(100,0.4)=5.817786126064894:\n",
      "Y0(105,0.4)=5.632473315987381:\n",
      "Runtime[s]=4.795957088470459:\n"
     ]
    },
    {
     "name": "stderr",
     "output_type": "stream",
     "text": [
      "\r",
      "\u001b[32mProgress:  33%|█████████████▋                           |  ETA: 0:00:16\u001b[39m"
     ]
    },
    {
     "name": "stdout",
     "output_type": "stream",
     "text": [
      "Nₜ=50:\n",
      "Y0(95,0.4)=4.4070151036755085:\n",
      "Y0(100,0.4)=5.8174408019657164:\n",
      "Y0(105,0.4)=5.632157228108323:\n",
      "Runtime[s]=11.480890035629272:\n"
     ]
    },
    {
     "name": "stderr",
     "output_type": "stream",
     "text": [
      "\r",
      "\u001b[32mProgress:  50%|████████████████████▌                    |  ETA: 0:00:20\u001b[39m"
     ]
    },
    {
     "name": "stdout",
     "output_type": "stream",
     "text": [
      "Nₜ=100:\n",
      "Y0(95,0.4)=4.406990505209247:\n",
      "Y0(100,0.4)=5.817392848925624:\n",
      "Y0(105,0.4)=5.632118439761605:\n",
      "Runtime[s]=22.411744832992554:\n"
     ]
    },
    {
     "name": "stderr",
     "output_type": "stream",
     "text": [
      "\r",
      "\u001b[32mProgress:  67%|███████████████████████████▍             |  ETA: 0:00:21\u001b[39m"
     ]
    },
    {
     "name": "stdout",
     "output_type": "stream",
     "text": [
      "Nₜ=200:\n",
      "Y0(95,0.4)=4.406986647860027:\n",
      "Y0(100,0.4)=5.81738916478294:\n",
      "Y0(105,0.4)=5.632114647274356:\n",
      "Runtime[s]=43.96010684967041:\n"
     ]
    },
    {
     "name": "stderr",
     "output_type": "stream",
     "text": [
      "\r",
      "\u001b[32mProgress:  83%|██████████████████████████████████▏      |  ETA: 0:00:17\u001b[39m"
     ]
    },
    {
     "name": "stdout",
     "output_type": "stream",
     "text": [
      "Nₜ=500:\n",
      "Y0(95,0.4)=4.406986063708327:\n",
      "Y0(100,0.4)=5.817389206620583:\n",
      "Y0(105,0.4)=5.632114635110108:\n",
      "Runtime[s]=107.99592089653015:\n"
     ]
    },
    {
     "name": "stderr",
     "output_type": "stream",
     "text": [
      "\u001b[32mProgress: 100%|█████████████████████████████████████████| Time: 0:03:13\u001b[39m\n",
      "\u001b[32mProgress:  50%|████████████████████▌                    |  ETA: 0:05:04\u001b[39m"
     ]
    },
    {
     "name": "stdout",
     "output_type": "stream",
     "text": [
      "q=9:\n",
      "Nₜ=10:\n",
      "Y0(95,0.4)=4.406987852040961:\n",
      "Y0(100,0.4)=5.821480660542363:\n",
      "Y0(105,0.4)=5.63813806810192:\n",
      "Runtime[s]=6.9492199420928955:\n",
      "Nₜ=20:\n",
      "Y0(95,0.4)=4.4058857109669995:\n",
      "Y0(100,0.4)=5.819945113046066:\n",
      "Y0(105,0.4)=5.636611141854978:\n",
      "Runtime[s]=9.59272289276123:\n"
     ]
    },
    {
     "name": "stderr",
     "output_type": "stream",
     "text": [
      "\r",
      "\u001b[32mProgress:  33%|█████████████▋                           |  ETA: 0:00:33\u001b[39m"
     ]
    },
    {
     "name": "stdout",
     "output_type": "stream",
     "text": [
      "Nₜ=50:\n",
      "Y0(95,0.4)=4.4054829597991105:\n",
      "Y0(100,0.4)=5.819373791265197:\n",
      "Y0(105,0.4)=5.636059801018094:\n",
      "Runtime[s]=23.01658606529236:\n"
     ]
    },
    {
     "name": "stderr",
     "output_type": "stream",
     "text": [
      "\r",
      "\u001b[32mProgress:  50%|████████████████████▌                    |  ETA: 0:00:40\u001b[39m"
     ]
    },
    {
     "name": "stdout",
     "output_type": "stream",
     "text": [
      "Nₜ=100:\n",
      "Y0(95,0.4)=4.405424508102897:\n",
      "Y0(100,0.4)=5.819294120441411:\n",
      "Y0(105,0.4)=5.6359791138721285:\n",
      "Runtime[s]=45.38296914100647:\n"
     ]
    },
    {
     "name": "stderr",
     "output_type": "stream",
     "text": [
      "\r",
      "\u001b[32mProgress:  67%|███████████████████████████▍             |  ETA: 0:00:42\u001b[39m"
     ]
    },
    {
     "name": "stdout",
     "output_type": "stream",
     "text": [
      "Nₜ=200:\n",
      "Y0(95,0.4)=4.405407235825632:\n",
      "Y0(100,0.4)=5.819273073095275:\n",
      "Y0(105,0.4)=5.635962240447334:\n",
      "Runtime[s]=89.45939517021179:\n"
     ]
    },
    {
     "name": "stderr",
     "output_type": "stream",
     "text": [
      "\r",
      "\u001b[32mProgress:  83%|██████████████████████████████████▏      |  ETA: 0:00:35\u001b[39m"
     ]
    },
    {
     "name": "stdout",
     "output_type": "stream",
     "text": [
      "Nₜ=500:\n",
      "Y0(95,0.4)=4.405403480965642:\n",
      "Y0(100,0.4)=5.819268417903556:\n",
      "Y0(105,0.4)=5.635958383060096:\n",
      "Runtime[s]=219.63687109947205:\n"
     ]
    },
    {
     "name": "stderr",
     "output_type": "stream",
     "text": [
      "\u001b[32mProgress: 100%|█████████████████████████████████████████| Time: 0:06:34\u001b[39m\n",
      "\u001b[32mProgress:  75%|██████████████████████████████▊          |  ETA: 0:03:53\u001b[39m"
     ]
    },
    {
     "name": "stdout",
     "output_type": "stream",
     "text": [
      "q=10:\n",
      "Nₜ=10:\n",
      "Y0(95,0.4)=4.406208756952719:\n",
      "Y0(100,0.4)=5.822282251551099:\n",
      "Y0(105,0.4)=5.6396753605988375:\n",
      "Runtime[s]=18.42017102241516:\n",
      "Nₜ=20:\n",
      "Y0(95,0.4)=4.405251959011334:\n",
      "Y0(100,0.4)=5.820700816105909:\n",
      "Y0(105,0.4)=5.637981884851746:\n",
      "Runtime[s]=22.25071096420288:\n"
     ]
    },
    {
     "name": "stderr",
     "output_type": "stream",
     "text": [
      "\r",
      "\u001b[32mProgress:  33%|█████████████▋                           |  ETA: 0:01:21\u001b[39m"
     ]
    },
    {
     "name": "stdout",
     "output_type": "stream",
     "text": [
      "Nₜ=50:\n",
      "Y0(95,0.4)=4.404792408339339:\n",
      "Y0(100,0.4)=5.82001532486:\n",
      "Y0(105,0.4)=5.637299885421905:\n",
      "Runtime[s]=53.62497305870056:\n"
     ]
    },
    {
     "name": "stderr",
     "output_type": "stream",
     "text": [
      "\r",
      "\u001b[32mProgress:  50%|████████████████████▌                    |  ETA: 0:01:34\u001b[39m"
     ]
    },
    {
     "name": "stdout",
     "output_type": "stream",
     "text": [
      "Nₜ=100:\n",
      "Y0(95,0.4)=4.404706700876011:\n",
      "Y0(100,0.4)=5.8198859771163445:\n",
      "Y0(105,0.4)=5.637169172015161:\n",
      "Runtime[s]=106.09277606010437:\n"
     ]
    },
    {
     "name": "stderr",
     "output_type": "stream",
     "text": [
      "\r",
      "\u001b[32mProgress:  67%|███████████████████████████▍             |  ETA: 0:01:40\u001b[39m"
     ]
    },
    {
     "name": "stdout",
     "output_type": "stream",
     "text": [
      "Nₜ=200:\n",
      "Y0(95,0.4)=4.4046769462916755:\n",
      "Y0(100,0.4)=5.819844824797343:\n",
      "Y0(105,0.4)=5.637129185620383:\n",
      "Runtime[s]=198.79141902923584:\n"
     ]
    },
    {
     "name": "stderr",
     "output_type": "stream",
     "text": [
      "\r",
      "\u001b[32mProgress:  83%|██████████████████████████████████▏      |  ETA: 0:01:20\u001b[39m"
     ]
    },
    {
     "name": "stdout",
     "output_type": "stream",
     "text": [
      "Nₜ=500:\n",
      "Y0(95,0.4)=4.404667116950568:\n",
      "Y0(100,0.4)=5.819832078755204:\n",
      "Y0(105,0.4)=5.637117699849672:\n",
      "Runtime[s]=586.2433168888092:\n"
     ]
    },
    {
     "name": "stderr",
     "output_type": "stream",
     "text": [
      "\u001b[32mProgress: 100%|█████████████████████████████████████████| Time: 0:16:25\u001b[39m\n",
      "\u001b[32mProgress: 100%|█████████████████████████████████████████| Time: 0:28:03\u001b[39m\n"
     ]
    },
    {
     "name": "stdout",
     "output_type": "stream",
     "text": [
      "q=7:\n",
      "Nₜ=10:\n",
      "Y0(95,0.4)=4.548135668571575:\n",
      "Y0(100,0.4)=6.067462026833596:\n",
      "Y0(105,0.4)=5.8681217218171415:\n",
      "Runtime[s]=3.044919967651367:\n",
      "Nₜ=20:\n",
      "Y0(95,0.4)=4.478366195059557:\n",
      "Y0(100,0.4)=5.940000282647321:\n",
      "Y0(105,0.4)=5.745150570134712:\n",
      "Runtime[s]=0.7631261348724365:\n"
     ]
    },
    {
     "name": "stderr",
     "output_type": "stream",
     "text": [
      "\r",
      "\u001b[32mProgress:  33%|█████████████▋                           |  ETA: 0:00:08\u001b[39m"
     ]
    },
    {
     "name": "stdout",
     "output_type": "stream",
     "text": [
      "Nₜ=50:\n",
      "Y0(95,0.4)=4.4361624598070595:\n",
      "Y0(100,0.4)=5.8636206781855496:\n",
      "Y0(105,0.4)=5.671137066829409:\n",
      "Runtime[s]=1.843045949935913:\n"
     ]
    },
    {
     "name": "stderr",
     "output_type": "stream",
     "text": [
      "\r",
      "\u001b[32mProgress:  50%|████████████████████▌                    |  ETA: 0:00:06\u001b[39m"
     ]
    },
    {
     "name": "stdout",
     "output_type": "stream",
     "text": [
      "Nₜ=100:\n",
      "Y0(95,0.4)=4.422070219210207:\n",
      "Y0(100,0.4)=5.838123220823188:\n",
      "Y0(105,0.4)=5.646442461358039:\n",
      "Runtime[s]=3.5880448818206787:\n"
     ]
    },
    {
     "name": "stderr",
     "output_type": "stream",
     "text": [
      "\r",
      "\u001b[32mProgress:  67%|███████████████████████████▍             |  ETA: 0:00:05\u001b[39m"
     ]
    },
    {
     "name": "stdout",
     "output_type": "stream",
     "text": [
      "Nₜ=200:\n",
      "Y0(95,0.4)=4.415033975707293:\n",
      "Y0(100,0.4)=5.825396644844083:\n",
      "Y0(105,0.4)=5.634123113741643:\n",
      "Runtime[s]=7.065186023712158:\n"
     ]
    },
    {
     "name": "stderr",
     "output_type": "stream",
     "text": [
      "\r",
      "\u001b[32mProgress:  83%|██████████████████████████████████▏      |  ETA: 0:00:03\u001b[39m"
     ]
    },
    {
     "name": "stdout",
     "output_type": "stream",
     "text": [
      "Nₜ=500:\n",
      "Y0(95,0.4)=4.4108162021233195:\n",
      "Y0(100,0.4)=5.817766829608894:\n",
      "Y0(105,0.4)=5.626737796135983:\n",
      "Runtime[s]=17.324909925460815:\n"
     ]
    },
    {
     "name": "stderr",
     "output_type": "stream",
     "text": [
      "\r",
      "\u001b[32mProgress: 100%|█████████████████████████████████████████| Time: 0:00:33\u001b[39m\n"
     ]
    },
    {
     "name": "stdout",
     "output_type": "stream",
     "text": [
      "q=8:\n",
      "Nₜ=10:\n",
      "Y0(95,0.4)=4.5535518954643965:\n",
      "Y0(100,0.4)=6.084255833125402:\n",
      "Y0(105,0.4)=5.8932313955348015:\n",
      "Runtime[s]=0.8726940155029297:\n",
      "Nₜ=20:\n",
      "Y0(95,0.4)=4.480763423846641:\n",
      "Y0(100,0.4)=5.951112044378258:\n",
      "Y0(105,0.4)=5.763120468178422:\n",
      "Runtime[s]=1.6300890445709229:\n"
     ]
    },
    {
     "name": "stderr",
     "output_type": "stream",
     "text": [
      "\r",
      "\u001b[32mProgress:  33%|█████████████▋                           |  ETA: 0:00:05\u001b[39m"
     ]
    },
    {
     "name": "stdout",
     "output_type": "stream",
     "text": [
      "Nₜ=50:\n",
      "Y0(95,0.4)=4.436450753328735:\n",
      "Y0(100,0.4)=5.8707606862515505:\n",
      "Y0(105,0.4)=5.68435803418204:\n",
      "Runtime[s]=3.900034189224243:\n"
     ]
    },
    {
     "name": "stderr",
     "output_type": "stream",
     "text": [
      "\r",
      "\u001b[32mProgress:  50%|████████████████████▌                    |  ETA: 0:00:06\u001b[39m"
     ]
    },
    {
     "name": "stdout",
     "output_type": "stream",
     "text": [
      "Nₜ=100:\n",
      "Y0(95,0.4)=4.421676951621096:\n",
      "Y0(100,0.4)=5.844033737986105:\n",
      "Y0(105,0.4)=5.658184100351545:\n",
      "Runtime[s]=7.622252941131592:\n"
     ]
    },
    {
     "name": "stderr",
     "output_type": "stream",
     "text": [
      "\r",
      "\u001b[32mProgress:  67%|███████████████████████████▍             |  ETA: 0:00:07\u001b[39m"
     ]
    },
    {
     "name": "stdout",
     "output_type": "stream",
     "text": [
      "Nₜ=200:\n",
      "Y0(95,0.4)=4.414316726835418:\n",
      "Y0(100,0.4)=5.830691536929313:\n",
      "Y0(105,0.4)=5.64512731423271:\n",
      "Runtime[s]=15.038169860839844:\n"
     ]
    },
    {
     "name": "stderr",
     "output_type": "stream",
     "text": [
      "\r",
      "\u001b[32mProgress:  83%|██████████████████████████████████▏      |  ETA: 0:00:06\u001b[39m"
     ]
    },
    {
     "name": "stdout",
     "output_type": "stream",
     "text": [
      "Nₜ=500:\n",
      "Y0(95,0.4)=4.4099140594997595:\n",
      "Y0(100,0.4)=5.8227049881638795:\n",
      "Y0(105,0.4)=5.637313565168845:\n",
      "Runtime[s]=37.0299859046936:\n"
     ]
    },
    {
     "name": "stderr",
     "output_type": "stream",
     "text": [
      "\u001b[32mProgress: 100%|█████████████████████████████████████████| Time: 0:01:06\u001b[39m\n",
      "\u001b[32mProgress:  50%|████████████████████▌                    |  ETA: 0:01:40\u001b[39m"
     ]
    },
    {
     "name": "stdout",
     "output_type": "stream",
     "text": [
      "q=9:\n",
      "Nₜ=10:\n",
      "Y0(95,0.4)=4.555619634911423:\n",
      "Y0(100,0.4)=6.092763525619288:\n",
      "Y0(105,0.4)=5.905204817845931:\n",
      "Runtime[s]=2.0735280513763428:\n",
      "Nₜ=20:\n",
      "Y0(95,0.4)=4.480948773290927:\n",
      "Y0(100,0.4)=5.956180142554411:\n",
      "Y0(105,0.4)=5.770863669554869:\n",
      "Runtime[s]=3.67753005027771:\n"
     ]
    },
    {
     "name": "stderr",
     "output_type": "stream",
     "text": [
      "\r",
      "\u001b[32mProgress:  33%|█████████████▋                           |  ETA: 0:00:12\u001b[39m"
     ]
    },
    {
     "name": "stdout",
     "output_type": "stream",
     "text": [
      "Nₜ=50:\n",
      "Y0(95,0.4)=4.435593038532586:\n",
      "Y0(100,0.4)=5.8739606873214525:\n",
      "Y0(105,0.4)=5.689794816270986:\n",
      "Runtime[s]=8.605297088623047:\n"
     ]
    },
    {
     "name": "stderr",
     "output_type": "stream",
     "text": [
      "\r",
      "\u001b[32mProgress:  50%|████████████████████▌                    |  ETA: 0:00:14\u001b[39m"
     ]
    },
    {
     "name": "stdout",
     "output_type": "stream",
     "text": [
      "Nₜ=100:\n",
      "Y0(95,0.4)=4.4204520251385855:\n",
      "Y0(100,0.4)=5.846553664511784:\n",
      "Y0(105,0.4)=5.66281343142303:\n",
      "Runtime[s]=16.899574041366577:\n"
     ]
    },
    {
     "name": "stderr",
     "output_type": "stream",
     "text": [
      "\r",
      "\u001b[32mProgress:  67%|███████████████████████████▍             |  ETA: 0:00:16\u001b[39m"
     ]
    },
    {
     "name": "stdout",
     "output_type": "stream",
     "text": [
      "Nₜ=200:\n",
      "Y0(95,0.4)=4.412911174636843:\n",
      "Y0(100,0.4)=5.832891356424491:\n",
      "Y0(105,0.4)=5.649361606044476:\n",
      "Runtime[s]=33.27575707435608:\n"
     ]
    },
    {
     "name": "stderr",
     "output_type": "stream",
     "text": [
      "\r",
      "\u001b[32mProgress:  83%|██████████████████████████████████▏      |  ETA: 0:00:13\u001b[39m"
     ]
    },
    {
     "name": "stdout",
     "output_type": "stream",
     "text": [
      "Nₜ=500:\n",
      "Y0(95,0.4)=4.408399569357989:\n",
      "Y0(100,0.4)=5.824711053687183:\n",
      "Y0(105,0.4)=5.641311643035962:\n",
      "Runtime[s]=82.01375699043274:\n"
     ]
    },
    {
     "name": "stderr",
     "output_type": "stream",
     "text": [
      "\u001b[32mProgress: 100%|█████████████████████████████████████████| Time: 0:02:26\u001b[39m\n",
      "\u001b[32mProgress:  75%|██████████████████████████████▊          |  ETA: 0:01:22\u001b[39m"
     ]
    },
    {
     "name": "stdout",
     "output_type": "stream",
     "text": [
      "q=10:\n",
      "Nₜ=10:\n",
      "Y0(95,0.4)=4.555280221451612:\n",
      "Y0(100,0.4)=6.0947729771709165:\n",
      "Y0(105,0.4)=5.908684913955749:\n",
      "Runtime[s]=5.139899015426636:\n",
      "Nₜ=20:\n",
      "Y0(95,0.4)=4.4808513317100775:\n",
      "Y0(100,0.4)=5.957955155297539:\n",
      "Y0(105,0.4)=5.773674612303032:\n",
      "Runtime[s]=9.049101829528809:\n"
     ]
    },
    {
     "name": "stderr",
     "output_type": "stream",
     "text": [
      "\r",
      "\u001b[32mProgress:  33%|█████████████▋                           |  ETA: 0:00:28\u001b[39m"
     ]
    },
    {
     "name": "stdout",
     "output_type": "stream",
     "text": [
      "Nₜ=50:\n",
      "Y0(95,0.4)=4.435190177975033:\n",
      "Y0(100,0.4)=5.875068486617584:\n",
      "Y0(105,0.4)=5.691696758315391:\n",
      "Runtime[s]=16.380171060562134:\n"
     ]
    },
    {
     "name": "stderr",
     "output_type": "stream",
     "text": [
      "\r",
      "\u001b[32mProgress:  50%|████████████████████▌                    |  ETA: 0:00:31\u001b[39m"
     ]
    },
    {
     "name": "stdout",
     "output_type": "stream",
     "text": [
      "Nₜ=100:\n",
      "Y0(95,0.4)=4.419891382430756:\n",
      "Y0(100,0.4)=5.847404559356171:\n",
      "Y0(105,0.4)=5.6643547768185405:\n",
      "Runtime[s]=27.505038022994995:\n"
     ]
    },
    {
     "name": "stderr",
     "output_type": "stream",
     "text": [
      "\r",
      "\u001b[32mProgress:  67%|███████████████████████████▍             |  ETA: 0:00:29\u001b[39m"
     ]
    },
    {
     "name": "stdout",
     "output_type": "stream",
     "text": [
      "Nₜ=200:\n",
      "Y0(95,0.4)=4.412262963733042:\n",
      "Y0(100,0.4)=5.833599537367019:\n",
      "Y0(105,0.4)=5.650712451087866:\n",
      "Runtime[s]=53.869688987731934:\n"
     ]
    },
    {
     "name": "stderr",
     "output_type": "stream",
     "text": [
      "\r",
      "\u001b[32mProgress:  83%|██████████████████████████████████▏      |  ETA: 0:00:22\u001b[39m"
     ]
    },
    {
     "name": "stdout",
     "output_type": "stream",
     "text": [
      "Nₜ=500:\n",
      "Y0(95,0.4)=4.407697428809106:\n",
      "Y0(100,0.4)=5.825331470939976:\n",
      "Y0(105,0.4)=5.642545227604172:\n",
      "Runtime[s]=137.21571588516235:\n"
     ]
    },
    {
     "name": "stderr",
     "output_type": "stream",
     "text": [
      "\u001b[32mProgress: 100%|█████████████████████████████████████████| Time: 0:04:09\u001b[39m\n",
      "\u001b[32mProgress: 100%|█████████████████████████████████████████| Time: 0:08:15\u001b[39m\n",
      "\u001b[32mProgress:  29%|███████████▊                             |  ETA: 1:30:50\u001b[39m"
     ]
    },
    {
     "name": "stdout",
     "output_type": "stream",
     "text": [
      "q=7:\n",
      "Nₜ=10:\n",
      "Y0(95,0.4)=4.545820491127373:\n",
      "Y0(100,0.4)=5.964722416018543:\n",
      "Y0(105,0.4)=5.741219387480152:\n",
      "Runtime[s]=1.8137550354003906:\n",
      "Nₜ=20:\n",
      "Y0(95,0.4)=4.4746174603688225:\n",
      "Y0(100,0.4)=5.885217913080713:\n",
      "Y0(105,0.4)=5.678581844259338:\n",
      "Runtime[s]=0.3892519474029541:\n"
     ]
    },
    {
     "name": "stderr",
     "output_type": "stream",
     "text": [
      "\r",
      "\u001b[32mProgress:  33%|█████████████▋                           |  ETA: 0:00:04\u001b[39m"
     ]
    },
    {
     "name": "stdout",
     "output_type": "stream",
     "text": [
      "Nₜ=50:\n",
      "Y0(95,0.4)=4.434009075352289:\n",
      "Y0(100,0.4)=5.840695695789798:\n",
      "Y0(105,0.4)=5.643712958648278:\n",
      "Runtime[s]=0.9153659343719482:\n"
     ]
    },
    {
     "name": "stderr",
     "output_type": "stream",
     "text": [
      "\r",
      "\u001b[32mProgress:  50%|████████████████████▌                    |  ETA: 0:00:03\u001b[39m"
     ]
    },
    {
     "name": "stdout",
     "output_type": "stream",
     "text": [
      "Nₜ=100:\n",
      "Y0(95,0.4)=4.420876981552634:\n",
      "Y0(100,0.4)=5.8264916571859935:\n",
      "Y0(105,0.4)=5.632616779633989:\n",
      "Runtime[s]=1.8047709465026855:\n"
     ]
    },
    {
     "name": "stderr",
     "output_type": "stream",
     "text": [
      "\r",
      "\u001b[32mProgress:  67%|███████████████████████████▍             |  ETA: 0:00:02\u001b[39m"
     ]
    },
    {
     "name": "stdout",
     "output_type": "stream",
     "text": [
      "Nₜ=200:\n",
      "Y0(95,0.4)=4.414407929735084:\n",
      "Y0(100,0.4)=5.819539822347115:\n",
      "Y0(105,0.4)=5.627178074341345:\n",
      "Runtime[s]=3.4865000247955322:\n"
     ]
    },
    {
     "name": "stderr",
     "output_type": "stream",
     "text": [
      "\r",
      "\u001b[32mProgress:  83%|██████████████████████████████████▏      |  ETA: 0:00:02\u001b[39m"
     ]
    },
    {
     "name": "stdout",
     "output_type": "stream",
     "text": [
      "Nₜ=500:\n",
      "Y0(95,0.4)=4.41055885530427:\n",
      "Y0(100,0.4)=5.815415197226213:\n",
      "Y0(105,0.4)=5.62395276513207:\n",
      "Runtime[s]=8.532948970794678:\n"
     ]
    },
    {
     "name": "stderr",
     "output_type": "stream",
     "text": [
      "\r",
      "\u001b[32mProgress: 100%|█████████████████████████████████████████| Time: 0:00:16\u001b[39m\n"
     ]
    },
    {
     "name": "stdout",
     "output_type": "stream",
     "text": [
      "q=8:\n",
      "Nₜ=10:\n",
      "Y0(95,0.4)=4.5508668054855:\n",
      "Y0(100,0.4)=5.981024566315816:\n",
      "Y0(105,0.4)=5.7643052534328225:\n",
      "Runtime[s]=0.4414381980895996:\n",
      "Nₜ=20:\n",
      "Y0(95,0.4)=4.476566661593804:\n",
      "Y0(100,0.4)=5.895009301242717:\n",
      "Y0(105,0.4)=5.694635009930076:\n",
      "Runtime[s]=0.8386149406433105:\n"
     ]
    },
    {
     "name": "stderr",
     "output_type": "stream",
     "text": [
      "\r",
      "\u001b[32mProgress:  33%|█████████████▋                           |  ETA: 0:00:03\u001b[39m"
     ]
    },
    {
     "name": "stdout",
     "output_type": "stream",
     "text": [
      "Nₜ=50:\n",
      "Y0(95,0.4)=4.43402013722997:\n",
      "Y0(100,0.4)=5.847126465680943:\n",
      "Y0(105,0.4)=5.655949584327762:\n",
      "Runtime[s]=1.941382884979248:\n"
     ]
    },
    {
     "name": "stderr",
     "output_type": "stream",
     "text": [
      "\r",
      "\u001b[32mProgress:  50%|████████████████████▌                    |  ETA: 0:00:03\u001b[39m"
     ]
    },
    {
     "name": "stdout",
     "output_type": "stream",
     "text": [
      "Nₜ=100:\n",
      "Y0(95,0.4)=4.420311244510959:\n",
      "Y0(100,0.4)=5.831975690567501:\n",
      "Y0(105,0.4)=5.643784736277474:\n",
      "Runtime[s]=3.735598087310791:\n"
     ]
    },
    {
     "name": "stderr",
     "output_type": "stream",
     "text": [
      "\r",
      "\u001b[32mProgress:  67%|███████████████████████████▍             |  ETA: 0:00:03\u001b[39m"
     ]
    },
    {
     "name": "stdout",
     "output_type": "stream",
     "text": [
      "Nₜ=200:\n",
      "Y0(95,0.4)=4.413595571255926:\n",
      "Y0(100,0.4)=5.824603644682729:\n",
      "Y0(105,0.4)=5.637878292993612:\n",
      "Runtime[s]=7.3007121086120605:\n"
     ]
    },
    {
     "name": "stderr",
     "output_type": "stream",
     "text": [
      "\r",
      "\u001b[32mProgress:  83%|██████████████████████████████████▏      |  ETA: 0:00:03\u001b[39m"
     ]
    },
    {
     "name": "stdout",
     "output_type": "stream",
     "text": [
      "Nₜ=500:\n",
      "Y0(95,0.4)=4.409615828216873:\n",
      "Y0(100,0.4)=5.820254925826987:\n",
      "Y0(105,0.4)=5.634402756444637:\n",
      "Runtime[s]=17.887752056121826:\n"
     ]
    },
    {
     "name": "stderr",
     "output_type": "stream",
     "text": [
      "\u001b[32mProgress: 100%|█████████████████████████████████████████| Time: 0:00:32\u001b[39m\n",
      "\u001b[32mProgress:  50%|████████████████████▌                    |  ETA: 0:00:49\u001b[39m"
     ]
    },
    {
     "name": "stdout",
     "output_type": "stream",
     "text": [
      "q=9:\n",
      "Nₜ=10:\n",
      "Y0(95,0.4)=4.552764096145429:\n",
      "Y0(100,0.4)=5.989175246779031:\n",
      "Y0(105,0.4)=5.775721408524349:\n",
      "Runtime[s]=1.0707979202270508:\n",
      "Nₜ=20:\n",
      "Y0(95,0.4)=4.476708328847684:\n",
      "Y0(100,0.4)=5.9000362832039555:\n",
      "Y0(105,0.4)=5.702087733996525:\n",
      "Runtime[s]=1.8905627727508545:\n"
     ]
    },
    {
     "name": "stderr",
     "output_type": "stream",
     "text": [
      "\r",
      "\u001b[32mProgress:  33%|█████████████▋                           |  ETA: 0:00:06\u001b[39m"
     ]
    },
    {
     "name": "stdout",
     "output_type": "stream",
     "text": [
      "Nₜ=50:\n",
      "Y0(95,0.4)=4.433080925535879:\n",
      "Y0(100,0.4)=5.850168765189606:\n",
      "Y0(105,0.4)=5.661129898310621:\n",
      "Runtime[s]=4.2599101066589355:\n"
     ]
    },
    {
     "name": "stderr",
     "output_type": "stream",
     "text": [
      "\r",
      "\u001b[32mProgress:  50%|████████████████████▌                    |  ETA: 0:00:07\u001b[39m"
     ]
    },
    {
     "name": "stdout",
     "output_type": "stream",
     "text": [
      "Nₜ=100:\n",
      "Y0(95,0.4)=4.419030834250433:\n",
      "Y0(100,0.4)=5.834391259149398:\n",
      "Y0(105,0.4)=5.64824054251617:\n",
      "Runtime[s]=8.174166917800903:\n"
     ]
    },
    {
     "name": "stderr",
     "output_type": "stream",
     "text": [
      "\r",
      "\u001b[32mProgress:  67%|███████████████████████████▍             |  ETA: 0:00:08\u001b[39m"
     ]
    },
    {
     "name": "stdout",
     "output_type": "stream",
     "text": [
      "Nₜ=200:\n",
      "Y0(95,0.4)=4.41214953613417:\n",
      "Y0(100,0.4)=5.826726789445343:\n",
      "Y0(105,0.4)=5.642001725545739:\n",
      "Runtime[s]=16.05160403251648:\n"
     ]
    },
    {
     "name": "stderr",
     "output_type": "stream",
     "text": [
      "\r",
      "\u001b[32mProgress:  83%|██████████████████████████████████▏      |  ETA: 0:00:06\u001b[39m"
     ]
    },
    {
     "name": "stdout",
     "output_type": "stream",
     "text": [
      "Nₜ=500:\n",
      "Y0(95,0.4)=4.408080102077703:\n",
      "Y0(100,0.4)=5.822220190573994:\n",
      "Y0(105,0.4)=5.638346519865993:\n",
      "Runtime[s]=39.246294021606445:\n"
     ]
    },
    {
     "name": "stderr",
     "output_type": "stream",
     "text": [
      "\u001b[32mProgress: 100%|█████████████████████████████████████████| Time: 0:01:10\u001b[39m\n",
      "\u001b[32mProgress:  75%|██████████████████████████████▊          |  ETA: 0:00:40\u001b[39m"
     ]
    },
    {
     "name": "stdout",
     "output_type": "stream",
     "text": [
      "q=10:\n",
      "Nₜ=10:\n",
      "Y0(95,0.4)=4.553135790395785:\n",
      "Y0(100,0.4)=5.992013294604983:\n",
      "Y0(105,0.4)=5.780167840987689:\n",
      "Runtime[s]=3.014230966567993:\n",
      "Nₜ=20:\n",
      "Y0(95,0.4)=4.476722820736429:\n",
      "Y0(100,0.4)=5.901917362190984:\n",
      "Y0(105,0.4)=5.705036524384587:\n",
      "Runtime[s]=4.877776861190796:\n"
     ]
    },
    {
     "name": "stderr",
     "output_type": "stream",
     "text": [
      "\r",
      "\u001b[32mProgress:  33%|█████████████▋                           |  ETA: 0:00:16\u001b[39m"
     ]
    },
    {
     "name": "stdout",
     "output_type": "stream",
     "text": [
      "Nₜ=50:\n",
      "Y0(95,0.4)=4.432648418300188:\n",
      "Y0(100,0.4)=5.851285499777805:\n",
      "Y0(105,0.4)=5.662995372702445:\n",
      "Runtime[s]=10.829348802566528:\n"
     ]
    },
    {
     "name": "stderr",
     "output_type": "stream",
     "text": [
      "\r",
      "\u001b[32mProgress:  50%|████████████████████▌                    |  ETA: 0:00:19\u001b[39m"
     ]
    },
    {
     "name": "stdout",
     "output_type": "stream",
     "text": [
      "Nₜ=100:\n",
      "Y0(95,0.4)=4.418445716074803:\n",
      "Y0(100,0.4)=5.835222045605051:\n",
      "Y0(105,0.4)=5.649741113868645:\n",
      "Runtime[s]=20.496145009994507:\n"
     ]
    },
    {
     "name": "stderr",
     "output_type": "stream",
     "text": [
      "\r",
      "\u001b[32mProgress:  67%|███████████████████████████▍             |  ETA: 0:00:20\u001b[39m"
     ]
    },
    {
     "name": "stdout",
     "output_type": "stream",
     "text": [
      "Nₜ=200:\n",
      "Y0(95,0.4)=4.411486015013121:\n",
      "Y0(100,0.4)=5.827417702108963:\n",
      "Y0(105,0.4)=5.643321503791739:\n",
      "Runtime[s]=39.74500799179077:\n"
     ]
    },
    {
     "name": "stderr",
     "output_type": "stream",
     "text": [
      "\r",
      "\u001b[32mProgress:  83%|██████████████████████████████████▏      |  ETA: 0:00:16\u001b[39m"
     ]
    },
    {
     "name": "stdout",
     "output_type": "stream",
     "text": [
      "Nₜ=500:\n",
      "Y0(95,0.4)=4.407369432970103:\n",
      "Y0(100,0.4)=5.82282760038766:\n",
      "Y0(105,0.4)=5.6395614626842985:\n",
      "Runtime[s]=96.01485300064087:\n"
     ]
    },
    {
     "name": "stderr",
     "output_type": "stream",
     "text": [
      "\u001b[32mProgress: 100%|█████████████████████████████████████████| Time: 0:02:54\u001b[39m\n",
      "\u001b[32mProgress: 100%|█████████████████████████████████████████| Time: 0:04:54\u001b[39m\n",
      "\u001b[32mProgress:  43%|█████████████████▋                       |  ETA: 0:55:00\u001b[39m"
     ]
    },
    {
     "name": "stdout",
     "output_type": "stream",
     "text": [
      "q=7:\n",
      "Nₜ=10:\n",
      "Y0(95,0.4)=4.418051831225208:\n",
      "Y0(100,0.4)=5.826771727024613:\n",
      "Y0(105,0.4)=5.635030865229341:\n",
      "Runtime[s]=2.0403940677642822:\n",
      "Nₜ=20:\n",
      "Y0(95,0.4)=4.410731630661933:\n",
      "Y0(100,0.4)=5.816314092802362:\n",
      "Y0(105,0.4)=5.625195073978391:\n",
      "Runtime[s]=0.8738670349121094:\n"
     ]
    },
    {
     "name": "stderr",
     "output_type": "stream",
     "text": [
      "\r",
      "\u001b[32mProgress:  33%|█████████████▋                           |  ETA: 0:00:06\u001b[39m"
     ]
    },
    {
     "name": "stdout",
     "output_type": "stream",
     "text": [
      "Nₜ=50:\n",
      "Y0(95,0.4)=4.408482327302577:\n",
      "Y0(100,0.4)=5.813304846291202:\n",
      "Y0(105,0.4)=5.62239166614917:\n",
      "Runtime[s]=1.870192050933838:\n"
     ]
    },
    {
     "name": "stderr",
     "output_type": "stream",
     "text": [
      "\r",
      "\u001b[32mProgress:  50%|████████████████████▌                    |  ETA: 0:00:05\u001b[39m"
     ]
    },
    {
     "name": "stdout",
     "output_type": "stream",
     "text": [
      "Nₜ=100:\n",
      "Y0(95,0.4)=4.408122593566972:\n",
      "Y0(100,0.4)=5.812828347749145:\n",
      "Y0(105,0.4)=5.6219533314928665:\n",
      "Runtime[s]=3.6524789333343506:\n"
     ]
    },
    {
     "name": "stderr",
     "output_type": "stream",
     "text": [
      "\r",
      "\u001b[32mProgress:  67%|███████████████████████████▍             |  ETA: 0:00:04\u001b[39m"
     ]
    },
    {
     "name": "stdout",
     "output_type": "stream",
     "text": [
      "Nₜ=200:\n",
      "Y0(95,0.4)=4.408033642661842:\n",
      "Y0(100,0.4)=5.812718684572545:\n",
      "Y0(105,0.4)=5.621850461127998:\n",
      "Runtime[s]=7.099981069564819:\n"
     ]
    },
    {
     "name": "stderr",
     "output_type": "stream",
     "text": [
      "\r",
      "\u001b[32mProgress:  83%|██████████████████████████████████▏      |  ETA: 0:00:03\u001b[39m"
     ]
    },
    {
     "name": "stdout",
     "output_type": "stream",
     "text": [
      "Nₜ=500:\n",
      "Y0(95,0.4)=4.40800984072764:\n",
      "Y0(100,0.4)=5.812688434176225:\n",
      "Y0(105,0.4)=5.621822270256598:\n",
      "Runtime[s]=17.73779797554016:\n"
     ]
    },
    {
     "name": "stderr",
     "output_type": "stream",
     "text": [
      "\r",
      "\u001b[32mProgress: 100%|█████████████████████████████████████████| Time: 0:00:33\u001b[39m\n"
     ]
    },
    {
     "name": "stdout",
     "output_type": "stream",
     "text": [
      "q=8:\n",
      "Nₜ=10:\n",
      "Y0(95,0.4)=4.419713722915899:\n",
      "Y0(100,0.4)=5.836302461188702:\n",
      "Y0(105,0.4)=5.650906201858721:\n",
      "Runtime[s]=0.8631420135498047:\n",
      "Nₜ=20:\n",
      "Y0(95,0.4)=4.411038439446194:\n",
      "Y0(100,0.4)=5.823246928178262:\n",
      "Y0(105,0.4)=5.637852706345425:\n",
      "Runtime[s]=1.6219489574432373:\n"
     ]
    },
    {
     "name": "stderr",
     "output_type": "stream",
     "text": [
      "\r",
      "\u001b[32mProgress:  33%|█████████████▋                           |  ETA: 0:00:05\u001b[39m"
     ]
    },
    {
     "name": "stdout",
     "output_type": "stream",
     "text": [
      "Nₜ=50:\n",
      "Y0(95,0.4)=4.407809905884895:\n",
      "Y0(100,0.4)=5.818513405956775:\n",
      "Y0(105,0.4)=5.633201018913812:\n",
      "Runtime[s]=3.8625199794769287:\n"
     ]
    },
    {
     "name": "stderr",
     "output_type": "stream",
     "text": [
      "\r",
      "\u001b[32mProgress:  50%|████████████████████▌                    |  ETA: 0:00:06\u001b[39m"
     ]
    },
    {
     "name": "stdout",
     "output_type": "stream",
     "text": [
      "Nₜ=100:\n",
      "Y0(95,0.4)=4.407212214128434:\n",
      "Y0(100,0.4)=5.817705624519356:\n",
      "Y0(105,0.4)=5.632413846136062:\n",
      "Runtime[s]=7.464334011077881:\n"
     ]
    },
    {
     "name": "stderr",
     "output_type": "stream",
     "text": [
      "\r",
      "\u001b[32mProgress:  67%|███████████████████████████▍             |  ETA: 0:00:07\u001b[39m"
     ]
    },
    {
     "name": "stdout",
     "output_type": "stream",
     "text": [
      "Nₜ=200:\n",
      "Y0(95,0.4)=4.40704561194486:\n",
      "Y0(100,0.4)=5.817470293175622:\n",
      "Y0(105,0.4)=5.6321914500680546:\n",
      "Runtime[s]=14.984563827514648:\n"
     ]
    },
    {
     "name": "stderr",
     "output_type": "stream",
     "text": [
      "\r",
      "\u001b[32mProgress:  83%|██████████████████████████████████▏      |  ETA: 0:00:06\u001b[39m"
     ]
    },
    {
     "name": "stdout",
     "output_type": "stream",
     "text": [
      "Nₜ=500:\n",
      "Y0(95,0.4)=4.4069958125994795:\n",
      "Y0(100,0.4)=5.817402293975626:\n",
      "Y0(105,0.4)=5.632127114298173:\n",
      "Runtime[s]=36.78523898124695:\n"
     ]
    },
    {
     "name": "stderr",
     "output_type": "stream",
     "text": [
      "\u001b[32mProgress: 100%|█████████████████████████████████████████| Time: 0:01:05\u001b[39m\n",
      "\u001b[32mProgress:  50%|████████████████████▌                    |  ETA: 0:01:39\u001b[39m"
     ]
    },
    {
     "name": "stdout",
     "output_type": "stream",
     "text": [
      "q=9:\n",
      "Nₜ=10:\n",
      "Y0(95,0.4)=4.419859601064127:\n",
      "Y0(100,0.4)=5.841068533802948:\n",
      "Y0(105,0.4)=5.658196931448435:\n",
      "Runtime[s]=1.9215660095214844:\n",
      "Nₜ=20:\n",
      "Y0(95,0.4)=4.410204855237186:\n",
      "Y0(100,0.4)=5.826337947339125:\n",
      "Y0(105,0.4)=5.643089475108575:\n",
      "Runtime[s]=3.454395055770874:\n"
     ]
    },
    {
     "name": "stderr",
     "output_type": "stream",
     "text": [
      "\r",
      "\u001b[32mProgress:  33%|█████████████▋                           |  ETA: 0:00:11\u001b[39m"
     ]
    },
    {
     "name": "stdout",
     "output_type": "stream",
     "text": [
      "Nₜ=50:\n",
      "Y0(95,0.4)=4.406484510772854:\n",
      "Y0(100,0.4)=5.820825402462646:\n",
      "Y0(105,0.4)=5.6374903645064:\n",
      "Runtime[s]=8.117702007293701:\n"
     ]
    },
    {
     "name": "stderr",
     "output_type": "stream",
     "text": [
      "\r",
      "\u001b[32mProgress:  50%|████████████████████▌                    |  ETA: 0:00:13\u001b[39m"
     ]
    },
    {
     "name": "stdout",
     "output_type": "stream",
     "text": [
      "Nₜ=100:\n",
      "Y0(95,0.4)=4.40573231022695:\n",
      "Y0(100,0.4)=5.819733267716162:\n",
      "Y0(105,0.4)=5.636413324220429:\n",
      "Runtime[s]=15.989640951156616:\n"
     ]
    },
    {
     "name": "stderr",
     "output_type": "stream",
     "text": [
      "\r",
      "\u001b[32mProgress:  67%|███████████████████████████▍             |  ETA: 0:00:15\u001b[39m"
     ]
    },
    {
     "name": "stdout",
     "output_type": "stream",
     "text": [
      "Nₜ=200:\n",
      "Y0(95,0.4)=4.405501089298026:\n",
      "Y0(100,0.4)=5.819403017607888:\n",
      "Y0(105,0.4)=5.636086449818661:\n",
      "Runtime[s]=31.448522090911865:\n"
     ]
    },
    {
     "name": "stderr",
     "output_type": "stream",
     "text": [
      "\r",
      "\u001b[32mProgress:  83%|██████████████████████████████████▏      |  ETA: 0:00:12\u001b[39m"
     ]
    },
    {
     "name": "stdout",
     "output_type": "stream",
     "text": [
      "Nₜ=500:\n",
      "Y0(95,0.4)=4.40542080590283:\n",
      "Y0(100,0.4)=5.819291886264493:\n",
      "Y0(105,0.4)=5.635980331443089:\n",
      "Runtime[s]=77.89796280860901:\n"
     ]
    },
    {
     "name": "stderr",
     "output_type": "stream",
     "text": [
      "\u001b[32mProgress: 100%|█████████████████████████████████████████| Time: 0:02:18\u001b[39m\n",
      "\u001b[32mProgress:  75%|██████████████████████████████▊          |  ETA: 0:01:19\u001b[39m"
     ]
    },
    {
     "name": "stdout",
     "output_type": "stream",
     "text": [
      "q=10:\n",
      "Nₜ=10:\n",
      "Y0(95,0.4)=4.419662896106584:\n",
      "Y0(100,0.4)=5.84268254252082:\n",
      "Y0(105,0.4)=5.660977510422999:\n",
      "Runtime[s]=4.727555990219116:\n",
      "Nₜ=20:\n",
      "Y0(95,0.4)=4.409831530449697:\n",
      "Y0(100,0.4)=5.827528748305728:\n",
      "Y0(105,0.4)=5.645077069529284:\n",
      "Runtime[s]=8.368072986602783:\n"
     ]
    },
    {
     "name": "stderr",
     "output_type": "stream",
     "text": [
      "\r",
      "\u001b[32mProgress:  33%|█████████████▋                           |  ETA: 0:00:26\u001b[39m"
     ]
    },
    {
     "name": "stdout",
     "output_type": "stream",
     "text": [
      "Nₜ=50:\n",
      "Y0(95,0.4)=4.405888068556804:\n",
      "Y0(100,0.4)=5.821643268822544:\n",
      "Y0(105,0.4)=5.638949992368859:\n",
      "Runtime[s]=20.215296983718872:\n"
     ]
    },
    {
     "name": "stderr",
     "output_type": "stream",
     "text": [
      "\r",
      "\u001b[32mProgress:  50%|████████████████████▌                    |  ETA: 0:00:33\u001b[39m"
     ]
    },
    {
     "name": "stdout",
     "output_type": "stream",
     "text": [
      "Nₜ=100:\n",
      "Y0(95,0.4)=4.405065948448779:\n",
      "Y0(100,0.4)=5.820420464239097:\n",
      "Y0(105,0.4)=5.6377094552436535:\n",
      "Runtime[s]=37.96444797515869:\n"
     ]
    },
    {
     "name": "stderr",
     "output_type": "stream",
     "text": [
      "\r",
      "\u001b[32mProgress:  67%|███████████████████████████▍             |  ETA: 0:00:36\u001b[39m"
     ]
    },
    {
     "name": "stdout",
     "output_type": "stream",
     "text": [
      "Nₜ=200:\n",
      "Y0(95,0.4)=4.404796333458646:\n",
      "Y0(100,0.4)=5.820018975037944:\n",
      "Y0(105,0.4)=5.6373033570739555:\n",
      "Runtime[s]=75.0951018333435:\n"
     ]
    },
    {
     "name": "stderr",
     "output_type": "stream",
     "text": [
      "\r",
      "\u001b[32mProgress:  83%|██████████████████████████████████▏      |  ETA: 0:00:29\u001b[39m"
     ]
    },
    {
     "name": "stdout",
     "output_type": "stream",
     "text": [
      "Nₜ=500:\n",
      "Y0(95,0.4)=4.404693804691044:\n",
      "Y0(100,0.4)=5.819869827649783:\n",
      "Y0(105,0.4)=5.637154288447817:\n",
      "Runtime[s]=187.49439096450806:\n"
     ]
    },
    {
     "name": "stderr",
     "output_type": "stream",
     "text": [
      "\u001b[32mProgress: 100%|█████████████████████████████████████████| Time: 0:05:33\u001b[39m\n",
      "\u001b[32mProgress: 100%|█████████████████████████████████████████| Time: 0:09:31\u001b[39m\n",
      "\u001b[32mProgress:  57%|███████████████████████▍                 |  ETA: 0:38:05\u001b[39m"
     ]
    },
    {
     "name": "stdout",
     "output_type": "stream",
     "text": [
      "q=7:\n",
      "Nₜ=10:\n",
      "Y0(95,0.4)=4.4083726977533075:\n",
      "Y0(100,0.4)=5.812977658220548:\n",
      "Y0(105,0.4)=5.621952306737112:\n",
      "Runtime[s]=2.366798162460327:\n",
      "Nₜ=20:\n",
      "Y0(95,0.4)=4.408065836485228:\n",
      "Y0(100,0.4)=5.812705817557878:\n",
      "Y0(105,0.4)=5.621824836277764:\n",
      "Runtime[s]=1.29475998878479:\n"
     ]
    },
    {
     "name": "stderr",
     "output_type": "stream",
     "text": [
      "\r",
      "\u001b[32mProgress:  33%|█████████████▋                           |  ETA: 0:00:07\u001b[39m"
     ]
    },
    {
     "name": "stdout",
     "output_type": "stream",
     "text": [
      "Nₜ=50:\n",
      "Y0(95,0.4)=4.408001292997373:\n",
      "Y0(100,0.4)=5.812666879872698:\n",
      "Y0(105,0.4)=5.62180417770389:\n",
      "Runtime[s]=3.0834500789642334:\n"
     ]
    },
    {
     "name": "stderr",
     "output_type": "stream",
     "text": [
      "\r",
      "\u001b[32mProgress:  50%|████████████████████▌                    |  ETA: 0:00:07\u001b[39m"
     ]
    },
    {
     "name": "stdout",
     "output_type": "stream",
     "text": [
      "Nₜ=100:\n",
      "Y0(95,0.4)=4.408003780415578:\n",
      "Y0(100,0.4)=5.812681786680198:\n",
      "Y0(105,0.4)=5.621815679701788:\n",
      "Runtime[s]=6.1487650871276855:\n"
     ]
    },
    {
     "name": "stderr",
     "output_type": "stream",
     "text": [
      "\r",
      "\u001b[32mProgress:  67%|███████████████████████████▍             |  ETA: 0:00:06\u001b[39m"
     ]
    },
    {
     "name": "stdout",
     "output_type": "stream",
     "text": [
      "Nₜ=200:\n",
      "Y0(95,0.4)=4.4080055265418885:\n",
      "Y0(100,0.4)=5.8126829417789425:\n",
      "Y0(105,0.4)=5.621816844325096:\n",
      "Runtime[s]=11.877957820892334:\n"
     ]
    },
    {
     "name": "stderr",
     "output_type": "stream",
     "text": [
      "\r",
      "\u001b[32mProgress:  83%|██████████████████████████████████▏      |  ETA: 0:00:05\u001b[39m"
     ]
    },
    {
     "name": "stdout",
     "output_type": "stream",
     "text": [
      "Nₜ=500:\n",
      "Y0(95,0.4)=4.408005207256531:\n",
      "Y0(100,0.4)=5.812682412781813:\n",
      "Y0(105,0.4)=5.621816642624564:\n",
      "Runtime[s]=29.692065954208374:\n"
     ]
    },
    {
     "name": "stderr",
     "output_type": "stream",
     "text": [
      "\r",
      "\u001b[32mProgress: 100%|█████████████████████████████████████████| Time: 0:00:54\u001b[39m\n"
     ]
    },
    {
     "name": "stdout",
     "output_type": "stream",
     "text": [
      "q=8:\n",
      "Nₜ=10:\n",
      "Y0(95,0.4)=4.408303231480983:\n",
      "Y0(100,0.4)=5.819065360497269:\n",
      "Y0(105,0.4)=5.633583128169661:\n",
      "Runtime[s]=1.3457179069519043:\n",
      "Nₜ=20:\n",
      "Y0(95,0.4)=4.407303966782779:\n",
      "Y0(100,0.4)=5.817775142736992:\n",
      "Y0(105,0.4)=5.632426215033407:\n",
      "Runtime[s]=2.630434989929199:\n"
     ]
    },
    {
     "name": "stderr",
     "output_type": "stream",
     "text": [
      "\r",
      "\u001b[32mProgress:  33%|█████████████▋                           |  ETA: 0:00:08\u001b[39m"
     ]
    },
    {
     "name": "stdout",
     "output_type": "stream",
     "text": [
      "Nₜ=50:\n",
      "Y0(95,0.4)=4.407013648792539:\n",
      "Y0(100,0.4)=5.817436978443434:\n",
      "Y0(105,0.4)=5.6321490928562294:\n",
      "Runtime[s]=6.3242480754852295:\n"
     ]
    },
    {
     "name": "stderr",
     "output_type": "stream",
     "text": [
      "\r",
      "\u001b[32mProgress:  50%|████████████████████▌                    |  ETA: 0:00:10\u001b[39m"
     ]
    },
    {
     "name": "stdout",
     "output_type": "stream",
     "text": [
      "Nₜ=100:\n",
      "Y0(95,0.4)=4.406989957375387:\n",
      "Y0(100,0.4)=5.817391334883671:\n",
      "Y0(105,0.4)=5.632116366048846:\n",
      "Runtime[s]=12.224890947341919:\n"
     ]
    },
    {
     "name": "stderr",
     "output_type": "stream",
     "text": [
      "\r",
      "\u001b[32mProgress:  67%|███████████████████████████▍             |  ETA: 0:00:11\u001b[39m"
     ]
    },
    {
     "name": "stdout",
     "output_type": "stream",
     "text": [
      "Nₜ=200:\n",
      "Y0(95,0.4)=4.406986442045551:\n",
      "Y0(100,0.4)=5.8173888541380725:\n",
      "Y0(105,0.4)=5.6321142921570395:\n",
      "Runtime[s]=24.00819492340088:\n"
     ]
    },
    {
     "name": "stderr",
     "output_type": "stream",
     "text": [
      "\r",
      "\u001b[32mProgress:  83%|██████████████████████████████████▏      |  ETA: 0:00:09\u001b[39m"
     ]
    },
    {
     "name": "stdout",
     "output_type": "stream",
     "text": [
      "Nₜ=500:\n",
      "Y0(95,0.4)=4.406986040594418:\n",
      "Y0(100,0.4)=5.817389172348139:\n",
      "Y0(105,0.4)=5.632114598195469:\n",
      "Runtime[s]=58.816137075424194:\n"
     ]
    },
    {
     "name": "stderr",
     "output_type": "stream",
     "text": [
      "\u001b[32mProgress: 100%|█████████████████████████████████████████| Time: 0:01:45\u001b[39m\n",
      "\u001b[32mProgress:  50%|████████████████████▌                    |  ETA: 0:02:40\u001b[39m"
     ]
    },
    {
     "name": "stdout",
     "output_type": "stream",
     "text": [
      "q=9:\n",
      "Nₜ=10:\n",
      "Y0(95,0.4)=4.40721902406461:\n",
      "Y0(100,0.4)=5.821822508470548:\n",
      "Y0(105,0.4)=5.638351290609412:\n",
      "Runtime[s]=2.884335994720459:\n",
      "Nₜ=20:\n",
      "Y0(95,0.4)=4.405922101499123:\n",
      "Y0(100,0.4)=5.819985238776618:\n",
      "Y0(105,0.4)=5.636636867236701:\n",
      "Runtime[s]=5.355279922485352:\n"
     ]
    },
    {
     "name": "stderr",
     "output_type": "stream",
     "text": [
      "\r",
      "\u001b[32mProgress:  33%|█████████████▋                           |  ETA: 0:00:16\u001b[39m"
     ]
    },
    {
     "name": "stdout",
     "output_type": "stream",
     "text": [
      "Nₜ=50:\n",
      "Y0(95,0.4)=4.405485089678517:\n",
      "Y0(100,0.4)=5.819372850590046:\n",
      "Y0(105,0.4)=5.636055570087528:\n",
      "Runtime[s]=12.97526502609253:\n"
     ]
    },
    {
     "name": "stderr",
     "output_type": "stream",
     "text": [
      "\r",
      "\u001b[32mProgress:  50%|████████████████████▌                    |  ETA: 0:00:21\u001b[39m"
     ]
    },
    {
     "name": "stdout",
     "output_type": "stream",
     "text": [
      "Nₜ=100:\n",
      "Y0(95,0.4)=4.405424351850385:\n",
      "Y0(100,0.4)=5.819292949555887:\n",
      "Y0(105,0.4)=5.635976900306627:\n",
      "Runtime[s]=25.56948685646057:\n"
     ]
    },
    {
     "name": "stderr",
     "output_type": "stream",
     "text": [
      "\r",
      "\u001b[32mProgress:  67%|███████████████████████████▍             |  ETA: 0:00:23\u001b[39m"
     ]
    },
    {
     "name": "stdout",
     "output_type": "stream",
     "text": [
      "Nₜ=200:\n",
      "Y0(95,0.4)=4.405407009433674:\n",
      "Y0(100,0.4)=5.819272595359479:\n",
      "Y0(105,0.4)=5.635961646158503:\n",
      "Runtime[s]=50.12023687362671:\n"
     ]
    },
    {
     "name": "stderr",
     "output_type": "stream",
     "text": [
      "\r",
      "\u001b[32mProgress:  83%|██████████████████████████████████▏      |  ETA: 0:00:19\u001b[39m"
     ]
    },
    {
     "name": "stdout",
     "output_type": "stream",
     "text": [
      "Nₜ=500:\n",
      "Y0(95,0.4)=4.40540343663382:\n",
      "Y0(100,0.4)=5.81926833815905:\n",
      "Y0(105,0.4)=5.635958294270578:\n",
      "Runtime[s]=124.74630403518677:\n"
     ]
    },
    {
     "name": "stderr",
     "output_type": "stream",
     "text": [
      "\u001b[32mProgress: 100%|█████████████████████████████████████████| Time: 0:03:41\u001b[39m\n",
      "\u001b[32mProgress:  75%|██████████████████████████████▊          |  ETA: 0:02:07\u001b[39m"
     ]
    },
    {
     "name": "stdout",
     "output_type": "stream",
     "text": [
      "q=10:\n",
      "Nₜ=10:\n",
      "Y0(95,0.4)=4.406448097207493:\n",
      "Y0(100,0.4)=5.822691600961846:\n",
      "Y0(105,0.4)=5.640005562891657:\n",
      "Runtime[s]=7.144842147827148:\n",
      "Nₜ=20:\n",
      "Y0(95,0.4)=4.405307715697882:\n",
      "Y0(100,0.4)=5.820786504161789:\n",
      "Y0(105,0.4)=5.638050883802773:\n",
      "Runtime[s]=13.167935848236084:\n"
     ]
    },
    {
     "name": "stderr",
     "output_type": "stream",
     "text": [
      "\r",
      "\u001b[32mProgress:  33%|█████████████▋                           |  ETA: 0:00:41\u001b[39m"
     ]
    },
    {
     "name": "stdout",
     "output_type": "stream",
     "text": [
      "Nₜ=50:\n",
      "Y0(95,0.4)=4.4047976141033285:\n",
      "Y0(100,0.4)=5.820020939104815:\n",
      "Y0(105,0.4)=5.637301992276704:\n",
      "Runtime[s]=31.091470956802368:\n"
     ]
    },
    {
     "name": "stderr",
     "output_type": "stream",
     "text": [
      "\r",
      "\u001b[32mProgress:  50%|████████████████████▌                    |  ETA: 0:00:51\u001b[39m"
     ]
    },
    {
     "name": "stdout",
     "output_type": "stream",
     "text": [
      "Nₜ=100:\n",
      "Y0(95,0.4)=4.404707458742714:\n",
      "Y0(100,0.4)=5.819886378470907:\n",
      "Y0(105,0.4)=5.637168765112794:\n",
      "Runtime[s]=59.291110038757324:\n"
     ]
    },
    {
     "name": "stderr",
     "output_type": "stream",
     "text": [
      "\r",
      "\u001b[32mProgress:  67%|███████████████████████████▍             |  ETA: 0:00:55\u001b[39m"
     ]
    },
    {
     "name": "stdout",
     "output_type": "stream",
     "text": [
      "Nₜ=200:\n",
      "Y0(95,0.4)=4.404676952842068:\n",
      "Y0(100,0.4)=5.819844685334886:\n",
      "Y0(105,0.4)=5.637128918802367:\n",
      "Runtime[s]=128.01840209960938:\n"
     ]
    },
    {
     "name": "stderr",
     "output_type": "stream",
     "text": [
      "\r",
      "\u001b[32mProgress:  83%|██████████████████████████████████▏      |  ETA: 0:00:48\u001b[39m"
     ]
    },
    {
     "name": "stdout",
     "output_type": "stream",
     "text": [
      "Nₜ=500:\n",
      "Y0(95,0.4)=4.404667096395428:\n",
      "Y0(100,0.4)=5.81983202356105:\n",
      "Y0(105,0.4)=5.637117623692452:\n",
      "Runtime[s]=400.86737394332886:\n"
     ]
    },
    {
     "name": "stderr",
     "output_type": "stream",
     "text": [
      "\u001b[32mProgress: 100%|█████████████████████████████████████████| Time: 0:10:39\u001b[39m\n",
      "\u001b[32mProgress: 100%|█████████████████████████████████████████| Time: 0:17:01\u001b[39m\n",
      "\u001b[32mProgress:  71%|█████████████████████████████▎           |  ETA: 0:27:07\u001b[39m"
     ]
    },
    {
     "name": "stdout",
     "output_type": "stream",
     "text": [
      "q=7:\n",
      "Nₜ=10:\n",
      "Y0(95,0.4)=4.4083001303258795:\n",
      "Y0(100,0.4)=5.812917999290742:\n",
      "Y0(105,0.4)=5.6220611531173095:\n",
      "Runtime[s]=3.642793893814087:\n",
      "Nₜ=20:\n",
      "Y0(95,0.4)=4.408064702294546:\n",
      "Y0(100,0.4)=5.812733948948074:\n",
      "Y0(105,0.4)=5.621870089561165:\n",
      "Runtime[s]=3.401176929473877:\n"
     ]
    },
    {
     "name": "stderr",
     "output_type": "stream",
     "text": [
      "\r",
      "\u001b[32mProgress:  33%|█████████████▋                           |  ETA: 0:00:14\u001b[39m"
     ]
    },
    {
     "name": "stdout",
     "output_type": "stream",
     "text": [
      "Nₜ=50:\n",
      "Y0(95,0.4)=4.4080040812459735:\n",
      "Y0(100,0.4)=5.812672550629335:\n",
      "Y0(105,0.4)=5.621809885720017:\n",
      "Runtime[s]=7.729457139968872:\n"
     ]
    },
    {
     "name": "stderr",
     "output_type": "stream",
     "text": [
      "\r",
      "\u001b[32mProgress:  50%|████████████████████▌                    |  ETA: 0:00:15\u001b[39m"
     ]
    },
    {
     "name": "stdout",
     "output_type": "stream",
     "text": [
      "Nₜ=100:\n",
      "Y0(95,0.4)=4.408004182839957:\n",
      "Y0(100,0.4)=5.812682463629336:\n",
      "Y0(105,0.4)=5.621816549196421:\n",
      "Runtime[s]=14.856875896453857:\n"
     ]
    },
    {
     "name": "stderr",
     "output_type": "stream",
     "text": [
      "\r",
      "\u001b[32mProgress:  67%|███████████████████████████▍             |  ETA: 0:00:15\u001b[39m"
     ]
    },
    {
     "name": "stdout",
     "output_type": "stream",
     "text": [
      "Nₜ=200:\n",
      "Y0(95,0.4)=4.408005595905053:\n",
      "Y0(100,0.4)=5.812683054464011:\n",
      "Y0(105,0.4)=5.621816974768385:\n",
      "Runtime[s]=28.48162293434143:\n"
     ]
    },
    {
     "name": "stderr",
     "output_type": "stream",
     "text": [
      "\r",
      "\u001b[32mProgress:  83%|██████████████████████████████████▏      |  ETA: 0:00:12\u001b[39m"
     ]
    },
    {
     "name": "stdout",
     "output_type": "stream",
     "text": [
      "Nₜ=500:\n",
      "Y0(95,0.4)=4.408005211655098:\n",
      "Y0(100,0.4)=5.812682422146281:\n",
      "Y0(105,0.4)=5.6218166527544415:\n",
      "Runtime[s]=71.47596001625061:\n"
     ]
    },
    {
     "name": "stderr",
     "output_type": "stream",
     "text": [
      "\r",
      "\u001b[32mProgress: 100%|█████████████████████████████████████████| Time: 0:02:09\u001b[39m\n"
     ]
    },
    {
     "name": "stdout",
     "output_type": "stream",
     "text": [
      "q=8:\n",
      "Nₜ=10:\n",
      "Y0(95,0.4)=4.408132664261936:\n",
      "Y0(100,0.4)=5.818964209820588:\n",
      "Y0(105,0.4)=5.63359786474491:\n",
      "Runtime[s]=2.9901790618896484:\n",
      "Nₜ=20:\n",
      "Y0(95,0.4)=4.4072828000718856:\n",
      "Y0(100,0.4)=5.817765582484757:\n",
      "Y0(105,0.4)=5.632451651641819:\n",
      "Runtime[s]=5.665327072143555:\n"
     ]
    },
    {
     "name": "stderr",
     "output_type": "stream",
     "text": [
      "\r",
      "\u001b[32mProgress:  33%|█████████████▋                           |  ETA: 0:00:17\u001b[39m"
     ]
    },
    {
     "name": "stdout",
     "output_type": "stream",
     "text": [
      "Nₜ=50:\n",
      "Y0(95,0.4)=4.407013335172898:\n",
      "Y0(100,0.4)=5.817438187920658:\n",
      "Y0(105,0.4)=5.632154511615701:\n",
      "Runtime[s]=13.043776988983154:\n"
     ]
    },
    {
     "name": "stderr",
     "output_type": "stream",
     "text": [
      "\r",
      "\u001b[32mProgress:  50%|████████████████████▌                    |  ETA: 0:00:22\u001b[39m"
     ]
    },
    {
     "name": "stdout",
     "output_type": "stream",
     "text": [
      "Nₜ=100:\n",
      "Y0(95,0.4)=4.406990244355279:\n",
      "Y0(100,0.4)=5.817392471832592:\n",
      "Y0(105,0.4)=5.632118086643992:\n",
      "Runtime[s]=24.65271496772766:\n"
     ]
    },
    {
     "name": "stderr",
     "output_type": "stream",
     "text": [
      "\r",
      "\u001b[32mProgress:  67%|███████████████████████████▍             |  ETA: 0:00:23\u001b[39m"
     ]
    },
    {
     "name": "stdout",
     "output_type": "stream",
     "text": [
      "Nₜ=200:\n",
      "Y0(95,0.4)=4.406986609816802:\n",
      "Y0(100,0.4)=5.817389116438611:\n",
      "Y0(105,0.4)=5.632114604826237:\n",
      "Runtime[s]=57.97733402252197:\n"
     ]
    },
    {
     "name": "stderr",
     "output_type": "stream",
     "text": [
      "\r",
      "\u001b[32mProgress:  83%|██████████████████████████████████▏      |  ETA: 0:00:21\u001b[39m"
     ]
    },
    {
     "name": "stdout",
     "output_type": "stream",
     "text": [
      "Nₜ=500:\n",
      "Y0(95,0.4)=4.406986061919769:\n",
      "Y0(100,0.4)=5.817389204341432:\n",
      "Y0(105,0.4)=5.632114633049501:\n",
      "Runtime[s]=146.7952699661255:\n"
     ]
    },
    {
     "name": "stderr",
     "output_type": "stream",
     "text": [
      "\u001b[32mProgress: 100%|█████████████████████████████████████████| Time: 0:04:11\u001b[39m\n",
      "\u001b[32mProgress:  50%|████████████████████▌                    |  ETA: 0:06:21\u001b[39m"
     ]
    },
    {
     "name": "stdout",
     "output_type": "stream",
     "text": [
      "q=9:\n",
      "Nₜ=10:\n",
      "Y0(95,0.4)=4.406943866341102:\n",
      "Y0(100,0.4)=5.821441997275169:\n",
      "Y0(105,0.4)=5.638095181632134:\n",
      "Runtime[s]=6.433741092681885:\n",
      "Nₜ=20:\n",
      "Y0(95,0.4)=4.405874139043785:\n",
      "Y0(100,0.4)=5.819929783718741:\n",
      "Y0(105,0.4)=5.636596132538909:\n",
      "Runtime[s]=12.205006837844849:\n"
     ]
    },
    {
     "name": "stderr",
     "output_type": "stream",
     "text": [
      "\r",
      "\u001b[32mProgress:  33%|█████████████▋                           |  ETA: 0:00:37\u001b[39m"
     ]
    },
    {
     "name": "stdout",
     "output_type": "stream",
     "text": [
      "Nₜ=50:\n",
      "Y0(95,0.4)=4.405480852137364:\n",
      "Y0(100,0.4)=5.819369880114491:\n",
      "Y0(105,0.4)=5.636055486660441:\n",
      "Runtime[s]=28.900791883468628:\n"
     ]
    },
    {
     "name": "stderr",
     "output_type": "stream",
     "text": [
      "\r",
      "\u001b[32mProgress:  50%|████████████████████▌                    |  ETA: 0:00:48\u001b[39m"
     ]
    },
    {
     "name": "stdout",
     "output_type": "stream",
     "text": [
      "Nₜ=100:\n",
      "Y0(95,0.4)=4.405424018146079:\n",
      "Y0(100,0.4)=5.81929332102131:\n",
      "Y0(105,0.4)=5.63597826549583:\n",
      "Runtime[s]=55.80211114883423:\n"
     ]
    },
    {
     "name": "stderr",
     "output_type": "stream",
     "text": [
      "\r",
      "\u001b[32mProgress:  67%|███████████████████████████▍             |  ETA: 0:00:52\u001b[39m"
     ]
    },
    {
     "name": "stdout",
     "output_type": "stream",
     "text": [
      "Nₜ=200:\n",
      "Y0(95,0.4)=4.405407133524877:\n",
      "Y0(100,0.4)=5.819272927768926:\n",
      "Y0(105,0.4)=5.635962101731115:\n",
      "Runtime[s]=108.3887391090393:\n"
     ]
    },
    {
     "name": "stderr",
     "output_type": "stream",
     "text": [
      "\r",
      "\u001b[32mProgress:  83%|██████████████████████████████████▏      |  ETA: 0:00:42\u001b[39m"
     ]
    },
    {
     "name": "stdout",
     "output_type": "stream",
     "text": [
      "Nₜ=500:\n",
      "Y0(95,0.4)=4.405403473422101:\n",
      "Y0(100,0.4)=5.819268407717285:\n",
      "Y0(105,0.4)=5.6359583736837635:\n",
      "Runtime[s]=245.40746903419495:\n"
     ]
    },
    {
     "name": "stderr",
     "output_type": "stream",
     "text": [
      "\u001b[32mProgress: 100%|█████████████████████████████████████████| Time: 0:07:37\u001b[39m\n",
      "\u001b[32mProgress:  75%|██████████████████████████████▊          |  ETA: 0:04:39\u001b[39m"
     ]
    },
    {
     "name": "stdout",
     "output_type": "stream",
     "text": [
      "q=10:\n",
      "Nₜ=10:\n",
      "Y0(95,0.4)=4.40617234801524:\n",
      "Y0(100,0.4)=5.822261122031782:\n",
      "Y0(105,0.4)=5.639659256544322:\n",
      "Runtime[s]=13.499155044555664:\n",
      "Nₜ=20:\n",
      "Y0(95,0.4)=4.405244166267368:\n",
      "Y0(100,0.4)=5.8206926453975:\n",
      "Y0(105,0.4)=5.637973551946297:\n",
      "Runtime[s]=19.423651933670044:\n"
     ]
    },
    {
     "name": "stderr",
     "output_type": "stream",
     "text": [
      "\r",
      "\u001b[32mProgress:  33%|█████████████▋                           |  ETA: 0:01:06\u001b[39m"
     ]
    },
    {
     "name": "stdout",
     "output_type": "stream",
     "text": [
      "Nₜ=50:\n",
      "Y0(95,0.4)=4.404790685495472:\n",
      "Y0(100,0.4)=5.820012196915262:\n",
      "Y0(105,0.4)=5.637296053191072:\n",
      "Runtime[s]=45.781708002090454:\n"
     ]
    },
    {
     "name": "stderr",
     "output_type": "stream",
     "text": [
      "\r",
      "\u001b[32mProgress:  50%|████████████████████▌                    |  ETA: 0:01:19\u001b[39m"
     ]
    },
    {
     "name": "stdout",
     "output_type": "stream",
     "text": [
      "Nₜ=100:\n",
      "Y0(95,0.4)=4.404706269257865:\n",
      "Y0(100,0.4)=5.819885168431147:\n",
      "Y0(105,0.4)=5.6371682384322455:\n",
      "Runtime[s]=94.94044995307922:\n"
     ]
    },
    {
     "name": "stderr",
     "output_type": "stream",
     "text": [
      "\r",
      "\u001b[32mProgress:  67%|███████████████████████████▍             |  ETA: 0:01:27\u001b[39m"
     ]
    },
    {
     "name": "stdout",
     "output_type": "stream",
     "text": [
      "Nₜ=200:\n",
      "Y0(95,0.4)=4.404676830803216:\n",
      "Y0(100,0.4)=5.819844634163274:\n",
      "Y0(105,0.4)=5.637128983564994:\n",
      "Runtime[s]=188.32427096366882:\n"
     ]
    },
    {
     "name": "stderr",
     "output_type": "stream",
     "text": [
      "\r",
      "\u001b[32mProgress:  83%|██████████████████████████████████▏      |  ETA: 0:01:12\u001b[39m"
     ]
    },
    {
     "name": "stdout",
     "output_type": "stream",
     "text": [
      "Nₜ=500:\n",
      "Y0(95,0.4)=4.404667100011096:\n",
      "Y0(100,0.4)=5.819832052253556:\n",
      "Y0(105,0.4)=5.637117672601148:\n",
      "Runtime[s]=461.6932590007782:\n"
     ]
    },
    {
     "name": "stderr",
     "output_type": "stream",
     "text": [
      "\u001b[32mProgress: 100%|█████████████████████████████████████████| Time: 0:13:43\u001b[39m\n",
      "\u001b[32mProgress: 100%|█████████████████████████████████████████| Time: 0:27:41\u001b[39m\n",
      "\u001b[32mProgress:  86%|███████████████████████████████████▏     |  ETA: 0:15:55\u001b[39m"
     ]
    },
    {
     "name": "stdout",
     "output_type": "stream",
     "text": [
      "q=7:\n",
      "Nₜ=10:\n",
      "Y0(95,0.4)=4.408377665236383:\n",
      "Y0(100,0.4)=5.813014880386875:\n",
      "Y0(105,0.4)=5.622148911457231:\n",
      "Runtime[s]=1.377845048904419:\n",
      "Nₜ=20:\n",
      "Y0(95,0.4)=4.408076159362286:\n",
      "Y0(100,0.4)=5.812748504212447:\n",
      "Y0(105,0.4)=5.621883270362696:\n",
      "Runtime[s]=2.6581320762634277:\n"
     ]
    },
    {
     "name": "stderr",
     "output_type": "stream",
     "text": [
      "\r",
      "\u001b[32mProgress:  33%|█████████████▋                           |  ETA: 0:00:08\u001b[39m"
     ]
    },
    {
     "name": "stdout",
     "output_type": "stream",
     "text": [
      "Nₜ=50:\n",
      "Y0(95,0.4)=4.408004921772568:\n",
      "Y0(100,0.4)=5.812673572330828:\n",
      "Y0(105,0.4)=5.6218107501694305:\n",
      "Runtime[s]=6.35945200920105:\n"
     ]
    },
    {
     "name": "stderr",
     "output_type": "stream",
     "text": [
      "\r",
      "\u001b[32mProgress:  50%|████████████████████▌                    |  ETA: 0:00:10\u001b[39m"
     ]
    },
    {
     "name": "stdout",
     "output_type": "stream",
     "text": [
      "Nₜ=100:\n",
      "Y0(95,0.4)=4.408004272222177:\n",
      "Y0(100,0.4)=5.812682570668816:\n",
      "Y0(105,0.4)=5.621816640167103:\n",
      "Runtime[s]=12.387748956680298:\n"
     ]
    },
    {
     "name": "stderr",
     "output_type": "stream",
     "text": [
      "\r",
      "\u001b[32mProgress:  67%|███████████████████████████▍             |  ETA: 0:00:11\u001b[39m"
     ]
    },
    {
     "name": "stdout",
     "output_type": "stream",
     "text": [
      "Nₜ=200:\n",
      "Y0(95,0.4)=4.408005606519561:\n",
      "Y0(100,0.4)=5.812683067225194:\n",
      "Y0(105,0.4)=5.621816985570447:\n",
      "Runtime[s]=24.452924013137817:\n"
     ]
    },
    {
     "name": "stderr",
     "output_type": "stream",
     "text": [
      "\r",
      "\u001b[32mProgress:  83%|██████████████████████████████████▏      |  ETA: 0:00:09\u001b[39m"
     ]
    },
    {
     "name": "stdout",
     "output_type": "stream",
     "text": [
      "Nₜ=500:\n",
      "Y0(95,0.4)=4.4080052123005435:\n",
      "Y0(100,0.4)=5.812682422921387:\n",
      "Y0(105,0.4)=5.621816653411641:\n",
      "Runtime[s]=60.19942021369934:\n"
     ]
    },
    {
     "name": "stderr",
     "output_type": "stream",
     "text": [
      "\r",
      "\u001b[32mProgress: 100%|█████████████████████████████████████████| Time: 0:01:47\u001b[39m\n"
     ]
    },
    {
     "name": "stdout",
     "output_type": "stream",
     "text": [
      "q=8:\n",
      "Nₜ=10:\n",
      "Y0(95,0.4)=4.408200244228611:\n",
      "Y0(100,0.4)=5.819066649204499:\n",
      "Y0(105,0.4)=5.633699199448202:\n",
      "Runtime[s]=2.5443148612976074:\n",
      "Nₜ=20:\n",
      "Y0(95,0.4)=4.407296703169065:\n",
      "Y0(100,0.4)=5.817786126064894:\n",
      "Y0(105,0.4)=5.632473315987381:\n",
      "Runtime[s]=4.8529438972473145:\n"
     ]
    },
    {
     "name": "stderr",
     "output_type": "stream",
     "text": [
      "\r",
      "\u001b[32mProgress:  33%|█████████████▋                           |  ETA: 0:00:15\u001b[39m"
     ]
    },
    {
     "name": "stdout",
     "output_type": "stream",
     "text": [
      "Nₜ=50:\n",
      "Y0(95,0.4)=4.4070151036755085:\n",
      "Y0(100,0.4)=5.8174408019657164:\n",
      "Y0(105,0.4)=5.632157228108323:\n",
      "Runtime[s]=11.549854040145874:\n"
     ]
    },
    {
     "name": "stderr",
     "output_type": "stream",
     "text": [
      "\r",
      "\u001b[32mProgress:  50%|████████████████████▌                    |  ETA: 0:00:19\u001b[39m"
     ]
    },
    {
     "name": "stdout",
     "output_type": "stream",
     "text": [
      "Nₜ=100:\n",
      "Y0(95,0.4)=4.406990505209247:\n",
      "Y0(100,0.4)=5.817392848925624:\n",
      "Y0(105,0.4)=5.632118439761605:\n",
      "Runtime[s]=22.552673816680908:\n"
     ]
    },
    {
     "name": "stderr",
     "output_type": "stream",
     "text": [
      "\r",
      "\u001b[32mProgress:  67%|███████████████████████████▍             |  ETA: 0:00:21\u001b[39m"
     ]
    },
    {
     "name": "stdout",
     "output_type": "stream",
     "text": [
      "Nₜ=200:\n",
      "Y0(95,0.4)=4.406986647860027:\n",
      "Y0(100,0.4)=5.81738916478294:\n",
      "Y0(105,0.4)=5.632114647274356:\n",
      "Runtime[s]=44.27448797225952:\n"
     ]
    },
    {
     "name": "stderr",
     "output_type": "stream",
     "text": [
      "\r",
      "\u001b[32mProgress:  83%|██████████████████████████████████▏      |  ETA: 0:00:17\u001b[39m"
     ]
    },
    {
     "name": "stdout",
     "output_type": "stream",
     "text": [
      "Nₜ=500:\n",
      "Y0(95,0.4)=4.406986063708327:\n",
      "Y0(100,0.4)=5.817389206620583:\n",
      "Y0(105,0.4)=5.632114635110108:\n",
      "Runtime[s]=108.60846710205078:\n"
     ]
    },
    {
     "name": "stderr",
     "output_type": "stream",
     "text": [
      "\u001b[32mProgress: 100%|█████████████████████████████████████████| Time: 0:03:14\u001b[39m\n",
      "\u001b[32mProgress:  50%|████████████████████▌                    |  ETA: 0:05:02\u001b[39m"
     ]
    },
    {
     "name": "stdout",
     "output_type": "stream",
     "text": [
      "q=9:\n",
      "Nₜ=10:\n",
      "Y0(95,0.4)=4.406987852040961:\n",
      "Y0(100,0.4)=5.821480660542363:\n",
      "Y0(105,0.4)=5.63813806810192:\n",
      "Runtime[s]=4.803340911865234:\n",
      "Nₜ=20:\n",
      "Y0(95,0.4)=4.4058857109669995:\n",
      "Y0(100,0.4)=5.819945113046066:\n",
      "Y0(105,0.4)=5.636611141854978:\n",
      "Runtime[s]=9.202292919158936:\n"
     ]
    },
    {
     "name": "stderr",
     "output_type": "stream",
     "text": [
      "\r",
      "\u001b[32mProgress:  33%|█████████████▋                           |  ETA: 0:00:28\u001b[39m"
     ]
    },
    {
     "name": "stdout",
     "output_type": "stream",
     "text": [
      "Nₜ=50:\n",
      "Y0(95,0.4)=4.4054829597991105:\n",
      "Y0(100,0.4)=5.819373791265197:\n",
      "Y0(105,0.4)=5.636059801018094:\n",
      "Runtime[s]=22.21002697944641:\n"
     ]
    },
    {
     "name": "stderr",
     "output_type": "stream",
     "text": [
      "\r",
      "\u001b[32mProgress:  50%|████████████████████▌                    |  ETA: 0:00:36\u001b[39m"
     ]
    },
    {
     "name": "stdout",
     "output_type": "stream",
     "text": [
      "Nₜ=100:\n",
      "Y0(95,0.4)=4.405424508102897:\n",
      "Y0(100,0.4)=5.819294120441411:\n",
      "Y0(105,0.4)=5.6359791138721285:\n",
      "Runtime[s]=43.7522451877594:\n"
     ]
    },
    {
     "name": "stderr",
     "output_type": "stream",
     "text": [
      "\r",
      "\u001b[32mProgress:  67%|███████████████████████████▍             |  ETA: 0:00:40\u001b[39m"
     ]
    },
    {
     "name": "stdout",
     "output_type": "stream",
     "text": [
      "Nₜ=200:\n",
      "Y0(95,0.4)=4.405407235825632:\n",
      "Y0(100,0.4)=5.819273073095275:\n",
      "Y0(105,0.4)=5.635962240447334:\n",
      "Runtime[s]=86.15005993843079:\n"
     ]
    },
    {
     "name": "stderr",
     "output_type": "stream",
     "text": [
      "\r",
      "\u001b[32mProgress:  83%|██████████████████████████████████▏      |  ETA: 0:00:33\u001b[39m"
     ]
    },
    {
     "name": "stdout",
     "output_type": "stream",
     "text": [
      "Nₜ=500:\n",
      "Y0(95,0.4)=4.405403480965642:\n",
      "Y0(100,0.4)=5.819268417903556:\n",
      "Y0(105,0.4)=5.635958383060096:\n",
      "Runtime[s]=211.2718460559845:\n"
     ]
    },
    {
     "name": "stderr",
     "output_type": "stream",
     "text": [
      "\u001b[32mProgress: 100%|█████████████████████████████████████████| Time: 0:06:17\u001b[39m\n",
      "\u001b[32mProgress:  75%|██████████████████████████████▊          |  ETA: 0:03:46\u001b[39m"
     ]
    },
    {
     "name": "stdout",
     "output_type": "stream",
     "text": [
      "q=10:\n",
      "Nₜ=10:\n",
      "Y0(95,0.4)=4.406208756952719:\n",
      "Y0(100,0.4)=5.822282251551099:\n",
      "Y0(105,0.4)=5.6396753605988375:\n",
      "Runtime[s]=11.09979510307312:\n",
      "Nₜ=20:\n",
      "Y0(95,0.4)=4.405251959011334:\n",
      "Y0(100,0.4)=5.820700816105909:\n",
      "Y0(105,0.4)=5.637981884851746:\n",
      "Runtime[s]=21.364314794540405:\n"
     ]
    },
    {
     "name": "stderr",
     "output_type": "stream",
     "text": [
      "\r",
      "\u001b[32mProgress:  33%|█████████████▋                           |  ETA: 0:01:05\u001b[39m"
     ]
    },
    {
     "name": "stdout",
     "output_type": "stream",
     "text": [
      "Nₜ=50:\n",
      "Y0(95,0.4)=4.404792408339339:\n",
      "Y0(100,0.4)=5.82001532486:\n",
      "Y0(105,0.4)=5.637299885421905:\n",
      "Runtime[s]=49.87459206581116:\n"
     ]
    },
    {
     "name": "stderr",
     "output_type": "stream",
     "text": [
      "\r",
      "\u001b[32mProgress:  50%|████████████████████▌                    |  ETA: 0:01:22\u001b[39m"
     ]
    },
    {
     "name": "stdout",
     "output_type": "stream",
     "text": [
      "Nₜ=100:\n",
      "Y0(95,0.4)=4.404706700876011:\n",
      "Y0(100,0.4)=5.8198859771163445:\n",
      "Y0(105,0.4)=5.637169172015161:\n",
      "Runtime[s]=100.20580291748047:\n"
     ]
    },
    {
     "name": "stderr",
     "output_type": "stream",
     "text": [
      "\r",
      "\u001b[32mProgress:  67%|███████████████████████████▍             |  ETA: 0:01:31\u001b[39m"
     ]
    },
    {
     "name": "stdout",
     "output_type": "stream",
     "text": [
      "Nₜ=200:\n",
      "Y0(95,0.4)=4.4046769462916755:\n",
      "Y0(100,0.4)=5.819844824797343:\n",
      "Y0(105,0.4)=5.637129185620383:\n",
      "Runtime[s]=195.72251915931702:\n"
     ]
    },
    {
     "name": "stderr",
     "output_type": "stream",
     "text": [
      "\r",
      "\u001b[32mProgress:  83%|██████████████████████████████████▏      |  ETA: 0:01:16\u001b[39m"
     ]
    },
    {
     "name": "stdout",
     "output_type": "stream",
     "text": [
      "Nₜ=500:\n",
      "Y0(95,0.4)=4.404667116950568:\n",
      "Y0(100,0.4)=5.819832078755204:\n",
      "Y0(105,0.4)=5.637117699849672:\n",
      "Runtime[s]=482.85816192626953:\n"
     ]
    },
    {
     "name": "stderr",
     "output_type": "stream",
     "text": [
      "\u001b[32mProgress: 100%|█████████████████████████████████████████| Time: 0:14:21\u001b[39m\n",
      "\u001b[32mProgress: 100%|█████████████████████████████████████████| Time: 0:25:40\u001b[39m\n",
      "\u001b[32mProgress: 100%|█████████████████████████████████████████| Time: 2:01:09\u001b[39m\n"
     ]
    }
   ],
   "source": [
    "dfs = Array{DataFrame, 1}(undef, length(schemes))\n",
    "@showprogress for (snum, attr) in enumerate(schemes)\n",
    "    scheme = attr[1]\n",
    "    EXPINT = attr[2]\n",
    "    schemename = split(split(string(scheme), '{')[1], '(')[1]\n",
    "    dfs[snum] = DataFrame([[],[],[],[],[],[],[],[]], header)\n",
    "    @showprogress for q in [7,8,9,10]\n",
    "        print(string(\"q=\", q,\":\\n\")); flush(stdout)\n",
    "        sol95 = zeros(Float64, length(Nₜs));     \n",
    "        sol100 = zeros(Float64, length(Nₜs)); \n",
    "        sol105 = zeros(Float64, length(Nₜs)); \n",
    "        runtimes = zeros(Float64, length(Nₜs))\n",
    "        spind = sparse_indices(q, d)\n",
    "        @showprogress for (ind, Nₜ) in enumerate(Nₜs)\n",
    "            print(string(\"Nₜ=\", Nₜ,\":\\n\")); flush(stdout)\n",
    "            timestep = max(Nₜ÷100,1)\n",
    "            exc_start = time()\n",
    "            results = [solveProb(mind, bsde, Nₜ, scheme) for mind in spind]\n",
    "            data = [dat[1] for dat in results]\n",
    "            grids = [dat[2] for dat in results]\n",
    "            if all([size(dat)[2] == Nₜ+1 for dat in data])\n",
    "                sg_interp = SparseGridInterpolation(data, grids, spind, q, d, Nₜ, lefts, rights, centers)\n",
    "                exc_stop = time()\n",
    "                sol95[ind] = sg_interp.Interpolant(Nₜ+1, [95.0,0.4])\n",
    "                sol100[ind] = sg_interp.Interpolant(Nₜ+1, [100.0,0.4])\n",
    "                sol105[ind] = sg_interp.Interpolant(Nₜ+1, [105.0,0.4])\n",
    "            else\n",
    "                exc_stop = time()\n",
    "                sol95[ind] = Inf\n",
    "                sol100[ind] = Inf\n",
    "                sol105[ind] = Inf\n",
    "            end\n",
    "            runtimes[ind] = exc_stop - exc_start\n",
    "            print(string(\"Y0(95,0.4)=\", sol95[ind],\":\\n\")); flush(stdout)\n",
    "            print(string(\"Y0(100,0.4)=\", sol100[ind],\":\\n\")); flush(stdout)\n",
    "            print(string(\"Y0(105,0.4)=\", sol105[ind],\":\\n\")); flush(stdout)\n",
    "            print(string(\"Runtime[s]=\", runtimes[ind],\":\\n\")); flush(stdout)\n",
    "        end\n",
    "        row_95 = vcat([string(q), \"Y0(95,0.4)\"], string.(sol95)); push!(dfs[snum],row_95);\n",
    "        row_100 = vcat([string(q), \"Y0(100,0.4)\"], string.(sol100)); push!(dfs[snum],row_100);\n",
    "        row_105 = vcat([string(q), \"Y0(105,0.4)\"], string.(sol105)); push!(dfs[snum],row_105);\n",
    "        row_run = vcat([string(q), \"Runtime[s]\"], string.(runtimes)); push!(dfs[snum],row_run);\n",
    "    end\n",
    "    dfs[snum] |> CSV.write(string(schemename, \".csv\"))\n",
    "end"
   ]
  },
  {
   "cell_type": "code",
   "execution_count": null,
   "id": "4858bc8d",
   "metadata": {},
   "outputs": [],
   "source": []
  }
 ],
 "metadata": {
  "@webio": {
   "lastCommId": null,
   "lastKernelId": null
  },
  "kernelspec": {
   "display_name": "Julia 1.9.1",
   "language": "julia",
   "name": "julia-1.9"
  },
  "language_info": {
   "file_extension": ".jl",
   "mimetype": "application/julia",
   "name": "julia",
   "version": "1.9.1"
  }
 },
 "nbformat": 4,
 "nbformat_minor": 5
}
