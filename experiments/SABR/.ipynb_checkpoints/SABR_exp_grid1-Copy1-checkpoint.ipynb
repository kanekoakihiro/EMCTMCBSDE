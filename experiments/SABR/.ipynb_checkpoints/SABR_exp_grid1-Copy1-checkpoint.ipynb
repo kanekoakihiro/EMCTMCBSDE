{
 "cells": [
  {
   "cell_type": "code",
   "execution_count": 1,
   "id": "535a379d",
   "metadata": {},
   "outputs": [
    {
     "data": {
      "text/plain": [
       "MethodOfLines (generic function with 1 method)"
      ]
     },
     "execution_count": 1,
     "metadata": {},
     "output_type": "execute_result"
    }
   ],
   "source": [
    "using Distributions, CSV, DataFrames, ProgressMeter\n",
    "include(\"../../utils_slv.jl\")"
   ]
  },
  {
   "cell_type": "markdown",
   "id": "e08e124b",
   "metadata": {},
   "source": [
    "### Parameters"
   ]
  },
  {
   "cell_type": "code",
   "execution_count": 2,
   "id": "0eafde0a",
   "metadata": {},
   "outputs": [],
   "source": [
    "T = 1.0; r=0.05; S0 = 100.0; v0 = 0.4; α = 0.4; β = 0.9; ρ = 0.3; K = 100.0;\n",
    "slvm = SABRSLV(S0::Float64, v0::Float64, α::Float64, β::Float64, ρ::Float64, r::Float64);\n",
    "Π = [1.0 ρ; ρ 1.0]; cholΠ=cholesky(Π).L\n",
    "\n",
    "drift(x) = [slvm.ω(abs(x[1]),abs(x[2])), slvm.μ(abs(x[2]))]\n",
    "diffusion(x) = Diagonal(\n",
    "        [slvm.m(abs(x[2]))*slvm.Γ(abs(x[1])), slvm.σ(abs(x[2]))]\n",
    "        )*cholΠ\n",
    "\n",
    "R = r;\n",
    "driver(t, x, y, z) = (\n",
    "    -r*y\n",
    ")\n",
    "terminal(x) = max(x[1]-K,0)\n",
    "bsde = BSDE(T, [S0, v0], drift, diffusion, driver, terminal);"
   ]
  },
  {
   "cell_type": "markdown",
   "id": "d928e258",
   "metadata": {},
   "source": [
    "### Hagan's formula"
   ]
  },
  {
   "cell_type": "code",
   "execution_count": 3,
   "id": "c43dc320",
   "metadata": {},
   "outputs": [],
   "source": [
    "function implied_volatility(t::Float64, f::Float64, v::Float64)\n",
    "    # hagan\n",
    "    if f != K\n",
    "        numerator = (\n",
    "            v * (\n",
    "                1 + (\n",
    "                    (1-β)^2/24 * v^2/(f*K)^(1-β) \n",
    "                    + 1/4 * ρ*β*α*v/(f*K)^((1-β)/2)\n",
    "                    + (2-3*ρ^2)/24 * α^2\n",
    "                    ) * t\n",
    "                )\n",
    "            )\n",
    "        denominator = (\n",
    "            (f*K)^((1-β)/2) * (\n",
    "                1 + (1-β)^2/24 * log(f/K)^2\n",
    "                + (1-β)^4/1920 * log(f/K)^4\n",
    "                )\n",
    "            )\n",
    "        z = α/v * (f*K)^((1-β)/2) * log(f/K)\n",
    "        x = log((sqrt(1-2*ρ*z+z^2)+z-ρ)/(1-ρ))\n",
    "        return numerator/denominator * z/x\n",
    "    else\n",
    "        numerator = v * (\n",
    "            1 + (\n",
    "                (1-β)^2/24 * v^2/f^(2-2*β) \n",
    "                + 1/4 * ρ*β*α*v/f^(1-β)\n",
    "                + (2-3*ρ^2)/24 * α^2\n",
    "                ) * t\n",
    "        )\n",
    "        denominator = f^(1-β)\n",
    "        return numerator/denominator\n",
    "    end\n",
    "end;\n",
    "\n",
    "function BSvanilla(volatility, strike, expiry, spot, interest_rate, dividend_rate)\n",
    "    forward = spot#*exp((interest_rate-dividend_rate)*expiry)\n",
    "    sqrt_var = volatility * sqrt(expiry)\n",
    "    if sqrt_var > 0.0\n",
    "        d1 = log(forward/strike)/sqrt_var + sqrt_var/2\n",
    "        d2 = d1 - sqrt_var\n",
    "        call = forward*cdf(Normal(), d1) - strike*cdf(Normal(), d2)\n",
    "        # put = -forward*cdf(Normal(), -d1) + exp(-(interest_rate-dividend_rate)*expiry)*strike*cdf(Normal(), -d2)\n",
    "    else\n",
    "        call = max(forward-strike, 0.0)\n",
    "        # put = max(strike-forward, 0.0)\n",
    "    end\n",
    "    return exp(-(interest_rate-dividend_rate)*expiry)*call #put\n",
    "end;\n",
    "\n",
    "function price(t::Float64, f::Float64, v::Float64)\n",
    "    return BSvanilla(implied_volatility(T-t, f, v), K, T-t, f, r, 0.0)\n",
    "end;\n"
   ]
  },
  {
   "cell_type": "markdown",
   "id": "b79d202b",
   "metadata": {},
   "source": [
    "## Experiment"
   ]
  },
  {
   "cell_type": "code",
   "execution_count": 4,
   "id": "d1186fa9",
   "metadata": {},
   "outputs": [
    {
     "data": {
      "text/plain": [
       "6-element Vector{Vector{Any}}:\n",
       " [LawsonEuler{0, true, Val{:forward}, true, nothing}(true, 100, 0), true]\n",
       " [NorsettEuler{0, true, Val{:forward}, true, nothing}(true, 100, 0), true]\n",
       " [ETDRK2{0, true, Val{:forward}, true, nothing}(true, 100, 0), true]\n",
       " [ETDRK3{0, true, Val{:forward}, true, nothing}(true, 100, 0), true]\n",
       " [ETDRK4{0, true, Val{:forward}, true, nothing}(true, 100, 0), true]\n",
       " [HochOst4{0, true, Val{:forward}, true, nothing}(true, 100, 0), true]"
      ]
     },
     "execution_count": 4,
     "metadata": {},
     "output_type": "execute_result"
    }
   ],
   "source": [
    "Nₜs = [10, 20, 50, 100, 200]\n",
    "header = vcat([\"scheme\", \"measurement_type\"], string.(Nₜs))\n",
    "df = DataFrame([[],[],[],[],[],[],[]], header)\n",
    "schemes = [\n",
    "    [LawsonEuler(krylov=true, m=100), true],\n",
    "    [NorsettEuler(krylov=true, m=100), true],\n",
    "    [ETDRK2(krylov=true, m=100), true],\n",
    "    [ETDRK3(krylov=true, m=100), true],\n",
    "    [ETDRK4(krylov=true, m=100), true],\n",
    "    [HochOst4(krylov=true, m=100), true]\n",
    "    # [DP5(), false],\n",
    "    # [RadauIIA5(), false]\n",
    "]"
   ]
  },
  {
   "cell_type": "code",
   "execution_count": null,
   "id": "46807dc2",
   "metadata": {},
   "outputs": [],
   "source": []
  },
  {
   "cell_type": "code",
   "execution_count": 5,
   "id": "8017d9e1",
   "metadata": {},
   "outputs": [],
   "source": [
    "### designing grids\n",
    "domain = [[0.0, 2*bsde.X0[1]], [0.0, 2*bsde.X0[2]]];\n",
    "\n",
    "Nₗ = [100, 15]; Δₗ = (bsde.X0-[dom[1] for dom in domain])./Nₗ; \n",
    "Nᵣ = [100, 15]; Δᵣ = ([dom[2] for dom in domain]-bsde.X0)./Nᵣ;"
   ]
  },
  {
   "cell_type": "code",
   "execution_count": 6,
   "id": "6f452727",
   "metadata": {},
   "outputs": [
    {
     "data": {
      "text/plain": [
       "Grid1D([0.0, 0.02666666666666667, 0.05333333333333334, 0.08, 0.10666666666666667, 0.13333333333333333, 0.16, 0.18666666666666668, 0.21333333333333335, 0.24  …  0.56, 0.5866666666666667, 0.6133333333333333, 0.64, 0.6666666666666666, 0.6933333333333334, 0.72, 0.7466666666666667, 0.7733333333333333, 0.8], 31, 15, 15)"
      ]
     },
     "execution_count": 6,
     "metadata": {},
     "output_type": "execute_result"
    }
   ],
   "source": [
    "grids = Array{AbstractGrid,1}(undef, 2)\n",
    "g₁ = 2.0; g₂ = 2.0\n",
    "grids[1] = TavellaRandallGrid(g₁, g₂, domain[1][1], bsde.X0[1], domain[1][2], Nₗ[1], Nᵣ[1])\n",
    "# ratio = (Δₓ[2] * Nₓ[2]) / (Δₓ[1] * Nₓ[1])\n",
    "# grids[2] = TavellaRandallGrid(ratio*g₁, ratio*g₂, Δₓ[2], bsde.X0[2], 2*bsde.X0[2]-Δₓ[2], Int(Nₓ[2]÷2), Int(Nₓ[2]÷2))\n",
    "grids[2] = Grid1D(\n",
    "    vcat(domain[2][1]:Δₗ[2]:bsde.X0[2],(bsde.X0[2]+Δᵣ[2]):Δᵣ[2]:domain[2][2]),\n",
    "    31,\n",
    "    15,\n",
    "    15\n",
    ")"
   ]
  },
  {
   "cell_type": "code",
   "execution_count": 7,
   "id": "0d4f765c",
   "metadata": {
    "scrolled": false
   },
   "outputs": [
    {
     "name": "stderr",
     "output_type": "stream",
     "text": [
      "\u001b[32mProgress: 100%|█████████████████████████████████████████| Time: 0:07:37\u001b[39m\n",
      "\u001b[32mProgress: 100%|█████████████████████████████████████████| Time: 0:07:10\u001b[39m\n",
      "\u001b[32mProgress: 100%|█████████████████████████████████████████| Time: 0:14:06\u001b[39m\n",
      "\u001b[32mProgress: 100%|█████████████████████████████████████████| Time: 0:21:50\u001b[39m\n",
      "\u001b[32mProgress: 100%|█████████████████████████████████████████| Time: 0:35:29\u001b[39m\n",
      "\u001b[32mProgress: 100%|█████████████████████████████████████████| Time: 0:35:12\u001b[39m\n",
      "\u001b[32mProgress: 100%|█████████████████████████████████████████| Time: 2:01:28\u001b[39m\n"
     ]
    },
    {
     "data": {
      "text/plain": [
       "\"SABR_exp_1030g2.csv\""
      ]
     },
     "execution_count": 7,
     "metadata": {},
     "output_type": "execute_result"
    }
   ],
   "source": [
    "d=2\n",
    "@showprogress for attr in schemes\n",
    "    sup_errs = zeros(Float64, length(Nₜs)); abs_errs = zeros(Float64, length(Nₜs)); runtimes = zeros(Float64, length(Nₜs))\n",
    "    scheme = attr[1]\n",
    "    EXPINT = attr[2]\n",
    "    @showprogress for (ind, Nₜ) in enumerate(Nₜs)\n",
    "        exc_start = time()\n",
    "        res = MethodOfLines(bsde, grids, Nₜ, scheme, EXPINT)\n",
    "        exc_stop = time()\n",
    "        sol = res[1]; s_grid = res[2]; \n",
    "        \n",
    "        hagan_sol = zeros(prod([grid.N for grid in grids]), Nₜ+1)\n",
    "        for (index, t) in enumerate((bsde.T/Nₜ).*(0:Nₜ))\n",
    "            hagan_sol[:, index] = price.(Ref(T-t), s_grid[:,1], s_grid[:,2]);\n",
    "        end\n",
    "        abs_err = abs.(hagan_sol-sol)\n",
    "\n",
    "        indmax = zeros(Int64,d)\n",
    "        indmin = zeros(Int64,d)\n",
    "        for dim in 1:d\n",
    "            arr = findall(attr->(attr<1.2*bsde.X0[dim])&&(attr>0.8*bsde.X0[dim]), grids[dim].grid)\n",
    "            indmin[dim] = minimum(arr)\n",
    "            indmax[dim] = maximum(arr)\n",
    "        end\n",
    "\n",
    "        arr=zeros(indmax[1]-indmin[1]+1)\n",
    "        supinds = zeros(Int,indmax[1]-indmin[1]+1,2)\n",
    "\n",
    "        for (ind, pind) in enumerate(indmin[1]:indmax[1])\n",
    "            arr[ind] = maximum(abs_err[(pind-1)*grids[2].N+indmin[2]+1:(pind-1)*grids[2].N+indmax[2],2:end])\n",
    "            tmp=argmax(abs_err[(pind-1)*grids[2].N+indmin[2]+1:(pind-1)*grids[2].N+indmax[2],2:end])\n",
    "            supinds[ind,1] = Int(tmp[1]+(pind-1)*grids[2].N+indmin[2]+1)\n",
    "            supinds[ind,2] = Int(tmp[2])\n",
    "        end\n",
    "        \n",
    "        sup_errs[ind] = maximum(arr)\n",
    "        abs_errs[ind] = abs_err[grids[1].Nₗ*grids[2].N + grids[2].Nₗ+1,end]        \n",
    "        runtimes[ind] = exc_stop - exc_start\n",
    "    end\n",
    "    schemename = split(split(string(scheme), '{')[1], '(')[1]\n",
    "    row_sup = vcat([schemename, \"Sup Err\"], string.(sup_errs)); push!(df,row_sup);\n",
    "    row_abs = vcat([schemename, \"Abs Err\"], string.(abs_errs)); push!(df,row_abs);\n",
    "    row_run = vcat([schemename, \"Runtime[s]\"], string.(runtimes)); push!(df,row_run);\n",
    "end\n",
    "df |> CSV.write(string(\"SABR_exp_1030g2.csv\"))"
   ]
  },
  {
   "cell_type": "code",
   "execution_count": 8,
   "id": "85cd78e6",
   "metadata": {},
   "outputs": [
    {
     "data": {
      "text/html": [
       "<div><div style = \"float: left;\"><span>18×7 DataFrame</span></div><div style = \"clear: both;\"></div></div><div class = \"data-frame\" style = \"overflow-x: scroll;\"><table class = \"data-frame\" style = \"margin-bottom: 6px;\"><thead><tr class = \"header\"><th class = \"rowNumber\" style = \"font-weight: bold; text-align: right;\">Row</th><th style = \"text-align: left;\">scheme</th><th style = \"text-align: left;\">measurement_type</th><th style = \"text-align: left;\">10</th><th style = \"text-align: left;\">20</th><th style = \"text-align: left;\">50</th><th style = \"text-align: left;\">100</th><th style = \"text-align: left;\">200</th></tr><tr class = \"subheader headerLastRow\"><th class = \"rowNumber\" style = \"font-weight: bold; text-align: right;\"></th><th title = \"Any\" style = \"text-align: left;\">Any</th><th title = \"Any\" style = \"text-align: left;\">Any</th><th title = \"Any\" style = \"text-align: left;\">Any</th><th title = \"Any\" style = \"text-align: left;\">Any</th><th title = \"Any\" style = \"text-align: left;\">Any</th><th title = \"Any\" style = \"text-align: left;\">Any</th><th title = \"Any\" style = \"text-align: left;\">Any</th></tr></thead><tbody><tr><td class = \"rowNumber\" style = \"font-weight: bold; text-align: right;\">1</td><td style = \"text-align: left;\">LawsonEuler</td><td style = \"text-align: left;\">Sup Err</td><td style = \"text-align: left;\">3.225365098727033</td><td style = \"text-align: left;\">0.6844197909469258</td><td style = \"text-align: left;\">0.13946495417031457</td><td style = \"text-align: left;\">0.034620227031394</td><td style = \"text-align: left;\">0.033457307412421144</td></tr><tr><td class = \"rowNumber\" style = \"font-weight: bold; text-align: right;\">2</td><td style = \"text-align: left;\">LawsonEuler</td><td style = \"text-align: left;\">Abs Err</td><td style = \"text-align: left;\">2.852002684959178</td><td style = \"text-align: left;\">0.32997226081334396</td><td style = \"text-align: left;\">0.022750827552560082</td><td style = \"text-align: left;\">0.0035916490850986804</td><td style = \"text-align: left;\">0.0022371158081657683</td></tr><tr><td class = \"rowNumber\" style = \"font-weight: bold; text-align: right;\">3</td><td style = \"text-align: left;\">LawsonEuler</td><td style = \"text-align: left;\">Runtime[s]</td><td style = \"text-align: left;\">21.222233057022095</td><td style = \"text-align: left;\">25.56925392150879</td><td style = \"text-align: left;\">60.5036940574646</td><td style = \"text-align: left;\">117.44590497016907</td><td style = \"text-align: left;\">228.49678778648376</td></tr><tr><td class = \"rowNumber\" style = \"font-weight: bold; text-align: right;\">4</td><td style = \"text-align: left;\">NorsettEuler</td><td style = \"text-align: left;\">Sup Err</td><td style = \"text-align: left;\">3.3531239950743137</td><td style = \"text-align: left;\">0.6368820867194067</td><td style = \"text-align: left;\">0.1329854965204298</td><td style = \"text-align: left;\">0.03349731689643809</td><td style = \"text-align: left;\">0.03293668584917553</td></tr><tr><td class = \"rowNumber\" style = \"font-weight: bold; text-align: right;\">5</td><td style = \"text-align: left;\">NorsettEuler</td><td style = \"text-align: left;\">Abs Err</td><td style = \"text-align: left;\">2.9597723843369144</td><td style = \"text-align: left;\">0.25273869822392037</td><td style = \"text-align: left;\">0.018613145005373255</td><td style = \"text-align: left;\">0.002229186925823967</td><td style = \"text-align: left;\">0.0016069993322957998</td></tr><tr><td class = \"rowNumber\" style = \"font-weight: bold; text-align: right;\">6</td><td style = \"text-align: left;\">NorsettEuler</td><td style = \"text-align: left;\">Runtime[s]</td><td style = \"text-align: left;\">13.691905975341797</td><td style = \"text-align: left;\">25.597172021865845</td><td style = \"text-align: left;\">57.132344007492065</td><td style = \"text-align: left;\">110.8339729309082</td><td style = \"text-align: left;\">220.13782000541687</td></tr><tr><td class = \"rowNumber\" style = \"font-weight: bold; text-align: right;\">7</td><td style = \"text-align: left;\">ETDRK2</td><td style = \"text-align: left;\">Sup Err</td><td style = \"text-align: left;\">3.3592118960342585</td><td style = \"text-align: left;\">0.6381651775554884</td><td style = \"text-align: left;\">0.13306517905137394</td><td style = \"text-align: left;\">0.034485255495307676</td><td style = \"text-align: left;\">0.033430525009553236</td></tr><tr><td class = \"rowNumber\" style = \"font-weight: bold; text-align: right;\">8</td><td style = \"text-align: left;\">ETDRK2</td><td style = \"text-align: left;\">Abs Err</td><td style = \"text-align: left;\">2.9651029116557366</td><td style = \"text-align: left;\">0.2541682797755094</td><td style = \"text-align: left;\">0.02090772870942814</td><td style = \"text-align: left;\">0.003358688026274592</td><td style = \"text-align: left;\">0.0021714369372087816</td></tr><tr><td class = \"rowNumber\" style = \"font-weight: bold; text-align: right;\">9</td><td style = \"text-align: left;\">ETDRK2</td><td style = \"text-align: left;\">Runtime[s]</td><td style = \"text-align: left;\">25.74985408782959</td><td style = \"text-align: left;\">45.108479022979736</td><td style = \"text-align: left;\">114.94862914085388</td><td style = \"text-align: left;\">215.52819299697876</td><td style = \"text-align: left;\">442.0397710800171</td></tr><tr><td class = \"rowNumber\" style = \"font-weight: bold; text-align: right;\">10</td><td style = \"text-align: left;\">ETDRK3</td><td style = \"text-align: left;\">Sup Err</td><td style = \"text-align: left;\">3.3601380768137084</td><td style = \"text-align: left;\">0.6381594246705005</td><td style = \"text-align: left;\">0.13306113848742562</td><td style = \"text-align: left;\">0.034485736820809354</td><td style = \"text-align: left;\">0.033430607807861445</td></tr><tr><td class = \"rowNumber\" style = \"font-weight: bold; text-align: right;\">11</td><td style = \"text-align: left;\">ETDRK3</td><td style = \"text-align: left;\">Abs Err</td><td style = \"text-align: left;\">2.965913727650139</td><td style = \"text-align: left;\">0.25387929315905744</td><td style = \"text-align: left;\">0.020940746897943896</td><td style = \"text-align: left;\">0.0033597667227507344</td><td style = \"text-align: left;\">0.0021716642285039</td></tr><tr><td class = \"rowNumber\" style = \"font-weight: bold; text-align: right;\">12</td><td style = \"text-align: left;\">ETDRK3</td><td style = \"text-align: left;\">Runtime[s]</td><td style = \"text-align: left;\">35.67423701286316</td><td style = \"text-align: left;\">72.0363621711731</td><td style = \"text-align: left;\">171.99145698547363</td><td style = \"text-align: left;\">351.69718408584595</td><td style = \"text-align: left;\">676.9927399158478</td></tr><tr><td class = \"rowNumber\" style = \"font-weight: bold; text-align: right;\">13</td><td style = \"text-align: left;\">ETDRK4</td><td style = \"text-align: left;\">Sup Err</td><td style = \"text-align: left;\">3.360726564329645</td><td style = \"text-align: left;\">0.6385933468527147</td><td style = \"text-align: left;\">0.13307569659394947</td><td style = \"text-align: left;\">0.03448582671996947</td><td style = \"text-align: left;\">0.033430609040954185</td></tr><tr><td class = \"rowNumber\" style = \"font-weight: bold; text-align: right;\">14</td><td style = \"text-align: left;\">ETDRK4</td><td style = \"text-align: left;\">Abs Err</td><td style = \"text-align: left;\">2.9664773413236194</td><td style = \"text-align: left;\">0.2545290910824658</td><td style = \"text-align: left;\">0.02095406788575893</td><td style = \"text-align: left;\">0.0033598681770108385</td><td style = \"text-align: left;\">0.0021716656223205177</td></tr><tr><td class = \"rowNumber\" style = \"font-weight: bold; text-align: right;\">15</td><td style = \"text-align: left;\">ETDRK4</td><td style = \"text-align: left;\">Runtime[s]</td><td style = \"text-align: left;\">60.424980878829956</td><td style = \"text-align: left;\">116.19990086555481</td><td style = \"text-align: left;\">290.5103340148926</td><td style = \"text-align: left;\">560.6335649490356</td><td style = \"text-align: left;\">1099.5813269615173</td></tr><tr><td class = \"rowNumber\" style = \"font-weight: bold; text-align: right;\">16</td><td style = \"text-align: left;\">HochOst4</td><td style = \"text-align: left;\">Sup Err</td><td style = \"text-align: left;\">3.360138662490164</td><td style = \"text-align: left;\">0.6381595073486945</td><td style = \"text-align: left;\">0.133061138913404</td><td style = \"text-align: left;\">0.03448573521940812</td><td style = \"text-align: left;\">0.03343060781206697</td></tr><tr><td class = \"rowNumber\" style = \"font-weight: bold; text-align: right;\">17</td><td style = \"text-align: left;\">HochOst4</td><td style = \"text-align: left;\">Abs Err</td><td style = \"text-align: left;\">2.965914294584967</td><td style = \"text-align: left;\">0.25387934821511315</td><td style = \"text-align: left;\">0.020940778585696762</td><td style = \"text-align: left;\">0.0033597657156452243</td><td style = \"text-align: left;\">0.0021716642333693414</td></tr><tr><td class = \"rowNumber\" style = \"font-weight: bold; text-align: right;\">18</td><td style = \"text-align: left;\">HochOst4</td><td style = \"text-align: left;\">Runtime[s]</td><td style = \"text-align: left;\">58.229592084884644</td><td style = \"text-align: left;\">110.79308485984802</td><td style = \"text-align: left;\">273.6458740234375</td><td style = \"text-align: left;\">551.6485459804535</td><td style = \"text-align: left;\">1115.0450348854065</td></tr></tbody></table></div>"
      ],
      "text/latex": [
       "\\begin{tabular}{r|cccccc}\n",
       "\t& scheme & measurement\\_type & 10 & 20 & 50 & \\\\\n",
       "\t\\hline\n",
       "\t& Any & Any & Any & Any & Any & \\\\\n",
       "\t\\hline\n",
       "\t1 & LawsonEuler & Sup Err & 3.225365098727033 & 0.6844197909469258 & 0.13946495417031457 & $\\dots$ \\\\\n",
       "\t2 & LawsonEuler & Abs Err & 2.852002684959178 & 0.32997226081334396 & 0.022750827552560082 & $\\dots$ \\\\\n",
       "\t3 & LawsonEuler & Runtime[s] & 21.222233057022095 & 25.56925392150879 & 60.5036940574646 & $\\dots$ \\\\\n",
       "\t4 & NorsettEuler & Sup Err & 3.3531239950743137 & 0.6368820867194067 & 0.1329854965204298 & $\\dots$ \\\\\n",
       "\t5 & NorsettEuler & Abs Err & 2.9597723843369144 & 0.25273869822392037 & 0.018613145005373255 & $\\dots$ \\\\\n",
       "\t6 & NorsettEuler & Runtime[s] & 13.691905975341797 & 25.597172021865845 & 57.132344007492065 & $\\dots$ \\\\\n",
       "\t7 & ETDRK2 & Sup Err & 3.3592118960342585 & 0.6381651775554884 & 0.13306517905137394 & $\\dots$ \\\\\n",
       "\t8 & ETDRK2 & Abs Err & 2.9651029116557366 & 0.2541682797755094 & 0.02090772870942814 & $\\dots$ \\\\\n",
       "\t9 & ETDRK2 & Runtime[s] & 25.74985408782959 & 45.108479022979736 & 114.94862914085388 & $\\dots$ \\\\\n",
       "\t10 & ETDRK3 & Sup Err & 3.3601380768137084 & 0.6381594246705005 & 0.13306113848742562 & $\\dots$ \\\\\n",
       "\t11 & ETDRK3 & Abs Err & 2.965913727650139 & 0.25387929315905744 & 0.020940746897943896 & $\\dots$ \\\\\n",
       "\t12 & ETDRK3 & Runtime[s] & 35.67423701286316 & 72.0363621711731 & 171.99145698547363 & $\\dots$ \\\\\n",
       "\t13 & ETDRK4 & Sup Err & 3.360726564329645 & 0.6385933468527147 & 0.13307569659394947 & $\\dots$ \\\\\n",
       "\t14 & ETDRK4 & Abs Err & 2.9664773413236194 & 0.2545290910824658 & 0.02095406788575893 & $\\dots$ \\\\\n",
       "\t15 & ETDRK4 & Runtime[s] & 60.424980878829956 & 116.19990086555481 & 290.5103340148926 & $\\dots$ \\\\\n",
       "\t16 & HochOst4 & Sup Err & 3.360138662490164 & 0.6381595073486945 & 0.133061138913404 & $\\dots$ \\\\\n",
       "\t17 & HochOst4 & Abs Err & 2.965914294584967 & 0.25387934821511315 & 0.020940778585696762 & $\\dots$ \\\\\n",
       "\t18 & HochOst4 & Runtime[s] & 58.229592084884644 & 110.79308485984802 & 273.6458740234375 & $\\dots$ \\\\\n",
       "\\end{tabular}\n"
      ],
      "text/plain": [
       "\u001b[1m18×7 DataFrame\u001b[0m\n",
       "\u001b[1m Row \u001b[0m│\u001b[1m scheme       \u001b[0m\u001b[1m measurement_type \u001b[0m\u001b[1m 10                 \u001b[0m\u001b[1m 20                 \u001b[0m ⋯\n",
       "     │\u001b[90m Any          \u001b[0m\u001b[90m Any              \u001b[0m\u001b[90m Any                \u001b[0m\u001b[90m Any                \u001b[0m ⋯\n",
       "─────┼──────────────────────────────────────────────────────────────────────────\n",
       "   1 │ LawsonEuler   Sup Err           3.225365098727033   0.6844197909469258  ⋯\n",
       "   2 │ LawsonEuler   Abs Err           2.852002684959178   0.32997226081334396\n",
       "   3 │ LawsonEuler   Runtime[s]        21.222233057022095  25.56925392150879\n",
       "   4 │ NorsettEuler  Sup Err           3.3531239950743137  0.6368820867194067\n",
       "   5 │ NorsettEuler  Abs Err           2.9597723843369144  0.25273869822392037 ⋯\n",
       "   6 │ NorsettEuler  Runtime[s]        13.691905975341797  25.597172021865845\n",
       "   7 │ ETDRK2        Sup Err           3.3592118960342585  0.6381651775554884\n",
       "   8 │ ETDRK2        Abs Err           2.9651029116557366  0.2541682797755094\n",
       "   9 │ ETDRK2        Runtime[s]        25.74985408782959   45.108479022979736  ⋯\n",
       "  10 │ ETDRK3        Sup Err           3.3601380768137084  0.6381594246705005\n",
       "  11 │ ETDRK3        Abs Err           2.965913727650139   0.25387929315905744\n",
       "  12 │ ETDRK3        Runtime[s]        35.67423701286316   72.0363621711731\n",
       "  13 │ ETDRK4        Sup Err           3.360726564329645   0.6385933468527147  ⋯\n",
       "  14 │ ETDRK4        Abs Err           2.9664773413236194  0.2545290910824658\n",
       "  15 │ ETDRK4        Runtime[s]        60.424980878829956  116.19990086555481\n",
       "  16 │ HochOst4      Sup Err           3.360138662490164   0.6381595073486945\n",
       "  17 │ HochOst4      Abs Err           2.965914294584967   0.25387934821511315 ⋯\n",
       "  18 │ HochOst4      Runtime[s]        58.229592084884644  110.79308485984802\n",
       "\u001b[36m                                                               3 columns omitted\u001b[0m"
      ]
     },
     "execution_count": 8,
     "metadata": {},
     "output_type": "execute_result"
    }
   ],
   "source": [
    "df"
   ]
  },
  {
   "cell_type": "code",
   "execution_count": null,
   "id": "f6c40b8b",
   "metadata": {},
   "outputs": [],
   "source": []
  }
 ],
 "metadata": {
  "@webio": {
   "lastCommId": null,
   "lastKernelId": null
  },
  "kernelspec": {
   "display_name": "Julia 1.9.1",
   "language": "julia",
   "name": "julia-1.9"
  },
  "language_info": {
   "file_extension": ".jl",
   "mimetype": "application/julia",
   "name": "julia",
   "version": "1.9.1"
  }
 },
 "nbformat": 4,
 "nbformat_minor": 5
}
