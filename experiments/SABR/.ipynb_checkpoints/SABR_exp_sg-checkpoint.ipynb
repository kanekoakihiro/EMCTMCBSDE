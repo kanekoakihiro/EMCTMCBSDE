{
 "cells": [
  {
   "cell_type": "code",
   "execution_count": 1,
   "id": "535a379d",
   "metadata": {},
   "outputs": [
    {
     "data": {
      "text/plain": [
       "MethodOfLines (generic function with 1 method)"
      ]
     },
     "execution_count": 1,
     "metadata": {},
     "output_type": "execute_result"
    }
   ],
   "source": [
    "using Distributions, CSV, DataFrames, ProgressMeter\n",
    "include(\"../../utils_slv.jl\")"
   ]
  },
  {
   "cell_type": "markdown",
   "id": "e08e124b",
   "metadata": {},
   "source": [
    "### Parameters"
   ]
  },
  {
   "cell_type": "code",
   "execution_count": 2,
   "id": "0eafde0a",
   "metadata": {},
   "outputs": [],
   "source": [
    "T = 1.0; r=0.05; S0 = 100.0; v0 = 0.4; α = 0.4; β = 0.9; ρ = 0.3; K = 100.0;\n",
    "slvm = SABRSLV(S0::Float64, v0::Float64, α::Float64, β::Float64, ρ::Float64, r::Float64);\n",
    "Π = [1.0 ρ; ρ 1.0]; cholΠ=cholesky(Π).L\n",
    "\n",
    "drift(x) = [slvm.ω(abs(x[1]),abs(x[2])), slvm.μ(abs(x[2]))]\n",
    "diffusion(x) = Diagonal(\n",
    "        [slvm.m(abs(x[2]))*slvm.Γ(abs(x[1])), slvm.σ(abs(x[2]))]\n",
    "        )*cholΠ\n",
    "\n",
    "R = r;\n",
    "driver(t, x, y, z) = (\n",
    "    -r*y\n",
    ")\n",
    "terminal(x) = max(x[1]-K,0)\n",
    "bsde = BSDE(T, [S0, v0], drift, diffusion, driver, terminal);"
   ]
  },
  {
   "cell_type": "markdown",
   "id": "d928e258",
   "metadata": {},
   "source": [
    "### Hagan's formula"
   ]
  },
  {
   "cell_type": "code",
   "execution_count": 3,
   "id": "c43dc320",
   "metadata": {},
   "outputs": [],
   "source": [
    "function implied_volatility(t::Float64, f::Float64, v::Float64)\n",
    "    # hagan\n",
    "    if f != K\n",
    "        numerator = (\n",
    "            v * (\n",
    "                1 + (\n",
    "                    (1-β)^2/24 * v^2/(f*K)^(1-β) \n",
    "                    + 1/4 * ρ*β*α*v/(f*K)^((1-β)/2)\n",
    "                    + (2-3*ρ^2)/24 * α^2\n",
    "                    ) * t\n",
    "                )\n",
    "            )\n",
    "        denominator = (\n",
    "            (f*K)^((1-β)/2) * (\n",
    "                1 + (1-β)^2/24 * log(f/K)^2\n",
    "                + (1-β)^4/1920 * log(f/K)^4\n",
    "                )\n",
    "            )\n",
    "        z = α/v * (f*K)^((1-β)/2) * log(f/K)\n",
    "        x = log((sqrt(1-2*ρ*z+z^2)+z-ρ)/(1-ρ))\n",
    "        return numerator/denominator * z/x\n",
    "    else\n",
    "        numerator = v * (\n",
    "            1 + (\n",
    "                (1-β)^2/24 * v^2/f^(2-2*β) \n",
    "                + 1/4 * ρ*β*α*v/f^(1-β)\n",
    "                + (2-3*ρ^2)/24 * α^2\n",
    "                ) * t\n",
    "        )\n",
    "        denominator = f^(1-β)\n",
    "        return numerator/denominator\n",
    "    end\n",
    "end;\n",
    "\n",
    "function BSvanilla(volatility, strike, expiry, spot, interest_rate, dividend_rate)\n",
    "    forward = spot#*exp((interest_rate-dividend_rate)*expiry)\n",
    "    sqrt_var = volatility * sqrt(expiry)\n",
    "    if sqrt_var > 0.0\n",
    "        d1 = log(forward/strike)/sqrt_var + sqrt_var/2\n",
    "        d2 = d1 - sqrt_var\n",
    "        call = forward*cdf(Normal(), d1) - strike*cdf(Normal(), d2)\n",
    "        # put = -forward*cdf(Normal(), -d1) + exp(-(interest_rate-dividend_rate)*expiry)*strike*cdf(Normal(), -d2)\n",
    "    else\n",
    "        call = max(forward-strike, 0.0)\n",
    "        # put = max(strike-forward, 0.0)\n",
    "    end\n",
    "    return exp(-(interest_rate-dividend_rate)*expiry)*call #put\n",
    "end;\n",
    "\n",
    "function price(t::Float64, f::Float64, v::Float64)\n",
    "    return BSvanilla(implied_volatility(T-t, f, v), K, T-t, f, r, 0.0)\n",
    "end;\n"
   ]
  },
  {
   "cell_type": "markdown",
   "id": "b79d202b",
   "metadata": {},
   "source": [
    "## Experiment"
   ]
  },
  {
   "cell_type": "code",
   "execution_count": 4,
   "id": "d1186fa9",
   "metadata": {},
   "outputs": [
    {
     "data": {
      "text/plain": [
       "6-element Vector{Vector{Any}}:\n",
       " [LawsonEuler{0, true, Val{:forward}, true, nothing}(true, 100, 0), true]\n",
       " [NorsettEuler{0, true, Val{:forward}, true, nothing}(true, 100, 0), true]\n",
       " [ETDRK2{0, true, Val{:forward}, true, nothing}(true, 100, 0), true]\n",
       " [ETDRK3{0, true, Val{:forward}, true, nothing}(true, 100, 0), true]\n",
       " [ETDRK4{0, true, Val{:forward}, true, nothing}(true, 100, 0), true]\n",
       " [HochOst4{0, true, Val{:forward}, true, nothing}(true, 100, 0), true]"
      ]
     },
     "execution_count": 4,
     "metadata": {},
     "output_type": "execute_result"
    }
   ],
   "source": [
    "Nₜs = [10, 20, 50, 100, 200]\n",
    "header = vcat([\"scheme\", \"measurement_type\"], string.(Nₜs))\n",
    "df = DataFrame([[],[],[],[],[],[],[]], header)\n",
    "schemes = [\n",
    "    [LawsonEuler(krylov=true, m=100), true],\n",
    "    [NorsettEuler(krylov=true, m=100), true],\n",
    "    [ETDRK2(krylov=true, m=100), true],\n",
    "    [ETDRK3(krylov=true, m=100), true],\n",
    "    [ETDRK4(krylov=true, m=100), true],\n",
    "    [HochOst4(krylov=true, m=100), true]\n",
    "    # [DP5(), false],\n",
    "    # [RadauIIA5(), false]\n",
    "]"
   ]
  },
  {
   "cell_type": "code",
   "execution_count": null,
   "id": "46807dc2",
   "metadata": {},
   "outputs": [],
   "source": []
  },
  {
   "cell_type": "code",
   "execution_count": 5,
   "id": "8017d9e1",
   "metadata": {},
   "outputs": [],
   "source": [
    "### designing grids\n",
    "domain = [[0.0, 2*bsde.X0[1]], [0.0, 2*bsde.X0[2]]];\n",
    "\n",
    "Nₗ = [100, 15]; Δₗ = (bsde.X0-[dom[1] for dom in domain])./Nₗ; \n",
    "Nᵣ = [100, 15]; Δᵣ = ([dom[2] for dom in domain]-bsde.X0)./Nᵣ;"
   ]
  },
  {
   "cell_type": "code",
   "execution_count": 6,
   "id": "6f452727",
   "metadata": {},
   "outputs": [
    {
     "data": {
      "text/plain": [
       "Grid1D([0.0, 0.02666666666666667, 0.05333333333333334, 0.08, 0.10666666666666667, 0.13333333333333333, 0.16, 0.18666666666666668, 0.21333333333333335, 0.24  …  0.56, 0.5866666666666667, 0.6133333333333333, 0.64, 0.6666666666666666, 0.6933333333333334, 0.72, 0.7466666666666667, 0.7733333333333333, 0.8], 31, 15, 15)"
      ]
     },
     "execution_count": 6,
     "metadata": {},
     "output_type": "execute_result"
    }
   ],
   "source": [
    "grids = Array{AbstractGrid,1}(undef, 2)\n",
    "g₁ = 2.0; g₂ = 2.0\n",
    "grids[1] = TavellaRandallGrid(g₁, g₂, domain[1][1], bsde.X0[1], domain[1][2], Nₗ[1], Nᵣ[1])\n",
    "# ratio = (Δₓ[2] * Nₓ[2]) / (Δₓ[1] * Nₓ[1])\n",
    "# grids[2] = TavellaRandallGrid(ratio*g₁, ratio*g₂, Δₓ[2], bsde.X0[2], 2*bsde.X0[2]-Δₓ[2], Int(Nₓ[2]÷2), Int(Nₓ[2]÷2))\n",
    "grids[2] = Grid1D(\n",
    "    vcat(domain[2][1]:Δₗ[2]:bsde.X0[2],(bsde.X0[2]+Δᵣ[2]):Δᵣ[2]:domain[2][2]),\n",
    "    31,\n",
    "    15,\n",
    "    15\n",
    ")"
   ]
  },
  {
   "cell_type": "code",
   "execution_count": 12,
   "id": "0d4f765c",
   "metadata": {
    "scrolled": false
   },
   "outputs": [
    {
     "name": "stdout",
     "output_type": "stream",
     "text": [
      "10.368881673580866"
     ]
    },
    {
     "ename": "LoadError",
     "evalue": "InterruptException:",
     "output_type": "error",
     "traceback": [
      "InterruptException:",
      "",
      "Stacktrace:",
      "  [1] Array",
      "    @ ./boot.jl:477 [inlined]",
      "  [2] similar",
      "    @ ./array.jl:371 [inlined]",
      "  [3] #_expv_hb#27",
      "    @ ~/.julia/packages/ExponentialUtilities/x24Py/src/krylov_phiv.jl:50 [inlined]",
      "  [4] _expv_hb",
      "    @ ~/.julia/packages/ExponentialUtilities/x24Py/src/krylov_phiv.jl:45 [inlined]",
      "  [5] expv(t::Float64, A::DiffEqArrayOperator{Float64, Matrix{Float64}, typeof(SciMLOperators.DEFAULT_UPDATE_FUNC)}, b::Vector{Float64}; mode::Symbol, kwargs::Base.Pairs{Symbol, Any, Tuple{Symbol, Symbol, Symbol}, NamedTuple{(:m, :opnorm, :iop), Tuple{Int64, typeof(opnorm), Int64}}})",
      "    @ ExponentialUtilities ~/.julia/packages/ExponentialUtilities/x24Py/src/krylov_phiv.jl:38",
      "  [6] perform_step!(integrator::OrdinaryDiffEq.ODEIntegrator{LawsonEuler{12, true, Val{:forward}, true, nothing}, false, Vector{Float64}, Nothing, Float64, SciMLBase.NullParameters, Float64, Float64, Float64, Float64, Vector{Vector{Float64}}, ODESolution{Float64, 2, Vector{Vector{Float64}}, Nothing, Nothing, Vector{Float64}, Vector{Vector{Vector{Float64}}}, ODEProblem{Vector{Float64}, Tuple{Float64, Float64}, false, SciMLBase.NullParameters, SplitFunction{false, SciMLBase.FullSpecialize, ODEFunction{true, SciMLBase.FullSpecialize, DiffEqArrayOperator{Float64, Matrix{Float64}, typeof(SciMLOperators.DEFAULT_UPDATE_FUNC)}, UniformScaling{Bool}, Nothing, Nothing, Nothing, Nothing, Nothing, Nothing, Nothing, Nothing, Nothing, Nothing, Nothing, Nothing, Nothing, typeof(SciMLBase.DEFAULT_OBSERVED), Nothing, Nothing}, ODEFunction{false, SciMLBase.FullSpecialize, var\"#Nonlinear#54\"{typeof(driver), RowSlices{Matrix{Float64}, Tuple{Base.OneTo{Int64}}, SubArray{Float64, 1, Matrix{Float64}, Tuple{Int64, Base.Slice{Base.OneTo{Int64}}}, true}}, Vector{Matrix{Float64}}}, UniformScaling{Bool}, Nothing, Nothing, Nothing, Nothing, Nothing, Nothing, Nothing, Nothing, Nothing, Nothing, Nothing, Nothing, Nothing, typeof(SciMLBase.DEFAULT_OBSERVED), Nothing, Nothing}, UniformScaling{Bool}, Vector{Float64}, Nothing, Nothing, Nothing, Nothing, Nothing, Nothing, Nothing, Nothing, Nothing, Nothing, Nothing, Nothing, Nothing, typeof(SciMLBase.DEFAULT_OBSERVED), Nothing, Nothing}, Base.Pairs{Symbol, Union{}, Tuple{}, NamedTuple{(), Tuple{}}}, SplitODEProblem{false}}, LawsonEuler{12, true, Val{:forward}, true, nothing}, OrdinaryDiffEq.InterpolationData{SplitFunction{false, SciMLBase.FullSpecialize, ODEFunction{true, SciMLBase.FullSpecialize, DiffEqArrayOperator{Float64, Matrix{Float64}, typeof(SciMLOperators.DEFAULT_UPDATE_FUNC)}, UniformScaling{Bool}, Nothing, Nothing, Nothing, Nothing, Nothing, Nothing, Nothing, Nothing, Nothing, Nothing, Nothing, Nothing, Nothing, typeof(SciMLBase.DEFAULT_OBSERVED), Nothing, Nothing}, ODEFunction{false, SciMLBase.FullSpecialize, var\"#Nonlinear#54\"{typeof(driver), RowSlices{Matrix{Float64}, Tuple{Base.OneTo{Int64}}, SubArray{Float64, 1, Matrix{Float64}, Tuple{Int64, Base.Slice{Base.OneTo{Int64}}}, true}}, Vector{Matrix{Float64}}}, UniformScaling{Bool}, Nothing, Nothing, Nothing, Nothing, Nothing, Nothing, Nothing, Nothing, Nothing, Nothing, Nothing, Nothing, Nothing, typeof(SciMLBase.DEFAULT_OBSERVED), Nothing, Nothing}, UniformScaling{Bool}, Vector{Float64}, Nothing, Nothing, Nothing, Nothing, Nothing, Nothing, Nothing, Nothing, Nothing, Nothing, Nothing, Nothing, Nothing, typeof(SciMLBase.DEFAULT_OBSERVED), Nothing, Nothing}, Vector{Vector{Float64}}, Vector{Float64}, Vector{Vector{Vector{Float64}}}, OrdinaryDiffEq.LawsonEulerConstantCache{Nothing, Nothing}}, DiffEqBase.Stats, Nothing}, SplitFunction{false, SciMLBase.FullSpecialize, ODEFunction{true, SciMLBase.FullSpecialize, DiffEqArrayOperator{Float64, Matrix{Float64}, typeof(SciMLOperators.DEFAULT_UPDATE_FUNC)}, UniformScaling{Bool}, Nothing, Nothing, Nothing, Nothing, Nothing, Nothing, Nothing, Nothing, Nothing, Nothing, Nothing, Nothing, Nothing, typeof(SciMLBase.DEFAULT_OBSERVED), Nothing, Nothing}, ODEFunction{false, SciMLBase.FullSpecialize, var\"#Nonlinear#54\"{typeof(driver), RowSlices{Matrix{Float64}, Tuple{Base.OneTo{Int64}}, SubArray{Float64, 1, Matrix{Float64}, Tuple{Int64, Base.Slice{Base.OneTo{Int64}}}, true}}, Vector{Matrix{Float64}}}, UniformScaling{Bool}, Nothing, Nothing, Nothing, Nothing, Nothing, Nothing, Nothing, Nothing, Nothing, Nothing, Nothing, Nothing, Nothing, typeof(SciMLBase.DEFAULT_OBSERVED), Nothing, Nothing}, UniformScaling{Bool}, Vector{Float64}, Nothing, Nothing, Nothing, Nothing, Nothing, Nothing, Nothing, Nothing, Nothing, Nothing, Nothing, Nothing, Nothing, typeof(SciMLBase.DEFAULT_OBSERVED), Nothing, Nothing}, OrdinaryDiffEq.LawsonEulerConstantCache{Nothing, Nothing}, OrdinaryDiffEq.DEOptions{Float64, Float64, Float64, Float64, PIController{Int64}, typeof(DiffEqBase.ODE_DEFAULT_NORM), typeof(opnorm), Nothing, CallbackSet{Tuple{}, Tuple{}}, typeof(DiffEqBase.ODE_DEFAULT_ISOUTOFDOMAIN), typeof(DiffEqBase.ODE_DEFAULT_PROG_MESSAGE), typeof(DiffEqBase.ODE_DEFAULT_UNSTABLE_CHECK), DataStructures.BinaryHeap{Float64, DataStructures.FasterForward}, DataStructures.BinaryHeap{Float64, DataStructures.FasterForward}, Nothing, Nothing, Int64, Tuple{}, Tuple{}, Tuple{}}, Vector{Float64}, Float64, Nothing, OrdinaryDiffEq.DefaultInit}, cache::OrdinaryDiffEq.LawsonEulerConstantCache{Nothing, Nothing}, repeat_step::Bool)",
      "    @ OrdinaryDiffEq ~/.julia/packages/OrdinaryDiffEq/SPwv1/src/perform_step/exponential_rk_perform_step.jl:56",
      "  [7] perform_step!",
      "    @ ~/.julia/packages/OrdinaryDiffEq/SPwv1/src/perform_step/exponential_rk_perform_step.jl:44 [inlined]",
      "  [8] solve!(integrator::OrdinaryDiffEq.ODEIntegrator{LawsonEuler{12, true, Val{:forward}, true, nothing}, false, Vector{Float64}, Nothing, Float64, SciMLBase.NullParameters, Float64, Float64, Float64, Float64, Vector{Vector{Float64}}, ODESolution{Float64, 2, Vector{Vector{Float64}}, Nothing, Nothing, Vector{Float64}, Vector{Vector{Vector{Float64}}}, ODEProblem{Vector{Float64}, Tuple{Float64, Float64}, false, SciMLBase.NullParameters, SplitFunction{false, SciMLBase.FullSpecialize, ODEFunction{true, SciMLBase.FullSpecialize, DiffEqArrayOperator{Float64, Matrix{Float64}, typeof(SciMLOperators.DEFAULT_UPDATE_FUNC)}, UniformScaling{Bool}, Nothing, Nothing, Nothing, Nothing, Nothing, Nothing, Nothing, Nothing, Nothing, Nothing, Nothing, Nothing, Nothing, typeof(SciMLBase.DEFAULT_OBSERVED), Nothing, Nothing}, ODEFunction{false, SciMLBase.FullSpecialize, var\"#Nonlinear#54\"{typeof(driver), RowSlices{Matrix{Float64}, Tuple{Base.OneTo{Int64}}, SubArray{Float64, 1, Matrix{Float64}, Tuple{Int64, Base.Slice{Base.OneTo{Int64}}}, true}}, Vector{Matrix{Float64}}}, UniformScaling{Bool}, Nothing, Nothing, Nothing, Nothing, Nothing, Nothing, Nothing, Nothing, Nothing, Nothing, Nothing, Nothing, Nothing, typeof(SciMLBase.DEFAULT_OBSERVED), Nothing, Nothing}, UniformScaling{Bool}, Vector{Float64}, Nothing, Nothing, Nothing, Nothing, Nothing, Nothing, Nothing, Nothing, Nothing, Nothing, Nothing, Nothing, Nothing, typeof(SciMLBase.DEFAULT_OBSERVED), Nothing, Nothing}, Base.Pairs{Symbol, Union{}, Tuple{}, NamedTuple{(), Tuple{}}}, SplitODEProblem{false}}, LawsonEuler{12, true, Val{:forward}, true, nothing}, OrdinaryDiffEq.InterpolationData{SplitFunction{false, SciMLBase.FullSpecialize, ODEFunction{true, SciMLBase.FullSpecialize, DiffEqArrayOperator{Float64, Matrix{Float64}, typeof(SciMLOperators.DEFAULT_UPDATE_FUNC)}, UniformScaling{Bool}, Nothing, Nothing, Nothing, Nothing, Nothing, Nothing, Nothing, Nothing, Nothing, Nothing, Nothing, Nothing, Nothing, typeof(SciMLBase.DEFAULT_OBSERVED), Nothing, Nothing}, ODEFunction{false, SciMLBase.FullSpecialize, var\"#Nonlinear#54\"{typeof(driver), RowSlices{Matrix{Float64}, Tuple{Base.OneTo{Int64}}, SubArray{Float64, 1, Matrix{Float64}, Tuple{Int64, Base.Slice{Base.OneTo{Int64}}}, true}}, Vector{Matrix{Float64}}}, UniformScaling{Bool}, Nothing, Nothing, Nothing, Nothing, Nothing, Nothing, Nothing, Nothing, Nothing, Nothing, Nothing, Nothing, Nothing, typeof(SciMLBase.DEFAULT_OBSERVED), Nothing, Nothing}, UniformScaling{Bool}, Vector{Float64}, Nothing, Nothing, Nothing, Nothing, Nothing, Nothing, Nothing, Nothing, Nothing, Nothing, Nothing, Nothing, Nothing, typeof(SciMLBase.DEFAULT_OBSERVED), Nothing, Nothing}, Vector{Vector{Float64}}, Vector{Float64}, Vector{Vector{Vector{Float64}}}, OrdinaryDiffEq.LawsonEulerConstantCache{Nothing, Nothing}}, DiffEqBase.Stats, Nothing}, SplitFunction{false, SciMLBase.FullSpecialize, ODEFunction{true, SciMLBase.FullSpecialize, DiffEqArrayOperator{Float64, Matrix{Float64}, typeof(SciMLOperators.DEFAULT_UPDATE_FUNC)}, UniformScaling{Bool}, Nothing, Nothing, Nothing, Nothing, Nothing, Nothing, Nothing, Nothing, Nothing, Nothing, Nothing, Nothing, Nothing, typeof(SciMLBase.DEFAULT_OBSERVED), Nothing, Nothing}, ODEFunction{false, SciMLBase.FullSpecialize, var\"#Nonlinear#54\"{typeof(driver), RowSlices{Matrix{Float64}, Tuple{Base.OneTo{Int64}}, SubArray{Float64, 1, Matrix{Float64}, Tuple{Int64, Base.Slice{Base.OneTo{Int64}}}, true}}, Vector{Matrix{Float64}}}, UniformScaling{Bool}, Nothing, Nothing, Nothing, Nothing, Nothing, Nothing, Nothing, Nothing, Nothing, Nothing, Nothing, Nothing, Nothing, typeof(SciMLBase.DEFAULT_OBSERVED), Nothing, Nothing}, UniformScaling{Bool}, Vector{Float64}, Nothing, Nothing, Nothing, Nothing, Nothing, Nothing, Nothing, Nothing, Nothing, Nothing, Nothing, Nothing, Nothing, typeof(SciMLBase.DEFAULT_OBSERVED), Nothing, Nothing}, OrdinaryDiffEq.LawsonEulerConstantCache{Nothing, Nothing}, OrdinaryDiffEq.DEOptions{Float64, Float64, Float64, Float64, PIController{Int64}, typeof(DiffEqBase.ODE_DEFAULT_NORM), typeof(opnorm), Nothing, CallbackSet{Tuple{}, Tuple{}}, typeof(DiffEqBase.ODE_DEFAULT_ISOUTOFDOMAIN), typeof(DiffEqBase.ODE_DEFAULT_PROG_MESSAGE), typeof(DiffEqBase.ODE_DEFAULT_UNSTABLE_CHECK), DataStructures.BinaryHeap{Float64, DataStructures.FasterForward}, DataStructures.BinaryHeap{Float64, DataStructures.FasterForward}, Nothing, Nothing, Int64, Tuple{}, Tuple{}, Tuple{}}, Vector{Float64}, Float64, Nothing, OrdinaryDiffEq.DefaultInit})",
      "    @ OrdinaryDiffEq ~/.julia/packages/OrdinaryDiffEq/SPwv1/src/solve.jl:520",
      "  [9] __solve(::ODEProblem{Vector{Float64}, Tuple{Float64, Float64}, false, SciMLBase.NullParameters, SplitFunction{false, SciMLBase.FullSpecialize, ODEFunction{true, SciMLBase.FullSpecialize, DiffEqArrayOperator{Float64, Matrix{Float64}, typeof(SciMLOperators.DEFAULT_UPDATE_FUNC)}, UniformScaling{Bool}, Nothing, Nothing, Nothing, Nothing, Nothing, Nothing, Nothing, Nothing, Nothing, Nothing, Nothing, Nothing, Nothing, typeof(SciMLBase.DEFAULT_OBSERVED), Nothing, Nothing}, ODEFunction{false, SciMLBase.FullSpecialize, var\"#Nonlinear#54\"{typeof(driver), RowSlices{Matrix{Float64}, Tuple{Base.OneTo{Int64}}, SubArray{Float64, 1, Matrix{Float64}, Tuple{Int64, Base.Slice{Base.OneTo{Int64}}}, true}}, Vector{Matrix{Float64}}}, UniformScaling{Bool}, Nothing, Nothing, Nothing, Nothing, Nothing, Nothing, Nothing, Nothing, Nothing, Nothing, Nothing, Nothing, Nothing, typeof(SciMLBase.DEFAULT_OBSERVED), Nothing, Nothing}, UniformScaling{Bool}, Vector{Float64}, Nothing, Nothing, Nothing, Nothing, Nothing, Nothing, Nothing, Nothing, Nothing, Nothing, Nothing, Nothing, Nothing, typeof(SciMLBase.DEFAULT_OBSERVED), Nothing, Nothing}, Base.Pairs{Symbol, Union{}, Tuple{}, NamedTuple{(), Tuple{}}}, SplitODEProblem{false}}, ::LawsonEuler{12, true, Val{:forward}, true, nothing}; kwargs::Base.Pairs{Symbol, Real, Tuple{Symbol, Symbol}, NamedTuple{(:adaptive, :dt), Tuple{Bool, Float64}}})",
      "    @ OrdinaryDiffEq ~/.julia/packages/OrdinaryDiffEq/SPwv1/src/solve.jl:6",
      " [10] __solve",
      "    @ ~/.julia/packages/OrdinaryDiffEq/SPwv1/src/solve.jl:1 [inlined]",
      " [11] #solve_call#22",
      "    @ ~/.julia/packages/DiffEqBase/tVuJP/src/solve.jl:511 [inlined]",
      " [12] solve_up(prob::ODEProblem{Vector{Float64}, Tuple{Float64, Float64}, false, SciMLBase.NullParameters, SplitFunction{false, SciMLBase.FullSpecialize, ODEFunction{true, SciMLBase.FullSpecialize, DiffEqArrayOperator{Float64, Matrix{Float64}, typeof(SciMLOperators.DEFAULT_UPDATE_FUNC)}, UniformScaling{Bool}, Nothing, Nothing, Nothing, Nothing, Nothing, Nothing, Nothing, Nothing, Nothing, Nothing, Nothing, Nothing, Nothing, typeof(SciMLBase.DEFAULT_OBSERVED), Nothing, Nothing}, ODEFunction{false, SciMLBase.FullSpecialize, var\"#Nonlinear#54\"{typeof(driver), RowSlices{Matrix{Float64}, Tuple{Base.OneTo{Int64}}, SubArray{Float64, 1, Matrix{Float64}, Tuple{Int64, Base.Slice{Base.OneTo{Int64}}}, true}}, Vector{Matrix{Float64}}}, UniformScaling{Bool}, Nothing, Nothing, Nothing, Nothing, Nothing, Nothing, Nothing, Nothing, Nothing, Nothing, Nothing, Nothing, Nothing, typeof(SciMLBase.DEFAULT_OBSERVED), Nothing, Nothing}, UniformScaling{Bool}, Nothing, Nothing, Nothing, Nothing, Nothing, Nothing, Nothing, Nothing, Nothing, Nothing, Nothing, Nothing, Nothing, Nothing, typeof(SciMLBase.DEFAULT_OBSERVED), Nothing, Nothing}, Base.Pairs{Symbol, Union{}, Tuple{}, NamedTuple{(), Tuple{}}}, SplitODEProblem{false}}, sensealg::Nothing, u0::Vector{Float64}, p::SciMLBase.NullParameters, args::LawsonEuler{0, true, Val{:forward}, true, nothing}; kwargs::Base.Pairs{Symbol, Real, Tuple{Symbol, Symbol}, NamedTuple{(:adaptive, :dt), Tuple{Bool, Float64}}})",
      "    @ DiffEqBase ~/.julia/packages/DiffEqBase/tVuJP/src/solve.jl:972",
      " [13] solve_up",
      "    @ ~/.julia/packages/DiffEqBase/tVuJP/src/solve.jl:945 [inlined]",
      " [14] solve(prob::ODEProblem{Vector{Float64}, Tuple{Float64, Float64}, false, SciMLBase.NullParameters, SplitFunction{false, SciMLBase.FullSpecialize, ODEFunction{true, SciMLBase.FullSpecialize, DiffEqArrayOperator{Float64, Matrix{Float64}, typeof(SciMLOperators.DEFAULT_UPDATE_FUNC)}, UniformScaling{Bool}, Nothing, Nothing, Nothing, Nothing, Nothing, Nothing, Nothing, Nothing, Nothing, Nothing, Nothing, Nothing, Nothing, typeof(SciMLBase.DEFAULT_OBSERVED), Nothing, Nothing}, ODEFunction{false, SciMLBase.FullSpecialize, var\"#Nonlinear#54\"{typeof(driver), RowSlices{Matrix{Float64}, Tuple{Base.OneTo{Int64}}, SubArray{Float64, 1, Matrix{Float64}, Tuple{Int64, Base.Slice{Base.OneTo{Int64}}}, true}}, Vector{Matrix{Float64}}}, UniformScaling{Bool}, Nothing, Nothing, Nothing, Nothing, Nothing, Nothing, Nothing, Nothing, Nothing, Nothing, Nothing, Nothing, Nothing, typeof(SciMLBase.DEFAULT_OBSERVED), Nothing, Nothing}, UniformScaling{Bool}, Nothing, Nothing, Nothing, Nothing, Nothing, Nothing, Nothing, Nothing, Nothing, Nothing, Nothing, Nothing, Nothing, Nothing, typeof(SciMLBase.DEFAULT_OBSERVED), Nothing, Nothing}, Base.Pairs{Symbol, Union{}, Tuple{}, NamedTuple{(), Tuple{}}}, SplitODEProblem{false}}, args::LawsonEuler{0, true, Val{:forward}, true, nothing}; sensealg::Nothing, u0::Nothing, p::Nothing, wrap::Val{true}, kwargs::Base.Pairs{Symbol, Real, Tuple{Symbol, Symbol}, NamedTuple{(:adaptive, :dt), Tuple{Bool, Float64}}})",
      "    @ DiffEqBase ~/.julia/packages/DiffEqBase/tVuJP/src/solve.jl:882",
      " [15] MethodOfLines(bsde::BSDE, grid::Vector{AbstractGrid}, Nₜ::Int64, scheme::LawsonEuler{0, true, Val{:forward}, true, nothing}, EXPINT::Bool)",
      "    @ Main ~/Documents/workspace/expint/bsde/algorithms/method_of_lines.jl:12",
      " [16] macro expansion",
      "    @ In[12]:8 [inlined]",
      " [17] macro expansion",
      "    @ ~/.julia/packages/ProgressMeter/vnCY0/src/ProgressMeter.jl:957 [inlined]",
      " [18] macro expansion",
      "    @ In[12]:6 [inlined]",
      " [19] top-level scope",
      "    @ ~/.julia/packages/ProgressMeter/vnCY0/src/ProgressMeter.jl:957"
     ]
    }
   ],
   "source": [
    "d=2\n",
    "@showprogress for attr in schemes\n",
    "    sup_errs = zeros(Float64, length(Nₜs)); abs_errs = zeros(Float64, length(Nₜs)); runtimes = zeros(Float64, length(Nₜs))\n",
    "    scheme = attr[1]\n",
    "    EXPINT = attr[2]\n",
    "    @showprogress for (ind, Nₜ) in enumerate(Nₜs)\n",
    "        exc_start = time()\n",
    "        res = MethodOfLines(bsde, grids, Nₜ, scheme, EXPINT)\n",
    "        exc_stop = time()\n",
    "        sol = res[1]; s_grid = res[2]; \n",
    "        \n",
    "        hagan_sol = zeros(prod([grid.N for grid in grids]), Nₜ+1)\n",
    "        for (index, t) in enumerate((bsde.T/Nₜ).*(0:Nₜ))\n",
    "            hagan_sol[:, index] = price.(Ref(T-t), s_grid[:,1], s_grid[:,2]);\n",
    "        end\n",
    "        abs_err = abs.(hagan_sol-sol)\n",
    "\n",
    "        indmax = zeros(Int64,d)\n",
    "        indmin = zeros(Int64,d)\n",
    "        for dim in 1:d\n",
    "            arr = findall(attr->(attr<1.2*bsde.X0[dim])&&(attr>0.8*bsde.X0[dim]), grids[dim].grid)\n",
    "            indmin[dim] = minimum(arr)\n",
    "            indmax[dim] = maximum(arr)\n",
    "        end\n",
    "\n",
    "        arr=zeros(indmax[1]-indmin[1]+1)\n",
    "        supinds = zeros(Int,indmax[1]-indmin[1]+1,2)\n",
    "\n",
    "        for (ind, pind) in enumerate(indmin[1]:indmax[1])\n",
    "            arr[ind] = maximum(abs_err[(pind-1)*grids[2].N+indmin[2]+1:(pind-1)*grids[2].N+indmax[2],2:end])\n",
    "            tmp=argmax(abs_err[(pind-1)*grids[2].N+indmin[2]+1:(pind-1)*grids[2].N+indmax[2],2:end])\n",
    "            supinds[ind,1] = Int(tmp[1]+(pind-1)*grids[2].N+indmin[2]+1)\n",
    "            supinds[ind,2] = Int(tmp[2])\n",
    "        end\n",
    "        \n",
    "        sup_errs[ind] = maximum(arr)\n",
    "        abs_errs[ind] = abs_err[grids[1].Nₗ*grids[2].N + grids[2].Nₗ+1,end]        \n",
    "        runtimes[ind] = exc_stop - exc_start\n",
    "    end\n",
    "    schemename = split(split(string(scheme), '{')[1], '(')[1]\n",
    "    row_sup = vcat([schemename, \"Sup Err\"], string.(sup_errs)); push!(df,row_sup);\n",
    "    row_abs = vcat([schemename, \"Abs Err\"], string.(abs_errs)); push!(df,row_abs);\n",
    "    row_run = vcat([schemename, \"Runtime[s]\"], string.(runtimes)); push!(df,row_run);\n",
    "end\n",
    "df |> CSV.write(string(\"SABR_exp_1026g2.csv\"))"
   ]
  },
  {
   "cell_type": "code",
   "execution_count": 8,
   "id": "85cd78e6",
   "metadata": {},
   "outputs": [
    {
     "data": {
      "text/html": [
       "<div><div style = \"float: left;\"><span>18×7 DataFrame</span></div><div style = \"clear: both;\"></div></div><div class = \"data-frame\" style = \"overflow-x: scroll;\"><table class = \"data-frame\" style = \"margin-bottom: 6px;\"><thead><tr class = \"header\"><th class = \"rowNumber\" style = \"font-weight: bold; text-align: right;\">Row</th><th style = \"text-align: left;\">scheme</th><th style = \"text-align: left;\">measurement_type</th><th style = \"text-align: left;\">10</th><th style = \"text-align: left;\">20</th><th style = \"text-align: left;\">50</th><th style = \"text-align: left;\">100</th><th style = \"text-align: left;\">200</th></tr><tr class = \"subheader headerLastRow\"><th class = \"rowNumber\" style = \"font-weight: bold; text-align: right;\"></th><th title = \"Any\" style = \"text-align: left;\">Any</th><th title = \"Any\" style = \"text-align: left;\">Any</th><th title = \"Any\" style = \"text-align: left;\">Any</th><th title = \"Any\" style = \"text-align: left;\">Any</th><th title = \"Any\" style = \"text-align: left;\">Any</th><th title = \"Any\" style = \"text-align: left;\">Any</th><th title = \"Any\" style = \"text-align: left;\">Any</th></tr></thead><tbody><tr><td class = \"rowNumber\" style = \"font-weight: bold; text-align: right;\">1</td><td style = \"text-align: left;\">LawsonEuler</td><td style = \"text-align: left;\">Sup Err</td><td style = \"text-align: left;\">0.45001280922048004</td><td style = \"text-align: left;\">0.09639642983407803</td><td style = \"text-align: left;\">0.032640757635632234</td><td style = \"text-align: left;\">0.032445047551703965</td><td style = \"text-align: left;\">0.032420722698949245</td></tr><tr><td class = \"rowNumber\" style = \"font-weight: bold; text-align: right;\">2</td><td style = \"text-align: left;\">LawsonEuler</td><td style = \"text-align: left;\">Abs Err</td><td style = \"text-align: left;\">0.11569120401671995</td><td style = \"text-align: left;\">0.015378057718530513</td><td style = \"text-align: left;\">0.0021357433219986177</td><td style = \"text-align: left;\">0.0018526100825830838</td><td style = \"text-align: left;\">0.0017910504776192937</td></tr><tr><td class = \"rowNumber\" style = \"font-weight: bold; text-align: right;\">3</td><td style = \"text-align: left;\">LawsonEuler</td><td style = \"text-align: left;\">Runtime[s]</td><td style = \"text-align: left;\">20.21341109275818</td><td style = \"text-align: left;\">24.966116189956665</td><td style = \"text-align: left;\">58.12103891372681</td><td style = \"text-align: left;\">120.33652210235596</td><td style = \"text-align: left;\">238.51408982276917</td></tr><tr><td class = \"rowNumber\" style = \"font-weight: bold; text-align: right;\">4</td><td style = \"text-align: left;\">NorsettEuler</td><td style = \"text-align: left;\">Sup Err</td><td style = \"text-align: left;\">0.4354090353914586</td><td style = \"text-align: left;\">0.09113101528343748</td><td style = \"text-align: left;\">0.030525236637835018</td><td style = \"text-align: left;\">0.031395773803223115</td><td style = \"text-align: left;\">0.03189647585961186</td></tr><tr><td class = \"rowNumber\" style = \"font-weight: bold; text-align: right;\">5</td><td style = \"text-align: left;\">NorsettEuler</td><td style = \"text-align: left;\">Abs Err</td><td style = \"text-align: left;\">0.10030881578982331</td><td style = \"text-align: left;\">0.008259668873330739</td><td style = \"text-align: left;\">0.0003903398862608043</td><td style = \"text-align: left;\">0.0006002606583592751</td><td style = \"text-align: left;\">0.0011655666629781791</td></tr><tr><td class = \"rowNumber\" style = \"font-weight: bold; text-align: right;\">6</td><td style = \"text-align: left;\">NorsettEuler</td><td style = \"text-align: left;\">Runtime[s]</td><td style = \"text-align: left;\">14.78681492805481</td><td style = \"text-align: left;\">24.18915581703186</td><td style = \"text-align: left;\">56.820204973220825</td><td style = \"text-align: left;\">106.1167311668396</td><td style = \"text-align: left;\">212.06985807418823</td></tr><tr><td class = \"rowNumber\" style = \"font-weight: bold; text-align: right;\">7</td><td style = \"text-align: left;\">ETDRK2</td><td style = \"text-align: left;\">Sup Err</td><td style = \"text-align: left;\">0.436174063006348</td><td style = \"text-align: left;\">0.09127051608740544</td><td style = \"text-align: left;\">0.03253023112310238</td><td style = \"text-align: left;\">0.03239731868925988</td><td style = \"text-align: left;\">0.03239700542534818</td></tr><tr><td class = \"rowNumber\" style = \"font-weight: bold; text-align: right;\">8</td><td style = \"text-align: left;\">ETDRK2</td><td style = \"text-align: left;\">Abs Err</td><td style = \"text-align: left;\">0.11167659733921376</td><td style = \"text-align: left;\">0.013935291060516164</td><td style = \"text-align: left;\">0.0018722446515440083</td><td style = \"text-align: left;\">0.0017299830695645113</td><td style = \"text-align: left;\">0.001730034566509886</td></tr><tr><td class = \"rowNumber\" style = \"font-weight: bold; text-align: right;\">9</td><td style = \"text-align: left;\">ETDRK2</td><td style = \"text-align: left;\">Runtime[s]</td><td style = \"text-align: left;\">25.102886199951172</td><td style = \"text-align: left;\">44.033710956573486</td><td style = \"text-align: left;\">106.2750129699707</td><td style = \"text-align: left;\">221.3838460445404</td><td style = \"text-align: left;\">418.7913820743561</td></tr><tr><td class = \"rowNumber\" style = \"font-weight: bold; text-align: right;\">10</td><td style = \"text-align: left;\">ETDRK3</td><td style = \"text-align: left;\">Sup Err</td><td style = \"text-align: left;\">0.43616197884816366</td><td style = \"text-align: left;\">0.09123021779661045</td><td style = \"text-align: left;\">0.03253166802300678</td><td style = \"text-align: left;\">0.032397666782691736</td><td style = \"text-align: left;\">0.03239709242099664</td></tr><tr><td class = \"rowNumber\" style = \"font-weight: bold; text-align: right;\">11</td><td style = \"text-align: left;\">ETDRK3</td><td style = \"text-align: left;\">Abs Err</td><td style = \"text-align: left;\">0.11190676016515155</td><td style = \"text-align: left;\">0.01396745248892195</td><td style = \"text-align: left;\">0.0018758854251448298</td><td style = \"text-align: left;\">0.0017308810802330044</td><td style = \"text-align: left;\">0.0017302590192880274</td></tr><tr><td class = \"rowNumber\" style = \"font-weight: bold; text-align: right;\">12</td><td style = \"text-align: left;\">ETDRK3</td><td style = \"text-align: left;\">Runtime[s]</td><td style = \"text-align: left;\">34.4898419380188</td><td style = \"text-align: left;\">69.37991404533386</td><td style = \"text-align: left;\">166.3843550682068</td><td style = \"text-align: left;\">359.6220920085907</td><td style = \"text-align: left;\">670.0593068599701</td></tr><tr><td class = \"rowNumber\" style = \"font-weight: bold; text-align: right;\">13</td><td style = \"text-align: left;\">ETDRK4</td><td style = \"text-align: left;\">Sup Err</td><td style = \"text-align: left;\">0.43639334241829175</td><td style = \"text-align: left;\">0.09125558251536603</td><td style = \"text-align: left;\">0.03253169054669636</td><td style = \"text-align: left;\">0.03239766685141365</td><td style = \"text-align: left;\">0.032397092423602114</td></tr><tr><td class = \"rowNumber\" style = \"font-weight: bold; text-align: right;\">14</td><td style = \"text-align: left;\">ETDRK4</td><td style = \"text-align: left;\">Abs Err</td><td style = \"text-align: left;\">0.11198042963466115</td><td style = \"text-align: left;\">0.01397260778941245</td><td style = \"text-align: left;\">0.0018759097943821246</td><td style = \"text-align: left;\">0.0017308811550780234</td><td style = \"text-align: left;\">0.0017302590221905945</td></tr><tr><td class = \"rowNumber\" style = \"font-weight: bold; text-align: right;\">15</td><td style = \"text-align: left;\">ETDRK4</td><td style = \"text-align: left;\">Runtime[s]</td><td style = \"text-align: left;\">57.08261799812317</td><td style = \"text-align: left;\">117.35248899459839</td><td style = \"text-align: left;\">286.7719569206238</td><td style = \"text-align: left;\">550.3619191646576</td><td style = \"text-align: left;\">1077.4065299034119</td></tr><tr><td class = \"rowNumber\" style = \"font-weight: bold; text-align: right;\">16</td><td style = \"text-align: left;\">HochOst4</td><td style = \"text-align: left;\">Sup Err</td><td style = \"text-align: left;\">0.4361620429792392</td><td style = \"text-align: left;\">0.09123022084384402</td><td style = \"text-align: left;\">0.032531668296515104</td><td style = \"text-align: left;\">0.03239766681742706</td><td style = \"text-align: left;\">0.03239709242532873</td></tr><tr><td class = \"rowNumber\" style = \"font-weight: bold; text-align: right;\">17</td><td style = \"text-align: left;\">HochOst4</td><td style = \"text-align: left;\">Abs Err</td><td style = \"text-align: left;\">0.11190676786542397</td><td style = \"text-align: left;\">0.013967455775723892</td><td style = \"text-align: left;\">0.00187588573015951</td><td style = \"text-align: left;\">0.0017308811191032447</td><td style = \"text-align: left;\">0.0017302590241428106</td></tr><tr><td class = \"rowNumber\" style = \"font-weight: bold; text-align: right;\">18</td><td style = \"text-align: left;\">HochOst4</td><td style = \"text-align: left;\">Runtime[s]</td><td style = \"text-align: left;\">56.54585814476013</td><td style = \"text-align: left;\">110.74230813980103</td><td style = \"text-align: left;\">270.05544686317444</td><td style = \"text-align: left;\">541.8866200447083</td><td style = \"text-align: left;\">1046.1989698410034</td></tr></tbody></table></div>"
      ],
      "text/latex": [
       "\\begin{tabular}{r|cccccc}\n",
       "\t& scheme & measurement\\_type & 10 & 20 & 50 & \\\\\n",
       "\t\\hline\n",
       "\t& Any & Any & Any & Any & Any & \\\\\n",
       "\t\\hline\n",
       "\t1 & LawsonEuler & Sup Err & 0.45001280922048004 & 0.09639642983407803 & 0.032640757635632234 & $\\dots$ \\\\\n",
       "\t2 & LawsonEuler & Abs Err & 0.11569120401671995 & 0.015378057718530513 & 0.0021357433219986177 & $\\dots$ \\\\\n",
       "\t3 & LawsonEuler & Runtime[s] & 20.21341109275818 & 24.966116189956665 & 58.12103891372681 & $\\dots$ \\\\\n",
       "\t4 & NorsettEuler & Sup Err & 0.4354090353914586 & 0.09113101528343748 & 0.030525236637835018 & $\\dots$ \\\\\n",
       "\t5 & NorsettEuler & Abs Err & 0.10030881578982331 & 0.008259668873330739 & 0.0003903398862608043 & $\\dots$ \\\\\n",
       "\t6 & NorsettEuler & Runtime[s] & 14.78681492805481 & 24.18915581703186 & 56.820204973220825 & $\\dots$ \\\\\n",
       "\t7 & ETDRK2 & Sup Err & 0.436174063006348 & 0.09127051608740544 & 0.03253023112310238 & $\\dots$ \\\\\n",
       "\t8 & ETDRK2 & Abs Err & 0.11167659733921376 & 0.013935291060516164 & 0.0018722446515440083 & $\\dots$ \\\\\n",
       "\t9 & ETDRK2 & Runtime[s] & 25.102886199951172 & 44.033710956573486 & 106.2750129699707 & $\\dots$ \\\\\n",
       "\t10 & ETDRK3 & Sup Err & 0.43616197884816366 & 0.09123021779661045 & 0.03253166802300678 & $\\dots$ \\\\\n",
       "\t11 & ETDRK3 & Abs Err & 0.11190676016515155 & 0.01396745248892195 & 0.0018758854251448298 & $\\dots$ \\\\\n",
       "\t12 & ETDRK3 & Runtime[s] & 34.4898419380188 & 69.37991404533386 & 166.3843550682068 & $\\dots$ \\\\\n",
       "\t13 & ETDRK4 & Sup Err & 0.43639334241829175 & 0.09125558251536603 & 0.03253169054669636 & $\\dots$ \\\\\n",
       "\t14 & ETDRK4 & Abs Err & 0.11198042963466115 & 0.01397260778941245 & 0.0018759097943821246 & $\\dots$ \\\\\n",
       "\t15 & ETDRK4 & Runtime[s] & 57.08261799812317 & 117.35248899459839 & 286.7719569206238 & $\\dots$ \\\\\n",
       "\t16 & HochOst4 & Sup Err & 0.4361620429792392 & 0.09123022084384402 & 0.032531668296515104 & $\\dots$ \\\\\n",
       "\t17 & HochOst4 & Abs Err & 0.11190676786542397 & 0.013967455775723892 & 0.00187588573015951 & $\\dots$ \\\\\n",
       "\t18 & HochOst4 & Runtime[s] & 56.54585814476013 & 110.74230813980103 & 270.05544686317444 & $\\dots$ \\\\\n",
       "\\end{tabular}\n"
      ],
      "text/plain": [
       "\u001b[1m18×7 DataFrame\u001b[0m\n",
       "\u001b[1m Row \u001b[0m│\u001b[1m scheme       \u001b[0m\u001b[1m measurement_type \u001b[0m\u001b[1m 10                  \u001b[0m\u001b[1m 20                \u001b[0m ⋯\n",
       "     │\u001b[90m Any          \u001b[0m\u001b[90m Any              \u001b[0m\u001b[90m Any                 \u001b[0m\u001b[90m Any               \u001b[0m ⋯\n",
       "─────┼──────────────────────────────────────────────────────────────────────────\n",
       "   1 │ LawsonEuler   Sup Err           0.45001280922048004  0.0963964298340780 ⋯\n",
       "   2 │ LawsonEuler   Abs Err           0.11569120401671995  0.0153780577185305\n",
       "   3 │ LawsonEuler   Runtime[s]        20.21341109275818    24.966116189956665\n",
       "   4 │ NorsettEuler  Sup Err           0.4354090353914586   0.0911310152834374\n",
       "   5 │ NorsettEuler  Abs Err           0.10030881578982331  0.0082596688733307 ⋯\n",
       "   6 │ NorsettEuler  Runtime[s]        14.78681492805481    24.18915581703186\n",
       "   7 │ ETDRK2        Sup Err           0.436174063006348    0.0912705160874054\n",
       "   8 │ ETDRK2        Abs Err           0.11167659733921376  0.0139352910605161\n",
       "   9 │ ETDRK2        Runtime[s]        25.102886199951172   44.033710956573486 ⋯\n",
       "  10 │ ETDRK3        Sup Err           0.43616197884816366  0.0912302177966104\n",
       "  11 │ ETDRK3        Abs Err           0.11190676016515155  0.0139674524889219\n",
       "  12 │ ETDRK3        Runtime[s]        34.4898419380188     69.37991404533386\n",
       "  13 │ ETDRK4        Sup Err           0.43639334241829175  0.0912555825153660 ⋯\n",
       "  14 │ ETDRK4        Abs Err           0.11198042963466115  0.0139726077894124\n",
       "  15 │ ETDRK4        Runtime[s]        57.08261799812317    117.35248899459839\n",
       "  16 │ HochOst4      Sup Err           0.4361620429792392   0.0912302208438440\n",
       "  17 │ HochOst4      Abs Err           0.11190676786542397  0.0139674557757238 ⋯\n",
       "  18 │ HochOst4      Runtime[s]        56.54585814476013    110.74230813980103\n",
       "\u001b[36m                                                               4 columns omitted\u001b[0m"
      ]
     },
     "execution_count": 8,
     "metadata": {},
     "output_type": "execute_result"
    }
   ],
   "source": [
    "df"
   ]
  },
  {
   "cell_type": "code",
   "execution_count": null,
   "id": "f6c40b8b",
   "metadata": {},
   "outputs": [],
   "source": []
  }
 ],
 "metadata": {
  "@webio": {
   "lastCommId": null,
   "lastKernelId": null
  },
  "kernelspec": {
   "display_name": "Julia 1.9.1",
   "language": "julia",
   "name": "julia-1.9"
  },
  "language_info": {
   "file_extension": ".jl",
   "mimetype": "application/julia",
   "name": "julia",
   "version": "1.9.1"
  }
 },
 "nbformat": 4,
 "nbformat_minor": 5
}
