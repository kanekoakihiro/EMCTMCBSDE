{
 "cells": [
  {
   "cell_type": "code",
   "execution_count": 1,
   "id": "535a379d",
   "metadata": {},
   "outputs": [],
   "source": [
    "using Distributions, CSV, DataFrames, ProgressMeter\n",
    "include(\"../../utils_sg.jl\")"
   ]
  },
  {
   "cell_type": "markdown",
   "id": "e08e124b",
   "metadata": {},
   "source": [
    "### Parameters"
   ]
  },
  {
   "cell_type": "code",
   "execution_count": 2,
   "id": "0eafde0a",
   "metadata": {},
   "outputs": [],
   "source": [
    "T = 1.0; r=0.05; S0 = 100.0; v0 = 0.4; α = 0.4; β = 0.9; ρ = 0.3; K = 100.0;\n",
    "slvm = SABRSLV(S0::Float64, v0::Float64, α::Float64, β::Float64, ρ::Float64, r::Float64);\n",
    "Π = [1.0 ρ; ρ 1.0]; cholΠ=cholesky(Π).L\n",
    "\n",
    "drift(x) = [slvm.ω(abs(x[1]),abs(x[2])), slvm.μ(abs(x[2]))]\n",
    "diffusion(x) = Diagonal(\n",
    "        [slvm.m(abs(x[2]))*slvm.Γ(abs(x[1])), slvm.σ(abs(x[2]))]\n",
    "        )*cholΠ\n",
    "\n",
    "R = r;\n",
    "driver(t, x, y, z) = (\n",
    "    -r*y\n",
    ")\n",
    "terminal(x) = max(x[1]-K,0)\n",
    "bsde = BSDE(T, [S0, v0], drift, diffusion, driver, terminal);"
   ]
  },
  {
   "cell_type": "markdown",
   "id": "d928e258",
   "metadata": {},
   "source": [
    "### Hagan's formula"
   ]
  },
  {
   "cell_type": "code",
   "execution_count": 3,
   "id": "c43dc320",
   "metadata": {},
   "outputs": [],
   "source": [
    "function implied_volatility(t::Float64, f::Float64, v::Float64)\n",
    "    # hagan\n",
    "    if f != K\n",
    "        numerator = (\n",
    "            v * (\n",
    "                1 + (\n",
    "                    (1-β)^2/24 * v^2/(f*K)^(1-β) \n",
    "                    + 1/4 * ρ*β*α*v/(f*K)^((1-β)/2)\n",
    "                    + (2-3*ρ^2)/24 * α^2\n",
    "                    ) * t\n",
    "                )\n",
    "            )\n",
    "        denominator = (\n",
    "            (f*K)^((1-β)/2) * (\n",
    "                1 + (1-β)^2/24 * log(f/K)^2\n",
    "                + (1-β)^4/1920 * log(f/K)^4\n",
    "                )\n",
    "            )\n",
    "        z = α/v * (f*K)^((1-β)/2) * log(f/K)\n",
    "        x = log((sqrt(1-2*ρ*z+z^2)+z-ρ)/(1-ρ))\n",
    "        return numerator/denominator * z/x\n",
    "    else\n",
    "        numerator = v * (\n",
    "            1 + (\n",
    "                (1-β)^2/24 * v^2/f^(2-2*β) \n",
    "                + 1/4 * ρ*β*α*v/f^(1-β)\n",
    "                + (2-3*ρ^2)/24 * α^2\n",
    "                ) * t\n",
    "        )\n",
    "        denominator = f^(1-β)\n",
    "        return numerator/denominator\n",
    "    end\n",
    "end;\n",
    "\n",
    "function BSvanilla(volatility, strike, expiry, spot, interest_rate, dividend_rate)\n",
    "    forward = spot#*exp((interest_rate-dividend_rate)*expiry)\n",
    "    sqrt_var = volatility * sqrt(expiry)\n",
    "    if sqrt_var > 0.0\n",
    "        d1 = log(forward/strike)/sqrt_var + sqrt_var/2\n",
    "        d2 = d1 - sqrt_var\n",
    "        call = forward*cdf(Normal(), d1) - strike*cdf(Normal(), d2)\n",
    "        # put = -forward*cdf(Normal(), -d1) + exp(-(interest_rate-dividend_rate)*expiry)*strike*cdf(Normal(), -d2)\n",
    "    else\n",
    "        call = max(forward-strike, 0.0)\n",
    "        # put = max(strike-forward, 0.0)\n",
    "    end\n",
    "    return exp(-(interest_rate-dividend_rate)*expiry)*call #put\n",
    "end;\n",
    "\n",
    "function price(t::Float64, f::Float64, v::Float64)\n",
    "    return BSvanilla(implied_volatility(T-t, f, v), K, T-t, f, r, 0.0)\n",
    "end;\n"
   ]
  },
  {
   "cell_type": "markdown",
   "id": "b79d202b",
   "metadata": {},
   "source": [
    "## Experiment"
   ]
  },
  {
   "cell_type": "code",
   "execution_count": 4,
   "id": "d1186fa9",
   "metadata": {
    "scrolled": true
   },
   "outputs": [
    {
     "data": {
      "text/plain": [
       "7-element Vector{Vector{Any}}:\n",
       " [HochOst4{0, true, Val{:forward}, true, nothing}(true, 100, 0), true]\n",
       " [LawsonEuler{0, true, Val{:forward}, true, nothing}(true, 100, 0), true]\n",
       " [NorsettEuler{0, true, Val{:forward}, true, nothing}(true, 100, 0), true]\n",
       " [ETDRK2{0, true, Val{:forward}, true, nothing}(true, 100, 0), true]\n",
       " [ETDRK3{0, true, Val{:forward}, true, nothing}(true, 100, 0), true]\n",
       " [ETDRK4{0, true, Val{:forward}, true, nothing}(true, 100, 0), true]\n",
       " [HochOst4{0, true, Val{:forward}, true, nothing}(true, 100, 0), true]"
      ]
     },
     "execution_count": 4,
     "metadata": {},
     "output_type": "execute_result"
    }
   ],
   "source": [
    "Nₜs = [10, 20, 50, 100, 200, 500]\n",
    "header = vcat([\"q\", \"measurement_type\"], string.(Nₜs))\n",
    "scheme = HochOst4(krylov=true, m=100); EXPINT = true;"
   ]
  },
  {
   "cell_type": "code",
   "execution_count": 5,
   "id": "8017d9e1",
   "metadata": {},
   "outputs": [],
   "source": [
    "### designing grids\n",
    "d = 2\n",
    "### Parameters for Tavella-Randall grids\n",
    "g = 5.0\n",
    "g₁=g\n",
    "g₂=g\n",
    "\n",
    "lefts = [0.0, 0.0];\n",
    "rights = [200.0, 0.8];\n",
    "centers = [100.0, 0.4];\n",
    "scaled_centers=(centers.-(rights.+lefts)./2.0)./((rights.-lefts)./2.0);"
   ]
  },
  {
   "cell_type": "code",
   "execution_count": 6,
   "id": "ab6052bb",
   "metadata": {},
   "outputs": [
    {
     "data": {
      "text/plain": [
       "solveProb (generic function with 1 method)"
      ]
     },
     "execution_count": 6,
     "metadata": {},
     "output_type": "execute_result"
    }
   ],
   "source": [
    "function solveProb(mind, bsde, Nₜ, scheme)\n",
    "    d = length(mind)\n",
    "    \n",
    "    _p = [rescale(eq_nodes(mind[dim]), scaled_centers[dim], lefts[dim], rights[dim]) for dim in 1:d]\n",
    "    Δₗ = [pp[2]-pp[1] for pp in _p]\n",
    "    Δᵣ = [pp[end]-pp[end-1] for pp in _p]\n",
    "    Nₗ = [length(pp)÷2 for pp in _p]\n",
    "    Nᵣ = [length(pp)÷2 for pp in _p]\n",
    "\n",
    "    ratioₗ = Δₗ.*Nₗ./(Δₗ[1]*Nₗ[1])\n",
    "    ratioᵣ = Δᵣ.*Nᵣ./(Δᵣ[1]*Nᵣ[1])\n",
    "    grids = Array{AbstractGrid,1}(undef, d)\n",
    "    grids[1] = TavellaRandallGrid(g₁, g₂, _p[1][1], _p[1][length(_p[1])÷2+1], _p[1][end], length(_p[1])÷2, length(_p[1])÷2)\n",
    "    grids[2] = Grid1D(_p[2], length(_p[2]), length(_p[2])÷2, length(_p[2])÷2)\n",
    "    res = MethodOfLines(bsde, grids, Nₜ, scheme, true)\n",
    "    return [res[1], grids]\n",
    "end"
   ]
  },
  {
   "cell_type": "code",
   "execution_count": 7,
   "id": "3bd7c865",
   "metadata": {},
   "outputs": [
    {
     "data": {
      "text/plain": [
       "Grid1D([0.3466666666666667, 0.37333333333333335, 0.4, 0.4266666666666667, 0.4533333333333333], 5, 5, 0)"
      ]
     },
     "execution_count": 7,
     "metadata": {},
     "output_type": "execute_result"
    }
   ],
   "source": [
    "eval_grids = Array{AbstractGrid,1}(undef, 2)\n",
    "eval_grids[1] = begin\n",
    "    tr = TavellaRandallGrid(g₁, g₂, lefts[1], centers[1], rights[1], 100, 100)\n",
    "    gr = tr.grid[findall(attr->(attr<1.2*bsde.X0[1])&&(attr>0.8*bsde.X0[1]), tr.grid)]\n",
    "    Grid1D(gr, length(gr), length(gr[gr.<centers[1]]), length(gr[gr.>centers[1]]))\n",
    "end\n",
    "eval_grids[2] = begin\n",
    "    reg = Grid1D(lefts[2]:(centers[2]/15):rights[2],31,15,15)\n",
    "    gr = reg.grid[findall(attr->(attr<1.2*bsde.X0[2])&&(attr>0.8*bsde.X0[2]), reg.grid)]\n",
    "    Grid1D(gr, length(gr), length(gr[gr.<centers[1]]), length(gr[gr.>centers[1]]))\n",
    "end"
   ]
  },
  {
   "cell_type": "code",
   "execution_count": 8,
   "id": "0d4f765c",
   "metadata": {
    "scrolled": true
   },
   "outputs": [
    {
     "name": "stdout",
     "output_type": "stream",
     "text": [
      "q=7:\n",
      "Nₜ=10:\n",
      "Sup Err=0.04521204462466777:\n",
      "Y0(100,0.4)=0.006920885565280699:\n",
      "Runtime[s]=10.436836004257202:\n",
      "Nₜ=20:\n",
      "Sup Err=0.045212028052351805:\n",
      "Y0(100,0.4)=0.006920826801016133:\n",
      "Runtime[s]=1.7415359020233154:\n"
     ]
    },
    {
     "name": "stderr",
     "output_type": "stream",
     "text": [
      "\r",
      "\u001b[32mProgress:  33%|█████████████▋                           |  ETA: 0:00:26\u001b[39m"
     ]
    },
    {
     "name": "stdout",
     "output_type": "stream",
     "text": [
      "Nₜ=50:\n",
      "Sup Err=0.0452120260516935:\n",
      "Y0(100,0.4)=0.006920822048003927:\n",
      "Runtime[s]=3.928356170654297:\n"
     ]
    },
    {
     "name": "stderr",
     "output_type": "stream",
     "text": [
      "\r",
      "\u001b[32mProgress:  50%|████████████████████▌                    |  ETA: 0:00:17\u001b[39m"
     ]
    },
    {
     "name": "stdout",
     "output_type": "stream",
     "text": [
      "Nₜ=100:\n",
      "Sup Err=0.045212025939301625:\n",
      "Y0(100,0.4)=0.006920821866417626:\n",
      "Runtime[s]=7.422628879547119:\n"
     ]
    },
    {
     "name": "stderr",
     "output_type": "stream",
     "text": [
      "\r",
      "\u001b[32mProgress:  67%|███████████████████████████▍             |  ETA: 0:00:12\u001b[39m"
     ]
    },
    {
     "name": "stdout",
     "output_type": "stream",
     "text": [
      "Nₜ=200:\n",
      "Sup Err=0.04487951501294063:\n",
      "Y0(100,0.4)=0.00692082184819931:\n",
      "Runtime[s]=14.72308897972107:\n"
     ]
    },
    {
     "name": "stderr",
     "output_type": "stream",
     "text": [
      "\r",
      "\u001b[32mProgress:  83%|██████████████████████████████████▏      |  ETA: 0:00:08\u001b[39m"
     ]
    },
    {
     "name": "stdout",
     "output_type": "stream",
     "text": [
      "Nₜ=500:\n",
      "Sup Err=0.04468159944598327:\n",
      "Y0(100,0.4)=0.006920821846080116:\n",
      "Runtime[s]=34.96632218360901:\n"
     ]
    },
    {
     "name": "stderr",
     "output_type": "stream",
     "text": [
      "\r",
      "\u001b[32mProgress: 100%|█████████████████████████████████████████| Time: 0:01:14\u001b[39m\n"
     ]
    },
    {
     "name": "stdout",
     "output_type": "stream",
     "text": [
      "q=8:\n",
      "Nₜ=10:\n",
      "Sup Err=0.03469262459509981:\n",
      "Y0(100,0.4)=0.0024542363635138287:\n",
      "Runtime[s]=2.5104689598083496:\n",
      "Nₜ=20:\n",
      "Sup Err=0.03465039636115419:\n",
      "Y0(100,0.4)=0.0024185305286614778:\n",
      "Runtime[s]=3.162091016769409:\n"
     ]
    },
    {
     "name": "stderr",
     "output_type": "stream",
     "text": [
      "\r",
      "\u001b[32mProgress:  33%|█████████████▋                           |  ETA: 0:00:11\u001b[39m"
     ]
    },
    {
     "name": "stdout",
     "output_type": "stream",
     "text": [
      "Nₜ=50:\n",
      "Sup Err=0.03465037367343582:\n",
      "Y0(100,0.4)=0.002418507218296284:\n",
      "Runtime[s]=7.446163892745972:\n"
     ]
    },
    {
     "name": "stderr",
     "output_type": "stream",
     "text": [
      "\r",
      "\u001b[32mProgress:  50%|████████████████████▌                    |  ETA: 0:00:13\u001b[39m"
     ]
    },
    {
     "name": "stdout",
     "output_type": "stream",
     "text": [
      "Nₜ=100:\n",
      "Sup Err=0.03465037359267242:\n",
      "Y0(100,0.4)=0.002418507036807682:\n",
      "Runtime[s]=14.659268856048584:\n"
     ]
    },
    {
     "name": "stderr",
     "output_type": "stream",
     "text": [
      "\r",
      "\u001b[32mProgress:  67%|███████████████████████████▍             |  ETA: 0:00:14\u001b[39m"
     ]
    },
    {
     "name": "stdout",
     "output_type": "stream",
     "text": [
      "Nₜ=200:\n",
      "Sup Err=0.03423006735177481:\n",
      "Y0(100,0.4)=0.002418507018591143:\n",
      "Runtime[s]=28.529052019119263:\n"
     ]
    },
    {
     "name": "stderr",
     "output_type": "stream",
     "text": [
      "\r",
      "\u001b[32mProgress:  83%|██████████████████████████████████▏      |  ETA: 0:00:11\u001b[39m"
     ]
    },
    {
     "name": "stdout",
     "output_type": "stream",
     "text": [
      "Nₜ=500:\n",
      "Sup Err=0.03397938693922953:\n",
      "Y0(100,0.4)=0.002418507016416882:\n",
      "Runtime[s]=67.02801990509033:\n"
     ]
    },
    {
     "name": "stderr",
     "output_type": "stream",
     "text": [
      "\u001b[32mProgress: 100%|█████████████████████████████████████████| Time: 0:02:04\u001b[39m\n",
      "\u001b[32mProgress:  50%|████████████████████▌                    |  ETA: 0:03:19\u001b[39m"
     ]
    },
    {
     "name": "stdout",
     "output_type": "stream",
     "text": [
      "q=9:\n",
      "Nₜ=10:\n",
      "Sup Err=0.39611024233798453:\n",
      "Y0(100,0.4)=0.11932070553846863:\n",
      "Runtime[s]=4.702465057373047:\n",
      "Nₜ=20:\n",
      "Sup Err=0.08478773244037363:\n",
      "Y0(100,0.4)=0.01498484747694917:\n",
      "Runtime[s]=5.476950168609619:\n"
     ]
    },
    {
     "name": "stderr",
     "output_type": "stream",
     "text": [
      "\r",
      "\u001b[32mProgress:  33%|█████████████▋                           |  ETA: 0:00:20\u001b[39m"
     ]
    },
    {
     "name": "stdout",
     "output_type": "stream",
     "text": [
      "Nₜ=50:\n",
      "Sup Err=0.03244325987810548:\n",
      "Y0(100,0.4)=0.0014742295683145556:\n",
      "Runtime[s]=12.97183609008789:\n"
     ]
    },
    {
     "name": "stderr",
     "output_type": "stream",
     "text": [
      "\r",
      "\u001b[32mProgress:  50%|████████████████████▌                    |  ETA: 0:00:23\u001b[39m"
     ]
    },
    {
     "name": "stdout",
     "output_type": "stream",
     "text": [
      "Nₜ=100:\n",
      "Sup Err=0.03229536916741926:\n",
      "Y0(100,0.4)=0.001309134342749374:\n",
      "Runtime[s]=25.405484914779663:\n"
     ]
    },
    {
     "name": "stderr",
     "output_type": "stream",
     "text": [
      "\r",
      "\u001b[32mProgress:  67%|███████████████████████████▍             |  ETA: 0:00:24\u001b[39m"
     ]
    },
    {
     "name": "stdout",
     "output_type": "stream",
     "text": [
      "Nₜ=200:\n",
      "Sup Err=0.03188508759911768:\n",
      "Y0(100,0.4)=0.0013083638671460562:\n",
      "Runtime[s]=49.65389895439148:\n"
     ]
    },
    {
     "name": "stderr",
     "output_type": "stream",
     "text": [
      "\r",
      "\u001b[32mProgress:  83%|██████████████████████████████████▏      |  ETA: 0:00:20\u001b[39m"
     ]
    },
    {
     "name": "stdout",
     "output_type": "stream",
     "text": [
      "Nₜ=500:\n",
      "Sup Err=0.03164087266743287:\n",
      "Y0(100,0.4)=0.0013083637832274064:\n",
      "Runtime[s]=126.89500594139099:\n"
     ]
    },
    {
     "name": "stderr",
     "output_type": "stream",
     "text": [
      "\u001b[32mProgress: 100%|█████████████████████████████████████████| Time: 0:03:45\u001b[39m\n",
      "\u001b[32mProgress:  75%|██████████████████████████████▊          |  ETA: 0:02:22\u001b[39m"
     ]
    },
    {
     "name": "stdout",
     "output_type": "stream",
     "text": [
      "q=10:\n",
      "Nₜ=10:\n",
      "Sup Err=5.537168266459178:\n",
      "Y0(100,0.4)=4.941641806461591:\n",
      "Runtime[s]=13.827176094055176:\n",
      "Nₜ=20:\n",
      "Sup Err=3.186511513098779:\n",
      "Y0(100,0.4)=2.8535804704424192:\n",
      "Runtime[s]=12.446714878082275:\n"
     ]
    },
    {
     "name": "stderr",
     "output_type": "stream",
     "text": [
      "\r",
      "\u001b[32mProgress:  33%|█████████████▋                           |  ETA: 0:00:53\u001b[39m"
     ]
    },
    {
     "name": "stdout",
     "output_type": "stream",
     "text": [
      "Nₜ=50:\n",
      "Sup Err=0.23526427771575253:\n",
      "Y0(100,0.4)=0.05267499355895566:\n",
      "Runtime[s]=29.125622987747192:\n"
     ]
    },
    {
     "name": "stderr",
     "output_type": "stream",
     "text": [
      "\r",
      "\u001b[32mProgress:  50%|████████████████████▌                    |  ETA: 0:00:56\u001b[39m"
     ]
    },
    {
     "name": "stdout",
     "output_type": "stream",
     "text": [
      "Nₜ=100:\n",
      "Sup Err=0.060679442139524475:\n",
      "Y0(100,0.4)=0.006811853767089815:\n",
      "Runtime[s]=56.85424995422363:\n"
     ]
    },
    {
     "name": "stderr",
     "output_type": "stream",
     "text": [
      "\r",
      "\u001b[32mProgress:  67%|███████████████████████████▍             |  ETA: 0:00:56\u001b[39m"
     ]
    },
    {
     "name": "stdout",
     "output_type": "stream",
     "text": [
      "Nₜ=200:\n",
      "Sup Err=0.03151508363382849:\n",
      "Y0(100,0.4)=0.0013512474589045809:\n",
      "Runtime[s]=113.47864508628845:\n"
     ]
    },
    {
     "name": "stderr",
     "output_type": "stream",
     "text": [
      "\r",
      "\u001b[32mProgress:  83%|██████████████████████████████████▏      |  ETA: 0:00:45\u001b[39m"
     ]
    },
    {
     "name": "stdout",
     "output_type": "stream",
     "text": [
      "Nₜ=500:\n",
      "Sup Err=0.030996257210158973:\n",
      "Y0(100,0.4)=0.0010321589664421538:\n",
      "Runtime[s]=307.50904417037964:\n"
     ]
    },
    {
     "name": "stderr",
     "output_type": "stream",
     "text": [
      "\u001b[32mProgress: 100%|█████████████████████████████████████████| Time: 0:08:54\u001b[39m\n",
      "\u001b[32mProgress: 100%|█████████████████████████████████████████| Time: 0:15:59\u001b[39m\n"
     ]
    },
    {
     "name": "stdout",
     "output_type": "stream",
     "text": [
      "q=7:\n",
      "Nₜ=10:\n",
      "Sup Err=0.04582014368259024:\n",
      "Y0(100,0.4)=0.008139791769970373:\n",
      "Runtime[s]=2.773437976837158:\n",
      "Nₜ=20:\n",
      "Sup Err=0.04551558640728004:\n",
      "Y0(100,0.4)=0.007529307775298477:\n",
      "Runtime[s]=0.23207783699035645:\n"
     ]
    },
    {
     "name": "stderr",
     "output_type": "stream",
     "text": [
      "\r",
      "\u001b[32mProgress:  33%|█████████████▋                           |  ETA: 0:00:06\u001b[39m"
     ]
    },
    {
     "name": "stdout",
     "output_type": "stream",
     "text": [
      "Nₜ=50:\n",
      "Sup Err=0.04533333085583102:\n",
      "Y0(100,0.4)=0.007163977158844759:\n",
      "Runtime[s]=0.5210528373718262:\n"
     ]
    },
    {
     "name": "stderr",
     "output_type": "stream",
     "text": [
      "\r",
      "\u001b[32mProgress:  50%|████████████████████▌                    |  ETA: 0:00:04\u001b[39m"
     ]
    },
    {
     "name": "stdout",
     "output_type": "stream",
     "text": [
      "Nₜ=100:\n",
      "Sup Err=0.045272658542472755:\n",
      "Y0(100,0.4)=0.007042359718665736:\n",
      "Runtime[s]=1.0111939907073975:\n"
     ]
    },
    {
     "name": "stderr",
     "output_type": "stream",
     "text": [
      "\r",
      "\u001b[32mProgress:  67%|███████████████████████████▍             |  ETA: 0:00:02\u001b[39m"
     ]
    },
    {
     "name": "stdout",
     "output_type": "stream",
     "text": [
      "Nₜ=200:\n",
      "Sup Err=0.04490953747272819:\n",
      "Y0(100,0.4)=0.006981580842195356:\n",
      "Runtime[s]=1.8914289474487305:\n"
     ]
    },
    {
     "name": "stderr",
     "output_type": "stream",
     "text": [
      "\r",
      "\u001b[32mProgress:  83%|██████████████████████████████████▏      |  ETA: 0:00:01\u001b[39m"
     ]
    },
    {
     "name": "stdout",
     "output_type": "stream",
     "text": [
      "Nₜ=500:\n",
      "Sup Err=0.04469353812993759:\n",
      "Y0(100,0.4)=0.0069451230592214586:\n",
      "Runtime[s]=4.5167388916015625:\n"
     ]
    },
    {
     "name": "stderr",
     "output_type": "stream",
     "text": [
      "\r",
      "\u001b[32mProgress: 100%|█████████████████████████████████████████| Time: 0:00:11\u001b[39m\n"
     ]
    },
    {
     "name": "stdout",
     "output_type": "stream",
     "text": [
      "q=8:\n",
      "Nₜ=10:\n",
      "Sup Err=0.03517574332867701:\n",
      "Y0(100,0.4)=0.003677696179806844:\n",
      "Runtime[s]=0.2625010013580322:\n",
      "Nₜ=20:\n",
      "Sup Err=0.03488691542167599:\n",
      "Y0(100,0.4)=0.003027299454437582:\n",
      "Runtime[s]=0.4698951244354248:\n"
     ]
    },
    {
     "name": "stderr",
     "output_type": "stream",
     "text": [
      "\r",
      "\u001b[32mProgress:  33%|█████████████▋                           |  ETA: 0:00:02\u001b[39m"
     ]
    },
    {
     "name": "stdout",
     "output_type": "stream",
     "text": [
      "Nₜ=50:\n",
      "Sup Err=0.034744884656222386:\n",
      "Y0(100,0.4)=0.0026617749612629638:\n",
      "Runtime[s]=1.100273847579956:\n"
     ]
    },
    {
     "name": "stderr",
     "output_type": "stream",
     "text": [
      "\r",
      "\u001b[32mProgress:  50%|████████████████████▌                    |  ETA: 0:00:02\u001b[39m"
     ]
    },
    {
     "name": "stdout",
     "output_type": "stream",
     "text": [
      "Nₜ=100:\n",
      "Sup Err=0.03469761365407065:\n",
      "Y0(100,0.4)=0.002540101185084964:\n",
      "Runtime[s]=2.07456111907959:\n"
     ]
    },
    {
     "name": "stderr",
     "output_type": "stream",
     "text": [
      "\r",
      "\u001b[32mProgress:  67%|███████████████████████████▍             |  ETA: 0:00:02\u001b[39m"
     ]
    },
    {
     "name": "stdout",
     "output_type": "stream",
     "text": [
      "Nₜ=200:\n",
      "Sup Err=0.03425344095245464:\n",
      "Y0(100,0.4)=0.00247929415635717:\n",
      "Runtime[s]=3.9696600437164307:\n"
     ]
    },
    {
     "name": "stderr",
     "output_type": "stream",
     "text": [
      "\r",
      "\u001b[32mProgress:  83%|██████████████████████████████████▏      |  ETA: 0:00:02\u001b[39m"
     ]
    },
    {
     "name": "stdout",
     "output_type": "stream",
     "text": [
      "Nₜ=500:\n",
      "Sup Err=0.033988677448488325:\n",
      "Y0(100,0.4)=0.002442819486299541:\n",
      "Runtime[s]=9.472261905670166:\n"
     ]
    },
    {
     "name": "stderr",
     "output_type": "stream",
     "text": [
      "\u001b[32mProgress: 100%|█████████████████████████████████████████| Time: 0:00:18\u001b[39m\n",
      "\u001b[32mProgress:  50%|████████████████████▌                    |  ETA: 0:00:30\u001b[39m"
     ]
    },
    {
     "name": "stdout",
     "output_type": "stream",
     "text": [
      "q=9:\n",
      "Nₜ=10:\n",
      "Sup Err=0.41344619656240233:\n",
      "Y0(100,0.4)=0.12113026955625372:\n",
      "Runtime[s]=0.5983109474182129:\n",
      "Nₜ=20:\n",
      "Sup Err=0.09191231352479079:\n",
      "Y0(100,0.4)=0.016439799057229365:\n",
      "Runtime[s]=1.0022759437561035:\n"
     ]
    },
    {
     "name": "stderr",
     "output_type": "stream",
     "text": [
      "\r",
      "\u001b[32mProgress:  33%|█████████████▋                           |  ETA: 0:00:03\u001b[39m"
     ]
    },
    {
     "name": "stdout",
     "output_type": "stream",
     "text": [
      "Nₜ=50:\n",
      "Sup Err=0.03256106531523395:\n",
      "Y0(100,0.4)=0.001740454434216332:\n",
      "Runtime[s]=2.12219500541687:\n"
     ]
    },
    {
     "name": "stderr",
     "output_type": "stream",
     "text": [
      "\r",
      "\u001b[32mProgress:  50%|████████████████████▌                    |  ETA: 0:00:04\u001b[39m"
     ]
    },
    {
     "name": "stdout",
     "output_type": "stream",
     "text": [
      "Nₜ=100:\n",
      "Sup Err=0.032342846809592096:\n",
      "Y0(100,0.4)=0.0014309601991691068:\n",
      "Runtime[s]=4.03271484375:\n"
     ]
    },
    {
     "name": "stderr",
     "output_type": "stream",
     "text": [
      "\r",
      "\u001b[32mProgress:  67%|███████████████████████████▍             |  ETA: 0:00:04\u001b[39m"
     ]
    },
    {
     "name": "stdout",
     "output_type": "stream",
     "text": [
      "Nₜ=200:\n",
      "Sup Err=0.031908475827573834:\n",
      "Y0(100,0.4)=0.0013691579828734035:\n",
      "Runtime[s]=7.6943519115448:\n"
     ]
    },
    {
     "name": "stderr",
     "output_type": "stream",
     "text": [
      "\r",
      "\u001b[32mProgress:  83%|██████████████████████████████████▏      |  ETA: 0:00:03\u001b[39m"
     ]
    },
    {
     "name": "stdout",
     "output_type": "stream",
     "text": [
      "Nₜ=500:\n",
      "Sup Err=0.03165016897099626:\n",
      "Y0(100,0.4)=0.0013326790164036595:\n",
      "Runtime[s]=21.29464101791382:\n"
     ]
    },
    {
     "name": "stderr",
     "output_type": "stream",
     "text": [
      "\u001b[32mProgress: 100%|█████████████████████████████████████████| Time: 0:00:37\u001b[39m\n",
      "\u001b[32mProgress:  75%|██████████████████████████████▊          |  ETA: 0:00:22\u001b[39m"
     ]
    },
    {
     "name": "stdout",
     "output_type": "stream",
     "text": [
      "q=10:\n",
      "Nₜ=10:\n",
      "Sup Err=5.439217218556886:\n",
      "Y0(100,0.4)=4.855819836983914:\n",
      "Runtime[s]=2.3255391120910645:\n",
      "Nₜ=20:\n",
      "Sup Err=3.0063349902083285:\n",
      "Y0(100,0.4)=2.694161313733227:\n",
      "Runtime[s]=2.8483359813690186:\n"
     ]
    },
    {
     "name": "stderr",
     "output_type": "stream",
     "text": [
      "\r",
      "\u001b[32mProgress:  33%|█████████████▋                           |  ETA: 0:00:10\u001b[39m"
     ]
    },
    {
     "name": "stdout",
     "output_type": "stream",
     "text": [
      "Nₜ=50:\n",
      "Sup Err=0.24002548789506006:\n",
      "Y0(100,0.4)=0.05412454131720601:\n",
      "Runtime[s]=5.81904411315918:\n"
     ]
    },
    {
     "name": "stderr",
     "output_type": "stream",
     "text": [
      "\r",
      "\u001b[32mProgress:  50%|████████████████████▌                    |  ETA: 0:00:11\u001b[39m"
     ]
    },
    {
     "name": "stdout",
     "output_type": "stream",
     "text": [
      "Nₜ=100:\n",
      "Sup Err=0.06286046032604853:\n",
      "Y0(100,0.4)=0.007397844897292671:\n",
      "Runtime[s]=12.04512095451355:\n"
     ]
    },
    {
     "name": "stderr",
     "output_type": "stream",
     "text": [
      "\r",
      "\u001b[32mProgress:  67%|███████████████████████████▍             |  ETA: 0:00:12\u001b[39m"
     ]
    },
    {
     "name": "stdout",
     "output_type": "stream",
     "text": [
      "Nₜ=200:\n",
      "Sup Err=0.03156352836382936:\n",
      "Y0(100,0.4)=0.0014419499450042395:\n",
      "Runtime[s]=23.221887826919556:\n"
     ]
    },
    {
     "name": "stderr",
     "output_type": "stream",
     "text": [
      "\r",
      "\u001b[32mProgress:  83%|██████████████████████████████████▏      |  ETA: 0:00:09\u001b[39m"
     ]
    },
    {
     "name": "stdout",
     "output_type": "stream",
     "text": [
      "Nₜ=500:\n",
      "Sup Err=0.031005730654404484:\n",
      "Y0(100,0.4)=0.0010566836100096566:\n",
      "Runtime[s]=57.2581889629364:\n"
     ]
    },
    {
     "name": "stderr",
     "output_type": "stream",
     "text": [
      "\u001b[32mProgress: 100%|█████████████████████████████████████████| Time: 0:01:44\u001b[39m\n",
      "\u001b[32mProgress: 100%|█████████████████████████████████████████| Time: 0:02:51\u001b[39m\n",
      "\u001b[32mProgress:  29%|███████████▊                             |  ETA: 0:47:11\u001b[39m"
     ]
    },
    {
     "name": "stdout",
     "output_type": "stream",
     "text": [
      "q=7:\n",
      "Nₜ=10:\n",
      "Sup Err=0.0340008240004126:\n",
      "Y0(100,0.4)=0.004617523140007407:\n",
      "Runtime[s]=1.8404929637908936:\n",
      "Nₜ=20:\n",
      "Sup Err=0.03965281359562667:\n",
      "Y0(100,0.4)=0.0012165386061244732:\n",
      "Runtime[s]=0.2461240291595459:\n"
     ]
    },
    {
     "name": "stderr",
     "output_type": "stream",
     "text": [
      "\r",
      "\u001b[32mProgress:  33%|█████████████▋                           |  ETA: 0:00:04\u001b[39m"
     ]
    },
    {
     "name": "stdout",
     "output_type": "stream",
     "text": [
      "Nₜ=50:\n",
      "Sup Err=0.04299930911179661:\n",
      "Y0(100,0.4)=0.004654253733379576:\n",
      "Runtime[s]=0.5593981742858887:\n"
     ]
    },
    {
     "name": "stderr",
     "output_type": "stream",
     "text": [
      "\r",
      "\u001b[32mProgress:  50%|████████████████████▌                    |  ETA: 0:00:03\u001b[39m"
     ]
    },
    {
     "name": "stdout",
     "output_type": "stream",
     "text": [
      "Nₜ=100:\n",
      "Sup Err=0.044107481980432794:\n",
      "Y0(100,0.4)=0.005790027931032782:\n",
      "Runtime[s]=1.0807251930236816:\n"
     ]
    },
    {
     "name": "stderr",
     "output_type": "stream",
     "text": [
      "\r",
      "\u001b[32mProgress:  67%|███████████████████████████▍             |  ETA: 0:00:02\u001b[39m"
     ]
    },
    {
     "name": "stdout",
     "output_type": "stream",
     "text": [
      "Nₜ=200:\n",
      "Sup Err=0.04432919441117633:\n",
      "Y0(100,0.4)=0.006356044303402086:\n",
      "Runtime[s]=2.006134033203125:\n"
     ]
    },
    {
     "name": "stderr",
     "output_type": "stream",
     "text": [
      "\r",
      "\u001b[32mProgress:  83%|██████████████████████████████████▏      |  ETA: 0:00:01\u001b[39m"
     ]
    },
    {
     "name": "stdout",
     "output_type": "stream",
     "text": [
      "Nₜ=500:\n",
      "Sup Err=0.044461940724083604:\n",
      "Y0(100,0.4)=0.006695059092718836:\n",
      "Runtime[s]=4.809566020965576:\n"
     ]
    },
    {
     "name": "stderr",
     "output_type": "stream",
     "text": [
      "\r",
      "\u001b[32mProgress: 100%|█████████████████████████████████████████| Time: 0:00:11\u001b[39m\n"
     ]
    },
    {
     "name": "stdout",
     "output_type": "stream",
     "text": [
      "q=8:\n",
      "Nₜ=10:\n",
      "Sup Err=0.02456138067063751:\n",
      "Y0(100,0.4)=0.009083013278646135:\n",
      "Runtime[s]=0.2790970802307129:\n",
      "Nₜ=20:\n",
      "Sup Err=0.029618019292787512:\n",
      "Y0(100,0.4)=0.0032853092465590095:\n",
      "Runtime[s]=0.493696928024292:\n"
     ]
    },
    {
     "name": "stderr",
     "output_type": "stream",
     "text": [
      "\r",
      "\u001b[32mProgress:  33%|█████████████▋                           |  ETA: 0:00:02\u001b[39m"
     ]
    },
    {
     "name": "stdout",
     "output_type": "stream",
     "text": [
      "Nₜ=50:\n",
      "Sup Err=0.032645358219010934:\n",
      "Y0(100,0.4)=0.00015209126175541599:\n",
      "Runtime[s]=1.1790790557861328:\n"
     ]
    },
    {
     "name": "stderr",
     "output_type": "stream",
     "text": [
      "\r",
      "\u001b[32mProgress:  50%|████████████████████▌                    |  ETA: 0:00:02\u001b[39m"
     ]
    },
    {
     "name": "stdout",
     "output_type": "stream",
     "text": [
      "Nₜ=100:\n",
      "Sup Err=0.03364918454064547:\n",
      "Y0(100,0.4)=0.001287784900821265:\n",
      "Runtime[s]=2.194777011871338:\n"
     ]
    },
    {
     "name": "stderr",
     "output_type": "stream",
     "text": [
      "\r",
      "\u001b[32mProgress:  67%|███████████████████████████▍             |  ETA: 0:00:02\u001b[39m"
     ]
    },
    {
     "name": "stdout",
     "output_type": "stream",
     "text": [
      "Nₜ=200:\n",
      "Sup Err=0.0337314119263743:\n",
      "Y0(100,0.4)=0.0018537642897413775:\n",
      "Runtime[s]=4.22735595703125:\n"
     ]
    },
    {
     "name": "stderr",
     "output_type": "stream",
     "text": [
      "\r",
      "\u001b[32mProgress:  83%|██████████████████████████████████▏      |  ETA: 0:00:02\u001b[39m"
     ]
    },
    {
     "name": "stdout",
     "output_type": "stream",
     "text": [
      "Nₜ=500:\n",
      "Sup Err=0.03378039119783294:\n",
      "Y0(100,0.4)=0.002192757930759015:\n",
      "Runtime[s]=10.099325895309448:\n"
     ]
    },
    {
     "name": "stderr",
     "output_type": "stream",
     "text": [
      "\u001b[32mProgress: 100%|█████████████████████████████████████████| Time: 0:00:19\u001b[39m\n",
      "\u001b[32mProgress:  50%|████████████████████▌                    |  ETA: 0:00:30\u001b[39m"
     ]
    },
    {
     "name": "stdout",
     "output_type": "stream",
     "text": [
      "q=9:\n",
      "Nₜ=10:\n",
      "Sup Err=0.3955064663840666:\n",
      "Y0(100,0.4)=0.10770232917519884:\n",
      "Runtime[s]=0.6349198818206787:\n",
      "Nₜ=20:\n",
      "Sup Err=0.08471021534106526:\n",
      "Y0(100,0.4)=0.00927656384342157:\n",
      "Runtime[s]=1.0814850330352783:\n"
     ]
    },
    {
     "name": "stderr",
     "output_type": "stream",
     "text": [
      "\r",
      "\u001b[32mProgress:  33%|█████████████▋                           |  ETA: 0:00:04\u001b[39m"
     ]
    },
    {
     "name": "stdout",
     "output_type": "stream",
     "text": [
      "Nₜ=50:\n",
      "Sup Err=0.0304371699468704:\n",
      "Y0(100,0.4)=0.0007921470631977456:\n",
      "Runtime[s]=2.2533650398254395:\n"
     ]
    },
    {
     "name": "stderr",
     "output_type": "stream",
     "text": [
      "\r",
      "\u001b[32mProgress:  50%|████████████████████▌                    |  ETA: 0:00:04\u001b[39m"
     ]
    },
    {
     "name": "stdout",
     "output_type": "stream",
     "text": [
      "Nₜ=100:\n",
      "Sup Err=0.03129364376745247:\n",
      "Y0(100,0.4)=0.00017843724787525161:\n",
      "Runtime[s]=4.182716131210327:\n"
     ]
    },
    {
     "name": "stderr",
     "output_type": "stream",
     "text": [
      "\r",
      "\u001b[32mProgress:  67%|███████████████████████████▍             |  ETA: 0:00:04\u001b[39m"
     ]
    },
    {
     "name": "stdout",
     "output_type": "stream",
     "text": [
      "Nₜ=200:\n",
      "Sup Err=0.031386164058739396:\n",
      "Y0(100,0.4)=0.000743633356231399:\n",
      "Runtime[s]=8.09741497039795:\n"
     ]
    },
    {
     "name": "stderr",
     "output_type": "stream",
     "text": [
      "\r",
      "\u001b[32mProgress:  83%|██████████████████████████████████▏      |  ETA: 0:00:03\u001b[39m"
     ]
    },
    {
     "name": "stdout",
     "output_type": "stream",
     "text": [
      "Nₜ=500:\n",
      "Sup Err=0.03144176968927903:\n",
      "Y0(100,0.4)=0.0010826195063291522:\n",
      "Runtime[s]=20.982057094573975:\n"
     ]
    },
    {
     "name": "stderr",
     "output_type": "stream",
     "text": [
      "\u001b[32mProgress: 100%|█████████████████████████████████████████| Time: 0:00:38\u001b[39m\n",
      "\u001b[32mProgress:  75%|██████████████████████████████▊          |  ETA: 0:00:23\u001b[39m"
     ]
    },
    {
     "name": "stdout",
     "output_type": "stream",
     "text": [
      "q=10:\n",
      "Nₜ=10:\n",
      "Sup Err=5.542568853041594:\n",
      "Y0(100,0.4)=4.9469516503566755:\n",
      "Runtime[s]=2.076756000518799:\n",
      "Nₜ=20:\n",
      "Sup Err=3.142110548080791:\n",
      "Y0(100,0.4)=2.8138187114256707:\n",
      "Runtime[s]=3.225817918777466:\n"
     ]
    },
    {
     "name": "stderr",
     "output_type": "stream",
     "text": [
      "\r",
      "\u001b[32mProgress:  33%|█████████████▋                           |  ETA: 0:00:11\u001b[39m"
     ]
    },
    {
     "name": "stdout",
     "output_type": "stream",
     "text": [
      "Nₜ=50:\n",
      "Sup Err=0.23519271716523527:\n",
      "Y0(100,0.4)=0.05039294428948615:\n",
      "Runtime[s]=6.669479131698608:\n"
     ]
    },
    {
     "name": "stderr",
     "output_type": "stream",
     "text": [
      "\r",
      "\u001b[32mProgress:  50%|████████████████████▌                    |  ETA: 0:00:12\u001b[39m"
     ]
    },
    {
     "name": "stdout",
     "output_type": "stream",
     "text": [
      "Nₜ=100:\n",
      "Sup Err=0.06066570021638107:\n",
      "Y0(100,0.4)=0.0057656700300299235:\n",
      "Runtime[s]=12.271553039550781:\n"
     ]
    },
    {
     "name": "stderr",
     "output_type": "stream",
     "text": [
      "\r",
      "\u001b[32mProgress:  67%|███████████████████████████▍             |  ETA: 0:00:12\u001b[39m"
     ]
    },
    {
     "name": "stdout",
     "output_type": "stream",
     "text": [
      "Nₜ=200:\n",
      "Sup Err=0.031017029111076955:\n",
      "Y0(100,0.4)=0.0007875829801751166:\n",
      "Runtime[s]=23.438599109649658:\n"
     ]
    },
    {
     "name": "stderr",
     "output_type": "stream",
     "text": [
      "\r",
      "\u001b[32mProgress:  83%|██████████████████████████████████▏      |  ETA: 0:00:10\u001b[39m"
     ]
    },
    {
     "name": "stdout",
     "output_type": "stream",
     "text": [
      "Nₜ=500:\n",
      "Sup Err=0.030797127587706807:\n",
      "Y0(100,0.4)=0.000806417125714276:\n",
      "Runtime[s]=57.045079946517944:\n"
     ]
    },
    {
     "name": "stderr",
     "output_type": "stream",
     "text": [
      "\u001b[32mProgress: 100%|█████████████████████████████████████████| Time: 0:01:45\u001b[39m\n",
      "\u001b[32mProgress: 100%|█████████████████████████████████████████| Time: 0:02:54\u001b[39m\n",
      "\u001b[32mProgress:  43%|█████████████████▋                       |  ETA: 0:29:02\u001b[39m"
     ]
    },
    {
     "name": "stdout",
     "output_type": "stream",
     "text": [
      "q=7:\n",
      "Nₜ=10:\n",
      "Sup Err=0.045155281873307196:\n",
      "Y0(100,0.4)=0.006830413538418512:\n",
      "Runtime[s]=1.9357020854949951:\n",
      "Nₜ=20:\n",
      "Sup Err=0.04519785596823578:\n",
      "Y0(100,0.4)=0.006898266561789157:\n",
      "Runtime[s]=0.48707079887390137:\n"
     ]
    },
    {
     "name": "stderr",
     "output_type": "stream",
     "text": [
      "\r",
      "\u001b[32mProgress:  33%|█████████████▋                           |  ETA: 0:00:05\u001b[39m"
     ]
    },
    {
     "name": "stdout",
     "output_type": "stream",
     "text": [
      "Nₜ=50:\n",
      "Sup Err=0.04520976020932288:\n",
      "Y0(100,0.4)=0.0069172163805664155:\n",
      "Runtime[s]=1.1324231624603271:\n"
     ]
    },
    {
     "name": "stderr",
     "output_type": "stream",
     "text": [
      "\r",
      "\u001b[32mProgress:  50%|████████████████████▌                    |  ETA: 0:00:04\u001b[39m"
     ]
    },
    {
     "name": "stdout",
     "output_type": "stream",
     "text": [
      "Nₜ=100:\n",
      "Sup Err=0.04521145961562212:\n",
      "Y0(100,0.4)=0.0069199207154682085:\n",
      "Runtime[s]=2.1721279621124268:\n"
     ]
    },
    {
     "name": "stderr",
     "output_type": "stream",
     "text": [
      "\r",
      "\u001b[32mProgress:  67%|███████████████████████████▍             |  ETA: 0:00:03\u001b[39m"
     ]
    },
    {
     "name": "stdout",
     "output_type": "stream",
     "text": [
      "Nₜ=200:\n",
      "Sup Err=0.04487937362334371:\n",
      "Y0(100,0.4)=0.006920596590690664:\n",
      "Runtime[s]=4.199446201324463:\n"
     ]
    },
    {
     "name": "stderr",
     "output_type": "stream",
     "text": [
      "\r",
      "\u001b[32mProgress:  83%|██████████████████████████████████▏      |  ETA: 0:00:02\u001b[39m"
     ]
    },
    {
     "name": "stdout",
     "output_type": "stream",
     "text": [
      "Nₜ=500:\n",
      "Sup Err=0.04468157684229368:\n",
      "Y0(100,0.4)=0.00692078580762967:\n",
      "Runtime[s]=10.139783143997192:\n"
     ]
    },
    {
     "name": "stderr",
     "output_type": "stream",
     "text": [
      "\r",
      "\u001b[32mProgress: 100%|█████████████████████████████████████████| Time: 0:00:20\u001b[39m\n"
     ]
    },
    {
     "name": "stdout",
     "output_type": "stream",
     "text": [
      "q=8:\n",
      "Nₜ=10:\n",
      "Sup Err=0.034657837395621005:\n",
      "Y0(100,0.4)=0.002363938917456565:\n",
      "Runtime[s]=0.5231490135192871:\n",
      "Nₜ=20:\n",
      "Sup Err=0.034641716210290774:\n",
      "Y0(100,0.4)=0.0023960255201327385:\n",
      "Runtime[s]=1.012667179107666:\n"
     ]
    },
    {
     "name": "stderr",
     "output_type": "stream",
     "text": [
      "\r",
      "\u001b[32mProgress:  33%|█████████████▋                           |  ETA: 0:00:03\u001b[39m"
     ]
    },
    {
     "name": "stdout",
     "output_type": "stream",
     "text": [
      "Nₜ=50:\n",
      "Sup Err=0.034648985484181605:\n",
      "Y0(100,0.4)=0.0024149103810664485:\n",
      "Runtime[s]=2.3346970081329346:\n"
     ]
    },
    {
     "name": "stderr",
     "output_type": "stream",
     "text": [
      "\r",
      "\u001b[32mProgress:  50%|████████████████████▌                    |  ETA: 0:00:04\u001b[39m"
     ]
    },
    {
     "name": "stdout",
     "output_type": "stream",
     "text": [
      "Nₜ=100:\n",
      "Sup Err=0.03465002661356609:\n",
      "Y0(100,0.4)=0.0024176080928661747:\n",
      "Runtime[s]=4.324438095092773:\n"
     ]
    },
    {
     "name": "stderr",
     "output_type": "stream",
     "text": [
      "\r",
      "\u001b[32mProgress:  67%|███████████████████████████▍             |  ETA: 0:00:04\u001b[39m"
     ]
    },
    {
     "name": "stdout",
     "output_type": "stream",
     "text": [
      "Nₜ=200:\n",
      "Sup Err=0.03422998104854136:\n",
      "Y0(100,0.4)=0.0024182823126803754:\n",
      "Runtime[s]=8.362012147903442:\n"
     ]
    },
    {
     "name": "stderr",
     "output_type": "stream",
     "text": [
      "\r",
      "\u001b[32mProgress:  83%|██████████████████████████████████▏      |  ETA: 0:00:03\u001b[39m"
     ]
    },
    {
     "name": "stdout",
     "output_type": "stream",
     "text": [
      "Nₜ=500:\n",
      "Sup Err=0.03397937317357025:\n",
      "Y0(100,0.4)=0.002418471066251371:\n",
      "Runtime[s]=20.55657386779785:\n"
     ]
    },
    {
     "name": "stderr",
     "output_type": "stream",
     "text": [
      "\u001b[32mProgress: 100%|█████████████████████████████████████████| Time: 0:00:37\u001b[39m\n",
      "\u001b[32mProgress:  50%|████████████████████▌                    |  ETA: 0:00:59\u001b[39m"
     ]
    },
    {
     "name": "stdout",
     "output_type": "stream",
     "text": [
      "q=9:\n",
      "Nₜ=10:\n",
      "Sup Err=0.3961209697516832:\n",
      "Y0(100,0.4)=0.11907667101639419:\n",
      "Runtime[s]=1.1393978595733643:\n",
      "Nₜ=20:\n",
      "Sup Err=0.08482182542383221:\n",
      "Y0(100,0.4)=0.014951454966260158:\n",
      "Runtime[s]=1.97996187210083:\n"
     ]
    },
    {
     "name": "stderr",
     "output_type": "stream",
     "text": [
      "\r",
      "\u001b[32mProgress:  33%|█████████████▋                           |  ETA: 0:00:06\u001b[39m"
     ]
    },
    {
     "name": "stdout",
     "output_type": "stream",
     "text": [
      "Nₜ=50:\n",
      "Sup Err=0.032441818632040764:\n",
      "Y0(100,0.4)=0.0014705814005839812:\n",
      "Runtime[s]=4.3327178955078125:\n"
     ]
    },
    {
     "name": "stderr",
     "output_type": "stream",
     "text": [
      "\r",
      "\u001b[32mProgress:  50%|████████████████████▌                    |  ETA: 0:00:08\u001b[39m"
     ]
    },
    {
     "name": "stdout",
     "output_type": "stream",
     "text": [
      "Nₜ=100:\n",
      "Sup Err=0.0322950209618198:\n",
      "Y0(100,0.4)=0.0013082359477341043:\n",
      "Runtime[s]=8.235127925872803:\n"
     ]
    },
    {
     "name": "stderr",
     "output_type": "stream",
     "text": [
      "\r",
      "\u001b[32mProgress:  67%|███████████████████████████▍             |  ETA: 0:00:08\u001b[39m"
     ]
    },
    {
     "name": "stdout",
     "output_type": "stream",
     "text": [
      "Nₜ=200:\n",
      "Sup Err=0.031885001006750624:\n",
      "Y0(100,0.4)=0.001308139328029867:\n",
      "Runtime[s]=16.203747034072876:\n"
     ]
    },
    {
     "name": "stderr",
     "output_type": "stream",
     "text": [
      "\r",
      "\u001b[32mProgress:  83%|██████████████████████████████████▏      |  ETA: 0:00:07\u001b[39m"
     ]
    },
    {
     "name": "stdout",
     "output_type": "stream",
     "text": [
      "Nₜ=500:\n",
      "Sup Err=0.031640858854643295:\n",
      "Y0(100,0.4)=0.0013083278597019188:\n",
      "Runtime[s]=39.78587794303894:\n"
     ]
    },
    {
     "name": "stderr",
     "output_type": "stream",
     "text": [
      "\u001b[32mProgress: 100%|█████████████████████████████████████████| Time: 0:01:12\u001b[39m\n",
      "\u001b[32mProgress:  75%|██████████████████████████████▊          |  ETA: 0:00:44\u001b[39m"
     ]
    },
    {
     "name": "stdout",
     "output_type": "stream",
     "text": [
      "q=10:\n",
      "Nₜ=10:\n",
      "Sup Err=5.54159060721028:\n",
      "Y0(100,0.4)=4.945694098620537:\n",
      "Runtime[s]=3.003399133682251:\n",
      "Nₜ=20:\n",
      "Sup Err=3.1247842674957997:\n",
      "Y0(100,0.4)=2.798614876335286:\n",
      "Runtime[s]=4.938469886779785:\n"
     ]
    },
    {
     "name": "stderr",
     "output_type": "stream",
     "text": [
      "\r",
      "\u001b[32mProgress:  33%|█████████████▋                           |  ETA: 0:00:16\u001b[39m"
     ]
    },
    {
     "name": "stdout",
     "output_type": "stream",
     "text": [
      "Nₜ=50:\n",
      "Sup Err=0.23525996131483495:\n",
      "Y0(100,0.4)=0.052598059269525876:\n",
      "Runtime[s]=10.878311157226562:\n"
     ]
    },
    {
     "name": "stderr",
     "output_type": "stream",
     "text": [
      "\r",
      "\u001b[32mProgress:  50%|████████████████████▌                    |  ETA: 0:00:19\u001b[39m"
     ]
    },
    {
     "name": "stdout",
     "output_type": "stream",
     "text": [
      "Nₜ=100:\n",
      "Sup Err=0.060681880823435286:\n",
      "Y0(100,0.4)=0.006804332610146346:\n",
      "Runtime[s]=21.03013586997986:\n"
     ]
    },
    {
     "name": "stderr",
     "output_type": "stream",
     "text": [
      "\r",
      "\u001b[32mProgress:  67%|███████████████████████████▍             |  ETA: 0:00:20\u001b[39m"
     ]
    },
    {
     "name": "stdout",
     "output_type": "stream",
     "text": [
      "Nₜ=200:\n",
      "Sup Err=0.031514939387951024:\n",
      "Y0(100,0.4)=0.0013509594805753977:\n",
      "Runtime[s]=40.421627044677734:\n"
     ]
    },
    {
     "name": "stderr",
     "output_type": "stream",
     "text": [
      "\r",
      "\u001b[32mProgress:  83%|██████████████████████████████████▏      |  ETA: 0:00:16\u001b[39m"
     ]
    },
    {
     "name": "stdout",
     "output_type": "stream",
     "text": [
      "Nₜ=500:\n",
      "Sup Err=0.030996243387792166:\n",
      "Y0(100,0.4)=0.0010321230444674256:\n",
      "Runtime[s]=112.11276602745056:\n"
     ]
    },
    {
     "name": "stderr",
     "output_type": "stream",
     "text": [
      "\u001b[32mProgress: 100%|█████████████████████████████████████████| Time: 0:03:13\u001b[39m\n",
      "\u001b[32mProgress: 100%|█████████████████████████████████████████| Time: 0:05:24\u001b[39m\n",
      "\u001b[32mProgress:  57%|███████████████████████▍                 |  ETA: 0:20:23\u001b[39m"
     ]
    },
    {
     "name": "stdout",
     "output_type": "stream",
     "text": [
      "q=7:\n",
      "Nₜ=10:\n",
      "Sup Err=0.045212006911483194:\n",
      "Y0(100,0.4)=0.006920848461380302:\n",
      "Runtime[s]=2.269788980484009:\n",
      "Nₜ=20:\n",
      "Sup Err=0.045212023302584115:\n",
      "Y0(100,0.4)=0.006920822036844854:\n",
      "Runtime[s]=0.8572502136230469:\n"
     ]
    },
    {
     "name": "stderr",
     "output_type": "stream",
     "text": [
      "\r",
      "\u001b[32mProgress:  33%|█████████████▋                           |  ETA: 0:00:06\u001b[39m"
     ]
    },
    {
     "name": "stdout",
     "output_type": "stream",
     "text": [
      "Nₜ=50:\n",
      "Sup Err=0.04521202574631111:\n",
      "Y0(100,0.4)=0.006920821738042093:\n",
      "Runtime[s]=2.073089122772217:\n"
     ]
    },
    {
     "name": "stderr",
     "output_type": "stream",
     "text": [
      "\r",
      "\u001b[32mProgress:  50%|████████████████████▌                    |  ETA: 0:00:05\u001b[39m"
     ]
    },
    {
     "name": "stdout",
     "output_type": "stream",
     "text": [
      "Nₜ=100:\n",
      "Sup Err=0.045212025901074426:\n",
      "Y0(100,0.4)=0.006920821827465673:\n",
      "Runtime[s]=3.952604055404663:\n"
     ]
    },
    {
     "name": "stderr",
     "output_type": "stream",
     "text": [
      "\r",
      "\u001b[32mProgress:  67%|███████████████████████████▍             |  ETA: 0:00:05\u001b[39m"
     ]
    },
    {
     "name": "stdout",
     "output_type": "stream",
     "text": [
      "Nₜ=200:\n",
      "Sup Err=0.044879515008164006:\n",
      "Y0(100,0.4)=0.006920821843326763:\n",
      "Runtime[s]=7.583518981933594:\n"
     ]
    },
    {
     "name": "stderr",
     "output_type": "stream",
     "text": [
      "\r",
      "\u001b[32mProgress:  83%|██████████████████████████████████▏      |  ETA: 0:00:03\u001b[39m"
     ]
    },
    {
     "name": "stdout",
     "output_type": "stream",
     "text": [
      "Nₜ=500:\n",
      "Sup Err=0.044681599445682174:\n",
      "Y0(100,0.4)=0.006920821845778136:\n",
      "Runtime[s]=18.26398491859436:\n"
     ]
    },
    {
     "name": "stderr",
     "output_type": "stream",
     "text": [
      "\r",
      "\u001b[32mProgress: 100%|█████████████████████████████████████████| Time: 0:00:35\u001b[39m\n"
     ]
    },
    {
     "name": "stdout",
     "output_type": "stream",
     "text": [
      "q=8:\n",
      "Nₜ=10:\n",
      "Sup Err=0.034692589816301744:\n",
      "Y0(100,0.4)=0.002454199282372116:\n",
      "Runtime[s]=0.8986079692840576:\n",
      "Nₜ=20:\n",
      "Sup Err=0.03465039201471587:\n",
      "Y0(100,0.4)=0.002418525764076307:\n",
      "Runtime[s]=1.7609081268310547:\n"
     ]
    },
    {
     "name": "stderr",
     "output_type": "stream",
     "text": [
      "\r",
      "\u001b[32mProgress:  33%|█████████████▋                           |  ETA: 0:00:05\u001b[39m"
     ]
    },
    {
     "name": "stdout",
     "output_type": "stream",
     "text": [
      "Nₜ=50:\n",
      "Sup Err=0.034650373395528344:\n",
      "Y0(100,0.4)=0.002418506908304252:\n",
      "Runtime[s]=4.081309080123901:\n"
     ]
    },
    {
     "name": "stderr",
     "output_type": "stream",
     "text": [
      "\r",
      "\u001b[32mProgress:  50%|████████████████████▌                    |  ETA: 0:00:07\u001b[39m"
     ]
    },
    {
     "name": "stdout",
     "output_type": "stream",
     "text": [
      "Nₜ=100:\n",
      "Sup Err=0.03465037355792733:\n",
      "Y0(100,0.4)=0.0024185069977864515:\n",
      "Runtime[s]=7.871764898300171:\n"
     ]
    },
    {
     "name": "stderr",
     "output_type": "stream",
     "text": [
      "\r",
      "\u001b[32mProgress:  67%|███████████████████████████▍             |  ETA: 0:00:08\u001b[39m"
     ]
    },
    {
     "name": "stdout",
     "output_type": "stream",
     "text": [
      "Nₜ=200:\n",
      "Sup Err=0.03423006734743783:\n",
      "Y0(100,0.4)=0.002418507013709714:\n",
      "Runtime[s]=15.181763172149658:\n"
     ]
    },
    {
     "name": "stderr",
     "output_type": "stream",
     "text": [
      "\r",
      "\u001b[32mProgress:  83%|██████████████████████████████████▏      |  ETA: 0:00:06\u001b[39m"
     ]
    },
    {
     "name": "stdout",
     "output_type": "stream",
     "text": [
      "Nₜ=500:\n",
      "Sup Err=0.033979386938953304:\n",
      "Y0(100,0.4)=0.0024185070161060196:\n",
      "Runtime[s]=36.53083801269531:\n"
     ]
    },
    {
     "name": "stderr",
     "output_type": "stream",
     "text": [
      "\u001b[32mProgress: 100%|█████████████████████████████████████████| Time: 0:01:07\u001b[39m\n",
      "\u001b[32mProgress:  50%|████████████████████▌                    |  ETA: 0:01:43\u001b[39m"
     ]
    },
    {
     "name": "stdout",
     "output_type": "stream",
     "text": [
      "q=9:\n",
      "Nₜ=10:\n",
      "Sup Err=0.39611018279829935:\n",
      "Y0(100,0.4)=0.1193206993674476:\n",
      "Runtime[s]=1.835434913635254:\n",
      "Nₜ=20:\n",
      "Sup Err=0.0847877298071591:\n",
      "Y0(100,0.4)=0.014984844398865604:\n",
      "Runtime[s]=3.262830972671509:\n"
     ]
    },
    {
     "name": "stderr",
     "output_type": "stream",
     "text": [
      "\r",
      "\u001b[32mProgress:  33%|█████████████▋                           |  ETA: 0:00:10\u001b[39m"
     ]
    },
    {
     "name": "stdout",
     "output_type": "stream",
     "text": [
      "Nₜ=50:\n",
      "Sup Err=0.032443259606436126:\n",
      "Y0(100,0.4)=0.0014742292648843858:\n",
      "Runtime[s]=7.617828845977783:\n"
     ]
    },
    {
     "name": "stderr",
     "output_type": "stream",
     "text": [
      "\r",
      "\u001b[32mProgress:  50%|████████████████████▌                    |  ETA: 0:00:13\u001b[39m"
     ]
    },
    {
     "name": "stdout",
     "output_type": "stream",
     "text": [
      "Nₜ=100:\n",
      "Sup Err=0.03229536913270881:\n",
      "Y0(100,0.4)=0.0013091343037192615:\n",
      "Runtime[s]=14.737082958221436:\n"
     ]
    },
    {
     "name": "stderr",
     "output_type": "stream",
     "text": [
      "\r",
      "\u001b[32mProgress:  67%|███████████████████████████▍             |  ETA: 0:00:14\u001b[39m"
     ]
    },
    {
     "name": "stdout",
     "output_type": "stream",
     "text": [
      "Nₜ=200:\n",
      "Sup Err=0.031885087594796246:\n",
      "Y0(100,0.4)=0.0013083638621989024:\n",
      "Runtime[s]=28.590819835662842:\n"
     ]
    },
    {
     "name": "stderr",
     "output_type": "stream",
     "text": [
      "\r",
      "\u001b[32mProgress:  83%|██████████████████████████████████▏      |  ETA: 0:00:11\u001b[39m"
     ]
    },
    {
     "name": "stdout",
     "output_type": "stream",
     "text": [
      "Nₜ=500:\n",
      "Sup Err=0.031640872667168196:\n",
      "Y0(100,0.4)=0.0013083637829183203:\n",
      "Runtime[s]=69.89506697654724:\n"
     ]
    },
    {
     "name": "stderr",
     "output_type": "stream",
     "text": [
      "\u001b[32mProgress: 100%|█████████████████████████████████████████| Time: 0:02:06\u001b[39m\n",
      "\u001b[32mProgress:  75%|██████████████████████████████▊          |  ETA: 0:01:17\u001b[39m"
     ]
    },
    {
     "name": "stdout",
     "output_type": "stream",
     "text": [
      "q=10:\n",
      "Nₜ=10:\n",
      "Sup Err=5.543178132759304:\n",
      "Y0(100,0.4)=4.9469825628681265:\n",
      "Runtime[s]=4.5277159214019775:\n",
      "Nₜ=20:\n",
      "Sup Err=3.157295855300834:\n",
      "Y0(100,0.4)=2.827161413992483:\n",
      "Runtime[s]=7.9672369956970215:\n"
     ]
    },
    {
     "name": "stderr",
     "output_type": "stream",
     "text": [
      "\r",
      "\u001b[32mProgress:  33%|█████████████▋                           |  ETA: 0:00:25\u001b[39m"
     ]
    },
    {
     "name": "stdout",
     "output_type": "stream",
     "text": [
      "Nₜ=50:\n",
      "Sup Err=0.2352642763571673:\n",
      "Y0(100,0.4)=0.052664454957502826:\n",
      "Runtime[s]=16.86885905265808:\n"
     ]
    },
    {
     "name": "stderr",
     "output_type": "stream",
     "text": [
      "\r",
      "\u001b[32mProgress:  50%|████████████████████▌                    |  ETA: 0:00:30\u001b[39m"
     ]
    },
    {
     "name": "stdout",
     "output_type": "stream",
     "text": [
      "Nₜ=100:\n",
      "Sup Err=0.06067944205395204:\n",
      "Y0(100,0.4)=0.006804890507206451:\n",
      "Runtime[s]=32.59532189369202:\n"
     ]
    },
    {
     "name": "stderr",
     "output_type": "stream",
     "text": [
      "\r",
      "\u001b[32mProgress:  67%|███████████████████████████▍             |  ETA: 0:00:31\u001b[39m"
     ]
    },
    {
     "name": "stdout",
     "output_type": "stream",
     "text": [
      "Nₜ=200:\n",
      "Sup Err=0.03151507462230496:\n",
      "Y0(100,0.4)=0.001351238902993046:\n",
      "Runtime[s]=64.31858396530151:\n"
     ]
    },
    {
     "name": "stderr",
     "output_type": "stream",
     "text": [
      "\r",
      "\u001b[32mProgress:  83%|██████████████████████████████████▏      |  ETA: 0:00:25\u001b[39m"
     ]
    },
    {
     "name": "stdout",
     "output_type": "stream",
     "text": [
      "Nₜ=500:\n",
      "Sup Err=0.030996257210173628:\n",
      "Y0(100,0.4)=0.0010321589663817576:\n",
      "Runtime[s]=218.28070783615112:\n"
     ]
    },
    {
     "name": "stderr",
     "output_type": "stream",
     "text": [
      "\u001b[32mProgress: 100%|█████████████████████████████████████████| Time: 0:05:45\u001b[39m\n",
      "\u001b[32mProgress: 100%|█████████████████████████████████████████| Time: 0:09:35\u001b[39m\n",
      "\u001b[32mProgress:  71%|█████████████████████████████▎           |  ETA: 0:14:43\u001b[39m"
     ]
    },
    {
     "name": "stdout",
     "output_type": "stream",
     "text": [
      "q=7:\n",
      "Nₜ=10:\n",
      "Sup Err=0.0452120284751274:\n",
      "Y0(100,0.4)=0.006920867293468191:\n",
      "Runtime[s]=3.6832010746002197:\n",
      "Nₜ=20:\n",
      "Sup Err=0.045212026085392765:\n",
      "Y0(100,0.4)=0.006920824675079373:\n",
      "Runtime[s]=3.469295024871826:\n"
     ]
    },
    {
     "name": "stderr",
     "output_type": "stream",
     "text": [
      "\r",
      "\u001b[32mProgress:  33%|█████████████▋                           |  ETA: 0:00:14\u001b[39m"
     ]
    },
    {
     "name": "stdout",
     "output_type": "stream",
     "text": [
      "Nₜ=50:\n",
      "Sup Err=0.04521202592781037:\n",
      "Y0(100,0.4)=0.006920821918253495:\n",
      "Runtime[s]=7.968870162963867:\n"
     ]
    },
    {
     "name": "stderr",
     "output_type": "stream",
     "text": [
      "\r",
      "\u001b[32mProgress:  50%|████████████████████▌                    |  ETA: 0:00:15\u001b[39m"
     ]
    },
    {
     "name": "stdout",
     "output_type": "stream",
     "text": [
      "Nₜ=100:\n",
      "Sup Err=0.04521202592390594:\n",
      "Y0(100,0.4)=0.00692082185049081:\n",
      "Runtime[s]=14.98422384262085:\n"
     ]
    },
    {
     "name": "stderr",
     "output_type": "stream",
     "text": [
      "\r",
      "\u001b[32mProgress:  67%|███████████████████████████▍             |  ETA: 0:00:15\u001b[39m"
     ]
    },
    {
     "name": "stdout",
     "output_type": "stream",
     "text": [
      "Nₜ=200:\n",
      "Sup Err=0.044879515011031934:\n",
      "Y0(100,0.4)=0.00692082184624887:\n",
      "Runtime[s]=28.364078044891357:\n"
     ]
    },
    {
     "name": "stderr",
     "output_type": "stream",
     "text": [
      "\r",
      "\u001b[32mProgress:  83%|██████████████████████████████████▏      |  ETA: 0:00:12\u001b[39m"
     ]
    },
    {
     "name": "stdout",
     "output_type": "stream",
     "text": [
      "Nₜ=500:\n",
      "Sup Err=0.04468159944585892:\n",
      "Y0(100,0.4)=0.006920821845959324:\n",
      "Runtime[s]=67.32357215881348:\n"
     ]
    },
    {
     "name": "stderr",
     "output_type": "stream",
     "text": [
      "\r",
      "\u001b[32mProgress: 100%|█████████████████████████████████████████| Time: 0:02:06\u001b[39m\n"
     ]
    },
    {
     "name": "stdout",
     "output_type": "stream",
     "text": [
      "q=8:\n",
      "Nₜ=10:\n",
      "Sup Err=0.03469264594380883:\n",
      "Y0(100,0.4)=0.002454247879866145:\n",
      "Runtime[s]=3.0929338932037354:\n",
      "Nₜ=20:\n",
      "Sup Err=0.034650394633332304:\n",
      "Y0(100,0.4)=0.002418528411292087:\n",
      "Runtime[s]=5.871098041534424:\n"
     ]
    },
    {
     "name": "stderr",
     "output_type": "stream",
     "text": [
      "\r",
      "\u001b[32mProgress:  33%|█████████████▋                           |  ETA: 0:00:18\u001b[39m"
     ]
    },
    {
     "name": "stdout",
     "output_type": "stream",
     "text": [
      "Nₜ=50:\n",
      "Sup Err=0.03465037356233713:\n",
      "Y0(100,0.4)=0.002418507088568944:\n",
      "Runtime[s]=13.55643916130066:\n"
     ]
    },
    {
     "name": "stderr",
     "output_type": "stream",
     "text": [
      "\r",
      "\u001b[32mProgress:  50%|████████████████████▌                    |  ETA: 0:00:23\u001b[39m"
     ]
    },
    {
     "name": "stdout",
     "output_type": "stream",
     "text": [
      "Nₜ=100:\n",
      "Sup Err=0.034650373578779536:\n",
      "Y0(100,0.4)=0.0024185070208009307:\n",
      "Runtime[s]=25.639615058898926:\n"
     ]
    },
    {
     "name": "stderr",
     "output_type": "stream",
     "text": [
      "\r",
      "\u001b[32mProgress:  67%|███████████████████████████▍             |  ETA: 0:00:24\u001b[39m"
     ]
    },
    {
     "name": "stdout",
     "output_type": "stream",
     "text": [
      "Nₜ=200:\n",
      "Sup Err=0.03423006735002421:\n",
      "Y0(100,0.4)=0.0024185070166087286:\n",
      "Runtime[s]=48.55978608131409:\n"
     ]
    },
    {
     "name": "stderr",
     "output_type": "stream",
     "text": [
      "\r",
      "\u001b[32mProgress:  83%|██████████████████████████████████▏      |  ETA: 0:00:19\u001b[39m"
     ]
    },
    {
     "name": "stdout",
     "output_type": "stream",
     "text": [
      "Nₜ=500:\n",
      "Sup Err=0.03397938693912428:\n",
      "Y0(100,0.4)=0.0024185070162889843:\n",
      "Runtime[s]=113.47127103805542:\n"
     ]
    },
    {
     "name": "stderr",
     "output_type": "stream",
     "text": [
      "\u001b[32mProgress: 100%|█████████████████████████████████████████| Time: 0:03:31\u001b[39m\n",
      "\u001b[32mProgress:  50%|████████████████████▌                    |  ETA: 0:05:38\u001b[39m"
     ]
    },
    {
     "name": "stdout",
     "output_type": "stream",
     "text": [
      "q=9:\n",
      "Nₜ=10:\n",
      "Sup Err=0.39631779556234115:\n",
      "Y0(100,0.4)=0.11939825675742988:\n",
      "Runtime[s]=4.18091607093811:\n",
      "Nₜ=20:\n",
      "Sup Err=0.08481115916406523:\n",
      "Y0(100,0.4)=0.014990774452540379:\n",
      "Runtime[s]=7.7154810428619385:\n"
     ]
    },
    {
     "name": "stderr",
     "output_type": "stream",
     "text": [
      "\r",
      "\u001b[32mProgress:  33%|█████████████▋                           |  ETA: 0:00:24\u001b[39m"
     ]
    },
    {
     "name": "stdout",
     "output_type": "stream",
     "text": [
      "Nₜ=50:\n",
      "Sup Err=0.032443284479024115:\n",
      "Y0(100,0.4)=0.0014742570214529849:\n",
      "Runtime[s]=17.766981840133667:\n"
     ]
    },
    {
     "name": "stderr",
     "output_type": "stream",
     "text": [
      "\r",
      "\u001b[32mProgress:  50%|████████████████████▌                    |  ETA: 0:00:30\u001b[39m"
     ]
    },
    {
     "name": "stdout",
     "output_type": "stream",
     "text": [
      "Nₜ=100:\n",
      "Sup Err=0.03229536921095244:\n",
      "Y0(100,0.4)=0.001309134391165756:\n",
      "Runtime[s]=33.546897888183594:\n"
     ]
    },
    {
     "name": "stderr",
     "output_type": "stream",
     "text": [
      "\r",
      "\u001b[32mProgress:  67%|███████████████████████████▍             |  ETA: 0:00:32\u001b[39m"
     ]
    },
    {
     "name": "stdout",
     "output_type": "stream",
     "text": [
      "Nₜ=200:\n",
      "Sup Err=0.031885087597366635:\n",
      "Y0(100,0.4)=0.0013083638650961404:\n",
      "Runtime[s]=64.14219903945923:\n"
     ]
    },
    {
     "name": "stderr",
     "output_type": "stream",
     "text": [
      "\r",
      "\u001b[32mProgress:  83%|██████████████████████████████████▏      |  ETA: 0:00:26\u001b[39m"
     ]
    },
    {
     "name": "stdout",
     "output_type": "stream",
     "text": [
      "Nₜ=500:\n",
      "Sup Err=0.031640872667322295:\n",
      "Y0(100,0.4)=0.001308363783065758:\n",
      "Runtime[s]=149.97360110282898:\n"
     ]
    },
    {
     "name": "stderr",
     "output_type": "stream",
     "text": [
      "\u001b[32mProgress: 100%|█████████████████████████████████████████| Time: 0:04:38\u001b[39m\n",
      "\u001b[32mProgress:  75%|██████████████████████████████▊          |  ETA: 0:03:25\u001b[39m"
     ]
    },
    {
     "name": "stdout",
     "output_type": "stream",
     "text": [
      "q=10:\n",
      "Nₜ=10:\n",
      "Sup Err=5.530037313126765:\n",
      "Y0(100,0.4)=4.935477887552384:\n",
      "Runtime[s]=7.971457004547119:\n",
      "Nₜ=20:\n",
      "Sup Err=3.135747813862155:\n",
      "Y0(100,0.4)=2.807992636016354:\n",
      "Runtime[s]=14.838832139968872:\n"
     ]
    },
    {
     "name": "stderr",
     "output_type": "stream",
     "text": [
      "\r",
      "\u001b[32mProgress:  33%|█████████████▋                           |  ETA: 0:00:46\u001b[39m"
     ]
    },
    {
     "name": "stdout",
     "output_type": "stream",
     "text": [
      "Nₜ=50:\n",
      "Sup Err=0.23528862506184733:\n",
      "Y0(100,0.4)=0.05255190010710287:\n",
      "Runtime[s]=34.5335750579834:\n"
     ]
    },
    {
     "name": "stderr",
     "output_type": "stream",
     "text": [
      "\r",
      "\u001b[32mProgress:  50%|████████████████████▌                    |  ETA: 0:00:58\u001b[39m"
     ]
    },
    {
     "name": "stdout",
     "output_type": "stream",
     "text": [
      "Nₜ=100:\n",
      "Sup Err=0.06068281065818848:\n",
      "Y0(100,0.4)=0.006806575378496049:\n",
      "Runtime[s]=60.445965051651:\n"
     ]
    },
    {
     "name": "stderr",
     "output_type": "stream",
     "text": [
      "\r",
      "\u001b[32mProgress:  67%|███████████████████████████▍             |  ETA: 0:00:59\u001b[39m"
     ]
    },
    {
     "name": "stdout",
     "output_type": "stream",
     "text": [
      "Nₜ=200:\n",
      "Sup Err=0.03151511709077015:\n",
      "Y0(100,0.4)=0.0013512838850910924:\n",
      "Runtime[s]=116.84791994094849:\n"
     ]
    },
    {
     "name": "stderr",
     "output_type": "stream",
     "text": [
      "\r",
      "\u001b[32mProgress:  83%|██████████████████████████████████▏      |  ETA: 0:00:47\u001b[39m"
     ]
    },
    {
     "name": "stdout",
     "output_type": "stream",
     "text": [
      "Nₜ=500:\n",
      "Sup Err=0.030996257225834434:\n",
      "Y0(100,0.4)=0.0010321589846622459:\n",
      "Runtime[s]=285.0242419242859:\n"
     ]
    },
    {
     "name": "stderr",
     "output_type": "stream",
     "text": [
      "\u001b[32mProgress: 100%|█████████████████████████████████████████| Time: 0:08:40\u001b[39m\n",
      "\u001b[32mProgress: 100%|█████████████████████████████████████████| Time: 0:18:56\u001b[39m\n",
      "\u001b[32mProgress:  86%|███████████████████████████████████▏     |  ETA: 0:09:17\u001b[39m"
     ]
    },
    {
     "name": "stdout",
     "output_type": "stream",
     "text": [
      "q=7:\n",
      "Nₜ=10:\n",
      "Sup Err=0.04521204462466777:\n",
      "Y0(100,0.4)=0.006920885565280699:\n",
      "Runtime[s]=1.2404561042785645:\n",
      "Nₜ=20:\n",
      "Sup Err=0.045212028052351805:\n",
      "Y0(100,0.4)=0.006920826801016133:\n",
      "Runtime[s]=2.382704973220825:\n"
     ]
    },
    {
     "name": "stderr",
     "output_type": "stream",
     "text": [
      "\r",
      "\u001b[32mProgress:  33%|█████████████▋                           |  ETA: 0:00:07\u001b[39m"
     ]
    },
    {
     "name": "stdout",
     "output_type": "stream",
     "text": [
      "Nₜ=50:\n",
      "Sup Err=0.0452120260516935:\n",
      "Y0(100,0.4)=0.006920822048003927:\n",
      "Runtime[s]=5.572658061981201:\n"
     ]
    },
    {
     "name": "stderr",
     "output_type": "stream",
     "text": [
      "\r",
      "\u001b[32mProgress:  50%|████████████████████▌                    |  ETA: 0:00:09\u001b[39m"
     ]
    },
    {
     "name": "stdout",
     "output_type": "stream",
     "text": [
      "Nₜ=100:\n",
      "Sup Err=0.045212025939301625:\n",
      "Y0(100,0.4)=0.006920821866417626:\n",
      "Runtime[s]=10.530881881713867:\n"
     ]
    },
    {
     "name": "stderr",
     "output_type": "stream",
     "text": [
      "\r",
      "\u001b[32mProgress:  67%|███████████████████████████▍             |  ETA: 0:00:10\u001b[39m"
     ]
    },
    {
     "name": "stdout",
     "output_type": "stream",
     "text": [
      "Nₜ=200:\n",
      "Sup Err=0.04487951501294063:\n",
      "Y0(100,0.4)=0.00692082184819931:\n",
      "Runtime[s]=20.22344398498535:\n"
     ]
    },
    {
     "name": "stderr",
     "output_type": "stream",
     "text": [
      "\r",
      "\u001b[32mProgress:  83%|██████████████████████████████████▏      |  ETA: 0:00:08\u001b[39m"
     ]
    },
    {
     "name": "stdout",
     "output_type": "stream",
     "text": [
      "Nₜ=500:\n",
      "Sup Err=0.04468159944598327:\n",
      "Y0(100,0.4)=0.006920821846080116:\n",
      "Runtime[s]=48.32985591888428:\n"
     ]
    },
    {
     "name": "stderr",
     "output_type": "stream",
     "text": [
      "\r",
      "\u001b[32mProgress: 100%|█████████████████████████████████████████| Time: 0:01:28\u001b[39m\n"
     ]
    },
    {
     "name": "stdout",
     "output_type": "stream",
     "text": [
      "q=8:\n",
      "Nₜ=10:\n",
      "Sup Err=0.03469262459509981:\n",
      "Y0(100,0.4)=0.0024542363635138287:\n",
      "Runtime[s]=2.1997368335723877:\n",
      "Nₜ=20:\n",
      "Sup Err=0.03465039636115419:\n",
      "Y0(100,0.4)=0.0024185305286614778:\n",
      "Runtime[s]=4.083738088607788:\n"
     ]
    },
    {
     "name": "stderr",
     "output_type": "stream",
     "text": [
      "\r",
      "\u001b[32mProgress:  33%|█████████████▋                           |  ETA: 0:00:13\u001b[39m"
     ]
    },
    {
     "name": "stdout",
     "output_type": "stream",
     "text": [
      "Nₜ=50:\n",
      "Sup Err=0.03465037367343582:\n",
      "Y0(100,0.4)=0.002418507218296284:\n",
      "Runtime[s]=9.335067987442017:\n"
     ]
    },
    {
     "name": "stderr",
     "output_type": "stream",
     "text": [
      "\r",
      "\u001b[32mProgress:  50%|████████████████████▌                    |  ETA: 0:00:16\u001b[39m"
     ]
    },
    {
     "name": "stdout",
     "output_type": "stream",
     "text": [
      "Nₜ=100:\n",
      "Sup Err=0.03465037359267242:\n",
      "Y0(100,0.4)=0.002418507036807682:\n",
      "Runtime[s]=17.37604784965515:\n"
     ]
    },
    {
     "name": "stderr",
     "output_type": "stream",
     "text": [
      "\r",
      "\u001b[32mProgress:  67%|███████████████████████████▍             |  ETA: 0:00:17\u001b[39m"
     ]
    },
    {
     "name": "stdout",
     "output_type": "stream",
     "text": [
      "Nₜ=200:\n",
      "Sup Err=0.03423006735177481:\n",
      "Y0(100,0.4)=0.002418507018591143:\n",
      "Runtime[s]=33.068522930145264:\n"
     ]
    },
    {
     "name": "stderr",
     "output_type": "stream",
     "text": [
      "\r",
      "\u001b[32mProgress:  83%|██████████████████████████████████▏      |  ETA: 0:00:13\u001b[39m"
     ]
    },
    {
     "name": "stdout",
     "output_type": "stream",
     "text": [
      "Nₜ=500:\n",
      "Sup Err=0.03397938693922953:\n",
      "Y0(100,0.4)=0.002418507016416882:\n",
      "Runtime[s]=78.7731659412384:\n"
     ]
    },
    {
     "name": "stderr",
     "output_type": "stream",
     "text": [
      "\u001b[32mProgress: 100%|█████████████████████████████████████████| Time: 0:02:25\u001b[39m\n",
      "\u001b[32mProgress:  50%|████████████████████▌                    |  ETA: 0:03:55\u001b[39m"
     ]
    },
    {
     "name": "stdout",
     "output_type": "stream",
     "text": [
      "q=9:\n",
      "Nₜ=10:\n",
      "Sup Err=0.39611024233798453:\n",
      "Y0(100,0.4)=0.11932070553846863:\n",
      "Runtime[s]=3.351923942565918:\n",
      "Nₜ=20:\n",
      "Sup Err=0.08478773244037363:\n",
      "Y0(100,0.4)=0.01498484747694917:\n",
      "Runtime[s]=6.178112030029297:\n"
     ]
    },
    {
     "name": "stderr",
     "output_type": "stream",
     "text": [
      "\r",
      "\u001b[32mProgress:  33%|█████████████▋                           |  ETA: 0:00:19\u001b[39m"
     ]
    },
    {
     "name": "stdout",
     "output_type": "stream",
     "text": [
      "Nₜ=50:\n",
      "Sup Err=0.03244325987810548:\n",
      "Y0(100,0.4)=0.0014742295683145556:\n",
      "Runtime[s]=14.74556589126587:\n"
     ]
    },
    {
     "name": "stderr",
     "output_type": "stream",
     "text": [
      "\r",
      "\u001b[32mProgress:  50%|████████████████████▌                    |  ETA: 0:00:24\u001b[39m"
     ]
    },
    {
     "name": "stdout",
     "output_type": "stream",
     "text": [
      "Nₜ=100:\n",
      "Sup Err=0.03229536916741926:\n",
      "Y0(100,0.4)=0.001309134342749374:\n",
      "Runtime[s]=28.488590002059937:\n"
     ]
    },
    {
     "name": "stderr",
     "output_type": "stream",
     "text": [
      "\r",
      "\u001b[32mProgress:  67%|███████████████████████████▍             |  ETA: 0:00:27\u001b[39m"
     ]
    },
    {
     "name": "stdout",
     "output_type": "stream",
     "text": [
      "Nₜ=200:\n",
      "Sup Err=0.03188508759911768:\n",
      "Y0(100,0.4)=0.0013083638671460562:\n",
      "Runtime[s]=53.02713990211487:\n"
     ]
    },
    {
     "name": "stderr",
     "output_type": "stream",
     "text": [
      "\r",
      "\u001b[32mProgress:  83%|██████████████████████████████████▏      |  ETA: 0:00:21\u001b[39m"
     ]
    },
    {
     "name": "stdout",
     "output_type": "stream",
     "text": [
      "Nₜ=500:\n",
      "Sup Err=0.03164087266743287:\n",
      "Y0(100,0.4)=0.0013083637832274064:\n",
      "Runtime[s]=127.02402591705322:\n"
     ]
    },
    {
     "name": "stderr",
     "output_type": "stream",
     "text": [
      "\u001b[32mProgress: 100%|█████████████████████████████████████████| Time: 0:03:53\u001b[39m\n",
      "\u001b[32mProgress:  75%|██████████████████████████████▊          |  ETA: 0:02:36\u001b[39m"
     ]
    },
    {
     "name": "stdout",
     "output_type": "stream",
     "text": [
      "q=10:\n",
      "Nₜ=10:\n",
      "Sup Err=5.537168266459178:\n",
      "Y0(100,0.4)=4.941641806461591:\n",
      "Runtime[s]=6.748107194900513:\n",
      "Nₜ=20:\n",
      "Sup Err=3.186511513098779:\n",
      "Y0(100,0.4)=2.8535804704424192:\n",
      "Runtime[s]=12.744595050811768:\n"
     ]
    },
    {
     "name": "stderr",
     "output_type": "stream",
     "text": [
      "\r",
      "\u001b[32mProgress:  33%|█████████████▋                           |  ETA: 0:00:39\u001b[39m"
     ]
    },
    {
     "name": "stdout",
     "output_type": "stream",
     "text": [
      "Nₜ=50:\n",
      "Sup Err=0.23526427771575253:\n",
      "Y0(100,0.4)=0.05267499355895566:\n",
      "Runtime[s]=30.60480809211731:\n"
     ]
    },
    {
     "name": "stderr",
     "output_type": "stream",
     "text": [
      "\r",
      "\u001b[32mProgress:  50%|████████████████████▌                    |  ETA: 0:00:50\u001b[39m"
     ]
    },
    {
     "name": "stdout",
     "output_type": "stream",
     "text": [
      "Nₜ=100:\n",
      "Sup Err=0.060679442139524475:\n",
      "Y0(100,0.4)=0.006811853767089815:\n",
      "Runtime[s]=59.37315893173218:\n"
     ]
    },
    {
     "name": "stderr",
     "output_type": "stream",
     "text": [
      "\r",
      "\u001b[32mProgress:  67%|███████████████████████████▍             |  ETA: 0:00:55\u001b[39m"
     ]
    },
    {
     "name": "stdout",
     "output_type": "stream",
     "text": [
      "Nₜ=200:\n",
      "Sup Err=0.03151508363382849:\n",
      "Y0(100,0.4)=0.0013512474589045809:\n",
      "Runtime[s]=126.54259896278381:\n"
     ]
    },
    {
     "name": "stderr",
     "output_type": "stream",
     "text": [
      "\r",
      "\u001b[32mProgress:  83%|██████████████████████████████████▏      |  ETA: 0:00:47\u001b[39m"
     ]
    },
    {
     "name": "stdout",
     "output_type": "stream",
     "text": [
      "Nₜ=500:\n",
      "Sup Err=0.030996257210158973:\n",
      "Y0(100,0.4)=0.0010321589664421538:\n",
      "Runtime[s]=327.5622911453247:\n"
     ]
    },
    {
     "name": "stderr",
     "output_type": "stream",
     "text": [
      "\u001b[32mProgress: 100%|█████████████████████████████████████████| Time: 0:09:24\u001b[39m\n",
      "\u001b[32mProgress: 100%|█████████████████████████████████████████| Time: 0:17:12\u001b[39m\n",
      "\u001b[32mProgress: 100%|█████████████████████████████████████████| Time: 1:12:55\u001b[39m\n"
     ]
    }
   ],
   "source": [
    "schemename = split(split(string(scheme), '{')[1], '(')[1]\n",
    "df = DataFrame([[],[],[],[],[],[],[],[]], header)\n",
    "@showprogress for q in [7,8,9,10]\n",
    "    print(string(\"q=\", q,\":\\n\")); flush(stdout)\n",
    "    sol100 = zeros(Float64, length(Nₜs)); \n",
    "    solsup = zeros(Float64, length(Nₜs)); \n",
    "    runtimes = zeros(Float64, length(Nₜs))\n",
    "    spind = sparse_indices(q, d)\n",
    "    @showprogress for (ind, Nₜ) in enumerate(Nₜs)\n",
    "        print(string(\"Nₜ=\", Nₜ,\":\\n\")); flush(stdout)\n",
    "        correct = [price(T-(time-1)/Nₜ, (p,v)...) for time in 1:Nₜ+1, p in eval_grids[1].grid, v in eval_grids[2].grid]\n",
    "\n",
    "        exc_start = time()\n",
    "        results = [solveProb(mind, bsde, Nₜ, scheme) for mind in spind]\n",
    "        data = [dat[1] for dat in results]\n",
    "        grids = [dat[2] for dat in results]\n",
    "        if all([size(dat)[2] == Nₜ+1 for dat in data])\n",
    "            sg_interp = SparseGridInterpolation(data, grids, spind, q, d, Nₜ, lefts, rights, centers)\n",
    "            exc_stop = time()\n",
    "            sol100[ind] = abs.(price(0.0, [100.0,0.4]...)-sg_interp.Interpolant(Nₜ+1, [100.0,0.4]))\n",
    "#                 result = [sg_interp.Interpolant(time, [p,v]) for time in 1:Nₜ+1, p in 80.0:5.0:120.0, v in 0.32:0.02:0.48]\n",
    "            result = [sg_interp.Interpolant(time, [p,v]) for time in 2:timestep:Nₜ+1, p in eval_grids[1].grid, v in eval_grids[2].grid]\n",
    "            solsup[ind] = maximum(abs.(result-correct))\n",
    "        else\n",
    "            exc_stop = time()\n",
    "            sol100[ind] = Inf\n",
    "            solsup[ind] = Inf\n",
    "        end\n",
    "        runtimes[ind] = exc_stop - exc_start\n",
    "        print(string(\"Sup Err=\", solsup[ind],\":\\n\")); flush(stdout)\n",
    "        print(string(\"Y0(100,0.4)=\", sol100[ind],\":\\n\")); flush(stdout)\n",
    "        print(string(\"Runtime[s]=\", runtimes[ind],\":\\n\")); flush(stdout)\n",
    "    end\n",
    "    row_sup = vcat([string(q), \"Sup Err\"], string.(solsup)); push!(dfs[snum],row_sup);\n",
    "    row_100 = vcat([string(q), \"Y0(100,0.4)\"], string.(sol100)); push!(dfs[snum],row_100);\n",
    "    row_run = vcat([string(q), \"Runtime[s]\"], string.(runtimes)); push!(dfs[snum],row_run);\n",
    "end\n",
    "dfs[snum] |> CSV.write(string(schemename, \".csv\"))\n",
    "end"
   ]
  }
 ],
 "metadata": {
  "@webio": {
   "lastCommId": null,
   "lastKernelId": null
  },
  "kernelspec": {
   "display_name": "Julia 1.9.1",
   "language": "julia",
   "name": "julia-1.9"
  },
  "language_info": {
   "file_extension": ".jl",
   "mimetype": "application/julia",
   "name": "julia",
   "version": "1.9.1"
  }
 },
 "nbformat": 4,
 "nbformat_minor": 5
}
