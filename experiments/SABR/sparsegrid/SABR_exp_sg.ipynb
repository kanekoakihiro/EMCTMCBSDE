{
 "cells": [
  {
   "cell_type": "code",
   "execution_count": 1,
   "id": "535a379d",
   "metadata": {},
   "outputs": [],
   "source": [
    "using Distributions, CSV, DataFrames, ProgressMeter\n",
    "include(\"../../../utils_sg.jl\")"
   ]
  },
  {
   "cell_type": "markdown",
   "id": "e08e124b",
   "metadata": {},
   "source": [
    "### Parameters"
   ]
  },
  {
   "cell_type": "code",
   "execution_count": 2,
   "id": "0eafde0a",
   "metadata": {},
   "outputs": [],
   "source": [
    "T = 1.0; r=0.05; S0 = 100.0; v0 = 0.4; α = 0.4; β = 0.9; ρ = 0.3; K = 100.0;\n",
    "slvm = SABRSLV(S0::Float64, v0::Float64, α::Float64, β::Float64, ρ::Float64, r::Float64);\n",
    "Π = [1.0 ρ; ρ 1.0]; cholΠ=cholesky(Π).L\n",
    "\n",
    "drift(x) = [slvm.ω(abs(x[1]),abs(x[2])), slvm.μ(abs(x[2]))]\n",
    "diffusion(x) = Diagonal(\n",
    "        [slvm.m(abs(x[2]))*slvm.Γ(abs(x[1])), slvm.σ(abs(x[2]))]\n",
    "        )*cholΠ\n",
    "\n",
    "R = r;\n",
    "driver(t, x, y, z) = (\n",
    "    -r*y\n",
    ")\n",
    "terminal(x) = max(x[1]-K,0)\n",
    "bsde = BSDE(T, [S0, v0], drift, diffusion, driver, terminal);"
   ]
  },
  {
   "cell_type": "markdown",
   "id": "d928e258",
   "metadata": {},
   "source": [
    "### Hagan's formula"
   ]
  },
  {
   "cell_type": "code",
   "execution_count": 3,
   "id": "c43dc320",
   "metadata": {},
   "outputs": [],
   "source": [
    "function implied_volatility(t::Float64, f::Float64, v::Float64)\n",
    "    # hagan\n",
    "    if f != K\n",
    "        numerator = (\n",
    "            v * (\n",
    "                1 + (\n",
    "                    (1-β)^2/24 * v^2/(f*K)^(1-β) \n",
    "                    + 1/4 * ρ*β*α*v/(f*K)^((1-β)/2)\n",
    "                    + (2-3*ρ^2)/24 * α^2\n",
    "                    ) * t\n",
    "                )\n",
    "            )\n",
    "        denominator = (\n",
    "            (f*K)^((1-β)/2) * (\n",
    "                1 + (1-β)^2/24 * log(f/K)^2\n",
    "                + (1-β)^4/1920 * log(f/K)^4\n",
    "                )\n",
    "            )\n",
    "        z = α/v * (f*K)^((1-β)/2) * log(f/K)\n",
    "        x = log((sqrt(1-2*ρ*z+z^2)+z-ρ)/(1-ρ))\n",
    "        return numerator/denominator * z/x\n",
    "    else\n",
    "        numerator = v * (\n",
    "            1 + (\n",
    "                (1-β)^2/24 * v^2/f^(2-2*β) \n",
    "                + 1/4 * ρ*β*α*v/f^(1-β)\n",
    "                + (2-3*ρ^2)/24 * α^2\n",
    "                ) * t\n",
    "        )\n",
    "        denominator = f^(1-β)\n",
    "        return numerator/denominator\n",
    "    end\n",
    "end;\n",
    "\n",
    "function BSvanilla(volatility, strike, expiry, spot, interest_rate, dividend_rate)\n",
    "    forward = spot#*exp((interest_rate-dividend_rate)*expiry)\n",
    "    sqrt_var = volatility * sqrt(expiry)\n",
    "    if sqrt_var > 0.0\n",
    "        d1 = log(forward/strike)/sqrt_var + sqrt_var/2\n",
    "        d2 = d1 - sqrt_var\n",
    "        call = forward*cdf(Normal(), d1) - strike*cdf(Normal(), d2)\n",
    "        # put = -forward*cdf(Normal(), -d1) + exp(-(interest_rate-dividend_rate)*expiry)*strike*cdf(Normal(), -d2)\n",
    "    else\n",
    "        call = max(forward-strike, 0.0)\n",
    "        # put = max(strike-forward, 0.0)\n",
    "    end\n",
    "    return exp(-(interest_rate-dividend_rate)*expiry)*call #put\n",
    "end;\n",
    "\n",
    "function price(t::Float64, f::Float64, v::Float64)\n",
    "    return BSvanilla(implied_volatility(T-t, f, v), K, T-t, f, r, 0.0)\n",
    "end;\n"
   ]
  },
  {
   "cell_type": "markdown",
   "id": "b79d202b",
   "metadata": {},
   "source": [
    "## Experiment"
   ]
  },
  {
   "cell_type": "code",
   "execution_count": 4,
   "id": "d1186fa9",
   "metadata": {
    "scrolled": true
   },
   "outputs": [],
   "source": [
    "Nₜs = [10, 20, 50, 100, 200, 500]\n",
    "header = vcat([\"q\", \"measurement_type\"], string.(Nₜs))\n",
    "scheme = HochOst4(krylov=true, m=100); EXPINT = true;"
   ]
  },
  {
   "cell_type": "code",
   "execution_count": 5,
   "id": "8017d9e1",
   "metadata": {},
   "outputs": [],
   "source": [
    "### designing grids\n",
    "d = 2\n",
    "### Parameters for Tavella-Randall grids\n",
    "g = 5.0\n",
    "g₁=g\n",
    "g₂=g\n",
    "\n",
    "lefts = [0.0, 0.0];\n",
    "rights = [200.0, 0.8];\n",
    "centers = [100.0, 0.4];\n",
    "scaled_centers=(centers.-(rights.+lefts)./2.0)./((rights.-lefts)./2.0);"
   ]
  },
  {
   "cell_type": "code",
   "execution_count": 6,
   "id": "ab6052bb",
   "metadata": {},
   "outputs": [
    {
     "data": {
      "text/plain": [
       "solveProb (generic function with 1 method)"
      ]
     },
     "execution_count": 6,
     "metadata": {},
     "output_type": "execute_result"
    }
   ],
   "source": [
    "function solveProb(mind, bsde, Nₜ, scheme)\n",
    "    d = length(mind)\n",
    "    \n",
    "    _p = [rescale(eq_nodes(mind[dim]), scaled_centers[dim], lefts[dim], rights[dim]) for dim in 1:d]\n",
    "    Δₗ = [pp[2]-pp[1] for pp in _p]\n",
    "    Δᵣ = [pp[end]-pp[end-1] for pp in _p]\n",
    "    Nₗ = [length(pp)÷2 for pp in _p]\n",
    "    Nᵣ = [length(pp)÷2 for pp in _p]\n",
    "\n",
    "    ratioₗ = Δₗ.*Nₗ./(Δₗ[1]*Nₗ[1])\n",
    "    ratioᵣ = Δᵣ.*Nᵣ./(Δᵣ[1]*Nᵣ[1])\n",
    "    grids = Array{AbstractGrid,1}(undef, d)\n",
    "    grids[1] = TavellaRandallGrid(g₁, g₂, _p[1][1], _p[1][length(_p[1])÷2+1], _p[1][end], length(_p[1])÷2, length(_p[1])÷2)\n",
    "    grids[2] = Grid1D(_p[2], length(_p[2]), length(_p[2])÷2, length(_p[2])÷2)\n",
    "    res = MethodOfLines(bsde, grids, Nₜ, scheme, true)\n",
    "    return [res[1], grids]\n",
    "end"
   ]
  },
  {
   "cell_type": "code",
   "execution_count": 7,
   "id": "3bd7c865",
   "metadata": {},
   "outputs": [
    {
     "data": {
      "text/plain": [
       "Grid1D([0.3466666666666667, 0.37333333333333335, 0.4, 0.4266666666666667, 0.4533333333333333], 5, 5, 0)"
      ]
     },
     "execution_count": 7,
     "metadata": {},
     "output_type": "execute_result"
    }
   ],
   "source": [
    "eval_grids = Array{AbstractGrid,1}(undef, 2)\n",
    "eval_grids[1] = begin\n",
    "    tr = TavellaRandallGrid(g₁, g₂, lefts[1], centers[1], rights[1], 100, 100)\n",
    "    gr = tr.grid[findall(attr->(attr<1.2*bsde.X0[1])&&(attr>0.8*bsde.X0[1]), tr.grid)]\n",
    "    Grid1D(gr, length(gr), length(gr[gr.<centers[1]]), length(gr[gr.>centers[1]]))\n",
    "end\n",
    "eval_grids[2] = begin\n",
    "    reg = Grid1D(lefts[2]:(centers[2]/15):rights[2],31,15,15)\n",
    "    gr = reg.grid[findall(attr->(attr<1.2*bsde.X0[2])&&(attr>0.8*bsde.X0[2]), reg.grid)]\n",
    "    Grid1D(gr, length(gr), length(gr[gr.<centers[1]]), length(gr[gr.>centers[1]]))\n",
    "end"
   ]
  },
  {
   "cell_type": "code",
   "execution_count": 8,
   "id": "0d4f765c",
   "metadata": {
    "scrolled": true
   },
   "outputs": [
    {
     "name": "stdout",
     "output_type": "stream",
     "text": [
      "Nₜ=10:\n",
      "q=7:\n",
      "Sup Err=0.04521204462466777:\n",
      "Y0(100,0.4)=0.006920885565280699:\n",
      "Runtime[s]=10.149618148803711:\n",
      "q=8:\n",
      "Sup Err=0.03469262459509981:\n",
      "Y0(100,0.4)=0.0024542363635138287:\n",
      "Runtime[s]=2.547924041748047:\n"
     ]
    },
    {
     "name": "stderr",
     "output_type": "stream",
     "text": [
      "\r",
      "\u001b[32mProgress:  50%|████████████████████▌                    |  ETA: 0:00:13\u001b[39m"
     ]
    },
    {
     "name": "stdout",
     "output_type": "stream",
     "text": [
      "q=9:\n",
      "Sup Err=0.39611024233798453:\n",
      "Y0(100,0.4)=0.11932070553846863:\n",
      "Runtime[s]=4.611959934234619:\n"
     ]
    },
    {
     "name": "stderr",
     "output_type": "stream",
     "text": [
      "\r",
      "\u001b[32mProgress:  75%|██████████████████████████████▊          |  ETA: 0:00:06\u001b[39m"
     ]
    },
    {
     "name": "stdout",
     "output_type": "stream",
     "text": [
      "q=10:\n",
      "Sup Err=5.537168266459178:\n",
      "Y0(100,0.4)=4.941641806461591:\n",
      "Runtime[s]=12.31826400756836:\n"
     ]
    },
    {
     "name": "stderr",
     "output_type": "stream",
     "text": [
      "\r",
      "\u001b[32mProgress: 100%|█████████████████████████████████████████| Time: 0:00:30\u001b[39m\n"
     ]
    },
    {
     "name": "stdout",
     "output_type": "stream",
     "text": [
      "Nₜ=20:\n",
      "q=7:\n",
      "Sup Err=0.045212028052351805:\n",
      "Y0(100,0.4)=0.006920826801016133:\n",
      "Runtime[s]=1.3225607872009277:\n",
      "q=8:\n",
      "Sup Err=0.03465039636115419:\n",
      "Y0(100,0.4)=0.0024185305286614778:\n",
      "Runtime[s]=2.589744806289673:\n"
     ]
    },
    {
     "name": "stderr",
     "output_type": "stream",
     "text": [
      "\r",
      "\u001b[32mProgress:  50%|████████████████████▌                    |  ETA: 0:00:04\u001b[39m"
     ]
    },
    {
     "name": "stdout",
     "output_type": "stream",
     "text": [
      "q=9:\n",
      "Sup Err=0.08478773244037363:\n",
      "Y0(100,0.4)=0.01498484747694917:\n",
      "Runtime[s]=4.663119077682495:\n"
     ]
    },
    {
     "name": "stderr",
     "output_type": "stream",
     "text": [
      "\r",
      "\u001b[32mProgress:  75%|██████████████████████████████▊          |  ETA: 0:00:03\u001b[39m"
     ]
    },
    {
     "name": "stdout",
     "output_type": "stream",
     "text": [
      "q=10:\n",
      "Sup Err=3.186511513098779:\n",
      "Y0(100,0.4)=2.8535804704424192:\n",
      "Runtime[s]=11.568256139755249:\n"
     ]
    },
    {
     "name": "stderr",
     "output_type": "stream",
     "text": [
      "\u001b[32mProgress: 100%|█████████████████████████████████████████| Time: 0:00:20\u001b[39m\n",
      "\u001b[32mProgress:  33%|█████████████▋                           |  ETA: 0:01:43\u001b[39m"
     ]
    },
    {
     "name": "stdout",
     "output_type": "stream",
     "text": [
      "Nₜ=50:\n",
      "q=7:\n",
      "Sup Err=0.0452120260516935:\n",
      "Y0(100,0.4)=0.006920822048003927:\n",
      "Runtime[s]=3.1724729537963867:\n",
      "q=8:\n",
      "Sup Err=0.03465037367343582:\n",
      "Y0(100,0.4)=0.002418507218296284:\n",
      "Runtime[s]=6.165657997131348:\n"
     ]
    },
    {
     "name": "stderr",
     "output_type": "stream",
     "text": [
      "\r",
      "\u001b[32mProgress:  50%|████████████████████▌                    |  ETA: 0:00:09\u001b[39m"
     ]
    },
    {
     "name": "stdout",
     "output_type": "stream",
     "text": [
      "q=9:\n",
      "Sup Err=0.03244325987810548:\n",
      "Y0(100,0.4)=0.0014742295683145556:\n",
      "Runtime[s]=12.523338794708252:\n"
     ]
    },
    {
     "name": "stderr",
     "output_type": "stream",
     "text": [
      "\r",
      "\u001b[32mProgress:  75%|██████████████████████████████▊          |  ETA: 0:00:07\u001b[39m"
     ]
    },
    {
     "name": "stdout",
     "output_type": "stream",
     "text": [
      "q=10:\n",
      "Sup Err=0.23526427771575253:\n",
      "Y0(100,0.4)=0.05267499355895566:\n",
      "Runtime[s]=29.190124034881592:\n"
     ]
    },
    {
     "name": "stderr",
     "output_type": "stream",
     "text": [
      "\u001b[32mProgress: 100%|█████████████████████████████████████████| Time: 0:00:51\u001b[39m\n",
      "\u001b[32mProgress:  50%|████████████████████▌                    |  ETA: 0:01:43\u001b[39m"
     ]
    },
    {
     "name": "stdout",
     "output_type": "stream",
     "text": [
      "Nₜ=100:\n",
      "q=7:\n",
      "Sup Err=0.045212025939301625:\n",
      "Y0(100,0.4)=0.006920821866417626:\n",
      "Runtime[s]=7.749315023422241:\n",
      "q=8:\n",
      "Sup Err=0.03465037359267242:\n",
      "Y0(100,0.4)=0.002418507036807682:\n",
      "Runtime[s]=15.524805068969727:\n"
     ]
    },
    {
     "name": "stderr",
     "output_type": "stream",
     "text": [
      "\r",
      "\u001b[32mProgress:  50%|████████████████████▌                    |  ETA: 0:00:24\u001b[39m"
     ]
    },
    {
     "name": "stdout",
     "output_type": "stream",
     "text": [
      "q=9:\n",
      "Sup Err=0.03229536916741926:\n",
      "Y0(100,0.4)=0.001309134342749374:\n",
      "Runtime[s]=28.708259105682373:\n"
     ]
    },
    {
     "name": "stderr",
     "output_type": "stream",
     "text": [
      "\r",
      "\u001b[32mProgress:  75%|██████████████████████████████▊          |  ETA: 0:00:17\u001b[39m"
     ]
    },
    {
     "name": "stdout",
     "output_type": "stream",
     "text": [
      "q=10:\n",
      "Sup Err=0.060679442139524475:\n",
      "Y0(100,0.4)=0.006811853767089815:\n",
      "Runtime[s]=69.88784408569336:\n"
     ]
    },
    {
     "name": "stderr",
     "output_type": "stream",
     "text": [
      "\u001b[32mProgress: 100%|█████████████████████████████████████████| Time: 0:02:02\u001b[39m\n",
      "\u001b[32mProgress:  67%|███████████████████████████▍             |  ETA: 0:01:53\u001b[39m"
     ]
    },
    {
     "name": "stdout",
     "output_type": "stream",
     "text": [
      "Nₜ=200:\n",
      "q=7:\n",
      "Sup Err=0.04521202592557749:\n",
      "Y0(100,0.4)=0.00692082184819931:\n",
      "Runtime[s]=15.18294906616211:\n",
      "q=8:\n",
      "Sup Err=0.03465037358154266:\n",
      "Y0(100,0.4)=0.002418507018591143:\n",
      "Runtime[s]=30.45684504508972:\n"
     ]
    },
    {
     "name": "stderr",
     "output_type": "stream",
     "text": [
      "\r",
      "\u001b[32mProgress:  50%|████████████████████▌                    |  ETA: 0:00:46\u001b[39m"
     ]
    },
    {
     "name": "stdout",
     "output_type": "stream",
     "text": [
      "q=9:\n",
      "Sup Err=0.03229467987542867:\n",
      "Y0(100,0.4)=0.0013083638671460562:\n",
      "Runtime[s]=46.17327284812927:\n"
     ]
    },
    {
     "name": "stderr",
     "output_type": "stream",
     "text": [
      "\r",
      "\u001b[32mProgress:  75%|██████████████████████████████▊          |  ETA: 0:00:31\u001b[39m"
     ]
    },
    {
     "name": "stdout",
     "output_type": "stream",
     "text": [
      "q=10:\n",
      "Sup Err=0.03192149528035415:\n",
      "Y0(100,0.4)=0.0013512474589045809:\n",
      "Runtime[s]=114.66461682319641:\n"
     ]
    },
    {
     "name": "stderr",
     "output_type": "stream",
     "text": [
      "\u001b[32mProgress: 100%|█████████████████████████████████████████| Time: 0:03:27\u001b[39m\n",
      "\u001b[32mProgress:  83%|██████████████████████████████████▏      |  ETA: 0:01:27\u001b[39m"
     ]
    },
    {
     "name": "stdout",
     "output_type": "stream",
     "text": [
      "Nₜ=500:\n",
      "q=7:\n",
      "Sup Err=0.04521202592376383:\n",
      "Y0(100,0.4)=0.006920821846080116:\n",
      "Runtime[s]=28.659557104110718:\n",
      "q=8:\n",
      "Sup Err=0.03465037357995859:\n",
      "Y0(100,0.4)=0.002418507016416882:\n",
      "Runtime[s]=57.78362488746643:\n"
     ]
    },
    {
     "name": "stderr",
     "output_type": "stream",
     "text": [
      "\r",
      "\u001b[32mProgress:  50%|████████████████████▌                    |  ETA: 0:01:28\u001b[39m"
     ]
    },
    {
     "name": "stdout",
     "output_type": "stream",
     "text": [
      "q=9:\n",
      "Sup Err=0.0322946798007111:\n",
      "Y0(100,0.4)=0.0013083637832274064:\n",
      "Runtime[s]=116.59639120101929:\n"
     ]
    },
    {
     "name": "stderr",
     "output_type": "stream",
     "text": [
      "\r",
      "\u001b[32mProgress:  75%|██████████████████████████████▊          |  ETA: 0:01:08\u001b[39m"
     ]
    },
    {
     "name": "stdout",
     "output_type": "stream",
     "text": [
      "q=10:\n",
      "Sup Err=0.03164570032920633:\n",
      "Y0(100,0.4)=0.0010321589664421538:\n",
      "Runtime[s]=283.5138330459595:\n"
     ]
    },
    {
     "name": "stderr",
     "output_type": "stream",
     "text": [
      "\u001b[32mProgress: 100%|█████████████████████████████████████████| Time: 0:08:09\u001b[39m\n",
      "\u001b[32mProgress: 100%|█████████████████████████████████████████| Time: 0:15:22\u001b[39m\n"
     ]
    },
    {
     "data": {
      "text/plain": [
       "\"HochOst4.csv\""
      ]
     },
     "execution_count": 8,
     "metadata": {},
     "output_type": "execute_result"
    }
   ],
   "source": [
    "qs = [7,8,9,10]\n",
    "schemename = split(split(string(scheme), '{')[1], '(')[1]\n",
    "df = DataFrame([[],[],[],[],[],[],[],[]], header)\n",
    "sol100 = zeros(length(qs), length(Nₜs))\n",
    "solsup = zeros(length(qs), length(Nₜs))\n",
    "runtimes = zeros(length(qs), length(Nₜs))\n",
    "@showprogress for (ind, Nₜ) in enumerate(Nₜs)\n",
    "    print(string(\"Nₜ=\", Nₜ,\":\\n\")); flush(stdout)\n",
    "    correct = [price(T-(time-1)/Nₜ, (p,v)...) for time in 1:Nₜ+1, p in eval_grids[1].grid, v in eval_grids[2].grid]\n",
    "    @showprogress for (qind,q) in enumerate(qs)\n",
    "        print(string(\"q=\", q,\":\\n\")); flush(stdout)\n",
    "        spind = sparse_indices(q, d)\n",
    "        exc_start = time()\n",
    "        results = [solveProb(mind, bsde, Nₜ, scheme) for mind in spind]\n",
    "        data = [dat[1] for dat in results]\n",
    "        grids = [dat[2] for dat in results]\n",
    "        if all([size(dat)[2] == Nₜ+1 for dat in data])\n",
    "            sg_interp = SparseGridInterpolation(data, grids, spind, q, d, Nₜ, lefts, rights, centers)\n",
    "            exc_stop = time()\n",
    "            sol100[qind, ind] = abs.(price(0.0, [100.0,0.4]...)-sg_interp.Interpolant(Nₜ+1, [100.0,0.4]))\n",
    "            result = [sg_interp.Interpolant(time, [p,v]) for time in 1:Nₜ+1, p in eval_grids[1].grid, v in eval_grids[2].grid]\n",
    "            solsup[qind, ind] = maximum(abs.(result-correct))\n",
    "        else\n",
    "            exc_stop = time()\n",
    "            sol100[qind,ind] = Inf\n",
    "            solsup[qind,ind] = Inf\n",
    "        end\n",
    "        runtimes[qind,ind] = exc_stop - exc_start\n",
    "        print(string(\"Sup Err=\", solsup[qind,ind],\":\\n\")); flush(stdout)\n",
    "        print(string(\"Y0(100,0.4)=\", sol100[qind,ind],\":\\n\")); flush(stdout)\n",
    "        print(string(\"Runtime[s]=\", runtimes[qind,ind],\":\\n\")); flush(stdout)\n",
    "    end\n",
    "end\n",
    "\n",
    "for (qind,q) in enumerate(qs)\n",
    "    row_sup = vcat([string(q), \"Sup Err\"], string.(solsup[qind,:])); push!(df,row_sup);\n",
    "    row_100 = vcat([string(q), \"Y0(100,0.4)\"], string.(sol100[qind,:])); push!(df,row_100);\n",
    "    row_run = vcat([string(q), \"Runtime[s]\"], string.(runtimes[qind,:])); push!(df,row_run);\n",
    "end\n",
    "df |> CSV.write(string(schemename, \".csv\"))"
   ]
  }
 ],
 "metadata": {
  "@webio": {
   "lastCommId": null,
   "lastKernelId": null
  },
  "kernelspec": {
   "display_name": "Julia 1.9.1",
   "language": "julia",
   "name": "julia-1.9"
  },
  "language_info": {
   "file_extension": ".jl",
   "mimetype": "application/julia",
   "name": "julia",
   "version": "1.9.1"
  }
 },
 "nbformat": 4,
 "nbformat_minor": 5
}
