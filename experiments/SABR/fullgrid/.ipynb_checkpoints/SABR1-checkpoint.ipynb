{
 "cells": [
  {
   "cell_type": "code",
   "execution_count": 1,
   "id": "535a379d",
   "metadata": {},
   "outputs": [
    {
     "data": {
      "text/plain": [
       "MethodOfLines (generic function with 1 method)"
      ]
     },
     "execution_count": 1,
     "metadata": {},
     "output_type": "execute_result"
    }
   ],
   "source": [
    "using Distributions, CSV, DataFrames, ProgressMeter\n",
    "include(\"../../utils_slv.jl\")"
   ]
  },
  {
   "cell_type": "markdown",
   "id": "e08e124b",
   "metadata": {},
   "source": [
    "### Parameters"
   ]
  },
  {
   "cell_type": "code",
   "execution_count": 2,
   "id": "0eafde0a",
   "metadata": {},
   "outputs": [],
   "source": [
    "T = 1.0; r=0.05; S0 = 100.0; v0 = 0.4; α = 0.4; β = 0.9; ρ = 0.3; K = 100.0;\n",
    "slvm = SABRSLV(S0::Float64, v0::Float64, α::Float64, β::Float64, ρ::Float64, r::Float64);\n",
    "Π = [1.0 ρ; ρ 1.0]; cholΠ=cholesky(Π).L\n",
    "\n",
    "drift(x) = [slvm.ω(abs(x[1]),abs(x[2])), slvm.μ(abs(x[2]))]\n",
    "diffusion(x) = Diagonal(\n",
    "        [slvm.m(abs(x[2]))*slvm.Γ(abs(x[1])), slvm.σ(abs(x[2]))]\n",
    "        )*cholΠ\n",
    "\n",
    "R = r;\n",
    "driver(t, x, y, z) = (\n",
    "    -r*y\n",
    ")\n",
    "terminal(x) = max(x[1]-K,0)\n",
    "bsde = BSDE(T, [S0, v0], drift, diffusion, driver, terminal);"
   ]
  },
  {
   "cell_type": "markdown",
   "id": "d928e258",
   "metadata": {},
   "source": [
    "### Hagan's formula"
   ]
  },
  {
   "cell_type": "code",
   "execution_count": 3,
   "id": "c43dc320",
   "metadata": {},
   "outputs": [],
   "source": [
    "function implied_volatility(t::Float64, f::Float64, v::Float64)\n",
    "    # hagan\n",
    "    if f != K\n",
    "        numerator = (\n",
    "            v * (\n",
    "                1 + (\n",
    "                    (1-β)^2/24 * v^2/(f*K)^(1-β) \n",
    "                    + 1/4 * ρ*β*α*v/(f*K)^((1-β)/2)\n",
    "                    + (2-3*ρ^2)/24 * α^2\n",
    "                    ) * t\n",
    "                )\n",
    "            )\n",
    "        denominator = (\n",
    "            (f*K)^((1-β)/2) * (\n",
    "                1 + (1-β)^2/24 * log(f/K)^2\n",
    "                + (1-β)^4/1920 * log(f/K)^4\n",
    "                )\n",
    "            )\n",
    "        z = α/v * (f*K)^((1-β)/2) * log(f/K)\n",
    "        x = log((sqrt(1-2*ρ*z+z^2)+z-ρ)/(1-ρ))\n",
    "        return numerator/denominator * z/x\n",
    "    else\n",
    "        numerator = v * (\n",
    "            1 + (\n",
    "                (1-β)^2/24 * v^2/f^(2-2*β) \n",
    "                + 1/4 * ρ*β*α*v/f^(1-β)\n",
    "                + (2-3*ρ^2)/24 * α^2\n",
    "                ) * t\n",
    "        )\n",
    "        denominator = f^(1-β)\n",
    "        return numerator/denominator\n",
    "    end\n",
    "end;\n",
    "\n",
    "function BSvanilla(volatility, strike, expiry, spot, interest_rate, dividend_rate)\n",
    "    forward = spot#*exp((interest_rate-dividend_rate)*expiry)\n",
    "    sqrt_var = volatility * sqrt(expiry)\n",
    "    if sqrt_var > 0.0\n",
    "        d1 = log(forward/strike)/sqrt_var + sqrt_var/2\n",
    "        d2 = d1 - sqrt_var\n",
    "        call = forward*cdf(Normal(), d1) - strike*cdf(Normal(), d2)\n",
    "        # put = -forward*cdf(Normal(), -d1) + exp(-(interest_rate-dividend_rate)*expiry)*strike*cdf(Normal(), -d2)\n",
    "    else\n",
    "        call = max(forward-strike, 0.0)\n",
    "        # put = max(strike-forward, 0.0)\n",
    "    end\n",
    "    return exp(-(interest_rate-dividend_rate)*expiry)*call #put\n",
    "end;\n",
    "\n",
    "function price(t::Float64, f::Float64, v::Float64)\n",
    "    return BSvanilla(implied_volatility(T-t, f, v), K, T-t, f, r, 0.0)\n",
    "end;\n"
   ]
  },
  {
   "cell_type": "markdown",
   "id": "b79d202b",
   "metadata": {},
   "source": [
    "## Experiment"
   ]
  },
  {
   "cell_type": "code",
   "execution_count": 4,
   "id": "d1186fa9",
   "metadata": {},
   "outputs": [
    {
     "data": {
      "text/plain": [
       "6-element Vector{Vector{Any}}:\n",
       " [LawsonEuler{0, true, Val{:forward}, true, nothing}(true, 100, 0), true]\n",
       " [NorsettEuler{0, true, Val{:forward}, true, nothing}(true, 100, 0), true]\n",
       " [ETDRK2{0, true, Val{:forward}, true, nothing}(true, 100, 0), true]\n",
       " [ETDRK3{0, true, Val{:forward}, true, nothing}(true, 100, 0), true]\n",
       " [ETDRK4{0, true, Val{:forward}, true, nothing}(true, 100, 0), true]\n",
       " [HochOst4{0, true, Val{:forward}, true, nothing}(true, 100, 0), true]"
      ]
     },
     "execution_count": 4,
     "metadata": {},
     "output_type": "execute_result"
    }
   ],
   "source": [
    "Nₜs = [10, 20, 50, 100, 200]\n",
    "header = vcat([\"scheme\", \"measurement_type\"], string.(Nₜs))\n",
    "df = DataFrame([[],[],[],[],[],[],[]], header)\n",
    "schemes = [\n",
    "    [LawsonEuler(krylov=true, m=100), true],\n",
    "    [NorsettEuler(krylov=true, m=100), true],\n",
    "    [ETDRK2(krylov=true, m=100), true],\n",
    "    [ETDRK3(krylov=true, m=100), true],\n",
    "    [ETDRK4(krylov=true, m=100), true],\n",
    "    [HochOst4(krylov=true, m=100), true]\n",
    "    # [DP5(), false],\n",
    "    # [RadauIIA5(), false]\n",
    "]"
   ]
  },
  {
   "cell_type": "code",
   "execution_count": 5,
   "id": "8017d9e1",
   "metadata": {},
   "outputs": [],
   "source": [
    "### designing grids\n",
    "domain = [[0.0, 2*bsde.X0[1]], [0.0, 2*bsde.X0[2]]];\n",
    "\n",
    "Nₗ = [150, 15]; Δₗ = (bsde.X0-[dom[1] for dom in domain])./Nₗ; \n",
    "Nᵣ = [150, 15]; Δᵣ = ([dom[2] for dom in domain]-bsde.X0)./Nᵣ;"
   ]
  },
  {
   "cell_type": "code",
   "execution_count": 6,
   "id": "6f452727",
   "metadata": {},
   "outputs": [
    {
     "data": {
      "text/plain": [
       "Grid1D([0.0, 0.02666666666666667, 0.05333333333333334, 0.08, 0.10666666666666667, 0.13333333333333333, 0.16, 0.18666666666666668, 0.21333333333333335, 0.24  …  0.56, 0.5866666666666667, 0.6133333333333333, 0.64, 0.6666666666666666, 0.6933333333333334, 0.72, 0.7466666666666667, 0.7733333333333333, 0.8], 31, 15, 15)"
      ]
     },
     "execution_count": 6,
     "metadata": {},
     "output_type": "execute_result"
    }
   ],
   "source": [
    "spatial_grid = Array{AbstractGrid,1}(undef, 2)\n",
    "g₁ = 5.0; g₂ = 5.0\n",
    "spatial_grid[1] = TavellaRandallGrid(g₁, g₂, domain[1][1], bsde.X0[1], domain[1][2], Nₗ[1], Nᵣ[1])\n",
    "spatial_grid[2] = Grid1D(\n",
    "    vcat(domain[2][1]:Δₗ[2]:bsde.X0[2],(bsde.X0[2]+Δᵣ[2]):Δᵣ[2]:domain[2][2]),\n",
    "    Nₗ[2]+Nᵣ[2]+1,\n",
    "    Nₗ[2],\n",
    "    Nᵣ[2]\n",
    ")"
   ]
  },
  {
   "cell_type": "code",
   "execution_count": 7,
   "id": "0d4f765c",
   "metadata": {
    "scrolled": false
   },
   "outputs": [
    {
     "name": "stdout",
     "output_type": "stream",
     "text": [
      "Nₜ=10:\n",
      "Sup Err=1.9268712082537789:\n",
      "Y0(100,0.4)=1.703275418639139:\n",
      "Runtime[s]=36.37139391899109:\n",
      "Nₜ=20:\n",
      "Sup Err=0.3944606592999289:\n",
      "Y0(100,0.4)=0.09161543342713685:\n",
      "Runtime[s]=54.909815073013306:\n"
     ]
    },
    {
     "name": "stderr",
     "output_type": "stream",
     "text": [
      "\r",
      "\u001b[32mProgress:  40%|████████████████▍                        |  ETA: 0:02:18\u001b[39m"
     ]
    },
    {
     "name": "stdout",
     "output_type": "stream",
     "text": [
      "Nₜ=50:\n",
      "Sup Err=0.05398743032552211:\n",
      "Y0(100,0.4)=0.006197852217960431:\n",
      "Runtime[s]=127.80985879898071:\n"
     ]
    },
    {
     "name": "stderr",
     "output_type": "stream",
     "text": [
      "\r",
      "\u001b[32mProgress:  60%|████████████████████████▋                |  ETA: 0:02:27\u001b[39m"
     ]
    },
    {
     "name": "stdout",
     "output_type": "stream",
     "text": [
      "Nₜ=100:\n",
      "Sup Err=0.032650658196704097:\n",
      "Y0(100,0.4)=0.0015506020070059634:\n",
      "Runtime[s]=250.36766386032104:\n"
     ]
    },
    {
     "name": "stderr",
     "output_type": "stream",
     "text": [
      "\r",
      "\u001b[32mProgress:  80%|████████████████████████████████▊        |  ETA: 0:01:58\u001b[39m"
     ]
    },
    {
     "name": "stdout",
     "output_type": "stream",
     "text": [
      "Nₜ=200:\n",
      "Sup Err=0.03246096624194461:\n",
      "Y0(100,0.4)=0.0013006068116521163:\n",
      "Runtime[s]=503.9793179035187:\n"
     ]
    },
    {
     "name": "stderr",
     "output_type": "stream",
     "text": [
      "\r",
      "\u001b[32mProgress: 100%|█████████████████████████████████████████| Time: 0:16:18\u001b[39m\n"
     ]
    },
    {
     "name": "stdout",
     "output_type": "stream",
     "text": [
      "Nₜ=10:\n",
      "Sup Err=1.934867763334596:\n",
      "Y0(100,0.4)=1.7047777926988523:\n",
      "Runtime[s]=29.91548991203308:\n",
      "Nₜ=20:\n",
      "Sup Err=0.38392105699835:\n",
      "Y0(100,0.4)=0.08196235780944683:\n",
      "Runtime[s]=52.66490387916565:\n"
     ]
    },
    {
     "name": "stderr",
     "output_type": "stream",
     "text": [
      "\r",
      "\u001b[32mProgress:  40%|████████████████▍                        |  ETA: 0:02:04\u001b[39m"
     ]
    },
    {
     "name": "stdout",
     "output_type": "stream",
     "text": [
      "Nₜ=50:\n",
      "Sup Err=0.051350691551789396:\n",
      "Y0(100,0.4)=0.0033280616191913026:\n",
      "Runtime[s]=130.9926438331604:\n"
     ]
    },
    {
     "name": "stderr",
     "output_type": "stream",
     "text": [
      "\r",
      "\u001b[32mProgress:  60%|████████████████████████▋                |  ETA: 0:02:23\u001b[39m"
     ]
    },
    {
     "name": "stdout",
     "output_type": "stream",
     "text": [
      "Nₜ=100:\n",
      "Sup Err=0.03159982791692295:\n",
      "Y0(100,0.4)=0.0002772881294941243:\n",
      "Runtime[s]=245.1659209728241:\n"
     ]
    },
    {
     "name": "stderr",
     "output_type": "stream",
     "text": [
      "\r",
      "\u001b[32mProgress:  80%|████████████████████████████████▊        |  ETA: 0:01:55\u001b[39m"
     ]
    },
    {
     "name": "stdout",
     "output_type": "stream",
     "text": [
      "Nₜ=200:\n",
      "Sup Err=0.03194409686036659:\n",
      "Y0(100,0.4)=0.0006748299382710599:\n",
      "Runtime[s]=494.20695996284485:\n"
     ]
    },
    {
     "name": "stderr",
     "output_type": "stream",
     "text": [
      "\u001b[32mProgress: 100%|█████████████████████████████████████████| Time: 0:15:57\u001b[39m\n",
      "\u001b[32mProgress:  33%|█████████████▋                           |  ETA: 1:04:34\u001b[39m"
     ]
    },
    {
     "name": "stdout",
     "output_type": "stream",
     "text": [
      "Nₜ=10:\n",
      "Sup Err=1.9391334039264603:\n",
      "Y0(100,0.4)=1.7085986964938389:\n",
      "Runtime[s]=55.86133098602295:\n",
      "Nₜ=20:\n",
      "Sup Err=0.3842611585074476:\n",
      "Y0(100,0.4)=0.08758575204510777:\n",
      "Runtime[s]=106.29309391975403:\n"
     ]
    },
    {
     "name": "stderr",
     "output_type": "stream",
     "text": [
      "\r",
      "\u001b[32mProgress:  40%|████████████████▍                        |  ETA: 0:04:04\u001b[39m"
     ]
    },
    {
     "name": "stdout",
     "output_type": "stream",
     "text": [
      "Nₜ=50:\n",
      "Sup Err=0.05139210419025897:\n",
      "Y0(100,0.4)=0.0055902695115914725:\n",
      "Runtime[s]=245.76737594604492:\n"
     ]
    },
    {
     "name": "stderr",
     "output_type": "stream",
     "text": [
      "\r",
      "\u001b[32mProgress:  60%|████████████████████████▋                |  ETA: 0:04:33\u001b[39m"
     ]
    },
    {
     "name": "stdout",
     "output_type": "stream",
     "text": [
      "Nₜ=100:\n",
      "Sup Err=0.03258766283636527:\n",
      "Y0(100,0.4)=0.0014070340614438237:\n",
      "Runtime[s]=514.8473510742188:\n"
     ]
    },
    {
     "name": "stderr",
     "output_type": "stream",
     "text": [
      "\r",
      "\u001b[32mProgress:  80%|████████████████████████████████▊        |  ETA: 0:03:51\u001b[39m"
     ]
    },
    {
     "name": "stdout",
     "output_type": "stream",
     "text": [
      "Nₜ=200:\n",
      "Sup Err=0.03243779542419345:\n",
      "Y0(100,0.4)=0.001239321465204668:\n",
      "Runtime[s]=995.9286239147186:\n"
     ]
    },
    {
     "name": "stderr",
     "output_type": "stream",
     "text": [
      "\u001b[32mProgress: 100%|█████████████████████████████████████████| Time: 0:32:02\u001b[39m\n",
      "\u001b[32mProgress:  50%|████████████████████▌                    |  ETA: 1:04:20\u001b[39m"
     ]
    },
    {
     "name": "stdout",
     "output_type": "stream",
     "text": [
      "Nₜ=10:\n",
      "Sup Err=1.9395810502236408:\n",
      "Y0(100,0.4)=1.7089971267699529:\n",
      "Runtime[s]=78.48896980285645:\n",
      "Nₜ=20:\n",
      "Sup Err=0.3842779927828639:\n",
      "Y0(100,0.4)=0.08765563928761111:\n",
      "Runtime[s]=160.8867199420929:\n"
     ]
    },
    {
     "name": "stderr",
     "output_type": "stream",
     "text": [
      "\r",
      "\u001b[32mProgress:  40%|████████████████▍                        |  ETA: 0:06:00\u001b[39m"
     ]
    },
    {
     "name": "stdout",
     "output_type": "stream",
     "text": [
      "Nₜ=50:\n",
      "Sup Err=0.05138180737603548:\n",
      "Y0(100,0.4)=0.005595346112478694:\n",
      "Runtime[s]=367.1654860973358:\n"
     ]
    },
    {
     "name": "stderr",
     "output_type": "stream",
     "text": [
      "\r",
      "\u001b[32mProgress:  60%|████████████████████████▋                |  ETA: 0:06:45\u001b[39m"
     ]
    },
    {
     "name": "stdout",
     "output_type": "stream",
     "text": [
      "Nₜ=100:\n",
      "Sup Err=0.03258800538292217:\n",
      "Y0(100,0.4)=0.001407956778608721:\n",
      "Runtime[s]=710.7713379859924:\n"
     ]
    },
    {
     "name": "stderr",
     "output_type": "stream",
     "text": [
      "\r",
      "\u001b[32mProgress:  80%|████████████████████████████████▊        |  ETA: 0:05:30\u001b[39m"
     ]
    },
    {
     "name": "stdout",
     "output_type": "stream",
     "text": [
      "Nₜ=200:\n",
      "Sup Err=0.032437875645710434:\n",
      "Y0(100,0.4)=0.0012395460433758387:\n",
      "Runtime[s]=1432.524894952774:\n"
     ]
    },
    {
     "name": "stderr",
     "output_type": "stream",
     "text": [
      "\u001b[32mProgress: 100%|█████████████████████████████████████████| Time: 0:45:54\u001b[39m\n",
      "\u001b[32mProgress:  67%|███████████████████████████▍             |  ETA: 0:55:07\u001b[39m"
     ]
    },
    {
     "name": "stdout",
     "output_type": "stream",
     "text": [
      "Nₜ=10:\n",
      "Sup Err=1.9422859360135352:\n",
      "Y0(100,0.4)=1.711345836198797:\n",
      "Runtime[s]=126.30536890029907:\n",
      "Nₜ=20:\n",
      "Sup Err=0.3843766364293515:\n",
      "Y0(100,0.4)=0.08768693839521546:\n",
      "Runtime[s]=258.8081920146942:\n"
     ]
    },
    {
     "name": "stderr",
     "output_type": "stream",
     "text": [
      "\r",
      "\u001b[32mProgress:  40%|████████████████▍                        |  ETA: 0:09:38\u001b[39m"
     ]
    },
    {
     "name": "stdout",
     "output_type": "stream",
     "text": [
      "Nₜ=50:\n",
      "Sup Err=0.051387372328423275:\n",
      "Y0(100,0.4)=0.005596115132835422:\n",
      "Runtime[s]=600.153128862381:\n"
     ]
    },
    {
     "name": "stderr",
     "output_type": "stream",
     "text": [
      "\r",
      "\u001b[32mProgress:  60%|████████████████████████▋                |  ETA: 0:10:58\u001b[39m"
     ]
    },
    {
     "name": "stdout",
     "output_type": "stream",
     "text": [
      "Nₜ=100:\n",
      "Sup Err=0.03258801801614064:\n",
      "Y0(100,0.4)=0.0014079709465928403:\n",
      "Runtime[s]=1278.9368541240692:\n"
     ]
    },
    {
     "name": "stderr",
     "output_type": "stream",
     "text": [
      "\r",
      "\u001b[32mProgress:  80%|████████████████████████████████▊        |  ETA: 0:09:27\u001b[39m"
     ]
    },
    {
     "name": "stdout",
     "output_type": "stream",
     "text": [
      "Nₜ=200:\n",
      "Sup Err=0.03243787569683576:\n",
      "Y0(100,0.4)=0.0012395461007663755:\n",
      "Runtime[s]=2403.2768700122833:\n"
     ]
    },
    {
     "name": "stderr",
     "output_type": "stream",
     "text": [
      "\u001b[32mProgress: 100%|█████████████████████████████████████████| Time: 1:17:52\u001b[39m\n",
      "\u001b[32mProgress:  83%|██████████████████████████████████▏      |  ETA: 0:37:37\u001b[39m"
     ]
    },
    {
     "name": "stdout",
     "output_type": "stream",
     "text": [
      "Nₜ=10:\n",
      "Sup Err=1.939582632225063:\n",
      "Y0(100,0.4)=1.708998528257391:\n",
      "Runtime[s]=123.81783485412598:\n",
      "Nₜ=20:\n",
      "Sup Err=0.3842780050584631:\n",
      "Y0(100,0.4)=0.08765563989285319:\n",
      "Runtime[s]=239.62699699401855:\n"
     ]
    },
    {
     "name": "stderr",
     "output_type": "stream",
     "text": [
      "\r",
      "\u001b[32mProgress:  40%|████████████████▍                        |  ETA: 0:09:06\u001b[39m"
     ]
    },
    {
     "name": "stdout",
     "output_type": "stream",
     "text": [
      "Nₜ=50:\n",
      "Sup Err=0.05138180764836253:\n",
      "Y0(100,0.4)=0.005595360357990131:\n",
      "Runtime[s]=615.8208010196686:\n"
     ]
    },
    {
     "name": "stderr",
     "output_type": "stream",
     "text": [
      "\r",
      "\u001b[32mProgress:  60%|████████████████████████▋                |  ETA: 0:10:53\u001b[39m"
     ]
    },
    {
     "name": "stdout",
     "output_type": "stream",
     "text": [
      "Nₜ=100:\n",
      "Sup Err=0.032588005415121746:\n",
      "Y0(100,0.4)=0.0014079568158624767:\n",
      "Runtime[s]=1185.4605140686035:\n"
     ]
    },
    {
     "name": "stderr",
     "output_type": "stream",
     "text": [
      "\r",
      "\u001b[32mProgress:  80%|████████████████████████████████▊        |  ETA: 0:09:02\u001b[39m"
     ]
    },
    {
     "name": "stdout",
     "output_type": "stream",
     "text": [
      "Nₜ=200:\n",
      "Sup Err=0.032437875649971915:\n",
      "Y0(100,0.4)=0.001239546048250162:\n",
      "Runtime[s]=2410.866184949875:\n"
     ]
    },
    {
     "name": "stderr",
     "output_type": "stream",
     "text": [
      "\u001b[32mProgress: 100%|█████████████████████████████████████████| Time: 1:16:19\u001b[39m\n",
      "\u001b[32mProgress: 100%|█████████████████████████████████████████| Time: 4:24:25\u001b[39m\n"
     ]
    },
    {
     "data": {
      "text/plain": [
       "\"SABR_exp_1030g5.csv\""
      ]
     },
     "execution_count": 7,
     "metadata": {},
     "output_type": "execute_result"
    }
   ],
   "source": [
    "d=2\n",
    "@showprogress for attr in schemes\n",
    "    sup_errs = zeros(Float64, length(Nₜs)); abs_errs = zeros(Float64, length(Nₜs)); runtimes = zeros(Float64, length(Nₜs))\n",
    "    scheme = attr[1]\n",
    "    EXPINT = attr[2]\n",
    "    @showprogress for (ind, Nₜ) in enumerate(Nₜs)\n",
    "        print(string(\"Nₜ=\", Nₜ,\":\\n\")); flush(stdout)\n",
    "        exc_start = time()\n",
    "        res = MethodOfLines(bsde, spatial_grid, Nₜ, scheme, EXPINT)\n",
    "        exc_stop = time()\n",
    "        sol = res[1]; s_grid = res[2]; \n",
    "        \n",
    "        hagan_sol = zeros(prod([grid.N for grid in spatial_grid]), Nₜ+1)\n",
    "        for (index, t) in enumerate((bsde.T/Nₜ).*(0:Nₜ))\n",
    "            hagan_sol[:, index] = price.(Ref(T-t), s_grid[:,1], s_grid[:,2]);\n",
    "        end\n",
    "        abs_err = abs.(hagan_sol-sol)\n",
    "\n",
    "        indmax = zeros(Int64,d)\n",
    "        indmin = zeros(Int64,d)\n",
    "        for dim in 1:d\n",
    "            arr = findall(attr->(attr<1.2*bsde.X0[dim])&&(attr>0.8*bsde.X0[dim]), spatial_grid[dim].grid)\n",
    "            indmin[dim] = minimum(arr)\n",
    "            indmax[dim] = maximum(arr)\n",
    "        end\n",
    "\n",
    "        arr=zeros(indmax[1]-indmin[1]+1)\n",
    "        supinds = zeros(Int,indmax[1]-indmin[1]+1,2)\n",
    "\n",
    "        for (ind, pind) in enumerate(indmin[1]:indmax[1])\n",
    "            arr[ind] = maximum(abs_err[(pind-1)*spatial_grid[2].N+indmin[2]+1:(pind-1)*spatial_grid[2].N+indmax[2],2:end])\n",
    "            tmp=argmax(abs_err[(pind-1)*spatial_grid[2].N+indmin[2]+1:(pind-1)*spatial_grid[2].N+indmax[2],2:end])\n",
    "            supinds[ind,1] = Int(tmp[1]+(pind-1)*spatial_grid[2].N+indmin[2]+1)\n",
    "            supinds[ind,2] = Int(tmp[2])\n",
    "        end\n",
    "        \n",
    "        sup_errs[ind] = maximum(arr)\n",
    "        abs_errs[ind] = abs_err[spatial_grid[1].Nₗ*spatial_grid[2].N + spatial_grid[2].Nₗ+1,end]        \n",
    "        runtimes[ind] = exc_stop - exc_start\n",
    "        print(string(\"Sup Err=\", sup_errs[ind],\":\\n\")); flush(stdout)\n",
    "        print(string(\"Y0(100,0.4)=\", abs_errs[ind],\":\\n\")); flush(stdout)\n",
    "        print(string(\"Runtime[s]=\", runtimes[ind],\":\\n\")); flush(stdout)\n",
    "    end\n",
    "    schemename = split(split(string(scheme), '{')[1], '(')[1]\n",
    "    row_sup = vcat([schemename, \"Sup Err\"], string.(sup_errs)); push!(df,row_sup);\n",
    "    row_abs = vcat([schemename, \"Abs Err\"], string.(abs_errs)); push!(df,row_abs);\n",
    "    row_run = vcat([schemename, \"Runtime[s]\"], string.(runtimes)); push!(df,row_run);\n",
    "end\n",
    "df |> CSV.write(string(\"SABR_exp_1030g5.csv\"))"
   ]
  },
  {
   "cell_type": "code",
   "execution_count": 8,
   "id": "85cd78e6",
   "metadata": {},
   "outputs": [
    {
     "data": {
      "text/html": [
       "<div><div style = \"float: left;\"><span>18×7 DataFrame</span></div><div style = \"clear: both;\"></div></div><div class = \"data-frame\" style = \"overflow-x: scroll;\"><table class = \"data-frame\" style = \"margin-bottom: 6px;\"><thead><tr class = \"header\"><th class = \"rowNumber\" style = \"font-weight: bold; text-align: right;\">Row</th><th style = \"text-align: left;\">scheme</th><th style = \"text-align: left;\">measurement_type</th><th style = \"text-align: left;\">10</th><th style = \"text-align: left;\">20</th><th style = \"text-align: left;\">50</th><th style = \"text-align: left;\">100</th><th style = \"text-align: left;\">200</th></tr><tr class = \"subheader headerLastRow\"><th class = \"rowNumber\" style = \"font-weight: bold; text-align: right;\"></th><th title = \"Any\" style = \"text-align: left;\">Any</th><th title = \"Any\" style = \"text-align: left;\">Any</th><th title = \"Any\" style = \"text-align: left;\">Any</th><th title = \"Any\" style = \"text-align: left;\">Any</th><th title = \"Any\" style = \"text-align: left;\">Any</th><th title = \"Any\" style = \"text-align: left;\">Any</th><th title = \"Any\" style = \"text-align: left;\">Any</th></tr></thead><tbody><tr><td class = \"rowNumber\" style = \"font-weight: bold; text-align: right;\">1</td><td style = \"text-align: left;\">LawsonEuler</td><td style = \"text-align: left;\">Sup Err</td><td style = \"text-align: left;\">1.9268712082537789</td><td style = \"text-align: left;\">0.3944606592999289</td><td style = \"text-align: left;\">0.05398743032552211</td><td style = \"text-align: left;\">0.032650658196704097</td><td style = \"text-align: left;\">0.03246096624194461</td></tr><tr><td class = \"rowNumber\" style = \"font-weight: bold; text-align: right;\">2</td><td style = \"text-align: left;\">LawsonEuler</td><td style = \"text-align: left;\">Abs Err</td><td style = \"text-align: left;\">1.703275418639139</td><td style = \"text-align: left;\">0.09161543342713685</td><td style = \"text-align: left;\">0.006197852217960431</td><td style = \"text-align: left;\">0.0015506020070059634</td><td style = \"text-align: left;\">0.0013006068116521163</td></tr><tr><td class = \"rowNumber\" style = \"font-weight: bold; text-align: right;\">3</td><td style = \"text-align: left;\">LawsonEuler</td><td style = \"text-align: left;\">Runtime[s]</td><td style = \"text-align: left;\">36.37139391899109</td><td style = \"text-align: left;\">54.909815073013306</td><td style = \"text-align: left;\">127.80985879898071</td><td style = \"text-align: left;\">250.36766386032104</td><td style = \"text-align: left;\">503.9793179035187</td></tr><tr><td class = \"rowNumber\" style = \"font-weight: bold; text-align: right;\">4</td><td style = \"text-align: left;\">NorsettEuler</td><td style = \"text-align: left;\">Sup Err</td><td style = \"text-align: left;\">1.934867763334596</td><td style = \"text-align: left;\">0.38392105699835</td><td style = \"text-align: left;\">0.051350691551789396</td><td style = \"text-align: left;\">0.03159982791692295</td><td style = \"text-align: left;\">0.03194409686036659</td></tr><tr><td class = \"rowNumber\" style = \"font-weight: bold; text-align: right;\">5</td><td style = \"text-align: left;\">NorsettEuler</td><td style = \"text-align: left;\">Abs Err</td><td style = \"text-align: left;\">1.7047777926988523</td><td style = \"text-align: left;\">0.08196235780944683</td><td style = \"text-align: left;\">0.0033280616191913026</td><td style = \"text-align: left;\">0.0002772881294941243</td><td style = \"text-align: left;\">0.0006748299382710599</td></tr><tr><td class = \"rowNumber\" style = \"font-weight: bold; text-align: right;\">6</td><td style = \"text-align: left;\">NorsettEuler</td><td style = \"text-align: left;\">Runtime[s]</td><td style = \"text-align: left;\">29.91548991203308</td><td style = \"text-align: left;\">52.66490387916565</td><td style = \"text-align: left;\">130.9926438331604</td><td style = \"text-align: left;\">245.1659209728241</td><td style = \"text-align: left;\">494.20695996284485</td></tr><tr><td class = \"rowNumber\" style = \"font-weight: bold; text-align: right;\">7</td><td style = \"text-align: left;\">ETDRK2</td><td style = \"text-align: left;\">Sup Err</td><td style = \"text-align: left;\">1.9391334039264603</td><td style = \"text-align: left;\">0.3842611585074476</td><td style = \"text-align: left;\">0.05139210419025897</td><td style = \"text-align: left;\">0.03258766283636527</td><td style = \"text-align: left;\">0.03243779542419345</td></tr><tr><td class = \"rowNumber\" style = \"font-weight: bold; text-align: right;\">8</td><td style = \"text-align: left;\">ETDRK2</td><td style = \"text-align: left;\">Abs Err</td><td style = \"text-align: left;\">1.7085986964938389</td><td style = \"text-align: left;\">0.08758575204510777</td><td style = \"text-align: left;\">0.0055902695115914725</td><td style = \"text-align: left;\">0.0014070340614438237</td><td style = \"text-align: left;\">0.001239321465204668</td></tr><tr><td class = \"rowNumber\" style = \"font-weight: bold; text-align: right;\">9</td><td style = \"text-align: left;\">ETDRK2</td><td style = \"text-align: left;\">Runtime[s]</td><td style = \"text-align: left;\">55.86133098602295</td><td style = \"text-align: left;\">106.29309391975403</td><td style = \"text-align: left;\">245.76737594604492</td><td style = \"text-align: left;\">514.8473510742188</td><td style = \"text-align: left;\">995.9286239147186</td></tr><tr><td class = \"rowNumber\" style = \"font-weight: bold; text-align: right;\">10</td><td style = \"text-align: left;\">ETDRK3</td><td style = \"text-align: left;\">Sup Err</td><td style = \"text-align: left;\">1.9395810502236408</td><td style = \"text-align: left;\">0.3842779927828639</td><td style = \"text-align: left;\">0.05138180737603548</td><td style = \"text-align: left;\">0.03258800538292217</td><td style = \"text-align: left;\">0.032437875645710434</td></tr><tr><td class = \"rowNumber\" style = \"font-weight: bold; text-align: right;\">11</td><td style = \"text-align: left;\">ETDRK3</td><td style = \"text-align: left;\">Abs Err</td><td style = \"text-align: left;\">1.7089971267699529</td><td style = \"text-align: left;\">0.08765563928761111</td><td style = \"text-align: left;\">0.005595346112478694</td><td style = \"text-align: left;\">0.001407956778608721</td><td style = \"text-align: left;\">0.0012395460433758387</td></tr><tr><td class = \"rowNumber\" style = \"font-weight: bold; text-align: right;\">12</td><td style = \"text-align: left;\">ETDRK3</td><td style = \"text-align: left;\">Runtime[s]</td><td style = \"text-align: left;\">78.48896980285645</td><td style = \"text-align: left;\">160.8867199420929</td><td style = \"text-align: left;\">367.1654860973358</td><td style = \"text-align: left;\">710.7713379859924</td><td style = \"text-align: left;\">1432.524894952774</td></tr><tr><td class = \"rowNumber\" style = \"font-weight: bold; text-align: right;\">13</td><td style = \"text-align: left;\">ETDRK4</td><td style = \"text-align: left;\">Sup Err</td><td style = \"text-align: left;\">1.9422859360135352</td><td style = \"text-align: left;\">0.3843766364293515</td><td style = \"text-align: left;\">0.051387372328423275</td><td style = \"text-align: left;\">0.03258801801614064</td><td style = \"text-align: left;\">0.03243787569683576</td></tr><tr><td class = \"rowNumber\" style = \"font-weight: bold; text-align: right;\">14</td><td style = \"text-align: left;\">ETDRK4</td><td style = \"text-align: left;\">Abs Err</td><td style = \"text-align: left;\">1.711345836198797</td><td style = \"text-align: left;\">0.08768693839521546</td><td style = \"text-align: left;\">0.005596115132835422</td><td style = \"text-align: left;\">0.0014079709465928403</td><td style = \"text-align: left;\">0.0012395461007663755</td></tr><tr><td class = \"rowNumber\" style = \"font-weight: bold; text-align: right;\">15</td><td style = \"text-align: left;\">ETDRK4</td><td style = \"text-align: left;\">Runtime[s]</td><td style = \"text-align: left;\">126.30536890029907</td><td style = \"text-align: left;\">258.8081920146942</td><td style = \"text-align: left;\">600.153128862381</td><td style = \"text-align: left;\">1278.9368541240692</td><td style = \"text-align: left;\">2403.2768700122833</td></tr><tr><td class = \"rowNumber\" style = \"font-weight: bold; text-align: right;\">16</td><td style = \"text-align: left;\">HochOst4</td><td style = \"text-align: left;\">Sup Err</td><td style = \"text-align: left;\">1.939582632225063</td><td style = \"text-align: left;\">0.3842780050584631</td><td style = \"text-align: left;\">0.05138180764836253</td><td style = \"text-align: left;\">0.032588005415121746</td><td style = \"text-align: left;\">0.032437875649971915</td></tr><tr><td class = \"rowNumber\" style = \"font-weight: bold; text-align: right;\">17</td><td style = \"text-align: left;\">HochOst4</td><td style = \"text-align: left;\">Abs Err</td><td style = \"text-align: left;\">1.708998528257391</td><td style = \"text-align: left;\">0.08765563989285319</td><td style = \"text-align: left;\">0.005595360357990131</td><td style = \"text-align: left;\">0.0014079568158624767</td><td style = \"text-align: left;\">0.001239546048250162</td></tr><tr><td class = \"rowNumber\" style = \"font-weight: bold; text-align: right;\">18</td><td style = \"text-align: left;\">HochOst4</td><td style = \"text-align: left;\">Runtime[s]</td><td style = \"text-align: left;\">123.81783485412598</td><td style = \"text-align: left;\">239.62699699401855</td><td style = \"text-align: left;\">615.8208010196686</td><td style = \"text-align: left;\">1185.4605140686035</td><td style = \"text-align: left;\">2410.866184949875</td></tr></tbody></table></div>"
      ],
      "text/latex": [
       "\\begin{tabular}{r|cccccc}\n",
       "\t& scheme & measurement\\_type & 10 & 20 & 50 & \\\\\n",
       "\t\\hline\n",
       "\t& Any & Any & Any & Any & Any & \\\\\n",
       "\t\\hline\n",
       "\t1 & LawsonEuler & Sup Err & 1.9268712082537789 & 0.3944606592999289 & 0.05398743032552211 & $\\dots$ \\\\\n",
       "\t2 & LawsonEuler & Abs Err & 1.703275418639139 & 0.09161543342713685 & 0.006197852217960431 & $\\dots$ \\\\\n",
       "\t3 & LawsonEuler & Runtime[s] & 36.37139391899109 & 54.909815073013306 & 127.80985879898071 & $\\dots$ \\\\\n",
       "\t4 & NorsettEuler & Sup Err & 1.934867763334596 & 0.38392105699835 & 0.051350691551789396 & $\\dots$ \\\\\n",
       "\t5 & NorsettEuler & Abs Err & 1.7047777926988523 & 0.08196235780944683 & 0.0033280616191913026 & $\\dots$ \\\\\n",
       "\t6 & NorsettEuler & Runtime[s] & 29.91548991203308 & 52.66490387916565 & 130.9926438331604 & $\\dots$ \\\\\n",
       "\t7 & ETDRK2 & Sup Err & 1.9391334039264603 & 0.3842611585074476 & 0.05139210419025897 & $\\dots$ \\\\\n",
       "\t8 & ETDRK2 & Abs Err & 1.7085986964938389 & 0.08758575204510777 & 0.0055902695115914725 & $\\dots$ \\\\\n",
       "\t9 & ETDRK2 & Runtime[s] & 55.86133098602295 & 106.29309391975403 & 245.76737594604492 & $\\dots$ \\\\\n",
       "\t10 & ETDRK3 & Sup Err & 1.9395810502236408 & 0.3842779927828639 & 0.05138180737603548 & $\\dots$ \\\\\n",
       "\t11 & ETDRK3 & Abs Err & 1.7089971267699529 & 0.08765563928761111 & 0.005595346112478694 & $\\dots$ \\\\\n",
       "\t12 & ETDRK3 & Runtime[s] & 78.48896980285645 & 160.8867199420929 & 367.1654860973358 & $\\dots$ \\\\\n",
       "\t13 & ETDRK4 & Sup Err & 1.9422859360135352 & 0.3843766364293515 & 0.051387372328423275 & $\\dots$ \\\\\n",
       "\t14 & ETDRK4 & Abs Err & 1.711345836198797 & 0.08768693839521546 & 0.005596115132835422 & $\\dots$ \\\\\n",
       "\t15 & ETDRK4 & Runtime[s] & 126.30536890029907 & 258.8081920146942 & 600.153128862381 & $\\dots$ \\\\\n",
       "\t16 & HochOst4 & Sup Err & 1.939582632225063 & 0.3842780050584631 & 0.05138180764836253 & $\\dots$ \\\\\n",
       "\t17 & HochOst4 & Abs Err & 1.708998528257391 & 0.08765563989285319 & 0.005595360357990131 & $\\dots$ \\\\\n",
       "\t18 & HochOst4 & Runtime[s] & 123.81783485412598 & 239.62699699401855 & 615.8208010196686 & $\\dots$ \\\\\n",
       "\\end{tabular}\n"
      ],
      "text/plain": [
       "\u001b[1m18×7 DataFrame\u001b[0m\n",
       "\u001b[1m Row \u001b[0m│\u001b[1m scheme       \u001b[0m\u001b[1m measurement_type \u001b[0m\u001b[1m 10                 \u001b[0m\u001b[1m 20                 \u001b[0m ⋯\n",
       "     │\u001b[90m Any          \u001b[0m\u001b[90m Any              \u001b[0m\u001b[90m Any                \u001b[0m\u001b[90m Any                \u001b[0m ⋯\n",
       "─────┼──────────────────────────────────────────────────────────────────────────\n",
       "   1 │ LawsonEuler   Sup Err           1.9268712082537789  0.3944606592999289  ⋯\n",
       "   2 │ LawsonEuler   Abs Err           1.703275418639139   0.09161543342713685\n",
       "   3 │ LawsonEuler   Runtime[s]        36.37139391899109   54.909815073013306\n",
       "   4 │ NorsettEuler  Sup Err           1.934867763334596   0.38392105699835\n",
       "   5 │ NorsettEuler  Abs Err           1.7047777926988523  0.08196235780944683 ⋯\n",
       "   6 │ NorsettEuler  Runtime[s]        29.91548991203308   52.66490387916565\n",
       "   7 │ ETDRK2        Sup Err           1.9391334039264603  0.3842611585074476\n",
       "   8 │ ETDRK2        Abs Err           1.7085986964938389  0.08758575204510777\n",
       "   9 │ ETDRK2        Runtime[s]        55.86133098602295   106.29309391975403  ⋯\n",
       "  10 │ ETDRK3        Sup Err           1.9395810502236408  0.3842779927828639\n",
       "  11 │ ETDRK3        Abs Err           1.7089971267699529  0.08765563928761111\n",
       "  12 │ ETDRK3        Runtime[s]        78.48896980285645   160.8867199420929\n",
       "  13 │ ETDRK4        Sup Err           1.9422859360135352  0.3843766364293515  ⋯\n",
       "  14 │ ETDRK4        Abs Err           1.711345836198797   0.08768693839521546\n",
       "  15 │ ETDRK4        Runtime[s]        126.30536890029907  258.8081920146942\n",
       "  16 │ HochOst4      Sup Err           1.939582632225063   0.3842780050584631\n",
       "  17 │ HochOst4      Abs Err           1.708998528257391   0.08765563989285319 ⋯\n",
       "  18 │ HochOst4      Runtime[s]        123.81783485412598  239.62699699401855\n",
       "\u001b[36m                                                               3 columns omitted\u001b[0m"
      ]
     },
     "execution_count": 8,
     "metadata": {},
     "output_type": "execute_result"
    }
   ],
   "source": [
    "df"
   ]
  },
  {
   "cell_type": "code",
   "execution_count": null,
   "id": "f6c40b8b",
   "metadata": {},
   "outputs": [],
   "source": []
  }
 ],
 "metadata": {
  "@webio": {
   "lastCommId": null,
   "lastKernelId": null
  },
  "kernelspec": {
   "display_name": "Julia 1.9.1",
   "language": "julia",
   "name": "julia-1.9"
  },
  "language_info": {
   "file_extension": ".jl",
   "mimetype": "application/julia",
   "name": "julia",
   "version": "1.9.1"
  }
 },
 "nbformat": 4,
 "nbformat_minor": 5
}
